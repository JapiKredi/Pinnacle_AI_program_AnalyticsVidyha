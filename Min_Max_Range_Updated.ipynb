{
  "nbformat": 4,
  "nbformat_minor": 0,
  "metadata": {
    "colab": {
      "provenance": [],
      "include_colab_link": true
    },
    "kernelspec": {
      "display_name": "Python 3",
      "language": "python",
      "name": "python3"
    }
  },
  "cells": [
    {
      "cell_type": "markdown",
      "metadata": {
        "id": "view-in-github",
        "colab_type": "text"
      },
      "source": [
        "<a href=\"https://colab.research.google.com/github/JapiKredi/Pinnacle_AI_program_AnalyticsVidyha/blob/main/Min_Max_Range_Updated.ipynb\" target=\"_parent\"><img src=\"https://colab.research.google.com/assets/colab-badge.svg\" alt=\"Open In Colab\"/></a>"
      ]
    },
    {
      "cell_type": "markdown",
      "metadata": {
        "id": "LIOaq8QL8CDm"
      },
      "source": [
        "## Min, Max and Range of Data"
      ]
    },
    {
      "cell_type": "code",
      "metadata": {
        "id": "Jn7K0qBlR_Kn"
      },
      "source": [
        "#import libraries\n",
        "import pandas as pd\n",
        "import numpy as np"
      ],
      "execution_count": 1,
      "outputs": []
    },
    {
      "cell_type": "code",
      "source": [
        "from google.colab import drive\n",
        "drive.mount('/content/drive')"
      ],
      "metadata": {
        "colab": {
          "base_uri": "https://localhost:8080/"
        },
        "id": "A2XpDzvElO1t",
        "outputId": "12ad705f-2e4f-4f6e-8e57-171287c5b7e1"
      },
      "execution_count": 2,
      "outputs": [
        {
          "output_type": "stream",
          "name": "stdout",
          "text": [
            "Mounted at /content/drive\n"
          ]
        }
      ]
    },
    {
      "cell_type": "markdown",
      "metadata": {
        "id": "NxC7Fy8fOuRz"
      },
      "source": [
        "This is the dataset for __Customer Churn Problem__.\n"
      ]
    },
    {
      "cell_type": "code",
      "metadata": {
        "id": "jtGI5XRpR_Ku"
      },
      "source": [
        "# importing dataset\n",
        "data = pd.read_csv('/content/drive/My Drive/Pandas_Min_Max_Range/churn_prediction.csv')"
      ],
      "execution_count": 4,
      "outputs": []
    },
    {
      "cell_type": "markdown",
      "metadata": {
        "id": "TkE9qtAvOuSD"
      },
      "source": [
        "Identification of __Datatypes__"
      ]
    },
    {
      "cell_type": "code",
      "metadata": {
        "id": "D1eopfppOuSG",
        "outputId": "1a71718a-7838-42b4-cb51-c22a68716436",
        "colab": {
          "base_uri": "https://localhost:8080/",
          "height": 749
        }
      },
      "source": [
        "data.dtypes"
      ],
      "execution_count": 5,
      "outputs": [
        {
          "output_type": "execute_result",
          "data": {
            "text/plain": [
              "customer_id                         int64\n",
              "vintage                             int64\n",
              "age                                 int64\n",
              "gender                             object\n",
              "dependents                        float64\n",
              "occupation                         object\n",
              "city                              float64\n",
              "customer_nw_category                int64\n",
              "branch_code                         int64\n",
              "current_balance                   float64\n",
              "previous_month_end_balance        float64\n",
              "average_monthly_balance_prevQ     float64\n",
              "average_monthly_balance_prevQ2    float64\n",
              "current_month_credit              float64\n",
              "previous_month_credit             float64\n",
              "current_month_debit               float64\n",
              "previous_month_debit              float64\n",
              "current_month_balance             float64\n",
              "previous_month_balance            float64\n",
              "churn                               int64\n",
              "last_transaction                   object\n",
              "dtype: object"
            ],
            "text/html": [
              "<div>\n",
              "<style scoped>\n",
              "    .dataframe tbody tr th:only-of-type {\n",
              "        vertical-align: middle;\n",
              "    }\n",
              "\n",
              "    .dataframe tbody tr th {\n",
              "        vertical-align: top;\n",
              "    }\n",
              "\n",
              "    .dataframe thead th {\n",
              "        text-align: right;\n",
              "    }\n",
              "</style>\n",
              "<table border=\"1\" class=\"dataframe\">\n",
              "  <thead>\n",
              "    <tr style=\"text-align: right;\">\n",
              "      <th></th>\n",
              "      <th>0</th>\n",
              "    </tr>\n",
              "  </thead>\n",
              "  <tbody>\n",
              "    <tr>\n",
              "      <th>customer_id</th>\n",
              "      <td>int64</td>\n",
              "    </tr>\n",
              "    <tr>\n",
              "      <th>vintage</th>\n",
              "      <td>int64</td>\n",
              "    </tr>\n",
              "    <tr>\n",
              "      <th>age</th>\n",
              "      <td>int64</td>\n",
              "    </tr>\n",
              "    <tr>\n",
              "      <th>gender</th>\n",
              "      <td>object</td>\n",
              "    </tr>\n",
              "    <tr>\n",
              "      <th>dependents</th>\n",
              "      <td>float64</td>\n",
              "    </tr>\n",
              "    <tr>\n",
              "      <th>occupation</th>\n",
              "      <td>object</td>\n",
              "    </tr>\n",
              "    <tr>\n",
              "      <th>city</th>\n",
              "      <td>float64</td>\n",
              "    </tr>\n",
              "    <tr>\n",
              "      <th>customer_nw_category</th>\n",
              "      <td>int64</td>\n",
              "    </tr>\n",
              "    <tr>\n",
              "      <th>branch_code</th>\n",
              "      <td>int64</td>\n",
              "    </tr>\n",
              "    <tr>\n",
              "      <th>current_balance</th>\n",
              "      <td>float64</td>\n",
              "    </tr>\n",
              "    <tr>\n",
              "      <th>previous_month_end_balance</th>\n",
              "      <td>float64</td>\n",
              "    </tr>\n",
              "    <tr>\n",
              "      <th>average_monthly_balance_prevQ</th>\n",
              "      <td>float64</td>\n",
              "    </tr>\n",
              "    <tr>\n",
              "      <th>average_monthly_balance_prevQ2</th>\n",
              "      <td>float64</td>\n",
              "    </tr>\n",
              "    <tr>\n",
              "      <th>current_month_credit</th>\n",
              "      <td>float64</td>\n",
              "    </tr>\n",
              "    <tr>\n",
              "      <th>previous_month_credit</th>\n",
              "      <td>float64</td>\n",
              "    </tr>\n",
              "    <tr>\n",
              "      <th>current_month_debit</th>\n",
              "      <td>float64</td>\n",
              "    </tr>\n",
              "    <tr>\n",
              "      <th>previous_month_debit</th>\n",
              "      <td>float64</td>\n",
              "    </tr>\n",
              "    <tr>\n",
              "      <th>current_month_balance</th>\n",
              "      <td>float64</td>\n",
              "    </tr>\n",
              "    <tr>\n",
              "      <th>previous_month_balance</th>\n",
              "      <td>float64</td>\n",
              "    </tr>\n",
              "    <tr>\n",
              "      <th>churn</th>\n",
              "      <td>int64</td>\n",
              "    </tr>\n",
              "    <tr>\n",
              "      <th>last_transaction</th>\n",
              "      <td>object</td>\n",
              "    </tr>\n",
              "  </tbody>\n",
              "</table>\n",
              "</div><br><label><b>dtype:</b> object</label>"
            ]
          },
          "metadata": {},
          "execution_count": 5
        }
      ]
    },
    {
      "cell_type": "markdown",
      "metadata": {
        "id": "s3iJ7r43Ac0W"
      },
      "source": [
        "## Isolating numerical columns"
      ]
    },
    {
      "cell_type": "markdown",
      "metadata": {
        "id": "-l0diipkOuSb"
      },
      "source": [
        "Storing indices of  __Integer and Float__ in numercial_cols because we are dealing with __numerical variables__"
      ]
    },
    {
      "cell_type": "code",
      "source": [
        "# storing indices of all categorical data types in categorical_cols\n",
        "categorical_cols = data.select_dtypes(include=['object']).columns\n",
        "\n",
        "# checking\n",
        "categorical_cols"
      ],
      "metadata": {
        "colab": {
          "base_uri": "https://localhost:8080/"
        },
        "id": "XDZsJxCAr1KJ",
        "outputId": "c0634945-96c2-4fc9-8749-17ad29e2a349"
      },
      "execution_count": 7,
      "outputs": [
        {
          "output_type": "execute_result",
          "data": {
            "text/plain": [
              "Index(['gender', 'occupation', 'last_transaction'], dtype='object')"
            ]
          },
          "metadata": {},
          "execution_count": 7
        }
      ]
    },
    {
      "cell_type": "code",
      "metadata": {
        "id": "0PrPd53w-rp6",
        "outputId": "b64d370f-3e4b-4a70-8632-94e85c17b67a",
        "colab": {
          "base_uri": "https://localhost:8080/"
        }
      },
      "source": [
        "# storing indices of all numerical data types in numerical_cols\n",
        "numerical_cols = data.select_dtypes(include=['int', 'float']).columns\n",
        "\n",
        "# checking\n",
        "numerical_cols"
      ],
      "execution_count": 6,
      "outputs": [
        {
          "output_type": "execute_result",
          "data": {
            "text/plain": [
              "Index(['customer_id', 'vintage', 'age', 'dependents', 'city',\n",
              "       'customer_nw_category', 'branch_code', 'current_balance',\n",
              "       'previous_month_end_balance', 'average_monthly_balance_prevQ',\n",
              "       'average_monthly_balance_prevQ2', 'current_month_credit',\n",
              "       'previous_month_credit', 'current_month_debit', 'previous_month_debit',\n",
              "       'current_month_balance', 'previous_month_balance', 'churn'],\n",
              "      dtype='object')"
            ]
          },
          "metadata": {},
          "execution_count": 6
        }
      ]
    },
    {
      "cell_type": "markdown",
      "metadata": {
        "id": "Vnm7rEvEAbel"
      },
      "source": [
        "### Min obseravtion"
      ]
    },
    {
      "cell_type": "code",
      "metadata": {
        "id": "6oGzqFxqR_K9",
        "outputId": "f9e28f3f-ddd9-42fa-b457-0a6de960c564",
        "colab": {
          "base_uri": "https://localhost:8080/",
          "height": 128
        }
      },
      "source": [
        "# observation with minimum current balance\n",
        "data[data['current_balance'] == data['current_balance'].min()]"
      ],
      "execution_count": 8,
      "outputs": [
        {
          "output_type": "execute_result",
          "data": {
            "text/plain": [
              "       customer_id  vintage  age gender  dependents occupation    city  \\\n",
              "12608        13467     2140   80   Male         0.0    retired  1096.0   \n",
              "\n",
              "       customer_nw_category  branch_code  current_balance  ...  \\\n",
              "12608                     1           27         -5503.96  ...   \n",
              "\n",
              "       average_monthly_balance_prevQ  average_monthly_balance_prevQ2  \\\n",
              "12608                        1694.57                          868.26   \n",
              "\n",
              "       current_month_credit  previous_month_credit  current_month_debit  \\\n",
              "12608               9471.01                2680.04             15229.44   \n",
              "\n",
              "       previous_month_debit  current_month_balance  previous_month_balance  \\\n",
              "12608               7859.37                1050.17                 2002.97   \n",
              "\n",
              "       churn  last_transaction  \n",
              "12608      1        2019-12-26  \n",
              "\n",
              "[1 rows x 21 columns]"
            ],
            "text/html": [
              "\n",
              "  <div id=\"df-36d4136e-3ebf-4d85-8eab-17c3023f57be\" class=\"colab-df-container\">\n",
              "    <div>\n",
              "<style scoped>\n",
              "    .dataframe tbody tr th:only-of-type {\n",
              "        vertical-align: middle;\n",
              "    }\n",
              "\n",
              "    .dataframe tbody tr th {\n",
              "        vertical-align: top;\n",
              "    }\n",
              "\n",
              "    .dataframe thead th {\n",
              "        text-align: right;\n",
              "    }\n",
              "</style>\n",
              "<table border=\"1\" class=\"dataframe\">\n",
              "  <thead>\n",
              "    <tr style=\"text-align: right;\">\n",
              "      <th></th>\n",
              "      <th>customer_id</th>\n",
              "      <th>vintage</th>\n",
              "      <th>age</th>\n",
              "      <th>gender</th>\n",
              "      <th>dependents</th>\n",
              "      <th>occupation</th>\n",
              "      <th>city</th>\n",
              "      <th>customer_nw_category</th>\n",
              "      <th>branch_code</th>\n",
              "      <th>current_balance</th>\n",
              "      <th>...</th>\n",
              "      <th>average_monthly_balance_prevQ</th>\n",
              "      <th>average_monthly_balance_prevQ2</th>\n",
              "      <th>current_month_credit</th>\n",
              "      <th>previous_month_credit</th>\n",
              "      <th>current_month_debit</th>\n",
              "      <th>previous_month_debit</th>\n",
              "      <th>current_month_balance</th>\n",
              "      <th>previous_month_balance</th>\n",
              "      <th>churn</th>\n",
              "      <th>last_transaction</th>\n",
              "    </tr>\n",
              "  </thead>\n",
              "  <tbody>\n",
              "    <tr>\n",
              "      <th>12608</th>\n",
              "      <td>13467</td>\n",
              "      <td>2140</td>\n",
              "      <td>80</td>\n",
              "      <td>Male</td>\n",
              "      <td>0.0</td>\n",
              "      <td>retired</td>\n",
              "      <td>1096.0</td>\n",
              "      <td>1</td>\n",
              "      <td>27</td>\n",
              "      <td>-5503.96</td>\n",
              "      <td>...</td>\n",
              "      <td>1694.57</td>\n",
              "      <td>868.26</td>\n",
              "      <td>9471.01</td>\n",
              "      <td>2680.04</td>\n",
              "      <td>15229.44</td>\n",
              "      <td>7859.37</td>\n",
              "      <td>1050.17</td>\n",
              "      <td>2002.97</td>\n",
              "      <td>1</td>\n",
              "      <td>2019-12-26</td>\n",
              "    </tr>\n",
              "  </tbody>\n",
              "</table>\n",
              "<p>1 rows × 21 columns</p>\n",
              "</div>\n",
              "    <div class=\"colab-df-buttons\">\n",
              "\n",
              "  <div class=\"colab-df-container\">\n",
              "    <button class=\"colab-df-convert\" onclick=\"convertToInteractive('df-36d4136e-3ebf-4d85-8eab-17c3023f57be')\"\n",
              "            title=\"Convert this dataframe to an interactive table.\"\n",
              "            style=\"display:none;\">\n",
              "\n",
              "  <svg xmlns=\"http://www.w3.org/2000/svg\" height=\"24px\" viewBox=\"0 -960 960 960\">\n",
              "    <path d=\"M120-120v-720h720v720H120Zm60-500h600v-160H180v160Zm220 220h160v-160H400v160Zm0 220h160v-160H400v160ZM180-400h160v-160H180v160Zm440 0h160v-160H620v160ZM180-180h160v-160H180v160Zm440 0h160v-160H620v160Z\"/>\n",
              "  </svg>\n",
              "    </button>\n",
              "\n",
              "  <style>\n",
              "    .colab-df-container {\n",
              "      display:flex;\n",
              "      gap: 12px;\n",
              "    }\n",
              "\n",
              "    .colab-df-convert {\n",
              "      background-color: #E8F0FE;\n",
              "      border: none;\n",
              "      border-radius: 50%;\n",
              "      cursor: pointer;\n",
              "      display: none;\n",
              "      fill: #1967D2;\n",
              "      height: 32px;\n",
              "      padding: 0 0 0 0;\n",
              "      width: 32px;\n",
              "    }\n",
              "\n",
              "    .colab-df-convert:hover {\n",
              "      background-color: #E2EBFA;\n",
              "      box-shadow: 0px 1px 2px rgba(60, 64, 67, 0.3), 0px 1px 3px 1px rgba(60, 64, 67, 0.15);\n",
              "      fill: #174EA6;\n",
              "    }\n",
              "\n",
              "    .colab-df-buttons div {\n",
              "      margin-bottom: 4px;\n",
              "    }\n",
              "\n",
              "    [theme=dark] .colab-df-convert {\n",
              "      background-color: #3B4455;\n",
              "      fill: #D2E3FC;\n",
              "    }\n",
              "\n",
              "    [theme=dark] .colab-df-convert:hover {\n",
              "      background-color: #434B5C;\n",
              "      box-shadow: 0px 1px 3px 1px rgba(0, 0, 0, 0.15);\n",
              "      filter: drop-shadow(0px 1px 2px rgba(0, 0, 0, 0.3));\n",
              "      fill: #FFFFFF;\n",
              "    }\n",
              "  </style>\n",
              "\n",
              "    <script>\n",
              "      const buttonEl =\n",
              "        document.querySelector('#df-36d4136e-3ebf-4d85-8eab-17c3023f57be button.colab-df-convert');\n",
              "      buttonEl.style.display =\n",
              "        google.colab.kernel.accessAllowed ? 'block' : 'none';\n",
              "\n",
              "      async function convertToInteractive(key) {\n",
              "        const element = document.querySelector('#df-36d4136e-3ebf-4d85-8eab-17c3023f57be');\n",
              "        const dataTable =\n",
              "          await google.colab.kernel.invokeFunction('convertToInteractive',\n",
              "                                                    [key], {});\n",
              "        if (!dataTable) return;\n",
              "\n",
              "        const docLinkHtml = 'Like what you see? Visit the ' +\n",
              "          '<a target=\"_blank\" href=https://colab.research.google.com/notebooks/data_table.ipynb>data table notebook</a>'\n",
              "          + ' to learn more about interactive tables.';\n",
              "        element.innerHTML = '';\n",
              "        dataTable['output_type'] = 'display_data';\n",
              "        await google.colab.output.renderOutput(dataTable, element);\n",
              "        const docLink = document.createElement('div');\n",
              "        docLink.innerHTML = docLinkHtml;\n",
              "        element.appendChild(docLink);\n",
              "      }\n",
              "    </script>\n",
              "  </div>\n",
              "\n",
              "\n",
              "    </div>\n",
              "  </div>\n"
            ],
            "application/vnd.google.colaboratory.intrinsic+json": {
              "type": "dataframe"
            }
          },
          "metadata": {},
          "execution_count": 8
        }
      ]
    },
    {
      "cell_type": "markdown",
      "metadata": {
        "id": "yDJjIU9POuS9"
      },
      "source": [
        "* Customer's id is 13467\n",
        "* Customer has __minimum current balance__ is -5503.96\n"
      ]
    },
    {
      "cell_type": "markdown",
      "metadata": {
        "id": "SCHZvc0XOuTC"
      },
      "source": [
        "### Max observation"
      ]
    },
    {
      "cell_type": "code",
      "metadata": {
        "id": "YqXn9lcyR_LA",
        "outputId": "8ed84cb3-b651-4467-a77e-292d980389c2",
        "colab": {
          "base_uri": "https://localhost:8080/",
          "height": 128
        }
      },
      "source": [
        "# obseravtion with maxximum current month debit\n",
        "data[data['current_month_debit'] == data['current_month_debit'].max()]"
      ],
      "execution_count": 9,
      "outputs": [
        {
          "output_type": "execute_result",
          "data": {
            "text/plain": [
              "       customer_id  vintage  age gender  dependents occupation    city  \\\n",
              "24095        25712     1902   90   Male         0.0    retired  1020.0   \n",
              "\n",
              "       customer_nw_category  branch_code  current_balance  ...  \\\n",
              "24095                     2            5             46.5  ...   \n",
              "\n",
              "       average_monthly_balance_prevQ  average_monthly_balance_prevQ2  \\\n",
              "24095                       11728.39                       111617.41   \n",
              "\n",
              "       current_month_credit  previous_month_credit  current_month_debit  \\\n",
              "24095           12269845.39                   0.21           7637857.36   \n",
              "\n",
              "       previous_month_debit  current_month_balance  previous_month_balance  \\\n",
              "24095                  0.21                8399.62                24270.54   \n",
              "\n",
              "       churn  last_transaction  \n",
              "24095      1        2019-12-13  \n",
              "\n",
              "[1 rows x 21 columns]"
            ],
            "text/html": [
              "\n",
              "  <div id=\"df-37009117-b676-48df-82d2-9ff13585c36e\" class=\"colab-df-container\">\n",
              "    <div>\n",
              "<style scoped>\n",
              "    .dataframe tbody tr th:only-of-type {\n",
              "        vertical-align: middle;\n",
              "    }\n",
              "\n",
              "    .dataframe tbody tr th {\n",
              "        vertical-align: top;\n",
              "    }\n",
              "\n",
              "    .dataframe thead th {\n",
              "        text-align: right;\n",
              "    }\n",
              "</style>\n",
              "<table border=\"1\" class=\"dataframe\">\n",
              "  <thead>\n",
              "    <tr style=\"text-align: right;\">\n",
              "      <th></th>\n",
              "      <th>customer_id</th>\n",
              "      <th>vintage</th>\n",
              "      <th>age</th>\n",
              "      <th>gender</th>\n",
              "      <th>dependents</th>\n",
              "      <th>occupation</th>\n",
              "      <th>city</th>\n",
              "      <th>customer_nw_category</th>\n",
              "      <th>branch_code</th>\n",
              "      <th>current_balance</th>\n",
              "      <th>...</th>\n",
              "      <th>average_monthly_balance_prevQ</th>\n",
              "      <th>average_monthly_balance_prevQ2</th>\n",
              "      <th>current_month_credit</th>\n",
              "      <th>previous_month_credit</th>\n",
              "      <th>current_month_debit</th>\n",
              "      <th>previous_month_debit</th>\n",
              "      <th>current_month_balance</th>\n",
              "      <th>previous_month_balance</th>\n",
              "      <th>churn</th>\n",
              "      <th>last_transaction</th>\n",
              "    </tr>\n",
              "  </thead>\n",
              "  <tbody>\n",
              "    <tr>\n",
              "      <th>24095</th>\n",
              "      <td>25712</td>\n",
              "      <td>1902</td>\n",
              "      <td>90</td>\n",
              "      <td>Male</td>\n",
              "      <td>0.0</td>\n",
              "      <td>retired</td>\n",
              "      <td>1020.0</td>\n",
              "      <td>2</td>\n",
              "      <td>5</td>\n",
              "      <td>46.5</td>\n",
              "      <td>...</td>\n",
              "      <td>11728.39</td>\n",
              "      <td>111617.41</td>\n",
              "      <td>12269845.39</td>\n",
              "      <td>0.21</td>\n",
              "      <td>7637857.36</td>\n",
              "      <td>0.21</td>\n",
              "      <td>8399.62</td>\n",
              "      <td>24270.54</td>\n",
              "      <td>1</td>\n",
              "      <td>2019-12-13</td>\n",
              "    </tr>\n",
              "  </tbody>\n",
              "</table>\n",
              "<p>1 rows × 21 columns</p>\n",
              "</div>\n",
              "    <div class=\"colab-df-buttons\">\n",
              "\n",
              "  <div class=\"colab-df-container\">\n",
              "    <button class=\"colab-df-convert\" onclick=\"convertToInteractive('df-37009117-b676-48df-82d2-9ff13585c36e')\"\n",
              "            title=\"Convert this dataframe to an interactive table.\"\n",
              "            style=\"display:none;\">\n",
              "\n",
              "  <svg xmlns=\"http://www.w3.org/2000/svg\" height=\"24px\" viewBox=\"0 -960 960 960\">\n",
              "    <path d=\"M120-120v-720h720v720H120Zm60-500h600v-160H180v160Zm220 220h160v-160H400v160Zm0 220h160v-160H400v160ZM180-400h160v-160H180v160Zm440 0h160v-160H620v160ZM180-180h160v-160H180v160Zm440 0h160v-160H620v160Z\"/>\n",
              "  </svg>\n",
              "    </button>\n",
              "\n",
              "  <style>\n",
              "    .colab-df-container {\n",
              "      display:flex;\n",
              "      gap: 12px;\n",
              "    }\n",
              "\n",
              "    .colab-df-convert {\n",
              "      background-color: #E8F0FE;\n",
              "      border: none;\n",
              "      border-radius: 50%;\n",
              "      cursor: pointer;\n",
              "      display: none;\n",
              "      fill: #1967D2;\n",
              "      height: 32px;\n",
              "      padding: 0 0 0 0;\n",
              "      width: 32px;\n",
              "    }\n",
              "\n",
              "    .colab-df-convert:hover {\n",
              "      background-color: #E2EBFA;\n",
              "      box-shadow: 0px 1px 2px rgba(60, 64, 67, 0.3), 0px 1px 3px 1px rgba(60, 64, 67, 0.15);\n",
              "      fill: #174EA6;\n",
              "    }\n",
              "\n",
              "    .colab-df-buttons div {\n",
              "      margin-bottom: 4px;\n",
              "    }\n",
              "\n",
              "    [theme=dark] .colab-df-convert {\n",
              "      background-color: #3B4455;\n",
              "      fill: #D2E3FC;\n",
              "    }\n",
              "\n",
              "    [theme=dark] .colab-df-convert:hover {\n",
              "      background-color: #434B5C;\n",
              "      box-shadow: 0px 1px 3px 1px rgba(0, 0, 0, 0.15);\n",
              "      filter: drop-shadow(0px 1px 2px rgba(0, 0, 0, 0.3));\n",
              "      fill: #FFFFFF;\n",
              "    }\n",
              "  </style>\n",
              "\n",
              "    <script>\n",
              "      const buttonEl =\n",
              "        document.querySelector('#df-37009117-b676-48df-82d2-9ff13585c36e button.colab-df-convert');\n",
              "      buttonEl.style.display =\n",
              "        google.colab.kernel.accessAllowed ? 'block' : 'none';\n",
              "\n",
              "      async function convertToInteractive(key) {\n",
              "        const element = document.querySelector('#df-37009117-b676-48df-82d2-9ff13585c36e');\n",
              "        const dataTable =\n",
              "          await google.colab.kernel.invokeFunction('convertToInteractive',\n",
              "                                                    [key], {});\n",
              "        if (!dataTable) return;\n",
              "\n",
              "        const docLinkHtml = 'Like what you see? Visit the ' +\n",
              "          '<a target=\"_blank\" href=https://colab.research.google.com/notebooks/data_table.ipynb>data table notebook</a>'\n",
              "          + ' to learn more about interactive tables.';\n",
              "        element.innerHTML = '';\n",
              "        dataTable['output_type'] = 'display_data';\n",
              "        await google.colab.output.renderOutput(dataTable, element);\n",
              "        const docLink = document.createElement('div');\n",
              "        docLink.innerHTML = docLinkHtml;\n",
              "        element.appendChild(docLink);\n",
              "      }\n",
              "    </script>\n",
              "  </div>\n",
              "\n",
              "\n",
              "    </div>\n",
              "  </div>\n"
            ],
            "application/vnd.google.colaboratory.intrinsic+json": {
              "type": "dataframe"
            }
          },
          "metadata": {},
          "execution_count": 9
        }
      ]
    },
    {
      "cell_type": "markdown",
      "metadata": {
        "id": "qKH3ErymOuTU"
      },
      "source": [
        "* Customer's id is 25712\n",
        "* Customer has __maximum current month debit__ is   7637857.36\n"
      ]
    },
    {
      "cell_type": "markdown",
      "metadata": {
        "id": "X0UJT_w3OuTW"
      },
      "source": [
        "### Range"
      ]
    },
    {
      "cell_type": "markdown",
      "metadata": {
        "id": "-RO9lwQeOuTa"
      },
      "source": [
        " __Range of Age__ in our datase indicating the difference of Age between the oldest and youngest customers"
      ]
    },
    {
      "cell_type": "code",
      "metadata": {
        "id": "kkHzHmLrR_LF",
        "outputId": "87257214-494a-4996-d7b0-20ab16f212b0",
        "colab": {
          "base_uri": "https://localhost:8080/"
        }
      },
      "source": [
        "# Range of Age\n",
        "\n",
        "print(data['age'].min(),  data['age'].max())"
      ],
      "execution_count": 10,
      "outputs": [
        {
          "output_type": "stream",
          "name": "stdout",
          "text": [
            "1 90\n"
          ]
        }
      ]
    },
    {
      "cell_type": "markdown",
      "metadata": {
        "id": "QRiwOGUTOuTp"
      },
      "source": [
        "* Oldest Customer Age is 90\n",
        "* Youngest Customer Age is 1\n",
        "* Range is [1,90]"
      ]
    },
    {
      "cell_type": "markdown",
      "metadata": {
        "id": "ObUYzPs5OuTt"
      },
      "source": [
        "### Max, Min, Range for each column"
      ]
    },
    {
      "cell_type": "code",
      "metadata": {
        "id": "VusaDbjqR_LH",
        "outputId": "e864cc19-43dc-4f5b-df1d-f1e39910d328",
        "colab": {
          "base_uri": "https://localhost:8080/",
          "height": 657
        }
      },
      "source": [
        "# Printing Max of evey numerical column\n",
        "data[numerical_cols].max()"
      ],
      "execution_count": 11,
      "outputs": [
        {
          "output_type": "execute_result",
          "data": {
            "text/plain": [
              "customer_id                          30301.00\n",
              "vintage                               2476.00\n",
              "age                                     90.00\n",
              "dependents                              52.00\n",
              "city                                  1649.00\n",
              "customer_nw_category                     3.00\n",
              "branch_code                           4782.00\n",
              "current_balance                    5905904.03\n",
              "previous_month_end_balance         5740438.63\n",
              "average_monthly_balance_prevQ      5700289.57\n",
              "average_monthly_balance_prevQ2     5010170.10\n",
              "current_month_credit              12269845.39\n",
              "previous_month_credit              2361808.29\n",
              "current_month_debit                7637857.36\n",
              "previous_month_debit               1414168.06\n",
              "current_month_balance              5778184.77\n",
              "previous_month_balance             5720144.50\n",
              "churn                                    1.00\n",
              "dtype: float64"
            ],
            "text/html": [
              "<div>\n",
              "<style scoped>\n",
              "    .dataframe tbody tr th:only-of-type {\n",
              "        vertical-align: middle;\n",
              "    }\n",
              "\n",
              "    .dataframe tbody tr th {\n",
              "        vertical-align: top;\n",
              "    }\n",
              "\n",
              "    .dataframe thead th {\n",
              "        text-align: right;\n",
              "    }\n",
              "</style>\n",
              "<table border=\"1\" class=\"dataframe\">\n",
              "  <thead>\n",
              "    <tr style=\"text-align: right;\">\n",
              "      <th></th>\n",
              "      <th>0</th>\n",
              "    </tr>\n",
              "  </thead>\n",
              "  <tbody>\n",
              "    <tr>\n",
              "      <th>customer_id</th>\n",
              "      <td>30301.00</td>\n",
              "    </tr>\n",
              "    <tr>\n",
              "      <th>vintage</th>\n",
              "      <td>2476.00</td>\n",
              "    </tr>\n",
              "    <tr>\n",
              "      <th>age</th>\n",
              "      <td>90.00</td>\n",
              "    </tr>\n",
              "    <tr>\n",
              "      <th>dependents</th>\n",
              "      <td>52.00</td>\n",
              "    </tr>\n",
              "    <tr>\n",
              "      <th>city</th>\n",
              "      <td>1649.00</td>\n",
              "    </tr>\n",
              "    <tr>\n",
              "      <th>customer_nw_category</th>\n",
              "      <td>3.00</td>\n",
              "    </tr>\n",
              "    <tr>\n",
              "      <th>branch_code</th>\n",
              "      <td>4782.00</td>\n",
              "    </tr>\n",
              "    <tr>\n",
              "      <th>current_balance</th>\n",
              "      <td>5905904.03</td>\n",
              "    </tr>\n",
              "    <tr>\n",
              "      <th>previous_month_end_balance</th>\n",
              "      <td>5740438.63</td>\n",
              "    </tr>\n",
              "    <tr>\n",
              "      <th>average_monthly_balance_prevQ</th>\n",
              "      <td>5700289.57</td>\n",
              "    </tr>\n",
              "    <tr>\n",
              "      <th>average_monthly_balance_prevQ2</th>\n",
              "      <td>5010170.10</td>\n",
              "    </tr>\n",
              "    <tr>\n",
              "      <th>current_month_credit</th>\n",
              "      <td>12269845.39</td>\n",
              "    </tr>\n",
              "    <tr>\n",
              "      <th>previous_month_credit</th>\n",
              "      <td>2361808.29</td>\n",
              "    </tr>\n",
              "    <tr>\n",
              "      <th>current_month_debit</th>\n",
              "      <td>7637857.36</td>\n",
              "    </tr>\n",
              "    <tr>\n",
              "      <th>previous_month_debit</th>\n",
              "      <td>1414168.06</td>\n",
              "    </tr>\n",
              "    <tr>\n",
              "      <th>current_month_balance</th>\n",
              "      <td>5778184.77</td>\n",
              "    </tr>\n",
              "    <tr>\n",
              "      <th>previous_month_balance</th>\n",
              "      <td>5720144.50</td>\n",
              "    </tr>\n",
              "    <tr>\n",
              "      <th>churn</th>\n",
              "      <td>1.00</td>\n",
              "    </tr>\n",
              "  </tbody>\n",
              "</table>\n",
              "</div><br><label><b>dtype:</b> float64</label>"
            ]
          },
          "metadata": {},
          "execution_count": 11
        }
      ]
    },
    {
      "cell_type": "markdown",
      "metadata": {
        "id": "MM_lBwUHYXa2"
      },
      "source": [
        "* Maximum value of vintage for a customer is 12899.\n",
        "* Maximum age of a customer in our dataset is 90\n",
        "* Maximum number of dependents in our dataset is 52\n",
        "* Maximum day since last transaction is 365\n",
        "* Maximum values for __current_balance, previous_month_end_balance,average_monthly_balance_prevQ,    current_month_balance, previous_month_balance__ are close to 57 lakhs.\n",
        "* Maximum value for current_month_credit is 12269845.39\n",
        "* Maximum value for previous_month_credit is 2361808.29\n",
        "* maximum value for current_month_debit and previous_month debit is respectively 7637857.36 and 1414168.06.\n",
        "* The features like __customer_id, city, customer_nw_category, branch_code, churn__ are required to be treated as categorcial variable so their maximum value don't represent numerical significance.\n"
      ]
    },
    {
      "cell_type": "code",
      "metadata": {
        "id": "8OSHRZvfR_LK",
        "outputId": "3712f735-7b51-4724-8e01-a17471c05ddb",
        "colab": {
          "base_uri": "https://localhost:8080/",
          "height": 657
        }
      },
      "source": [
        "# printing min of every numercial column\n",
        "data[numerical_cols].min()"
      ],
      "execution_count": 12,
      "outputs": [
        {
          "output_type": "execute_result",
          "data": {
            "text/plain": [
              "customer_id                           1.00\n",
              "vintage                              73.00\n",
              "age                                   1.00\n",
              "dependents                            0.00\n",
              "city                                  0.00\n",
              "customer_nw_category                  1.00\n",
              "branch_code                           1.00\n",
              "current_balance                   -5503.96\n",
              "previous_month_end_balance        -3149.57\n",
              "average_monthly_balance_prevQ      1428.69\n",
              "average_monthly_balance_prevQ2   -16506.10\n",
              "current_month_credit                  0.01\n",
              "previous_month_credit                 0.01\n",
              "current_month_debit                   0.01\n",
              "previous_month_debit                  0.01\n",
              "current_month_balance             -3374.18\n",
              "previous_month_balance            -5171.92\n",
              "churn                                 0.00\n",
              "dtype: float64"
            ],
            "text/html": [
              "<div>\n",
              "<style scoped>\n",
              "    .dataframe tbody tr th:only-of-type {\n",
              "        vertical-align: middle;\n",
              "    }\n",
              "\n",
              "    .dataframe tbody tr th {\n",
              "        vertical-align: top;\n",
              "    }\n",
              "\n",
              "    .dataframe thead th {\n",
              "        text-align: right;\n",
              "    }\n",
              "</style>\n",
              "<table border=\"1\" class=\"dataframe\">\n",
              "  <thead>\n",
              "    <tr style=\"text-align: right;\">\n",
              "      <th></th>\n",
              "      <th>0</th>\n",
              "    </tr>\n",
              "  </thead>\n",
              "  <tbody>\n",
              "    <tr>\n",
              "      <th>customer_id</th>\n",
              "      <td>1.00</td>\n",
              "    </tr>\n",
              "    <tr>\n",
              "      <th>vintage</th>\n",
              "      <td>73.00</td>\n",
              "    </tr>\n",
              "    <tr>\n",
              "      <th>age</th>\n",
              "      <td>1.00</td>\n",
              "    </tr>\n",
              "    <tr>\n",
              "      <th>dependents</th>\n",
              "      <td>0.00</td>\n",
              "    </tr>\n",
              "    <tr>\n",
              "      <th>city</th>\n",
              "      <td>0.00</td>\n",
              "    </tr>\n",
              "    <tr>\n",
              "      <th>customer_nw_category</th>\n",
              "      <td>1.00</td>\n",
              "    </tr>\n",
              "    <tr>\n",
              "      <th>branch_code</th>\n",
              "      <td>1.00</td>\n",
              "    </tr>\n",
              "    <tr>\n",
              "      <th>current_balance</th>\n",
              "      <td>-5503.96</td>\n",
              "    </tr>\n",
              "    <tr>\n",
              "      <th>previous_month_end_balance</th>\n",
              "      <td>-3149.57</td>\n",
              "    </tr>\n",
              "    <tr>\n",
              "      <th>average_monthly_balance_prevQ</th>\n",
              "      <td>1428.69</td>\n",
              "    </tr>\n",
              "    <tr>\n",
              "      <th>average_monthly_balance_prevQ2</th>\n",
              "      <td>-16506.10</td>\n",
              "    </tr>\n",
              "    <tr>\n",
              "      <th>current_month_credit</th>\n",
              "      <td>0.01</td>\n",
              "    </tr>\n",
              "    <tr>\n",
              "      <th>previous_month_credit</th>\n",
              "      <td>0.01</td>\n",
              "    </tr>\n",
              "    <tr>\n",
              "      <th>current_month_debit</th>\n",
              "      <td>0.01</td>\n",
              "    </tr>\n",
              "    <tr>\n",
              "      <th>previous_month_debit</th>\n",
              "      <td>0.01</td>\n",
              "    </tr>\n",
              "    <tr>\n",
              "      <th>current_month_balance</th>\n",
              "      <td>-3374.18</td>\n",
              "    </tr>\n",
              "    <tr>\n",
              "      <th>previous_month_balance</th>\n",
              "      <td>-5171.92</td>\n",
              "    </tr>\n",
              "    <tr>\n",
              "      <th>churn</th>\n",
              "      <td>0.00</td>\n",
              "    </tr>\n",
              "  </tbody>\n",
              "</table>\n",
              "</div><br><label><b>dtype:</b> float64</label>"
            ]
          },
          "metadata": {},
          "execution_count": 12
        }
      ]
    },
    {
      "cell_type": "code",
      "metadata": {
        "id": "ZMnoIdSmYXa5",
        "colab": {
          "base_uri": "https://localhost:8080/"
        },
        "outputId": "51eb2eaa-62d6-454e-c6de-fa917a635ba8"
      },
      "source": [
        "for col in numerical_cols:\n",
        "    print(\"range of {}{}{}{}{}{}{}{}\".format(col,\":\",\" \",\"[\",data[col].min(), \", \",data[col].max(),\"]\"))"
      ],
      "execution_count": 13,
      "outputs": [
        {
          "output_type": "stream",
          "name": "stdout",
          "text": [
            "range of customer_id: [1, 30301]\n",
            "range of vintage: [73, 2476]\n",
            "range of age: [1, 90]\n",
            "range of dependents: [0.0, 52.0]\n",
            "range of city: [0.0, 1649.0]\n",
            "range of customer_nw_category: [1, 3]\n",
            "range of branch_code: [1, 4782]\n",
            "range of current_balance: [-5503.96, 5905904.03]\n",
            "range of previous_month_end_balance: [-3149.57, 5740438.63]\n",
            "range of average_monthly_balance_prevQ: [1428.69, 5700289.57]\n",
            "range of average_monthly_balance_prevQ2: [-16506.1, 5010170.1]\n",
            "range of current_month_credit: [0.01, 12269845.39]\n",
            "range of previous_month_credit: [0.01, 2361808.29]\n",
            "range of current_month_debit: [0.01, 7637857.36]\n",
            "range of previous_month_debit: [0.01, 1414168.06]\n",
            "range of current_month_balance: [-3374.18, 5778184.77]\n",
            "range of previous_month_balance: [-5171.92, 5720144.5]\n",
            "range of churn: [0, 1]\n"
          ]
        }
      ]
    },
    {
      "cell_type": "markdown",
      "metadata": {
        "id": "TzIxUenlYXa8"
      },
      "source": [
        "* Range of current_month_credit is highest among all features.\n",
        "* Range of days_since_last_transaction is 1 year."
      ]
    },
    {
      "cell_type": "code",
      "metadata": {
        "id": "rZ-87c8xYXa8"
      },
      "source": [],
      "execution_count": null,
      "outputs": []
    }
  ]
}