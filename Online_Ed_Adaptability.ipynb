{
  "cells": [
    {
      "cell_type": "markdown",
      "metadata": {
        "id": "view-in-github",
        "colab_type": "text"
      },
      "source": [
        "<a href=\"https://colab.research.google.com/github/JapiKredi/Pinnacle_AI_program_AnalyticsVidyha/blob/main/Online_Ed_Adaptability.ipynb\" target=\"_parent\"><img src=\"https://colab.research.google.com/assets/colab-badge.svg\" alt=\"Open In Colab\"/></a>"
      ]
    },
    {
      "cell_type": "markdown",
      "id": "82e3ba4f",
      "metadata": {
        "id": "82e3ba4f"
      },
      "source": [
        "## Objective\n",
        "\n",
        "Comparative study of KNN and Decision tree for predicting Students Adaptability level in Online Education."
      ]
    },
    {
      "cell_type": "markdown",
      "id": "62013500",
      "metadata": {
        "id": "62013500"
      },
      "source": [
        "### Import libraries"
      ]
    },
    {
      "source": [
        "!pip install ydata_profiling"
      ],
      "cell_type": "code",
      "metadata": {
        "id": "qq29SN_8ZYdc",
        "colab": {
          "base_uri": "https://localhost:8080/"
        },
        "outputId": "485de029-1442-490d-c69f-fa89e9908f56"
      },
      "id": "qq29SN_8ZYdc",
      "execution_count": null,
      "outputs": [
        {
          "output_type": "stream",
          "name": "stdout",
          "text": [
            "Collecting ydata_profiling\n",
            "  Downloading ydata_profiling-4.12.1-py2.py3-none-any.whl.metadata (20 kB)\n",
            "Requirement already satisfied: scipy<1.14,>=1.4.1 in /usr/local/lib/python3.10/dist-packages (from ydata_profiling) (1.13.1)\n",
            "Requirement already satisfied: pandas!=1.4.0,<3,>1.1 in /usr/local/lib/python3.10/dist-packages (from ydata_profiling) (2.2.2)\n",
            "Requirement already satisfied: matplotlib<3.10,>=3.5 in /usr/local/lib/python3.10/dist-packages (from ydata_profiling) (3.8.0)\n",
            "Requirement already satisfied: pydantic>=2 in /usr/local/lib/python3.10/dist-packages (from ydata_profiling) (2.10.3)\n",
            "Requirement already satisfied: PyYAML<6.1,>=5.0.0 in /usr/local/lib/python3.10/dist-packages (from ydata_profiling) (6.0.2)\n",
            "Requirement already satisfied: jinja2<3.2,>=2.11.1 in /usr/local/lib/python3.10/dist-packages (from ydata_profiling) (3.1.4)\n",
            "Collecting visions<0.7.7,>=0.7.5 (from visions[type_image_path]<0.7.7,>=0.7.5->ydata_profiling)\n",
            "  Downloading visions-0.7.6-py3-none-any.whl.metadata (11 kB)\n",
            "Requirement already satisfied: numpy<2.2,>=1.16.0 in /usr/local/lib/python3.10/dist-packages (from ydata_profiling) (1.26.4)\n",
            "Collecting htmlmin==0.1.12 (from ydata_profiling)\n",
            "  Downloading htmlmin-0.1.12.tar.gz (19 kB)\n",
            "  Preparing metadata (setup.py) ... \u001b[?25l\u001b[?25hdone\n",
            "Collecting phik<0.13,>=0.11.1 (from ydata_profiling)\n",
            "  Downloading phik-0.12.4-cp310-cp310-manylinux_2_17_x86_64.manylinux2014_x86_64.whl.metadata (5.6 kB)\n",
            "Requirement already satisfied: requests<3,>=2.24.0 in /usr/local/lib/python3.10/dist-packages (from ydata_profiling) (2.32.3)\n",
            "Requirement already satisfied: tqdm<5,>=4.48.2 in /usr/local/lib/python3.10/dist-packages (from ydata_profiling) (4.67.1)\n",
            "Requirement already satisfied: seaborn<0.14,>=0.10.1 in /usr/local/lib/python3.10/dist-packages (from ydata_profiling) (0.13.2)\n",
            "Collecting multimethod<2,>=1.4 (from ydata_profiling)\n",
            "  Downloading multimethod-1.12-py3-none-any.whl.metadata (9.6 kB)\n",
            "Requirement already satisfied: statsmodels<1,>=0.13.2 in /usr/local/lib/python3.10/dist-packages (from ydata_profiling) (0.14.4)\n",
            "Requirement already satisfied: typeguard<5,>=3 in /usr/local/lib/python3.10/dist-packages (from ydata_profiling) (4.4.1)\n",
            "Collecting imagehash==4.3.1 (from ydata_profiling)\n",
            "  Downloading ImageHash-4.3.1-py2.py3-none-any.whl.metadata (8.0 kB)\n",
            "Requirement already satisfied: wordcloud>=1.9.3 in /usr/local/lib/python3.10/dist-packages (from ydata_profiling) (1.9.4)\n",
            "Collecting dacite>=1.8 (from ydata_profiling)\n",
            "  Downloading dacite-1.8.1-py3-none-any.whl.metadata (15 kB)\n",
            "Requirement already satisfied: numba<1,>=0.56.0 in /usr/local/lib/python3.10/dist-packages (from ydata_profiling) (0.60.0)\n",
            "Collecting PyWavelets (from imagehash==4.3.1->ydata_profiling)\n",
            "  Downloading pywavelets-1.8.0-cp310-cp310-manylinux_2_17_x86_64.manylinux2014_x86_64.whl.metadata (9.0 kB)\n",
            "Requirement already satisfied: pillow in /usr/local/lib/python3.10/dist-packages (from imagehash==4.3.1->ydata_profiling) (11.0.0)\n",
            "Requirement already satisfied: MarkupSafe>=2.0 in /usr/local/lib/python3.10/dist-packages (from jinja2<3.2,>=2.11.1->ydata_profiling) (3.0.2)\n",
            "Requirement already satisfied: contourpy>=1.0.1 in /usr/local/lib/python3.10/dist-packages (from matplotlib<3.10,>=3.5->ydata_profiling) (1.3.1)\n",
            "Requirement already satisfied: cycler>=0.10 in /usr/local/lib/python3.10/dist-packages (from matplotlib<3.10,>=3.5->ydata_profiling) (0.12.1)\n",
            "Requirement already satisfied: fonttools>=4.22.0 in /usr/local/lib/python3.10/dist-packages (from matplotlib<3.10,>=3.5->ydata_profiling) (4.55.3)\n",
            "Requirement already satisfied: kiwisolver>=1.0.1 in /usr/local/lib/python3.10/dist-packages (from matplotlib<3.10,>=3.5->ydata_profiling) (1.4.7)\n",
            "Requirement already satisfied: packaging>=20.0 in /usr/local/lib/python3.10/dist-packages (from matplotlib<3.10,>=3.5->ydata_profiling) (24.2)\n",
            "Requirement already satisfied: pyparsing>=2.3.1 in /usr/local/lib/python3.10/dist-packages (from matplotlib<3.10,>=3.5->ydata_profiling) (3.2.0)\n",
            "Requirement already satisfied: python-dateutil>=2.7 in /usr/local/lib/python3.10/dist-packages (from matplotlib<3.10,>=3.5->ydata_profiling) (2.8.2)\n",
            "Requirement already satisfied: llvmlite<0.44,>=0.43.0dev0 in /usr/local/lib/python3.10/dist-packages (from numba<1,>=0.56.0->ydata_profiling) (0.43.0)\n",
            "Requirement already satisfied: pytz>=2020.1 in /usr/local/lib/python3.10/dist-packages (from pandas!=1.4.0,<3,>1.1->ydata_profiling) (2024.2)\n",
            "Requirement already satisfied: tzdata>=2022.7 in /usr/local/lib/python3.10/dist-packages (from pandas!=1.4.0,<3,>1.1->ydata_profiling) (2024.2)\n",
            "Requirement already satisfied: joblib>=0.14.1 in /usr/local/lib/python3.10/dist-packages (from phik<0.13,>=0.11.1->ydata_profiling) (1.4.2)\n",
            "Requirement already satisfied: annotated-types>=0.6.0 in /usr/local/lib/python3.10/dist-packages (from pydantic>=2->ydata_profiling) (0.7.0)\n",
            "Requirement already satisfied: pydantic-core==2.27.1 in /usr/local/lib/python3.10/dist-packages (from pydantic>=2->ydata_profiling) (2.27.1)\n",
            "Requirement already satisfied: typing-extensions>=4.12.2 in /usr/local/lib/python3.10/dist-packages (from pydantic>=2->ydata_profiling) (4.12.2)\n",
            "Requirement already satisfied: charset-normalizer<4,>=2 in /usr/local/lib/python3.10/dist-packages (from requests<3,>=2.24.0->ydata_profiling) (3.4.0)\n",
            "Requirement already satisfied: idna<4,>=2.5 in /usr/local/lib/python3.10/dist-packages (from requests<3,>=2.24.0->ydata_profiling) (3.10)\n",
            "Requirement already satisfied: urllib3<3,>=1.21.1 in /usr/local/lib/python3.10/dist-packages (from requests<3,>=2.24.0->ydata_profiling) (2.2.3)\n",
            "Requirement already satisfied: certifi>=2017.4.17 in /usr/local/lib/python3.10/dist-packages (from requests<3,>=2.24.0->ydata_profiling) (2024.12.14)\n",
            "Requirement already satisfied: patsy>=0.5.6 in /usr/local/lib/python3.10/dist-packages (from statsmodels<1,>=0.13.2->ydata_profiling) (1.0.1)\n",
            "Requirement already satisfied: attrs>=19.3.0 in /usr/local/lib/python3.10/dist-packages (from visions<0.7.7,>=0.7.5->visions[type_image_path]<0.7.7,>=0.7.5->ydata_profiling) (24.3.0)\n",
            "Requirement already satisfied: networkx>=2.4 in /usr/local/lib/python3.10/dist-packages (from visions<0.7.7,>=0.7.5->visions[type_image_path]<0.7.7,>=0.7.5->ydata_profiling) (3.4.2)\n",
            "Requirement already satisfied: six>=1.5 in /usr/local/lib/python3.10/dist-packages (from python-dateutil>=2.7->matplotlib<3.10,>=3.5->ydata_profiling) (1.17.0)\n",
            "Downloading ydata_profiling-4.12.1-py2.py3-none-any.whl (390 kB)\n",
            "\u001b[2K   \u001b[90m━━━━━━━━━━━━━━━━━━━━━━━━━━━━━━━━━━━━━━━━\u001b[0m \u001b[32m390.9/390.9 kB\u001b[0m \u001b[31m12.6 MB/s\u001b[0m eta \u001b[36m0:00:00\u001b[0m\n",
            "\u001b[?25hDownloading ImageHash-4.3.1-py2.py3-none-any.whl (296 kB)\n",
            "\u001b[2K   \u001b[90m━━━━━━━━━━━━━━━━━━━━━━━━━━━━━━━━━━━━━━━━\u001b[0m \u001b[32m296.5/296.5 kB\u001b[0m \u001b[31m10.3 MB/s\u001b[0m eta \u001b[36m0:00:00\u001b[0m\n",
            "\u001b[?25hDownloading dacite-1.8.1-py3-none-any.whl (14 kB)\n",
            "Downloading multimethod-1.12-py3-none-any.whl (10 kB)\n",
            "Downloading phik-0.12.4-cp310-cp310-manylinux_2_17_x86_64.manylinux2014_x86_64.whl (686 kB)\n",
            "\u001b[2K   \u001b[90m━━━━━━━━━━━━━━━━━━━━━━━━━━━━━━━━━━━━━━━━\u001b[0m \u001b[32m686.1/686.1 kB\u001b[0m \u001b[31m12.7 MB/s\u001b[0m eta \u001b[36m0:00:00\u001b[0m\n",
            "\u001b[?25hDownloading visions-0.7.6-py3-none-any.whl (104 kB)\n",
            "\u001b[2K   \u001b[90m━━━━━━━━━━━━━━━━━━━━━━━━━━━━━━━━━━━━━━━━\u001b[0m \u001b[32m104.8/104.8 kB\u001b[0m \u001b[31m5.2 MB/s\u001b[0m eta \u001b[36m0:00:00\u001b[0m\n",
            "\u001b[?25hDownloading pywavelets-1.8.0-cp310-cp310-manylinux_2_17_x86_64.manylinux2014_x86_64.whl (4.5 MB)\n",
            "\u001b[2K   \u001b[90m━━━━━━━━━━━━━━━━━━━━━━━━━━━━━━━━━━━━━━━━\u001b[0m \u001b[32m4.5/4.5 MB\u001b[0m \u001b[31m27.1 MB/s\u001b[0m eta \u001b[36m0:00:00\u001b[0m\n",
            "\u001b[?25hBuilding wheels for collected packages: htmlmin\n",
            "  Building wheel for htmlmin (setup.py) ... \u001b[?25l\u001b[?25hdone\n",
            "  Created wheel for htmlmin: filename=htmlmin-0.1.12-py3-none-any.whl size=27081 sha256=0f347c331cf9d5915602e016aad1f0fa52c18a8cb49b9af154b590bb644b87b4\n",
            "  Stored in directory: /root/.cache/pip/wheels/dd/91/29/a79cecb328d01739e64017b6fb9a1ab9d8cb1853098ec5966d\n",
            "Successfully built htmlmin\n",
            "Installing collected packages: htmlmin, PyWavelets, multimethod, dacite, imagehash, visions, phik, ydata_profiling\n",
            "Successfully installed PyWavelets-1.8.0 dacite-1.8.1 htmlmin-0.1.12 imagehash-4.3.1 multimethod-1.12 phik-0.12.4 visions-0.7.6 ydata_profiling-4.12.1\n"
          ]
        }
      ]
    },
    {
      "cell_type": "code",
      "execution_count": null,
      "id": "55d2868e",
      "metadata": {
        "id": "55d2868e"
      },
      "outputs": [],
      "source": [
        "import matplotlib.pyplot as plt\n",
        "import seaborn as sns\n",
        "import warnings\n",
        "warnings.filterwarnings(\"ignore\")\n",
        "\n",
        "from ydata_profiling import ProfileReport\n",
        "import pandas as pd\n",
        "import numpy as np"
      ]
    },
    {
      "cell_type": "code",
      "source": [
        "from sklearn.preprocessing import OneHotEncoder, StandardScaler"
      ],
      "metadata": {
        "id": "t7Sb2C_Gn7EH"
      },
      "id": "t7Sb2C_Gn7EH",
      "execution_count": null,
      "outputs": []
    },
    {
      "cell_type": "markdown",
      "id": "eb39d5c0",
      "metadata": {
        "id": "eb39d5c0"
      },
      "source": [
        "### Read Data"
      ]
    },
    {
      "cell_type": "code",
      "source": [
        "from google.colab import drive\n",
        "drive.mount('/content/drive')"
      ],
      "metadata": {
        "colab": {
          "base_uri": "https://localhost:8080/",
          "height": 333
        },
        "id": "L2SkU5oiYGu4",
        "outputId": "c4a2a772-4e8f-4bfe-e00e-137c544c04d6"
      },
      "id": "L2SkU5oiYGu4",
      "execution_count": null,
      "outputs": [
        {
          "output_type": "error",
          "ename": "ValueError",
          "evalue": "mount failed",
          "traceback": [
            "\u001b[0;31m---------------------------------------------------------------------------\u001b[0m",
            "\u001b[0;31mValueError\u001b[0m                                Traceback (most recent call last)",
            "\u001b[0;32m<ipython-input-4-d5df0069828e>\u001b[0m in \u001b[0;36m<cell line: 2>\u001b[0;34m()\u001b[0m\n\u001b[1;32m      1\u001b[0m \u001b[0;32mfrom\u001b[0m \u001b[0mgoogle\u001b[0m\u001b[0;34m.\u001b[0m\u001b[0mcolab\u001b[0m \u001b[0;32mimport\u001b[0m \u001b[0mdrive\u001b[0m\u001b[0;34m\u001b[0m\u001b[0;34m\u001b[0m\u001b[0m\n\u001b[0;32m----> 2\u001b[0;31m \u001b[0mdrive\u001b[0m\u001b[0;34m.\u001b[0m\u001b[0mmount\u001b[0m\u001b[0;34m(\u001b[0m\u001b[0;34m'/content/drive'\u001b[0m\u001b[0;34m)\u001b[0m\u001b[0;34m\u001b[0m\u001b[0;34m\u001b[0m\u001b[0m\n\u001b[0m",
            "\u001b[0;32m/usr/local/lib/python3.10/dist-packages/google/colab/drive.py\u001b[0m in \u001b[0;36mmount\u001b[0;34m(mountpoint, force_remount, timeout_ms, readonly)\u001b[0m\n\u001b[1;32m     98\u001b[0m \u001b[0;32mdef\u001b[0m \u001b[0mmount\u001b[0m\u001b[0;34m(\u001b[0m\u001b[0mmountpoint\u001b[0m\u001b[0;34m,\u001b[0m \u001b[0mforce_remount\u001b[0m\u001b[0;34m=\u001b[0m\u001b[0;32mFalse\u001b[0m\u001b[0;34m,\u001b[0m \u001b[0mtimeout_ms\u001b[0m\u001b[0;34m=\u001b[0m\u001b[0;36m120000\u001b[0m\u001b[0;34m,\u001b[0m \u001b[0mreadonly\u001b[0m\u001b[0;34m=\u001b[0m\u001b[0;32mFalse\u001b[0m\u001b[0;34m)\u001b[0m\u001b[0;34m:\u001b[0m\u001b[0;34m\u001b[0m\u001b[0;34m\u001b[0m\u001b[0m\n\u001b[1;32m     99\u001b[0m   \u001b[0;34m\"\"\"Mount your Google Drive at the specified mountpoint path.\"\"\"\u001b[0m\u001b[0;34m\u001b[0m\u001b[0;34m\u001b[0m\u001b[0m\n\u001b[0;32m--> 100\u001b[0;31m   return _mount(\n\u001b[0m\u001b[1;32m    101\u001b[0m       \u001b[0mmountpoint\u001b[0m\u001b[0;34m,\u001b[0m\u001b[0;34m\u001b[0m\u001b[0;34m\u001b[0m\u001b[0m\n\u001b[1;32m    102\u001b[0m       \u001b[0mforce_remount\u001b[0m\u001b[0;34m=\u001b[0m\u001b[0mforce_remount\u001b[0m\u001b[0;34m,\u001b[0m\u001b[0;34m\u001b[0m\u001b[0;34m\u001b[0m\u001b[0m\n",
            "\u001b[0;32m/usr/local/lib/python3.10/dist-packages/google/colab/drive.py\u001b[0m in \u001b[0;36m_mount\u001b[0;34m(mountpoint, force_remount, timeout_ms, ephemeral, readonly)\u001b[0m\n\u001b[1;32m    275\u001b[0m             \u001b[0;34m'https://research.google.com/colaboratory/faq.html#drive-timeout'\u001b[0m\u001b[0;34m\u001b[0m\u001b[0;34m\u001b[0m\u001b[0m\n\u001b[1;32m    276\u001b[0m         )\n\u001b[0;32m--> 277\u001b[0;31m       \u001b[0;32mraise\u001b[0m \u001b[0mValueError\u001b[0m\u001b[0;34m(\u001b[0m\u001b[0;34m'mount failed'\u001b[0m \u001b[0;34m+\u001b[0m \u001b[0mextra_reason\u001b[0m\u001b[0;34m)\u001b[0m\u001b[0;34m\u001b[0m\u001b[0;34m\u001b[0m\u001b[0m\n\u001b[0m\u001b[1;32m    278\u001b[0m     \u001b[0;32melif\u001b[0m \u001b[0mcase\u001b[0m \u001b[0;34m==\u001b[0m \u001b[0;36m4\u001b[0m\u001b[0;34m:\u001b[0m\u001b[0;34m\u001b[0m\u001b[0;34m\u001b[0m\u001b[0m\n\u001b[1;32m    279\u001b[0m       \u001b[0;31m# Terminate the DriveFS binary before killing bash.\u001b[0m\u001b[0;34m\u001b[0m\u001b[0;34m\u001b[0m\u001b[0m\n",
            "\u001b[0;31mValueError\u001b[0m: mount failed"
          ]
        }
      ]
    },
    {
      "cell_type": "code",
      "execution_count": null,
      "id": "ef0e3374",
      "metadata": {
        "id": "ef0e3374"
      },
      "outputs": [],
      "source": [
        "data = pd.read_csv(\"/content/drive/My Drive/students_adaptability_level_online_education.csv\")\n",
        "data.head()"
      ]
    },
    {
      "cell_type": "code",
      "execution_count": null,
      "id": "a2a1fb75",
      "metadata": {
        "id": "a2a1fb75"
      },
      "outputs": [],
      "source": [
        "data.shape"
      ]
    },
    {
      "cell_type": "code",
      "source": [
        "data.info()"
      ],
      "metadata": {
        "id": "1KgsySPWb_Su"
      },
      "id": "1KgsySPWb_Su",
      "execution_count": null,
      "outputs": []
    },
    {
      "cell_type": "code",
      "source": [
        "data.columns"
      ],
      "metadata": {
        "id": "C1fIYlDycBgP"
      },
      "id": "C1fIYlDycBgP",
      "execution_count": null,
      "outputs": []
    },
    {
      "cell_type": "code",
      "source": [
        "data.isna().sum()"
      ],
      "metadata": {
        "id": "BV30h1MbtSIG"
      },
      "id": "BV30h1MbtSIG",
      "execution_count": null,
      "outputs": []
    },
    {
      "cell_type": "code",
      "source": [
        "print(data['Class Duration'].nunique())\n",
        "data['Class Duration'].unique()"
      ],
      "metadata": {
        "id": "bULCNJJFcgdW"
      },
      "id": "bULCNJJFcgdW",
      "execution_count": null,
      "outputs": []
    },
    {
      "cell_type": "code",
      "source": [
        "data.describe()"
      ],
      "metadata": {
        "id": "yH6Mes6dcQ1Q"
      },
      "id": "yH6Mes6dcQ1Q",
      "execution_count": null,
      "outputs": []
    },
    {
      "cell_type": "markdown",
      "id": "27861f00",
      "metadata": {
        "id": "27861f00"
      },
      "source": [
        "### Generate Data Profiling Report"
      ]
    },
    {
      "cell_type": "code",
      "execution_count": null,
      "id": "03fb0795",
      "metadata": {
        "id": "03fb0795"
      },
      "outputs": [],
      "source": [
        "# Generate the profile report\n",
        "report = ProfileReport(data)\n",
        "\n",
        "# Save the report to a file\n",
        "report.to_file(\"data_profile_report.html\")\n",
        "\n",
        "# Alternatively, you can also display the report directly\n",
        "report.to_notebook_iframe()"
      ]
    },
    {
      "cell_type": "markdown",
      "source": [
        "Since 20.4% of the data is duplicates, lets have them removed."
      ],
      "metadata": {
        "id": "_aIYm2a4adEh"
      },
      "id": "_aIYm2a4adEh"
    },
    {
      "cell_type": "code",
      "source": [
        "data.duplicated().sum()"
      ],
      "metadata": {
        "id": "ESD9STM4aaVf"
      },
      "id": "ESD9STM4aaVf",
      "execution_count": null,
      "outputs": []
    },
    {
      "cell_type": "code",
      "source": [
        "data=data.drop_duplicates()"
      ],
      "metadata": {
        "id": "HPV_GQ4bbJFh"
      },
      "id": "HPV_GQ4bbJFh",
      "execution_count": null,
      "outputs": []
    },
    {
      "cell_type": "code",
      "source": [
        "data.duplicated().sum()"
      ],
      "metadata": {
        "id": "k1q6QM92bVzO"
      },
      "id": "k1q6QM92bVzO",
      "execution_count": null,
      "outputs": []
    },
    {
      "cell_type": "code",
      "source": [
        "data.shape"
      ],
      "metadata": {
        "id": "khVeKm2JbddG"
      },
      "id": "khVeKm2JbddG",
      "execution_count": null,
      "outputs": []
    },
    {
      "cell_type": "markdown",
      "id": "1e22d7ad",
      "metadata": {
        "id": "1e22d7ad"
      },
      "source": [
        "# Encoding"
      ]
    },
    {
      "cell_type": "markdown",
      "source": [
        "let's analyze each column in the provided data and suggest appropriate encoding techniques based on the nature of the data:\n",
        "\n",
        "1. **Gender**: This column has two categories ('Boy' and 'Girl'), which are nominal categories without any inherent order. One-hot encoding can be used to represent these categories as binary features ('Boy' -> 1, 'Girl' -> 0).\n",
        "\n",
        "2. **Age**: This column represents age ranges ('11-15', '16-20', '21-25'), which are ordinal categories with a meaningful order. Ordinal encoding can be used to map these categories to integer values ('11-15' -> 1, '16-20' -> 2, '21-25' -> 3).\n",
        "\n",
        "3. **Education Level**: This column represents educational levels ('University', 'College', 'School'), which are ordinal in nature.\n",
        "\n",
        "4. **Institution Type**: This column represents types of institutions ('Non Government', 'Government'), which are nominal categories without any inherent order. One-hot encoding can be used to represent these categories as binary features ('Non Government' -> 1, 'Government' -> 0).\n",
        "\n",
        "5. **IT Student, Location, Self Lms**: These columns represent binary attributes ('Yes' or 'No'). Label encoding can be used to map these categories to integers ('Yes' -> 1, 'No' -> 0) since there are only two categories.\n",
        "\n",
        "6. **Load-shedding, Financial Condition**: These columns represent ordinal categories ('Low', 'Mid', 'High' for 'Load-shedding'; 'Poor', 'Mid' for 'Financial Condition'). Ordinal encoding can be used to map these categories to integer values.\n",
        "\n",
        "7. **Internet Type**: This column represents nominal categories ('Wifi', 'Mobile Data'), which are suitable for one-hot encoding.\n",
        "\n",
        "8. **Network Type**: This column represents nominal categories ('4G', '3G'), which are suitable for one-hot encoding.\n",
        "\n",
        "9. **Class Duration**: This column represents ordinal categories ('0', '1-3', '3-6'). Ordinal encoding can be used to map these categories to integer values.\n",
        "\n",
        "10. **Device**: This column represents nominal categories ('Tab', 'Mobile'), which are suitable for one-hot encoding.\n",
        "\n",
        "11. **Adaptivity Level**: This column represents ordinal categories ('Moderate', 'Low'). Ordinal encoding can be used to map these categories to integer values.\n",
        "\n",
        "In summary:\n",
        "\n",
        "- One-hot encoding is suitable for nominal categorical variables without inherent order.\n",
        "- Ordinal encoding is suitable for ordinal categorical variables with a meaningful order.\n",
        "- Label encoding can be used for binary categorical variables with only two categories.\n",
        "\n",
        "After encoding, the data will be transformed into numerical format, which can be used as input to machine learning models.\n"
      ],
      "metadata": {
        "id": "8FDJMKdJgzB_"
      },
      "id": "8FDJMKdJgzB_"
    },
    {
      "cell_type": "code",
      "execution_count": null,
      "id": "4c5237a8",
      "metadata": {
        "id": "4c5237a8"
      },
      "outputs": [],
      "source": [
        "# One-hot encoding for nominal categorical variables\n",
        "encoded_data = pd.get_dummies(data, columns=['Gender', 'Institution Type',\n",
        "                                             'Internet Type', 'Network Type', 'Device'])"
      ]
    },
    {
      "cell_type": "code",
      "source": [
        "# Select the categorical columns for one-hot encoding\n",
        "one_hot_encoded_cols = data[['Gender', 'Institution Type', 'Internet Type', 'Network Type', 'Device']]\n",
        "\n",
        "# Initialize OneHotEncoder\n",
        "encoder = OneHotEncoder(sparse_output=False)\n",
        "\n",
        "# Apply one-hot encoding to the categorical columns\n",
        "one_hot_encoded = encoder.fit_transform(one_hot_encoded_cols)\n",
        "\n",
        "# Convert the one-hot encoded result to a DataFrame\n",
        "one_hot_encoded_df = pd.DataFrame(one_hot_encoded, columns=encoder.get_feature_names_out(one_hot_encoded_cols.columns))\n",
        "\n",
        "# Remove the original categorical columns from the original DataFrame\n",
        "data.drop(columns=one_hot_encoded_cols.columns, inplace=True)\n",
        "\n",
        "# Concatenate the one-hot encoded DataFrame with the original DataFrame\n",
        "data = pd.concat([data, one_hot_encoded_df], axis=1)"
      ],
      "metadata": {
        "id": "KacJAu5Bndsv"
      },
      "id": "KacJAu5Bndsv",
      "execution_count": null,
      "outputs": []
    },
    {
      "cell_type": "code",
      "execution_count": null,
      "id": "8bdd3a49",
      "metadata": {
        "id": "8bdd3a49"
      },
      "outputs": [],
      "source": [
        "# Ordinal encoding for ordinal categorical variables\n",
        "ordinal_mapping = {\n",
        "    'Age': {'1-5':1,'6-10':2, '11-15': 3, '16-20': 4, '21-25': 5, '26-30':6},\n",
        "    'Education Level':{'School':1 ,'College':2 ,'University':3 },\n",
        "    'Load-shedding': {'Low': 1, 'Mid': 2, 'High': 3},\n",
        "    'Financial Condition': {'Poor': 1, 'Mid': 2, 'Rich':3},\n",
        "    'Class Duration': {'0': 1, '1-3': 2, '3-6': 3},\n",
        "    'Adaptivity Level': {'Low': 1, 'Moderate': 2, 'High':3}\n",
        "\n",
        "}\n",
        "for column, mapping in ordinal_mapping.items():\n",
        "    data[column] = data[column].map(mapping)\n"
      ]
    },
    {
      "cell_type": "code",
      "execution_count": null,
      "id": "e51b696d",
      "metadata": {
        "id": "e51b696d"
      },
      "outputs": [],
      "source": [
        "# Label encoding for binary categorical variables\n",
        "binary_mapping = {'Yes': 1, 'No': 0}\n",
        "for column in ['IT Student', 'Location', 'Self Lms']:\n",
        "    data[column] = data[column].map(binary_mapping)\n"
      ]
    },
    {
      "cell_type": "code",
      "source": [
        "data.head()"
      ],
      "metadata": {
        "id": "16dRdt6_lVsA"
      },
      "id": "16dRdt6_lVsA",
      "execution_count": null,
      "outputs": []
    },
    {
      "cell_type": "markdown",
      "id": "9aaedcc3",
      "metadata": {
        "id": "9aaedcc3"
      },
      "source": [
        "### Check distribution"
      ]
    },
    {
      "cell_type": "code",
      "source": [
        "from scipy import stats\n",
        "from scipy.stats import zscore"
      ],
      "metadata": {
        "id": "E4oo5Ax1sPBm"
      },
      "id": "E4oo5Ax1sPBm",
      "execution_count": null,
      "outputs": []
    },
    {
      "cell_type": "code",
      "execution_count": null,
      "id": "b15f59fb",
      "metadata": {
        "id": "b15f59fb"
      },
      "outputs": [],
      "source": [
        "plt.figure(figsize=(15, 10))\n",
        "\n",
        "# Iterate through each channel and plot on a separate subplot\n",
        "for i, column in enumerate(data.columns):\n",
        "    plt.subplot(7, 3, i+1)\n",
        "    sns.histplot(data[column], kde=True)\n",
        "    plt.title(f'Distribution of {column}')\n",
        "    plt.xticks(rotation=45)\n",
        "\n",
        "# Adjust layout and show the plot\n",
        "plt.tight_layout()\n",
        "plt.show()"
      ]
    },
    {
      "cell_type": "code",
      "source": [
        "plt.figure(figsize=(15, 10))\n",
        "\n",
        "# Iterate through each column and plot on a separate subplot\n",
        "for i, column in enumerate(data.columns):\n",
        "    plt.subplot(7, 3, i+1)\n",
        "    sns.histplot(data[column], kde=True)\n",
        "    plt.title(f'Distribution of {column}')\n",
        "    plt.xticks(rotation=45)\n",
        "\n",
        "    # Check for skewness\n",
        "    skewness = stats.skew(data[column])\n",
        "    if skewness < -1 or skewness > 1:\n",
        "        plt.text(0.5, 0.3, f\"Skewed ({skewness:.2f})\", horizontalalignment='center', verticalalignment='center', transform=plt.gca().transAxes)\n",
        "    else:\n",
        "        plt.text(0.5, 0.3, f\"Not Skewed\", horizontalalignment='center', verticalalignment='center', transform=plt.gca().transAxes)\n",
        "\n",
        "# Adjust layout and show the plot\n",
        "plt.tight_layout()\n",
        "plt.show()"
      ],
      "metadata": {
        "id": "kAEqu3VHsGmu"
      },
      "id": "kAEqu3VHsGmu",
      "execution_count": null,
      "outputs": []
    },
    {
      "cell_type": "code",
      "source": [
        "plt.figure(figsize=(15, 10))\n",
        "\n",
        "# Iterate through each column and plot on a separate subplot\n",
        "for i, column in enumerate(data.columns):\n",
        "    plt.subplot(7, 3, i+1)\n",
        "    sns.histplot(data[column], kde=True)\n",
        "    plt.title(f'Distribution of {column}')\n",
        "    plt.xticks(rotation=45)\n",
        "\n",
        "    # Add additional analysis to detect distribution type\n",
        "    # Check for uniform distribution\n",
        "    min_val = data[column].min()\n",
        "    max_val = data[column].max()\n",
        "    if max_val - min_val < 1e-6:\n",
        "        plt.text(0.5, 0.4, \"Uniform\", horizontalalignment='center', verticalalignment='center', transform=plt.gca().transAxes)\n",
        "    else:\n",
        "        plt.text(0.5, 0.4, \"Not Uniform\", horizontalalignment='center', verticalalignment='center', transform=plt.gca().transAxes)\n",
        "\n",
        "\n",
        "# Adjust layout and show the plot\n",
        "plt.tight_layout()\n",
        "plt.show()"
      ],
      "metadata": {
        "id": "c80zexHuse8t"
      },
      "id": "c80zexHuse8t",
      "execution_count": null,
      "outputs": []
    },
    {
      "cell_type": "markdown",
      "id": "74abaa76",
      "metadata": {
        "id": "74abaa76"
      },
      "source": [
        "# Machine Learning Algorithms"
      ]
    },
    {
      "cell_type": "markdown",
      "id": "79dfaf87",
      "metadata": {
        "id": "79dfaf87"
      },
      "source": [
        "Use KNN and Decision tree and find which one is working better."
      ]
    },
    {
      "cell_type": "markdown",
      "id": "60e54425",
      "metadata": {
        "id": "60e54425"
      },
      "source": [
        "### Define X and Y"
      ]
    },
    {
      "cell_type": "code",
      "execution_count": null,
      "id": "6f43ced6",
      "metadata": {
        "id": "6f43ced6"
      },
      "outputs": [],
      "source": [
        "X = data.drop( 'Adaptivity Level', axis=1)\n",
        "y = data[ 'Adaptivity Level']"
      ]
    },
    {
      "cell_type": "markdown",
      "id": "dc801cb2",
      "metadata": {
        "id": "dc801cb2"
      },
      "source": [
        "### Feature Scaling"
      ]
    },
    {
      "cell_type": "code",
      "execution_count": null,
      "id": "075a0b6b",
      "metadata": {
        "id": "075a0b6b"
      },
      "outputs": [],
      "source": [
        "from sklearn.preprocessing import StandardScaler, MinMaxScaler"
      ]
    },
    {
      "cell_type": "code",
      "source": [
        "# Normalize the features\n",
        "min_max_scaler = MinMaxScaler()"
      ],
      "metadata": {
        "id": "zRYbt23vs8Gv"
      },
      "id": "zRYbt23vs8Gv",
      "execution_count": null,
      "outputs": []
    },
    {
      "cell_type": "code",
      "source": [
        "min_max_scaler.fit(X)"
      ],
      "metadata": {
        "id": "qm53j0Ues9uW"
      },
      "id": "qm53j0Ues9uW",
      "execution_count": null,
      "outputs": []
    },
    {
      "cell_type": "code",
      "source": [
        "scaled_features = min_max_scaler.transform(X)"
      ],
      "metadata": {
        "id": "V3i4m3XEs9xs"
      },
      "id": "V3i4m3XEs9xs",
      "execution_count": null,
      "outputs": []
    },
    {
      "cell_type": "code",
      "source": [
        "scaled_features"
      ],
      "metadata": {
        "id": "nHsag3w8tIn_"
      },
      "id": "nHsag3w8tIn_",
      "execution_count": null,
      "outputs": []
    },
    {
      "cell_type": "code",
      "source": [
        "df_feat = pd.DataFrame(scaled_features,columns=data.columns[:-1])\n",
        "df_feat.head()"
      ],
      "metadata": {
        "id": "Vgjy9s0vwBO2"
      },
      "id": "Vgjy9s0vwBO2",
      "execution_count": null,
      "outputs": []
    },
    {
      "cell_type": "markdown",
      "id": "3bf45690",
      "metadata": {
        "id": "3bf45690"
      },
      "source": [
        "### Train Test Split"
      ]
    },
    {
      "cell_type": "code",
      "execution_count": null,
      "id": "0f08bdf8",
      "metadata": {
        "id": "0f08bdf8"
      },
      "outputs": [],
      "source": [
        "from sklearn.model_selection import train_test_split"
      ]
    },
    {
      "cell_type": "code",
      "execution_count": null,
      "id": "f0c1c08e",
      "metadata": {
        "id": "f0c1c08e"
      },
      "outputs": [],
      "source": [
        "X_train, X_test, y_train, y_test = train_test_split(scaled_features,  y,  test_size=0.30)"
      ]
    },
    {
      "cell_type": "markdown",
      "id": "be023597",
      "metadata": {
        "id": "be023597"
      },
      "source": [
        "# KNN"
      ]
    },
    {
      "cell_type": "code",
      "execution_count": null,
      "id": "e0b3da41",
      "metadata": {
        "id": "e0b3da41"
      },
      "outputs": [],
      "source": [
        "from sklearn.neighbors import KNeighborsClassifier"
      ]
    },
    {
      "cell_type": "code",
      "source": [
        "from sklearn.metrics import classification_report,confusion_matrix"
      ],
      "metadata": {
        "id": "6mWn2hA1xEX_"
      },
      "id": "6mWn2hA1xEX_",
      "execution_count": null,
      "outputs": []
    },
    {
      "cell_type": "code",
      "source": [
        "import numpy as np\n",
        "import matplotlib.pyplot as plt\n",
        "from sklearn.impute import SimpleImputer\n",
        "from sklearn.neighbors import KNeighborsClassifier\n",
        "from sklearn.model_selection import train_test_split\n",
        "\n",
        "# Assuming X and y are your features and target variables\n",
        "# Handle missing values in the features and target variable before splitting\n",
        "# Create an imputer object with a strategy to fill missing values\n",
        "imputer = SimpleImputer(strategy='mean')\n",
        "\n",
        "# Fit the imputer on the entire dataset and transform it\n",
        "X = imputer.fit_transform(X)\n",
        "\n",
        "# Drop rows with missing target values\n",
        "mask = ~np.isnan(y)\n",
        "X = X[mask]\n",
        "y = y[mask]\n",
        "\n",
        "# Split the data into training and testing sets\n",
        "X_train, X_test, y_train, y_test = train_test_split(X, y, test_size=0.3, random_state=42)\n",
        "\n",
        "# Initialize an empty list to store error rates\n",
        "error_rate = []\n",
        "\n",
        "# Loop through different values of k to find the optimal k\n",
        "for i in range(1, 40):\n",
        "    knn = KNeighborsClassifier(n_neighbors=i)\n",
        "    knn.fit(X_train, y_train)\n",
        "    pred_i = knn.predict(X_test)\n",
        "    error_rate.append(np.mean(pred_i != y_test))\n",
        "\n",
        "# Plot the error rates\n",
        "plt.figure(figsize=(10, 6))\n",
        "plt.plot(range(1, 40), error_rate, color='blue', linestyle='dashed', marker='o', markerfacecolor='red', markersize=10)\n",
        "plt.title('Error Rate vs. K Value')\n",
        "plt.xlabel('K')\n",
        "plt.ylabel('Error Rate')\n",
        "plt.show()\n",
        "\n",
        "# Print the minimum error rate and the corresponding k value\n",
        "print(\"Minimum error:\", min(error_rate), \"at K =\", error_rate.index(min(error_rate)) + 1)"
      ],
      "metadata": {
        "id": "uwv0RuKmm6Fw"
      },
      "id": "uwv0RuKmm6Fw",
      "execution_count": null,
      "outputs": []
    },
    {
      "cell_type": "code",
      "source": [
        "acc = []\n",
        "# Will take some time\n",
        "from sklearn import metrics\n",
        "for i in range(1,40):\n",
        "    neigh = KNeighborsClassifier(n_neighbors = i).fit(X_train,y_train)\n",
        "    yhat = neigh.predict(X_test)\n",
        "    acc.append(metrics.accuracy_score(y_test, yhat))\n",
        "\n",
        "plt.figure(figsize=(10,6))\n",
        "plt.plot(range(1,40),acc,color = 'blue',linestyle='dashed',\n",
        "         marker='o',markerfacecolor='red', markersize=10)\n",
        "plt.title('accuracy vs. K Value')\n",
        "plt.xlabel('K')\n",
        "plt.ylabel('Accuracy')\n",
        "print(\"Maximum accuracy:\",max(acc),\"at K =\",acc.index(max(acc)))"
      ],
      "metadata": {
        "id": "AGHCOkhKwz8f"
      },
      "id": "AGHCOkhKwz8f",
      "execution_count": null,
      "outputs": []
    },
    {
      "cell_type": "code",
      "execution_count": null,
      "id": "bcb33db3",
      "metadata": {
        "id": "bcb33db3"
      },
      "outputs": [],
      "source": [
        "knn = KNeighborsClassifier(n_neighbors=3)"
      ]
    },
    {
      "cell_type": "code",
      "execution_count": null,
      "id": "e94fb237",
      "metadata": {
        "id": "e94fb237"
      },
      "outputs": [],
      "source": [
        "knn.fit(X_train,y_train)"
      ]
    },
    {
      "cell_type": "code",
      "execution_count": null,
      "id": "772f42c1",
      "metadata": {
        "id": "772f42c1"
      },
      "outputs": [],
      "source": [
        "pred = knn.predict(X_test)"
      ]
    },
    {
      "cell_type": "code",
      "execution_count": null,
      "id": "726872b9",
      "metadata": {
        "id": "726872b9"
      },
      "outputs": [],
      "source": [
        "#Training Accuracy\n",
        "print(knn.score(X_train, y_train))"
      ]
    },
    {
      "cell_type": "code",
      "execution_count": null,
      "id": "d56a53ff",
      "metadata": {
        "id": "d56a53ff"
      },
      "outputs": [],
      "source": [
        "#Testing Accuracy\n",
        "print(knn.score(X_test, y_test))"
      ]
    },
    {
      "cell_type": "code",
      "execution_count": null,
      "id": "11319f63",
      "metadata": {
        "id": "11319f63"
      },
      "outputs": [],
      "source": [
        "print(classification_report(y_test,pred))"
      ]
    },
    {
      "cell_type": "code",
      "execution_count": null,
      "id": "9c9b5341",
      "metadata": {
        "id": "9c9b5341"
      },
      "outputs": [],
      "source": [
        "print(confusion_matrix(y_test,pred))"
      ]
    },
    {
      "cell_type": "code",
      "execution_count": null,
      "id": "e8112875",
      "metadata": {
        "id": "e8112875"
      },
      "outputs": [],
      "source": [
        "ax= plt.subplot()\n",
        "sns.heatmap(confusion_matrix(y_test,pred), annot=True, ax = ax, fmt = 'g');\n",
        "ax.set_title('Confusion Matrix', fontsize=20)\n",
        "\n",
        "ax.xaxis.set_ticklabels(['Low', 'Moderate', 'High'], fontsize = 12)\n",
        "ax.xaxis.tick_top()\n",
        "\n",
        "ax.yaxis.set_ticklabels(['Low', 'Moderate', 'High'], fontsize = 12)\n",
        "plt.show()"
      ]
    },
    {
      "cell_type": "markdown",
      "id": "e227c792",
      "metadata": {
        "id": "e227c792"
      },
      "source": [
        "#### Check different distance metric"
      ]
    },
    {
      "cell_type": "markdown",
      "id": "dbc15208",
      "metadata": {
        "id": "dbc15208"
      },
      "source": [
        "**Euclidean**"
      ]
    },
    {
      "cell_type": "code",
      "execution_count": null,
      "id": "7b657d76",
      "metadata": {
        "id": "7b657d76"
      },
      "outputs": [],
      "source": [
        "knn_euclidean = KNeighborsClassifier(n_neighbors=3, metric='euclidean')"
      ]
    },
    {
      "cell_type": "code",
      "source": [
        "knn_euclidean.fit(X_train,y_train)"
      ],
      "metadata": {
        "id": "Zebn5Zvtym2f"
      },
      "id": "Zebn5Zvtym2f",
      "execution_count": null,
      "outputs": []
    },
    {
      "cell_type": "code",
      "source": [
        "pred = knn_euclidean.predict(X_test)"
      ],
      "metadata": {
        "id": "vSJIcxmHyxtA"
      },
      "id": "vSJIcxmHyxtA",
      "execution_count": null,
      "outputs": []
    },
    {
      "cell_type": "code",
      "source": [
        "#Training Accuracy\n",
        "print(knn_euclidean.score(X_train, y_train))"
      ],
      "metadata": {
        "id": "VHXFfo_Jyxz8"
      },
      "id": "VHXFfo_Jyxz8",
      "execution_count": null,
      "outputs": []
    },
    {
      "cell_type": "code",
      "source": [
        "#Testing Accuracy\n",
        "print(knn_euclidean.score(X_test, y_test))"
      ],
      "metadata": {
        "id": "6aU0fXv3yx2_"
      },
      "id": "6aU0fXv3yx2_",
      "execution_count": null,
      "outputs": []
    },
    {
      "cell_type": "code",
      "source": [
        "print('Classification report for Euclidean:')\n",
        "print(classification_report(y_test,pred, digits=4))"
      ],
      "metadata": {
        "id": "2p6U8PLoy91u"
      },
      "id": "2p6U8PLoy91u",
      "execution_count": null,
      "outputs": []
    },
    {
      "cell_type": "code",
      "source": [
        "print(confusion_matrix(y_test,pred))"
      ],
      "metadata": {
        "id": "u3IggdnFy98Y"
      },
      "id": "u3IggdnFy98Y",
      "execution_count": null,
      "outputs": []
    },
    {
      "cell_type": "code",
      "source": [
        "ax= plt.subplot()\n",
        "sns.heatmap(confusion_matrix(y_test,pred), annot=True, ax = ax, fmt = 'g');\n",
        "ax.set_title('Confusion Matrix', fontsize=20)\n",
        "\n",
        "ax.xaxis.set_ticklabels(['Low', 'Moderate', 'High'], fontsize = 12)\n",
        "ax.xaxis.tick_top()\n",
        "\n",
        "ax.yaxis.set_ticklabels(['Low', 'Moderate', 'High'], fontsize = 12)\n",
        "plt.show()"
      ],
      "metadata": {
        "id": "kvuEm0n2zDUI"
      },
      "id": "kvuEm0n2zDUI",
      "execution_count": null,
      "outputs": []
    },
    {
      "cell_type": "markdown",
      "id": "28e4b9ab",
      "metadata": {
        "id": "28e4b9ab"
      },
      "source": [
        "**Manhattan**"
      ]
    },
    {
      "cell_type": "code",
      "execution_count": null,
      "id": "615cdc5a",
      "metadata": {
        "id": "615cdc5a"
      },
      "outputs": [],
      "source": [
        "knn_manhattan = KNeighborsClassifier(n_neighbors=3, metric='manhattan')"
      ]
    },
    {
      "cell_type": "code",
      "execution_count": null,
      "id": "6897ec51",
      "metadata": {
        "id": "6897ec51"
      },
      "outputs": [],
      "source": [
        "knn_manhattan.fit(X_train,y_train)"
      ]
    },
    {
      "cell_type": "code",
      "source": [
        "pred = knn_manhattan.predict(X_test)"
      ],
      "metadata": {
        "id": "yQR1olzazjnc"
      },
      "id": "yQR1olzazjnc",
      "execution_count": null,
      "outputs": []
    },
    {
      "cell_type": "code",
      "source": [
        "#Training Accuracy\n",
        "print(knn_manhattan.score(X_train, y_train))"
      ],
      "metadata": {
        "id": "PckRxxbqzjq4"
      },
      "id": "PckRxxbqzjq4",
      "execution_count": null,
      "outputs": []
    },
    {
      "cell_type": "code",
      "source": [
        "#Testing Accuracy\n",
        "print(knn_manhattan.score(X_test, y_test))"
      ],
      "metadata": {
        "id": "4Oep2luEzjtx"
      },
      "id": "4Oep2luEzjtx",
      "execution_count": null,
      "outputs": []
    },
    {
      "cell_type": "code",
      "source": [
        "print('Classification report for Manhattan:')\n",
        "print(classification_report(y_test,pred, digits=4))"
      ],
      "metadata": {
        "id": "qqU4O276z4yH"
      },
      "id": "qqU4O276z4yH",
      "execution_count": null,
      "outputs": []
    },
    {
      "cell_type": "code",
      "source": [
        "print(confusion_matrix(y_test,pred))"
      ],
      "metadata": {
        "id": "6ADGGhylz46-"
      },
      "id": "6ADGGhylz46-",
      "execution_count": null,
      "outputs": []
    },
    {
      "cell_type": "code",
      "source": [
        "ax= plt.subplot()\n",
        "sns.heatmap(confusion_matrix(y_test,pred), annot=True, ax = ax, fmt = 'g');\n",
        "ax.set_title('Confusion Matrix', fontsize=20)\n",
        "\n",
        "ax.xaxis.set_ticklabels(['Low', 'Moderate', 'High'], fontsize = 12)\n",
        "ax.xaxis.tick_top()\n",
        "\n",
        "ax.yaxis.set_ticklabels(['Low', 'Moderate', 'High'], fontsize = 12)\n",
        "plt.show()"
      ],
      "metadata": {
        "id": "jXZsRb9Xz9x5"
      },
      "id": "jXZsRb9Xz9x5",
      "execution_count": null,
      "outputs": []
    },
    {
      "cell_type": "markdown",
      "source": [
        "The classification reports for the models using Manhattan and Euclidean distances show similar performance metrics, with slight differences in precision, recall, and F1-score for some classes.\n",
        "\n",
        "- **Precision**: Precision measures the proportion of true positive predictions among all positive predictions made by the classifier. In both reports, precision is highest for Class 1, followed by Class 2, and lowest for Class 3. Precision values for both models are close but vary slightly.\n",
        "\n",
        "- **Recall**: Recall measures the proportion of true positive predictions among all actual positive instances in the dataset. Like precision, recall is highest for Class 1 in both reports, followed by Class 2 and then Class 3. Recall values are similar between the two models but show slight differences.\n",
        "\n",
        "- **F1-score**: The F1-score is the harmonic mean of precision and recall, providing a balance between the two metrics. F1-scores for both models are highest for Class 2, followed by Class 1 and then Class 3. Like precision and recall, F1-scores are close between the two models but exhibit slight differences.\n",
        "\n",
        "- **Accuracy**: The accuracy for both models is similar, with Manhattan achieving an accuracy of 0.8149 and Euclidean achieving an accuracy of 0.8122.\n",
        "\n",
        "Overall, both models show comparable performance, with Manhattan having slightly higher precision and F1-score for some classes, while Euclidean has slightly higher recall for some classes. The choice between the two distance metrics may depend on other factors such as computational efficiency or interpretability."
      ],
      "metadata": {
        "id": "LOvZgRjN1IbX"
      },
      "id": "LOvZgRjN1IbX"
    },
    {
      "cell_type": "markdown",
      "id": "7e1ed2e8",
      "metadata": {
        "id": "7e1ed2e8"
      },
      "source": [
        "# Decision Tree\n",
        "\n",
        "**Using Entropy**"
      ]
    },
    {
      "cell_type": "code",
      "source": [
        "from sklearn.tree import DecisionTreeClassifier\n",
        "from sklearn.metrics import accuracy_score\n",
        "from sklearn.model_selection import train_test_split"
      ],
      "metadata": {
        "id": "r18h_9wg2A7w"
      },
      "id": "r18h_9wg2A7w",
      "execution_count": null,
      "outputs": []
    },
    {
      "cell_type": "code",
      "execution_count": null,
      "id": "8c4106c3",
      "metadata": {
        "id": "8c4106c3"
      },
      "outputs": [],
      "source": [
        "# Initializing and training the Decision Tree Classifier with Gini impurity\n",
        "dt_gini = DecisionTreeClassifier(criterion='gini', random_state=42)\n",
        "dt_gini.fit(X_train, y_train)"
      ]
    },
    {
      "cell_type": "code",
      "execution_count": null,
      "id": "d123ca6d",
      "metadata": {
        "id": "d123ca6d"
      },
      "outputs": [],
      "source": [
        "# Making predictions and evaluating the models\n",
        "y_pred_gini = dt_gini.predict(X_test)\n",
        "\n",
        "accuracy_gini = accuracy_score(y_test, y_pred_gini)\n",
        "\n",
        "accuracy_gini"
      ]
    },
    {
      "cell_type": "markdown",
      "id": "66dbf093",
      "metadata": {
        "id": "66dbf093"
      },
      "source": [
        "**Use Gini Index**"
      ]
    },
    {
      "cell_type": "code",
      "execution_count": null,
      "id": "53b2a6e1",
      "metadata": {
        "id": "53b2a6e1"
      },
      "outputs": [],
      "source": [
        "# Initializing and training the Decision Tree Classifier with Information Gain (Entropy)\n",
        "dt_entropy = DecisionTreeClassifier(criterion='entropy', random_state=42)\n",
        "dt_entropy.fit(X_train, y_train)"
      ]
    },
    {
      "cell_type": "code",
      "execution_count": null,
      "id": "9133a5e9",
      "metadata": {
        "id": "9133a5e9"
      },
      "outputs": [],
      "source": [
        "# Making predictions and evaluating the models\n",
        "y_pred_entropy = dt_entropy.predict(X_test)\n",
        "\n",
        "accuracy_entropy = accuracy_score(y_test, y_pred_entropy)\n",
        "\n",
        "accuracy_entropy"
      ]
    },
    {
      "cell_type": "code",
      "execution_count": null,
      "id": "e40cacda",
      "metadata": {
        "id": "e40cacda"
      },
      "outputs": [],
      "source": [
        "from sklearn.metrics import confusion_matrix, precision_score, recall_score, f1_score, roc_auc_score, roc_curve\n",
        "\n",
        "# Assuming y_test, y_pred_gini, and y_pred_entropy are already defined from your model predictions\n",
        "\n",
        "# Evaluation metrics for Gini model\n",
        "confusion_gini = confusion_matrix(y_test, y_pred_gini)\n",
        "precision_gini = precision_score(y_test, y_pred_gini, average='weighted')\n",
        "recall_gini = recall_score(y_test, y_pred_gini, average='weighted')\n",
        "f1_score_gini = f1_score(y_test, y_pred_gini, average='weighted')\n",
        "\n",
        "# Printing the evaluation metrics\n",
        "print(\"Gini Model Evaluation Metrics:\")\n",
        "print(\"Confusion Matrix:\\n\", confusion_gini)\n",
        "print(\"Precision: {:.2f}\".format(precision_gini))\n",
        "print(\"Recall: {:.2f}\".format(recall_gini))\n",
        "print(\"F1 Score: {:.2f}\".format(f1_score_gini))\n",
        "\n"
      ]
    },
    {
      "cell_type": "code",
      "source": [
        "ax= plt.subplot()\n",
        "sns.heatmap(confusion_matrix(y_test, y_pred_gini), annot=True, ax = ax, fmt = 'g');\n",
        "ax.set_title('Confusion Matrix', fontsize=20)\n",
        "\n",
        "ax.xaxis.set_ticklabels(['Low', 'Moderate', 'High'], fontsize = 12)\n",
        "ax.xaxis.tick_top()\n",
        "\n",
        "ax.yaxis.set_ticklabels(['Low', 'Moderate', 'High'], fontsize = 12)\n",
        "plt.show()\n"
      ],
      "metadata": {
        "id": "4KayItrb9gH5"
      },
      "id": "4KayItrb9gH5",
      "execution_count": null,
      "outputs": []
    },
    {
      "cell_type": "code",
      "source": [
        "# Evaluation metrics for Entropy model\n",
        "confusion_entropy = confusion_matrix(y_test, y_pred_entropy)\n",
        "precision_entropy = precision_score(y_test, y_pred_entropy, average='weighted')\n",
        "recall_entropy = recall_score(y_test, y_pred_entropy, average='weighted')\n",
        "f1_score_entropy = f1_score(y_test, y_pred_entropy, average='weighted')\n",
        "\n",
        "# Printing the evaluation metrics\n",
        "print(\"\\nEntropy Model Evaluation Metrics:\")\n",
        "print(\"Confusion Matrix:\\n\", confusion_entropy)\n",
        "print(\"Precision: {:.2f}\".format(precision_entropy))\n",
        "print(\"Recall: {:.2f}\".format(recall_entropy))\n",
        "print(\"F1 Score: {:.2f}\".format(f1_score_entropy))\n"
      ],
      "metadata": {
        "id": "cWgUnKRA9QdT"
      },
      "id": "cWgUnKRA9QdT",
      "execution_count": null,
      "outputs": []
    },
    {
      "cell_type": "code",
      "source": [
        "ax= plt.subplot()\n",
        "sns.heatmap(confusion_matrix(y_test, y_pred_entropy), annot=True, ax = ax, fmt = 'g');\n",
        "ax.set_title('Confusion Matrix', fontsize=20)\n",
        "\n",
        "ax.xaxis.set_ticklabels(['Low', 'Moderate', 'High'], fontsize = 12)\n",
        "ax.xaxis.tick_top()\n",
        "\n",
        "ax.yaxis.set_ticklabels(['Low', 'Moderate', 'High'], fontsize = 12)\n",
        "plt.show()"
      ],
      "metadata": {
        "id": "SxCm4F6Y9pCB"
      },
      "id": "SxCm4F6Y9pCB",
      "execution_count": null,
      "outputs": []
    },
    {
      "cell_type": "code",
      "source": [
        "from sklearn.tree import DecisionTreeClassifier\n",
        "import matplotlib.pyplot as plt\n",
        "import pandas as pd\n",
        "\n",
        "# Assuming you have a dataset 'df_encoded' and target variable 'y'\n",
        "\n",
        "# Train a Decision Tree Model\n",
        "dt_model = DecisionTreeClassifier(random_state=42)\n",
        "dt_model.fit(X, y)\n",
        "\n",
        "# Get Feature Importances\n",
        "importances = dt_model.feature_importances_\n",
        "\n",
        "# Convert to a DataFrame\n",
        "feature_importances = pd.DataFrame({'feature': X.columns, 'importance': importances})\n",
        "\n",
        "# Sort the DataFrame by importance\n",
        "feature_importances = feature_importances.sort_values(by='importance', ascending=False)\n",
        "\n",
        "# Visualize Feature Importances\n",
        "plt.figure(figsize=(12, 6))\n",
        "plt.bar(feature_importances['feature'], feature_importances['importance'])\n",
        "plt.xlabel('Features')\n",
        "plt.ylabel('Importance')\n",
        "plt.xticks(rotation=90)\n",
        "plt.title('Feature Importances')\n",
        "plt.show()"
      ],
      "metadata": {
        "id": "o9cakalVBycH"
      },
      "id": "o9cakalVBycH",
      "execution_count": null,
      "outputs": []
    },
    {
      "cell_type": "markdown",
      "source": [
        "Sure, here's a brief comparison of the Entropy and Gini models based on the provided evaluation metrics:\n",
        "\n",
        "### Entropy Model:\n",
        "- **Confusion Matrix**:\n",
        "  - Shows a balanced distribution of predictions across all classes, with some misclassifications.\n",
        "- **Precision**:\n",
        "  - High precision (0.89) indicates that the model makes relatively few false positive errors.\n",
        "- **Recall**:\n",
        "  - High recall (0.89) indicates that the model effectively captures most of the true positive instances.\n",
        "- **F1 Score**:\n",
        "  - The harmonic mean of precision and recall is high (0.89), suggesting a good balance between precision and recall.\n",
        "\n",
        "### Gini Model:\n",
        "- **Confusion Matrix**:\n",
        "  - Predicts all instances as belonging to class 1, resulting in no predictions for classes 2 and 3.\n",
        "- **Precision**:\n",
        "  - Low precision (0.14) indicates a high rate of false positive errors.\n",
        "- **Recall**:\n",
        "  - Recall is 1 for class 1 (due to all instances being predicted as class 1) and 0 for classes 2 and 3.\n",
        "- **F1 Score**:\n",
        "  - The F1-score (0.21) reflects poor overall performance due to the imbalance in predictions and lack of predictions for classes 2 and 3.\n",
        "\n",
        "### Comparison:\n",
        "- **Entropy Model**:\n",
        "  - Demonstrates balanced predictions across classes with relatively high precision, recall, and F1-score.\n",
        "  - Provides more reliable predictions across all classes, indicating better generalization.\n",
        "  \n",
        "- **Gini Model**:\n",
        "  - Predicts all instances as belonging to class 1, resulting in poor performance metrics.\n",
        "  - Appears to suffer from issues such as class imbalance or model misconfiguration.\n",
        "\n",
        "In summary, the Entropy model outperforms the Gini model in terms of making balanced predictions across classes and achieving higher precision, recall, and F1-score. The Gini model's poor performance may require further investigation into model architecture, parameter tuning, or dataset preprocessing to address underlying issues.\n"
      ],
      "metadata": {
        "id": "icJPmPQh-JHp"
      },
      "id": "icJPmPQh-JHp"
    },
    {
      "cell_type": "markdown",
      "source": [
        "The comparison you've provided offers a comprehensive analysis of both the KNN models using Manhattan and Euclidean distances and the decision tree models (Entropy and Gini). Here's a summary of the key points:\n",
        "\n",
        "### KNN Models (Manhattan and Euclidean):\n",
        "- **Similar Performance**: Both models show comparable performance metrics, including precision, recall, and F1-score.\n",
        "- **Precision, Recall, F1-score**: All metrics are highest for Class 2, followed by Class 1 and then Class 3. The differences in metrics between the two models are minor.\n",
        "- **Accuracy**: Both models achieve similar accuracy, with Manhattan slightly outperforming Euclidean.\n",
        "- **Overall Comparison**: Both models demonstrate balanced performance, with minor variations in precision, recall, and F1-score across classes. The choice between Manhattan and Euclidean distances may depend on factors such as computational efficiency or interpretability.\n",
        "\n",
        "### Decision Tree Models (Entropy and Gini):\n",
        "- **Entropy Model**:\n",
        "  - Balanced Predictions: Shows a balanced distribution of predictions across all classes.\n",
        "  - High Performance: Achieves high precision, recall, and F1-score, indicating reliable predictions across all classes.\n",
        "- **Gini Model**:\n",
        "  - Imbalanced Predictions: Predicts all instances as belonging to class 1, resulting in poor performance metrics.\n",
        "  - Poor Performance: Low precision, recall, and F1-score indicate issues such as class imbalance or model misconfiguration.\n",
        "\n",
        "### Overall Comparison:\n",
        "- **KNN vs. Decision Tree**:\n",
        "  - KNN models demonstrate balanced performance with minor variations, while the decision tree models show significant differences in performance between Entropy and Gini.\n",
        "  - Decision tree models (especially Entropy) outperform the KNN models in terms of reliability and overall performance.\n",
        "- **Improvement Areas**: The Gini model requires further investigation and potential improvements to address issues such as class imbalance or model misconfiguration.\n",
        "\n",
        "In summary, while both KNN and decision tree models show strengths and weaknesses, the decision tree models, particularly the one based on Entropy, exhibit more reliable and balanced performance across classes compared to the KNN models. Further investigation and potential enhancements are needed for the Gini model to improve its performance.\n",
        "\n",
        "Let me know if you need further clarification or assistance!"
      ],
      "metadata": {
        "id": "I5NP067uAlU4"
      },
      "id": "I5NP067uAlU4"
    },
    {
      "cell_type": "code",
      "source": [
        "import math\n",
        "\n",
        "def birthday_paradox(n):\n",
        "    days_in_year = 365\n",
        "    prob_no_shared_birthday = 1.0\n",
        "\n",
        "    for i in range(n):\n",
        "        prob_no_shared_birthday *= (days_in_year - i) / days_in_year\n",
        "\n",
        "    prob_shared_birthday = 1 - prob_no_shared_birthday\n",
        "    return prob_shared_birthday\n",
        "\n",
        "n_employees = 70\n",
        "probability = birthday_paradox(n_employees)\n",
        "print(f\"The probability that at least two employees out of {n_employees} have the same birthday is: {probability:.4f}\")"
      ],
      "metadata": {
        "colab": {
          "base_uri": "https://localhost:8080/"
        },
        "id": "fEtvSZ95YH0h",
        "outputId": "53054866-6cd9-4cb9-b2ac-5b81f4790091"
      },
      "id": "fEtvSZ95YH0h",
      "execution_count": 6,
      "outputs": [
        {
          "output_type": "stream",
          "name": "stdout",
          "text": [
            "The probability that at least two employees out of 70 have the same birthday is: 0.9992\n"
          ]
        }
      ]
    },
    {
      "cell_type": "code",
      "source": [],
      "metadata": {
        "id": "-oyiQ5WpYIWF"
      },
      "id": "-oyiQ5WpYIWF",
      "execution_count": null,
      "outputs": []
    }
  ],
  "metadata": {
    "kernelspec": {
      "display_name": "Python 3 (ipykernel)",
      "language": "python",
      "name": "python3"
    },
    "language_info": {
      "codemirror_mode": {
        "name": "ipython",
        "version": 3
      },
      "file_extension": ".py",
      "mimetype": "text/x-python",
      "name": "python",
      "nbconvert_exporter": "python",
      "pygments_lexer": "ipython3",
      "version": "3.11.5"
    },
    "colab": {
      "provenance": [],
      "include_colab_link": true
    }
  },
  "nbformat": 4,
  "nbformat_minor": 5
}