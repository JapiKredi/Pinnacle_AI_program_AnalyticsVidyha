{
  "cells": [
    {
      "cell_type": "markdown",
      "metadata": {
        "id": "view-in-github",
        "colab_type": "text"
      },
      "source": [
        "<a href=\"https://colab.research.google.com/github/JapiKredi/Pinnacle_AI_program_AnalyticsVidyha/blob/main/Pandas_Mean_Variance.ipynb\" target=\"_parent\"><img src=\"https://colab.research.google.com/assets/colab-badge.svg\" alt=\"Open In Colab\"/></a>"
      ]
    },
    {
      "cell_type": "code",
      "execution_count": 1,
      "metadata": {
        "id": "UtrBkZutQ_nz"
      },
      "outputs": [],
      "source": [
        "# importing libraries\n",
        "import pandas as pd\n",
        "import numpy as np\n",
        "import matplotlib.pyplot as plt"
      ]
    },
    {
      "cell_type": "markdown",
      "metadata": {
        "id": "R4sIRLghx7zk"
      },
      "source": [
        "### This is our dataset of Customer Churn Prediction."
      ]
    },
    {
      "cell_type": "code",
      "source": [
        "from google.colab import drive\n",
        "drive.mount('/content/drive')"
      ],
      "metadata": {
        "colab": {
          "base_uri": "https://localhost:8080/"
        },
        "id": "VVF0OXIG2f0m",
        "outputId": "44a63d28-630b-4c82-e947-8085b034cece"
      },
      "execution_count": 4,
      "outputs": [
        {
          "output_type": "stream",
          "name": "stdout",
          "text": [
            "Mounted at /content/drive\n"
          ]
        }
      ]
    },
    {
      "cell_type": "code",
      "execution_count": 5,
      "metadata": {
        "id": "BSs0Y24MQ_n6"
      },
      "outputs": [],
      "source": [
        "# importing data\n",
        "data = pd.read_csv('/content/drive/My Drive/Pandas_Mean_variance/churn_prediction.csv')"
      ]
    },
    {
      "cell_type": "code",
      "execution_count": 6,
      "metadata": {
        "colab": {
          "base_uri": "https://localhost:8080/",
          "height": 252
        },
        "id": "36nlgrybQ_n9",
        "outputId": "5575f06e-95f2-45bf-92ea-5b4af636cac3"
      },
      "outputs": [
        {
          "output_type": "execute_result",
          "data": {
            "text/plain": [
              "   customer_id  vintage  age gender  dependents     occupation    city  \\\n",
              "0            1     2101   66   Male         0.0  self_employed   187.0   \n",
              "1            2     2348   35   Male         0.0  self_employed     NaN   \n",
              "2            4     2194   31   Male         0.0       salaried   146.0   \n",
              "3            5     2329   90    NaN         NaN  self_employed  1020.0   \n",
              "4            6     1579   42   Male         2.0  self_employed  1494.0   \n",
              "\n",
              "   customer_nw_category  branch_code  current_balance  ...  \\\n",
              "0                     2          755          1458.71  ...   \n",
              "1                     2         3214          5390.37  ...   \n",
              "2                     2           41          3913.16  ...   \n",
              "3                     2          582          2291.91  ...   \n",
              "4                     3          388           927.72  ...   \n",
              "\n",
              "   average_monthly_balance_prevQ  average_monthly_balance_prevQ2  \\\n",
              "0                        1458.71                         1449.07   \n",
              "1                        7799.26                        12419.41   \n",
              "2                        4910.17                         2815.94   \n",
              "3                        2084.54                         1006.54   \n",
              "4                        1643.31                         1871.12   \n",
              "\n",
              "   current_month_credit  previous_month_credit  current_month_debit  \\\n",
              "0                  0.20                   0.20                 0.20   \n",
              "1                  0.56                   0.56              5486.27   \n",
              "2                  0.61                   0.61              6046.73   \n",
              "3                  0.47                   0.47                 0.47   \n",
              "4                  0.33                 714.61               588.62   \n",
              "\n",
              "   previous_month_debit  current_month_balance  previous_month_balance  churn  \\\n",
              "0                  0.20                1458.71                 1458.71      0   \n",
              "1                100.56                6496.78                 8787.61      0   \n",
              "2                259.23                5006.28                 5070.14      0   \n",
              "3               2143.33                2291.91                 1669.79      1   \n",
              "4               1538.06                1157.15                 1677.16      1   \n",
              "\n",
              "   last_transaction  \n",
              "0        2019-05-21  \n",
              "1        2019-11-01  \n",
              "2               NaT  \n",
              "3        2019-08-06  \n",
              "4        2019-11-03  \n",
              "\n",
              "[5 rows x 21 columns]"
            ],
            "text/html": [
              "\n",
              "  <div id=\"df-fa36bfb3-b894-4ef6-8a20-b6b3b789a71f\" class=\"colab-df-container\">\n",
              "    <div>\n",
              "<style scoped>\n",
              "    .dataframe tbody tr th:only-of-type {\n",
              "        vertical-align: middle;\n",
              "    }\n",
              "\n",
              "    .dataframe tbody tr th {\n",
              "        vertical-align: top;\n",
              "    }\n",
              "\n",
              "    .dataframe thead th {\n",
              "        text-align: right;\n",
              "    }\n",
              "</style>\n",
              "<table border=\"1\" class=\"dataframe\">\n",
              "  <thead>\n",
              "    <tr style=\"text-align: right;\">\n",
              "      <th></th>\n",
              "      <th>customer_id</th>\n",
              "      <th>vintage</th>\n",
              "      <th>age</th>\n",
              "      <th>gender</th>\n",
              "      <th>dependents</th>\n",
              "      <th>occupation</th>\n",
              "      <th>city</th>\n",
              "      <th>customer_nw_category</th>\n",
              "      <th>branch_code</th>\n",
              "      <th>current_balance</th>\n",
              "      <th>...</th>\n",
              "      <th>average_monthly_balance_prevQ</th>\n",
              "      <th>average_monthly_balance_prevQ2</th>\n",
              "      <th>current_month_credit</th>\n",
              "      <th>previous_month_credit</th>\n",
              "      <th>current_month_debit</th>\n",
              "      <th>previous_month_debit</th>\n",
              "      <th>current_month_balance</th>\n",
              "      <th>previous_month_balance</th>\n",
              "      <th>churn</th>\n",
              "      <th>last_transaction</th>\n",
              "    </tr>\n",
              "  </thead>\n",
              "  <tbody>\n",
              "    <tr>\n",
              "      <th>0</th>\n",
              "      <td>1</td>\n",
              "      <td>2101</td>\n",
              "      <td>66</td>\n",
              "      <td>Male</td>\n",
              "      <td>0.0</td>\n",
              "      <td>self_employed</td>\n",
              "      <td>187.0</td>\n",
              "      <td>2</td>\n",
              "      <td>755</td>\n",
              "      <td>1458.71</td>\n",
              "      <td>...</td>\n",
              "      <td>1458.71</td>\n",
              "      <td>1449.07</td>\n",
              "      <td>0.20</td>\n",
              "      <td>0.20</td>\n",
              "      <td>0.20</td>\n",
              "      <td>0.20</td>\n",
              "      <td>1458.71</td>\n",
              "      <td>1458.71</td>\n",
              "      <td>0</td>\n",
              "      <td>2019-05-21</td>\n",
              "    </tr>\n",
              "    <tr>\n",
              "      <th>1</th>\n",
              "      <td>2</td>\n",
              "      <td>2348</td>\n",
              "      <td>35</td>\n",
              "      <td>Male</td>\n",
              "      <td>0.0</td>\n",
              "      <td>self_employed</td>\n",
              "      <td>NaN</td>\n",
              "      <td>2</td>\n",
              "      <td>3214</td>\n",
              "      <td>5390.37</td>\n",
              "      <td>...</td>\n",
              "      <td>7799.26</td>\n",
              "      <td>12419.41</td>\n",
              "      <td>0.56</td>\n",
              "      <td>0.56</td>\n",
              "      <td>5486.27</td>\n",
              "      <td>100.56</td>\n",
              "      <td>6496.78</td>\n",
              "      <td>8787.61</td>\n",
              "      <td>0</td>\n",
              "      <td>2019-11-01</td>\n",
              "    </tr>\n",
              "    <tr>\n",
              "      <th>2</th>\n",
              "      <td>4</td>\n",
              "      <td>2194</td>\n",
              "      <td>31</td>\n",
              "      <td>Male</td>\n",
              "      <td>0.0</td>\n",
              "      <td>salaried</td>\n",
              "      <td>146.0</td>\n",
              "      <td>2</td>\n",
              "      <td>41</td>\n",
              "      <td>3913.16</td>\n",
              "      <td>...</td>\n",
              "      <td>4910.17</td>\n",
              "      <td>2815.94</td>\n",
              "      <td>0.61</td>\n",
              "      <td>0.61</td>\n",
              "      <td>6046.73</td>\n",
              "      <td>259.23</td>\n",
              "      <td>5006.28</td>\n",
              "      <td>5070.14</td>\n",
              "      <td>0</td>\n",
              "      <td>NaT</td>\n",
              "    </tr>\n",
              "    <tr>\n",
              "      <th>3</th>\n",
              "      <td>5</td>\n",
              "      <td>2329</td>\n",
              "      <td>90</td>\n",
              "      <td>NaN</td>\n",
              "      <td>NaN</td>\n",
              "      <td>self_employed</td>\n",
              "      <td>1020.0</td>\n",
              "      <td>2</td>\n",
              "      <td>582</td>\n",
              "      <td>2291.91</td>\n",
              "      <td>...</td>\n",
              "      <td>2084.54</td>\n",
              "      <td>1006.54</td>\n",
              "      <td>0.47</td>\n",
              "      <td>0.47</td>\n",
              "      <td>0.47</td>\n",
              "      <td>2143.33</td>\n",
              "      <td>2291.91</td>\n",
              "      <td>1669.79</td>\n",
              "      <td>1</td>\n",
              "      <td>2019-08-06</td>\n",
              "    </tr>\n",
              "    <tr>\n",
              "      <th>4</th>\n",
              "      <td>6</td>\n",
              "      <td>1579</td>\n",
              "      <td>42</td>\n",
              "      <td>Male</td>\n",
              "      <td>2.0</td>\n",
              "      <td>self_employed</td>\n",
              "      <td>1494.0</td>\n",
              "      <td>3</td>\n",
              "      <td>388</td>\n",
              "      <td>927.72</td>\n",
              "      <td>...</td>\n",
              "      <td>1643.31</td>\n",
              "      <td>1871.12</td>\n",
              "      <td>0.33</td>\n",
              "      <td>714.61</td>\n",
              "      <td>588.62</td>\n",
              "      <td>1538.06</td>\n",
              "      <td>1157.15</td>\n",
              "      <td>1677.16</td>\n",
              "      <td>1</td>\n",
              "      <td>2019-11-03</td>\n",
              "    </tr>\n",
              "  </tbody>\n",
              "</table>\n",
              "<p>5 rows × 21 columns</p>\n",
              "</div>\n",
              "    <div class=\"colab-df-buttons\">\n",
              "\n",
              "  <div class=\"colab-df-container\">\n",
              "    <button class=\"colab-df-convert\" onclick=\"convertToInteractive('df-fa36bfb3-b894-4ef6-8a20-b6b3b789a71f')\"\n",
              "            title=\"Convert this dataframe to an interactive table.\"\n",
              "            style=\"display:none;\">\n",
              "\n",
              "  <svg xmlns=\"http://www.w3.org/2000/svg\" height=\"24px\" viewBox=\"0 -960 960 960\">\n",
              "    <path d=\"M120-120v-720h720v720H120Zm60-500h600v-160H180v160Zm220 220h160v-160H400v160Zm0 220h160v-160H400v160ZM180-400h160v-160H180v160Zm440 0h160v-160H620v160ZM180-180h160v-160H180v160Zm440 0h160v-160H620v160Z\"/>\n",
              "  </svg>\n",
              "    </button>\n",
              "\n",
              "  <style>\n",
              "    .colab-df-container {\n",
              "      display:flex;\n",
              "      gap: 12px;\n",
              "    }\n",
              "\n",
              "    .colab-df-convert {\n",
              "      background-color: #E8F0FE;\n",
              "      border: none;\n",
              "      border-radius: 50%;\n",
              "      cursor: pointer;\n",
              "      display: none;\n",
              "      fill: #1967D2;\n",
              "      height: 32px;\n",
              "      padding: 0 0 0 0;\n",
              "      width: 32px;\n",
              "    }\n",
              "\n",
              "    .colab-df-convert:hover {\n",
              "      background-color: #E2EBFA;\n",
              "      box-shadow: 0px 1px 2px rgba(60, 64, 67, 0.3), 0px 1px 3px 1px rgba(60, 64, 67, 0.15);\n",
              "      fill: #174EA6;\n",
              "    }\n",
              "\n",
              "    .colab-df-buttons div {\n",
              "      margin-bottom: 4px;\n",
              "    }\n",
              "\n",
              "    [theme=dark] .colab-df-convert {\n",
              "      background-color: #3B4455;\n",
              "      fill: #D2E3FC;\n",
              "    }\n",
              "\n",
              "    [theme=dark] .colab-df-convert:hover {\n",
              "      background-color: #434B5C;\n",
              "      box-shadow: 0px 1px 3px 1px rgba(0, 0, 0, 0.15);\n",
              "      filter: drop-shadow(0px 1px 2px rgba(0, 0, 0, 0.3));\n",
              "      fill: #FFFFFF;\n",
              "    }\n",
              "  </style>\n",
              "\n",
              "    <script>\n",
              "      const buttonEl =\n",
              "        document.querySelector('#df-fa36bfb3-b894-4ef6-8a20-b6b3b789a71f button.colab-df-convert');\n",
              "      buttonEl.style.display =\n",
              "        google.colab.kernel.accessAllowed ? 'block' : 'none';\n",
              "\n",
              "      async function convertToInteractive(key) {\n",
              "        const element = document.querySelector('#df-fa36bfb3-b894-4ef6-8a20-b6b3b789a71f');\n",
              "        const dataTable =\n",
              "          await google.colab.kernel.invokeFunction('convertToInteractive',\n",
              "                                                    [key], {});\n",
              "        if (!dataTable) return;\n",
              "\n",
              "        const docLinkHtml = 'Like what you see? Visit the ' +\n",
              "          '<a target=\"_blank\" href=https://colab.research.google.com/notebooks/data_table.ipynb>data table notebook</a>'\n",
              "          + ' to learn more about interactive tables.';\n",
              "        element.innerHTML = '';\n",
              "        dataTable['output_type'] = 'display_data';\n",
              "        await google.colab.output.renderOutput(dataTable, element);\n",
              "        const docLink = document.createElement('div');\n",
              "        docLink.innerHTML = docLinkHtml;\n",
              "        element.appendChild(docLink);\n",
              "      }\n",
              "    </script>\n",
              "  </div>\n",
              "\n",
              "\n",
              "<div id=\"df-e709f2bf-aee1-4fa4-b4c4-8161276e5a3f\">\n",
              "  <button class=\"colab-df-quickchart\" onclick=\"quickchart('df-e709f2bf-aee1-4fa4-b4c4-8161276e5a3f')\"\n",
              "            title=\"Suggest charts\"\n",
              "            style=\"display:none;\">\n",
              "\n",
              "<svg xmlns=\"http://www.w3.org/2000/svg\" height=\"24px\"viewBox=\"0 0 24 24\"\n",
              "     width=\"24px\">\n",
              "    <g>\n",
              "        <path d=\"M19 3H5c-1.1 0-2 .9-2 2v14c0 1.1.9 2 2 2h14c1.1 0 2-.9 2-2V5c0-1.1-.9-2-2-2zM9 17H7v-7h2v7zm4 0h-2V7h2v10zm4 0h-2v-4h2v4z\"/>\n",
              "    </g>\n",
              "</svg>\n",
              "  </button>\n",
              "\n",
              "<style>\n",
              "  .colab-df-quickchart {\n",
              "      --bg-color: #E8F0FE;\n",
              "      --fill-color: #1967D2;\n",
              "      --hover-bg-color: #E2EBFA;\n",
              "      --hover-fill-color: #174EA6;\n",
              "      --disabled-fill-color: #AAA;\n",
              "      --disabled-bg-color: #DDD;\n",
              "  }\n",
              "\n",
              "  [theme=dark] .colab-df-quickchart {\n",
              "      --bg-color: #3B4455;\n",
              "      --fill-color: #D2E3FC;\n",
              "      --hover-bg-color: #434B5C;\n",
              "      --hover-fill-color: #FFFFFF;\n",
              "      --disabled-bg-color: #3B4455;\n",
              "      --disabled-fill-color: #666;\n",
              "  }\n",
              "\n",
              "  .colab-df-quickchart {\n",
              "    background-color: var(--bg-color);\n",
              "    border: none;\n",
              "    border-radius: 50%;\n",
              "    cursor: pointer;\n",
              "    display: none;\n",
              "    fill: var(--fill-color);\n",
              "    height: 32px;\n",
              "    padding: 0;\n",
              "    width: 32px;\n",
              "  }\n",
              "\n",
              "  .colab-df-quickchart:hover {\n",
              "    background-color: var(--hover-bg-color);\n",
              "    box-shadow: 0 1px 2px rgba(60, 64, 67, 0.3), 0 1px 3px 1px rgba(60, 64, 67, 0.15);\n",
              "    fill: var(--button-hover-fill-color);\n",
              "  }\n",
              "\n",
              "  .colab-df-quickchart-complete:disabled,\n",
              "  .colab-df-quickchart-complete:disabled:hover {\n",
              "    background-color: var(--disabled-bg-color);\n",
              "    fill: var(--disabled-fill-color);\n",
              "    box-shadow: none;\n",
              "  }\n",
              "\n",
              "  .colab-df-spinner {\n",
              "    border: 2px solid var(--fill-color);\n",
              "    border-color: transparent;\n",
              "    border-bottom-color: var(--fill-color);\n",
              "    animation:\n",
              "      spin 1s steps(1) infinite;\n",
              "  }\n",
              "\n",
              "  @keyframes spin {\n",
              "    0% {\n",
              "      border-color: transparent;\n",
              "      border-bottom-color: var(--fill-color);\n",
              "      border-left-color: var(--fill-color);\n",
              "    }\n",
              "    20% {\n",
              "      border-color: transparent;\n",
              "      border-left-color: var(--fill-color);\n",
              "      border-top-color: var(--fill-color);\n",
              "    }\n",
              "    30% {\n",
              "      border-color: transparent;\n",
              "      border-left-color: var(--fill-color);\n",
              "      border-top-color: var(--fill-color);\n",
              "      border-right-color: var(--fill-color);\n",
              "    }\n",
              "    40% {\n",
              "      border-color: transparent;\n",
              "      border-right-color: var(--fill-color);\n",
              "      border-top-color: var(--fill-color);\n",
              "    }\n",
              "    60% {\n",
              "      border-color: transparent;\n",
              "      border-right-color: var(--fill-color);\n",
              "    }\n",
              "    80% {\n",
              "      border-color: transparent;\n",
              "      border-right-color: var(--fill-color);\n",
              "      border-bottom-color: var(--fill-color);\n",
              "    }\n",
              "    90% {\n",
              "      border-color: transparent;\n",
              "      border-bottom-color: var(--fill-color);\n",
              "    }\n",
              "  }\n",
              "</style>\n",
              "\n",
              "  <script>\n",
              "    async function quickchart(key) {\n",
              "      const quickchartButtonEl =\n",
              "        document.querySelector('#' + key + ' button');\n",
              "      quickchartButtonEl.disabled = true;  // To prevent multiple clicks.\n",
              "      quickchartButtonEl.classList.add('colab-df-spinner');\n",
              "      try {\n",
              "        const charts = await google.colab.kernel.invokeFunction(\n",
              "            'suggestCharts', [key], {});\n",
              "      } catch (error) {\n",
              "        console.error('Error during call to suggestCharts:', error);\n",
              "      }\n",
              "      quickchartButtonEl.classList.remove('colab-df-spinner');\n",
              "      quickchartButtonEl.classList.add('colab-df-quickchart-complete');\n",
              "    }\n",
              "    (() => {\n",
              "      let quickchartButtonEl =\n",
              "        document.querySelector('#df-e709f2bf-aee1-4fa4-b4c4-8161276e5a3f button');\n",
              "      quickchartButtonEl.style.display =\n",
              "        google.colab.kernel.accessAllowed ? 'block' : 'none';\n",
              "    })();\n",
              "  </script>\n",
              "</div>\n",
              "\n",
              "    </div>\n",
              "  </div>\n"
            ],
            "application/vnd.google.colaboratory.intrinsic+json": {
              "type": "dataframe",
              "variable_name": "data"
            }
          },
          "metadata": {},
          "execution_count": 6
        }
      ],
      "source": [
        "# First look\n",
        "data.head()"
      ]
    },
    {
      "cell_type": "code",
      "execution_count": 7,
      "metadata": {
        "colab": {
          "base_uri": "https://localhost:8080/"
        },
        "id": "VRCymO1kQ_oA",
        "outputId": "2fd2b1af-acac-47a8-91eb-850c3a86420d"
      },
      "outputs": [
        {
          "output_type": "execute_result",
          "data": {
            "text/plain": [
              "(28382, 21)"
            ]
          },
          "metadata": {},
          "execution_count": 7
        }
      ],
      "source": [
        "#shape of the data\n",
        "data.shape"
      ]
    },
    {
      "cell_type": "code",
      "execution_count": 8,
      "metadata": {
        "colab": {
          "base_uri": "https://localhost:8080/"
        },
        "id": "0zQJF63XQ_oD",
        "outputId": "39c03cb1-6cdf-4fb9-abad-49b2ac322e6c"
      },
      "outputs": [
        {
          "output_type": "execute_result",
          "data": {
            "text/plain": [
              "Index(['customer_id', 'vintage', 'age', 'gender', 'dependents', 'occupation',\n",
              "       'city', 'customer_nw_category', 'branch_code', 'current_balance',\n",
              "       'previous_month_end_balance', 'average_monthly_balance_prevQ',\n",
              "       'average_monthly_balance_prevQ2', 'current_month_credit',\n",
              "       'previous_month_credit', 'current_month_debit', 'previous_month_debit',\n",
              "       'current_month_balance', 'previous_month_balance', 'churn',\n",
              "       'last_transaction'],\n",
              "      dtype='object')"
            ]
          },
          "metadata": {},
          "execution_count": 8
        }
      ],
      "source": [
        "#columns of data\n",
        "data.columns"
      ]
    },
    {
      "cell_type": "markdown",
      "metadata": {
        "id": "cjAx45o2x7zm"
      },
      "source": [
        "### Identificaiton of Data types"
      ]
    },
    {
      "cell_type": "code",
      "execution_count": 9,
      "metadata": {
        "colab": {
          "base_uri": "https://localhost:8080/",
          "height": 729
        },
        "id": "IoHu82GiQ_oG",
        "outputId": "3b26ff24-49c3-436f-85c9-68e046ba6327"
      },
      "outputs": [
        {
          "output_type": "execute_result",
          "data": {
            "text/plain": [
              "customer_id                         int64\n",
              "vintage                             int64\n",
              "age                                 int64\n",
              "gender                             object\n",
              "dependents                        float64\n",
              "occupation                         object\n",
              "city                              float64\n",
              "customer_nw_category                int64\n",
              "branch_code                         int64\n",
              "current_balance                   float64\n",
              "previous_month_end_balance        float64\n",
              "average_monthly_balance_prevQ     float64\n",
              "average_monthly_balance_prevQ2    float64\n",
              "current_month_credit              float64\n",
              "previous_month_credit             float64\n",
              "current_month_debit               float64\n",
              "previous_month_debit              float64\n",
              "current_month_balance             float64\n",
              "previous_month_balance            float64\n",
              "churn                               int64\n",
              "last_transaction                   object\n",
              "dtype: object"
            ],
            "text/html": [
              "<div>\n",
              "<style scoped>\n",
              "    .dataframe tbody tr th:only-of-type {\n",
              "        vertical-align: middle;\n",
              "    }\n",
              "\n",
              "    .dataframe tbody tr th {\n",
              "        vertical-align: top;\n",
              "    }\n",
              "\n",
              "    .dataframe thead th {\n",
              "        text-align: right;\n",
              "    }\n",
              "</style>\n",
              "<table border=\"1\" class=\"dataframe\">\n",
              "  <thead>\n",
              "    <tr style=\"text-align: right;\">\n",
              "      <th></th>\n",
              "      <th>0</th>\n",
              "    </tr>\n",
              "  </thead>\n",
              "  <tbody>\n",
              "    <tr>\n",
              "      <th>customer_id</th>\n",
              "      <td>int64</td>\n",
              "    </tr>\n",
              "    <tr>\n",
              "      <th>vintage</th>\n",
              "      <td>int64</td>\n",
              "    </tr>\n",
              "    <tr>\n",
              "      <th>age</th>\n",
              "      <td>int64</td>\n",
              "    </tr>\n",
              "    <tr>\n",
              "      <th>gender</th>\n",
              "      <td>object</td>\n",
              "    </tr>\n",
              "    <tr>\n",
              "      <th>dependents</th>\n",
              "      <td>float64</td>\n",
              "    </tr>\n",
              "    <tr>\n",
              "      <th>occupation</th>\n",
              "      <td>object</td>\n",
              "    </tr>\n",
              "    <tr>\n",
              "      <th>city</th>\n",
              "      <td>float64</td>\n",
              "    </tr>\n",
              "    <tr>\n",
              "      <th>customer_nw_category</th>\n",
              "      <td>int64</td>\n",
              "    </tr>\n",
              "    <tr>\n",
              "      <th>branch_code</th>\n",
              "      <td>int64</td>\n",
              "    </tr>\n",
              "    <tr>\n",
              "      <th>current_balance</th>\n",
              "      <td>float64</td>\n",
              "    </tr>\n",
              "    <tr>\n",
              "      <th>previous_month_end_balance</th>\n",
              "      <td>float64</td>\n",
              "    </tr>\n",
              "    <tr>\n",
              "      <th>average_monthly_balance_prevQ</th>\n",
              "      <td>float64</td>\n",
              "    </tr>\n",
              "    <tr>\n",
              "      <th>average_monthly_balance_prevQ2</th>\n",
              "      <td>float64</td>\n",
              "    </tr>\n",
              "    <tr>\n",
              "      <th>current_month_credit</th>\n",
              "      <td>float64</td>\n",
              "    </tr>\n",
              "    <tr>\n",
              "      <th>previous_month_credit</th>\n",
              "      <td>float64</td>\n",
              "    </tr>\n",
              "    <tr>\n",
              "      <th>current_month_debit</th>\n",
              "      <td>float64</td>\n",
              "    </tr>\n",
              "    <tr>\n",
              "      <th>previous_month_debit</th>\n",
              "      <td>float64</td>\n",
              "    </tr>\n",
              "    <tr>\n",
              "      <th>current_month_balance</th>\n",
              "      <td>float64</td>\n",
              "    </tr>\n",
              "    <tr>\n",
              "      <th>previous_month_balance</th>\n",
              "      <td>float64</td>\n",
              "    </tr>\n",
              "    <tr>\n",
              "      <th>churn</th>\n",
              "      <td>int64</td>\n",
              "    </tr>\n",
              "    <tr>\n",
              "      <th>last_transaction</th>\n",
              "      <td>object</td>\n",
              "    </tr>\n",
              "  </tbody>\n",
              "</table>\n",
              "</div><br><label><b>dtype:</b> object</label>"
            ]
          },
          "metadata": {},
          "execution_count": 9
        }
      ],
      "source": [
        "#different data types\n",
        "data.dtypes"
      ]
    },
    {
      "cell_type": "markdown",
      "metadata": {
        "id": "mJPM5dlSx7zn"
      },
      "source": [
        "### Mean Value"
      ]
    },
    {
      "cell_type": "code",
      "execution_count": 10,
      "metadata": {
        "colab": {
          "base_uri": "https://localhost:8080/"
        },
        "id": "5VbQGrVYQ_oJ",
        "outputId": "cfff3fe8-cd5d-4783-ba2f-7eea3e1d0d4a"
      },
      "outputs": [
        {
          "output_type": "stream",
          "name": "stdout",
          "text": [
            "48.208336269466564\n"
          ]
        }
      ],
      "source": [
        "#mean of age\n",
        "print(data['age'].mean())"
      ]
    },
    {
      "cell_type": "code",
      "source": [
        "#mean of age who are likely to churn\n",
        "print(data[data['churn'] == 1]['age'].mean())"
      ],
      "metadata": {
        "colab": {
          "base_uri": "https://localhost:8080/"
        },
        "id": "0LZaAyKq3AmS",
        "outputId": "9f9ab479-6324-418d-aa2e-b4d0bdfabd3d"
      },
      "execution_count": 11,
      "outputs": [
        {
          "output_type": "stream",
          "name": "stdout",
          "text": [
            "47.461216730038025\n"
          ]
        }
      ]
    },
    {
      "cell_type": "markdown",
      "metadata": {
        "id": "DpKeE-U4x7zn"
      },
      "source": [
        "The __mean value of Age of Customers__ and the __mean value of Age of Customers who are likely to churn__ is around 48"
      ]
    },
    {
      "cell_type": "code",
      "execution_count": 13,
      "metadata": {
        "colab": {
          "base_uri": "https://localhost:8080/"
        },
        "id": "WvLj2Fo9Q_oR",
        "outputId": "76f7e524-2b42-4916-ec80-3edfe0510591"
      },
      "outputs": [
        {
          "output_type": "stream",
          "name": "stdout",
          "text": [
            "7380.55180360792\n",
            "5220.884321292776\n"
          ]
        }
      ],
      "source": [
        "#current balance mean\n",
        "print(data['current_balance'].mean())\n",
        "\n",
        "#current balance of customers who are likely to churn\n",
        "print(data[data['churn']==1]['current_balance'].mean())"
      ]
    },
    {
      "cell_type": "markdown",
      "metadata": {
        "id": "g65byJQEx7zo"
      },
      "source": [
        "*  The __mean value of current balance of Customers___  is __7380.55180360792__\n",
        "*  The __mean value of Current Balance of Customers__ who are likely to churn is __5220.884321292776__."
      ]
    },
    {
      "cell_type": "markdown",
      "metadata": {
        "id": "kTlMC4rjx7zo"
      },
      "source": [
        "### Median"
      ]
    },
    {
      "cell_type": "code",
      "execution_count": 14,
      "metadata": {
        "colab": {
          "base_uri": "https://localhost:8080/"
        },
        "id": "aHIkif6QQ_oW",
        "outputId": "58316596-ffc3-4564-d02b-b3a7c9e3df6e"
      },
      "outputs": [
        {
          "output_type": "execute_result",
          "data": {
            "text/plain": [
              "46.0"
            ]
          },
          "metadata": {},
          "execution_count": 14
        }
      ],
      "source": [
        "#median of age\n",
        "data['age'].median()"
      ]
    },
    {
      "cell_type": "markdown",
      "metadata": {
        "id": "ext_FJOjx7zo"
      },
      "source": [
        "*  __Median__ of age is 46.\n",
        "* That means 46 is the __50th percentile__ of the age of customers."
      ]
    },
    {
      "cell_type": "markdown",
      "metadata": {
        "id": "JcIlHOUvx7zo"
      },
      "source": [
        "### Standard Deviation and Variance"
      ]
    },
    {
      "cell_type": "code",
      "execution_count": 15,
      "metadata": {
        "colab": {
          "base_uri": "https://localhost:8080/"
        },
        "id": "_pRqupeJQ_ok",
        "outputId": "7060d6e8-7fc4-4881-cc91-3ec88a2dbe32"
      },
      "outputs": [
        {
          "output_type": "stream",
          "name": "stdout",
          "text": [
            "42598.71192323329\n",
            "1814650257.5186183\n"
          ]
        }
      ],
      "source": [
        "print(data['current_balance'].std())\n",
        "print(data['current_balance'].var())"
      ]
    },
    {
      "cell_type": "markdown",
      "metadata": {
        "id": "6eYgnyqkx7zp"
      },
      "source": [
        "*  __standard deviation__  for current balance of the customers is 42598.711923233204\n",
        "*  __variance__ for current balance of the customers is 1814650257.5186107"
      ]
    },
    {
      "cell_type": "markdown",
      "metadata": {
        "id": "b39IolR3x7zp"
      },
      "source": [
        "### Describe Function"
      ]
    },
    {
      "cell_type": "code",
      "metadata": {
        "id": "TZ6WONNhQ_oo"
      },
      "source": [
        "#describe() function is used to view some basic __descriptive statistical details__ like __percentile, mean, std etc.__ of a data frame."
      ],
      "execution_count": null,
      "outputs": []
    },
    {
      "cell_type": "code",
      "execution_count": 16,
      "metadata": {
        "colab": {
          "base_uri": "https://localhost:8080/",
          "height": 316
        },
        "id": "G2aklW5KQ_ow",
        "outputId": "e14fd6f4-da46-47cd-ee3e-7e84a53f1355"
      },
      "outputs": [
        {
          "output_type": "execute_result",
          "data": {
            "text/plain": [
              "        customer_id       vintage           age    dependents          city  \\\n",
              "count  28382.000000  28382.000000  28382.000000  25919.000000  27579.000000   \n",
              "mean   15143.508667   2091.144105     48.208336      0.347236    796.109576   \n",
              "std     8746.454456    272.676775     17.807163      0.997661    432.872102   \n",
              "min        1.000000     73.000000      1.000000      0.000000      0.000000   \n",
              "25%     7557.250000   1958.000000     36.000000      0.000000    409.000000   \n",
              "50%    15150.500000   2154.000000     46.000000      0.000000    834.000000   \n",
              "75%    22706.750000   2292.000000     60.000000      0.000000   1096.000000   \n",
              "max    30301.000000   2476.000000     90.000000     52.000000   1649.000000   \n",
              "\n",
              "       customer_nw_category   branch_code  current_balance  \\\n",
              "count          28382.000000  28382.000000     2.838200e+04   \n",
              "mean               2.225530    925.975019     7.380552e+03   \n",
              "std                0.660443    937.799129     4.259871e+04   \n",
              "min                1.000000      1.000000    -5.503960e+03   \n",
              "25%                2.000000    176.000000     1.784470e+03   \n",
              "50%                2.000000    572.000000     3.281255e+03   \n",
              "75%                3.000000   1440.000000     6.635820e+03   \n",
              "max                3.000000   4782.000000     5.905904e+06   \n",
              "\n",
              "       previous_month_end_balance  average_monthly_balance_prevQ  \\\n",
              "count                2.838200e+04                   2.838200e+04   \n",
              "mean                 7.495771e+03                   7.496780e+03   \n",
              "std                  4.252935e+04                   4.172622e+04   \n",
              "min                 -3.149570e+03                   1.428690e+03   \n",
              "25%                  1.906000e+03                   2.180945e+03   \n",
              "50%                  3.379915e+03                   3.542865e+03   \n",
              "75%                  6.656535e+03                   6.666887e+03   \n",
              "max                  5.740439e+06                   5.700290e+06   \n",
              "\n",
              "       average_monthly_balance_prevQ2  current_month_credit  \\\n",
              "count                    2.838200e+04          2.838200e+04   \n",
              "mean                     7.124209e+03          3.433252e+03   \n",
              "std                      4.457581e+04          7.707145e+04   \n",
              "min                     -1.650610e+04          1.000000e-02   \n",
              "25%                      1.832507e+03          3.100000e-01   \n",
              "50%                      3.359600e+03          6.100000e-01   \n",
              "75%                      6.517960e+03          7.072725e+02   \n",
              "max                      5.010170e+06          1.226985e+07   \n",
              "\n",
              "       previous_month_credit  current_month_debit  previous_month_debit  \\\n",
              "count           2.838200e+04         2.838200e+04          2.838200e+04   \n",
              "mean            3.261694e+03         3.658745e+03          3.339761e+03   \n",
              "std             2.968889e+04         5.198542e+04          2.430111e+04   \n",
              "min             1.000000e-02         1.000000e-02          1.000000e-02   \n",
              "25%             3.300000e-01         4.100000e-01          4.100000e-01   \n",
              "50%             6.300000e-01         9.193000e+01          1.099600e+02   \n",
              "75%             7.492350e+02         1.360435e+03          1.357553e+03   \n",
              "max             2.361808e+06         7.637857e+06          1.414168e+06   \n",
              "\n",
              "       current_month_balance  previous_month_balance         churn  \n",
              "count           2.838200e+04            2.838200e+04  28382.000000  \n",
              "mean            7.451133e+03            7.495177e+03      0.185329  \n",
              "std             4.203394e+04            4.243198e+04      0.388571  \n",
              "min            -3.374180e+03           -5.171920e+03      0.000000  \n",
              "25%             1.996765e+03            2.074407e+03      0.000000  \n",
              "50%             3.447995e+03            3.465235e+03      0.000000  \n",
              "75%             6.667958e+03            6.654693e+03      0.000000  \n",
              "max             5.778185e+06            5.720144e+06      1.000000  "
            ],
            "text/html": [
              "\n",
              "  <div id=\"df-dc47f74f-9fb0-438d-8ea4-b46b9ef741b4\" class=\"colab-df-container\">\n",
              "    <div>\n",
              "<style scoped>\n",
              "    .dataframe tbody tr th:only-of-type {\n",
              "        vertical-align: middle;\n",
              "    }\n",
              "\n",
              "    .dataframe tbody tr th {\n",
              "        vertical-align: top;\n",
              "    }\n",
              "\n",
              "    .dataframe thead th {\n",
              "        text-align: right;\n",
              "    }\n",
              "</style>\n",
              "<table border=\"1\" class=\"dataframe\">\n",
              "  <thead>\n",
              "    <tr style=\"text-align: right;\">\n",
              "      <th></th>\n",
              "      <th>customer_id</th>\n",
              "      <th>vintage</th>\n",
              "      <th>age</th>\n",
              "      <th>dependents</th>\n",
              "      <th>city</th>\n",
              "      <th>customer_nw_category</th>\n",
              "      <th>branch_code</th>\n",
              "      <th>current_balance</th>\n",
              "      <th>previous_month_end_balance</th>\n",
              "      <th>average_monthly_balance_prevQ</th>\n",
              "      <th>average_monthly_balance_prevQ2</th>\n",
              "      <th>current_month_credit</th>\n",
              "      <th>previous_month_credit</th>\n",
              "      <th>current_month_debit</th>\n",
              "      <th>previous_month_debit</th>\n",
              "      <th>current_month_balance</th>\n",
              "      <th>previous_month_balance</th>\n",
              "      <th>churn</th>\n",
              "    </tr>\n",
              "  </thead>\n",
              "  <tbody>\n",
              "    <tr>\n",
              "      <th>count</th>\n",
              "      <td>28382.000000</td>\n",
              "      <td>28382.000000</td>\n",
              "      <td>28382.000000</td>\n",
              "      <td>25919.000000</td>\n",
              "      <td>27579.000000</td>\n",
              "      <td>28382.000000</td>\n",
              "      <td>28382.000000</td>\n",
              "      <td>2.838200e+04</td>\n",
              "      <td>2.838200e+04</td>\n",
              "      <td>2.838200e+04</td>\n",
              "      <td>2.838200e+04</td>\n",
              "      <td>2.838200e+04</td>\n",
              "      <td>2.838200e+04</td>\n",
              "      <td>2.838200e+04</td>\n",
              "      <td>2.838200e+04</td>\n",
              "      <td>2.838200e+04</td>\n",
              "      <td>2.838200e+04</td>\n",
              "      <td>28382.000000</td>\n",
              "    </tr>\n",
              "    <tr>\n",
              "      <th>mean</th>\n",
              "      <td>15143.508667</td>\n",
              "      <td>2091.144105</td>\n",
              "      <td>48.208336</td>\n",
              "      <td>0.347236</td>\n",
              "      <td>796.109576</td>\n",
              "      <td>2.225530</td>\n",
              "      <td>925.975019</td>\n",
              "      <td>7.380552e+03</td>\n",
              "      <td>7.495771e+03</td>\n",
              "      <td>7.496780e+03</td>\n",
              "      <td>7.124209e+03</td>\n",
              "      <td>3.433252e+03</td>\n",
              "      <td>3.261694e+03</td>\n",
              "      <td>3.658745e+03</td>\n",
              "      <td>3.339761e+03</td>\n",
              "      <td>7.451133e+03</td>\n",
              "      <td>7.495177e+03</td>\n",
              "      <td>0.185329</td>\n",
              "    </tr>\n",
              "    <tr>\n",
              "      <th>std</th>\n",
              "      <td>8746.454456</td>\n",
              "      <td>272.676775</td>\n",
              "      <td>17.807163</td>\n",
              "      <td>0.997661</td>\n",
              "      <td>432.872102</td>\n",
              "      <td>0.660443</td>\n",
              "      <td>937.799129</td>\n",
              "      <td>4.259871e+04</td>\n",
              "      <td>4.252935e+04</td>\n",
              "      <td>4.172622e+04</td>\n",
              "      <td>4.457581e+04</td>\n",
              "      <td>7.707145e+04</td>\n",
              "      <td>2.968889e+04</td>\n",
              "      <td>5.198542e+04</td>\n",
              "      <td>2.430111e+04</td>\n",
              "      <td>4.203394e+04</td>\n",
              "      <td>4.243198e+04</td>\n",
              "      <td>0.388571</td>\n",
              "    </tr>\n",
              "    <tr>\n",
              "      <th>min</th>\n",
              "      <td>1.000000</td>\n",
              "      <td>73.000000</td>\n",
              "      <td>1.000000</td>\n",
              "      <td>0.000000</td>\n",
              "      <td>0.000000</td>\n",
              "      <td>1.000000</td>\n",
              "      <td>1.000000</td>\n",
              "      <td>-5.503960e+03</td>\n",
              "      <td>-3.149570e+03</td>\n",
              "      <td>1.428690e+03</td>\n",
              "      <td>-1.650610e+04</td>\n",
              "      <td>1.000000e-02</td>\n",
              "      <td>1.000000e-02</td>\n",
              "      <td>1.000000e-02</td>\n",
              "      <td>1.000000e-02</td>\n",
              "      <td>-3.374180e+03</td>\n",
              "      <td>-5.171920e+03</td>\n",
              "      <td>0.000000</td>\n",
              "    </tr>\n",
              "    <tr>\n",
              "      <th>25%</th>\n",
              "      <td>7557.250000</td>\n",
              "      <td>1958.000000</td>\n",
              "      <td>36.000000</td>\n",
              "      <td>0.000000</td>\n",
              "      <td>409.000000</td>\n",
              "      <td>2.000000</td>\n",
              "      <td>176.000000</td>\n",
              "      <td>1.784470e+03</td>\n",
              "      <td>1.906000e+03</td>\n",
              "      <td>2.180945e+03</td>\n",
              "      <td>1.832507e+03</td>\n",
              "      <td>3.100000e-01</td>\n",
              "      <td>3.300000e-01</td>\n",
              "      <td>4.100000e-01</td>\n",
              "      <td>4.100000e-01</td>\n",
              "      <td>1.996765e+03</td>\n",
              "      <td>2.074407e+03</td>\n",
              "      <td>0.000000</td>\n",
              "    </tr>\n",
              "    <tr>\n",
              "      <th>50%</th>\n",
              "      <td>15150.500000</td>\n",
              "      <td>2154.000000</td>\n",
              "      <td>46.000000</td>\n",
              "      <td>0.000000</td>\n",
              "      <td>834.000000</td>\n",
              "      <td>2.000000</td>\n",
              "      <td>572.000000</td>\n",
              "      <td>3.281255e+03</td>\n",
              "      <td>3.379915e+03</td>\n",
              "      <td>3.542865e+03</td>\n",
              "      <td>3.359600e+03</td>\n",
              "      <td>6.100000e-01</td>\n",
              "      <td>6.300000e-01</td>\n",
              "      <td>9.193000e+01</td>\n",
              "      <td>1.099600e+02</td>\n",
              "      <td>3.447995e+03</td>\n",
              "      <td>3.465235e+03</td>\n",
              "      <td>0.000000</td>\n",
              "    </tr>\n",
              "    <tr>\n",
              "      <th>75%</th>\n",
              "      <td>22706.750000</td>\n",
              "      <td>2292.000000</td>\n",
              "      <td>60.000000</td>\n",
              "      <td>0.000000</td>\n",
              "      <td>1096.000000</td>\n",
              "      <td>3.000000</td>\n",
              "      <td>1440.000000</td>\n",
              "      <td>6.635820e+03</td>\n",
              "      <td>6.656535e+03</td>\n",
              "      <td>6.666887e+03</td>\n",
              "      <td>6.517960e+03</td>\n",
              "      <td>7.072725e+02</td>\n",
              "      <td>7.492350e+02</td>\n",
              "      <td>1.360435e+03</td>\n",
              "      <td>1.357553e+03</td>\n",
              "      <td>6.667958e+03</td>\n",
              "      <td>6.654693e+03</td>\n",
              "      <td>0.000000</td>\n",
              "    </tr>\n",
              "    <tr>\n",
              "      <th>max</th>\n",
              "      <td>30301.000000</td>\n",
              "      <td>2476.000000</td>\n",
              "      <td>90.000000</td>\n",
              "      <td>52.000000</td>\n",
              "      <td>1649.000000</td>\n",
              "      <td>3.000000</td>\n",
              "      <td>4782.000000</td>\n",
              "      <td>5.905904e+06</td>\n",
              "      <td>5.740439e+06</td>\n",
              "      <td>5.700290e+06</td>\n",
              "      <td>5.010170e+06</td>\n",
              "      <td>1.226985e+07</td>\n",
              "      <td>2.361808e+06</td>\n",
              "      <td>7.637857e+06</td>\n",
              "      <td>1.414168e+06</td>\n",
              "      <td>5.778185e+06</td>\n",
              "      <td>5.720144e+06</td>\n",
              "      <td>1.000000</td>\n",
              "    </tr>\n",
              "  </tbody>\n",
              "</table>\n",
              "</div>\n",
              "    <div class=\"colab-df-buttons\">\n",
              "\n",
              "  <div class=\"colab-df-container\">\n",
              "    <button class=\"colab-df-convert\" onclick=\"convertToInteractive('df-dc47f74f-9fb0-438d-8ea4-b46b9ef741b4')\"\n",
              "            title=\"Convert this dataframe to an interactive table.\"\n",
              "            style=\"display:none;\">\n",
              "\n",
              "  <svg xmlns=\"http://www.w3.org/2000/svg\" height=\"24px\" viewBox=\"0 -960 960 960\">\n",
              "    <path d=\"M120-120v-720h720v720H120Zm60-500h600v-160H180v160Zm220 220h160v-160H400v160Zm0 220h160v-160H400v160ZM180-400h160v-160H180v160Zm440 0h160v-160H620v160ZM180-180h160v-160H180v160Zm440 0h160v-160H620v160Z\"/>\n",
              "  </svg>\n",
              "    </button>\n",
              "\n",
              "  <style>\n",
              "    .colab-df-container {\n",
              "      display:flex;\n",
              "      gap: 12px;\n",
              "    }\n",
              "\n",
              "    .colab-df-convert {\n",
              "      background-color: #E8F0FE;\n",
              "      border: none;\n",
              "      border-radius: 50%;\n",
              "      cursor: pointer;\n",
              "      display: none;\n",
              "      fill: #1967D2;\n",
              "      height: 32px;\n",
              "      padding: 0 0 0 0;\n",
              "      width: 32px;\n",
              "    }\n",
              "\n",
              "    .colab-df-convert:hover {\n",
              "      background-color: #E2EBFA;\n",
              "      box-shadow: 0px 1px 2px rgba(60, 64, 67, 0.3), 0px 1px 3px 1px rgba(60, 64, 67, 0.15);\n",
              "      fill: #174EA6;\n",
              "    }\n",
              "\n",
              "    .colab-df-buttons div {\n",
              "      margin-bottom: 4px;\n",
              "    }\n",
              "\n",
              "    [theme=dark] .colab-df-convert {\n",
              "      background-color: #3B4455;\n",
              "      fill: #D2E3FC;\n",
              "    }\n",
              "\n",
              "    [theme=dark] .colab-df-convert:hover {\n",
              "      background-color: #434B5C;\n",
              "      box-shadow: 0px 1px 3px 1px rgba(0, 0, 0, 0.15);\n",
              "      filter: drop-shadow(0px 1px 2px rgba(0, 0, 0, 0.3));\n",
              "      fill: #FFFFFF;\n",
              "    }\n",
              "  </style>\n",
              "\n",
              "    <script>\n",
              "      const buttonEl =\n",
              "        document.querySelector('#df-dc47f74f-9fb0-438d-8ea4-b46b9ef741b4 button.colab-df-convert');\n",
              "      buttonEl.style.display =\n",
              "        google.colab.kernel.accessAllowed ? 'block' : 'none';\n",
              "\n",
              "      async function convertToInteractive(key) {\n",
              "        const element = document.querySelector('#df-dc47f74f-9fb0-438d-8ea4-b46b9ef741b4');\n",
              "        const dataTable =\n",
              "          await google.colab.kernel.invokeFunction('convertToInteractive',\n",
              "                                                    [key], {});\n",
              "        if (!dataTable) return;\n",
              "\n",
              "        const docLinkHtml = 'Like what you see? Visit the ' +\n",
              "          '<a target=\"_blank\" href=https://colab.research.google.com/notebooks/data_table.ipynb>data table notebook</a>'\n",
              "          + ' to learn more about interactive tables.';\n",
              "        element.innerHTML = '';\n",
              "        dataTable['output_type'] = 'display_data';\n",
              "        await google.colab.output.renderOutput(dataTable, element);\n",
              "        const docLink = document.createElement('div');\n",
              "        docLink.innerHTML = docLinkHtml;\n",
              "        element.appendChild(docLink);\n",
              "      }\n",
              "    </script>\n",
              "  </div>\n",
              "\n",
              "\n",
              "<div id=\"df-06c979a3-557e-4ac1-91ab-1dcc4bd4a724\">\n",
              "  <button class=\"colab-df-quickchart\" onclick=\"quickchart('df-06c979a3-557e-4ac1-91ab-1dcc4bd4a724')\"\n",
              "            title=\"Suggest charts\"\n",
              "            style=\"display:none;\">\n",
              "\n",
              "<svg xmlns=\"http://www.w3.org/2000/svg\" height=\"24px\"viewBox=\"0 0 24 24\"\n",
              "     width=\"24px\">\n",
              "    <g>\n",
              "        <path d=\"M19 3H5c-1.1 0-2 .9-2 2v14c0 1.1.9 2 2 2h14c1.1 0 2-.9 2-2V5c0-1.1-.9-2-2-2zM9 17H7v-7h2v7zm4 0h-2V7h2v10zm4 0h-2v-4h2v4z\"/>\n",
              "    </g>\n",
              "</svg>\n",
              "  </button>\n",
              "\n",
              "<style>\n",
              "  .colab-df-quickchart {\n",
              "      --bg-color: #E8F0FE;\n",
              "      --fill-color: #1967D2;\n",
              "      --hover-bg-color: #E2EBFA;\n",
              "      --hover-fill-color: #174EA6;\n",
              "      --disabled-fill-color: #AAA;\n",
              "      --disabled-bg-color: #DDD;\n",
              "  }\n",
              "\n",
              "  [theme=dark] .colab-df-quickchart {\n",
              "      --bg-color: #3B4455;\n",
              "      --fill-color: #D2E3FC;\n",
              "      --hover-bg-color: #434B5C;\n",
              "      --hover-fill-color: #FFFFFF;\n",
              "      --disabled-bg-color: #3B4455;\n",
              "      --disabled-fill-color: #666;\n",
              "  }\n",
              "\n",
              "  .colab-df-quickchart {\n",
              "    background-color: var(--bg-color);\n",
              "    border: none;\n",
              "    border-radius: 50%;\n",
              "    cursor: pointer;\n",
              "    display: none;\n",
              "    fill: var(--fill-color);\n",
              "    height: 32px;\n",
              "    padding: 0;\n",
              "    width: 32px;\n",
              "  }\n",
              "\n",
              "  .colab-df-quickchart:hover {\n",
              "    background-color: var(--hover-bg-color);\n",
              "    box-shadow: 0 1px 2px rgba(60, 64, 67, 0.3), 0 1px 3px 1px rgba(60, 64, 67, 0.15);\n",
              "    fill: var(--button-hover-fill-color);\n",
              "  }\n",
              "\n",
              "  .colab-df-quickchart-complete:disabled,\n",
              "  .colab-df-quickchart-complete:disabled:hover {\n",
              "    background-color: var(--disabled-bg-color);\n",
              "    fill: var(--disabled-fill-color);\n",
              "    box-shadow: none;\n",
              "  }\n",
              "\n",
              "  .colab-df-spinner {\n",
              "    border: 2px solid var(--fill-color);\n",
              "    border-color: transparent;\n",
              "    border-bottom-color: var(--fill-color);\n",
              "    animation:\n",
              "      spin 1s steps(1) infinite;\n",
              "  }\n",
              "\n",
              "  @keyframes spin {\n",
              "    0% {\n",
              "      border-color: transparent;\n",
              "      border-bottom-color: var(--fill-color);\n",
              "      border-left-color: var(--fill-color);\n",
              "    }\n",
              "    20% {\n",
              "      border-color: transparent;\n",
              "      border-left-color: var(--fill-color);\n",
              "      border-top-color: var(--fill-color);\n",
              "    }\n",
              "    30% {\n",
              "      border-color: transparent;\n",
              "      border-left-color: var(--fill-color);\n",
              "      border-top-color: var(--fill-color);\n",
              "      border-right-color: var(--fill-color);\n",
              "    }\n",
              "    40% {\n",
              "      border-color: transparent;\n",
              "      border-right-color: var(--fill-color);\n",
              "      border-top-color: var(--fill-color);\n",
              "    }\n",
              "    60% {\n",
              "      border-color: transparent;\n",
              "      border-right-color: var(--fill-color);\n",
              "    }\n",
              "    80% {\n",
              "      border-color: transparent;\n",
              "      border-right-color: var(--fill-color);\n",
              "      border-bottom-color: var(--fill-color);\n",
              "    }\n",
              "    90% {\n",
              "      border-color: transparent;\n",
              "      border-bottom-color: var(--fill-color);\n",
              "    }\n",
              "  }\n",
              "</style>\n",
              "\n",
              "  <script>\n",
              "    async function quickchart(key) {\n",
              "      const quickchartButtonEl =\n",
              "        document.querySelector('#' + key + ' button');\n",
              "      quickchartButtonEl.disabled = true;  // To prevent multiple clicks.\n",
              "      quickchartButtonEl.classList.add('colab-df-spinner');\n",
              "      try {\n",
              "        const charts = await google.colab.kernel.invokeFunction(\n",
              "            'suggestCharts', [key], {});\n",
              "      } catch (error) {\n",
              "        console.error('Error during call to suggestCharts:', error);\n",
              "      }\n",
              "      quickchartButtonEl.classList.remove('colab-df-spinner');\n",
              "      quickchartButtonEl.classList.add('colab-df-quickchart-complete');\n",
              "    }\n",
              "    (() => {\n",
              "      let quickchartButtonEl =\n",
              "        document.querySelector('#df-06c979a3-557e-4ac1-91ab-1dcc4bd4a724 button');\n",
              "      quickchartButtonEl.style.display =\n",
              "        google.colab.kernel.accessAllowed ? 'block' : 'none';\n",
              "    })();\n",
              "  </script>\n",
              "</div>\n",
              "\n",
              "    </div>\n",
              "  </div>\n"
            ],
            "application/vnd.google.colaboratory.intrinsic+json": {
              "type": "dataframe",
              "summary": "{\n  \"name\": \"data\",\n  \"rows\": 8,\n  \"fields\": [\n    {\n      \"column\": \"customer_id\",\n      \"properties\": {\n        \"dtype\": \"number\",\n        \"std\": 10583.883861150005,\n        \"min\": 1.0,\n        \"max\": 30301.0,\n        \"num_unique_values\": 8,\n        \"samples\": [\n          15143.508667465296,\n          15150.5,\n          28382.0\n        ],\n        \"semantic_type\": \"\",\n        \"description\": \"\"\n      }\n    },\n    {\n      \"column\": \"vintage\",\n      \"properties\": {\n        \"dtype\": \"number\",\n        \"std\": 9508.254022383233,\n        \"min\": 73.0,\n        \"max\": 28382.0,\n        \"num_unique_values\": 8,\n        \"samples\": [\n          2091.1441054189277,\n          2154.0,\n          28382.0\n        ],\n        \"semantic_type\": \"\",\n        \"description\": \"\"\n      }\n    },\n    {\n      \"column\": \"age\",\n      \"properties\": {\n        \"dtype\": \"number\",\n        \"std\": 10019.485279604023,\n        \"min\": 1.0,\n        \"max\": 28382.0,\n        \"num_unique_values\": 8,\n        \"samples\": [\n          48.208336269466564,\n          46.0,\n          28382.0\n        ],\n        \"semantic_type\": \"\",\n        \"description\": \"\"\n      }\n    },\n    {\n      \"column\": \"dependents\",\n      \"properties\": {\n        \"dtype\": \"number\",\n        \"std\": 9161.073928698379,\n        \"min\": 0.0,\n        \"max\": 25919.0,\n        \"num_unique_values\": 5,\n        \"samples\": [\n          0.34723561865812724,\n          52.0,\n          0.9976606527248344\n        ],\n        \"semantic_type\": \"\",\n        \"description\": \"\"\n      }\n    },\n    {\n      \"column\": \"city\",\n      \"properties\": {\n        \"dtype\": \"number\",\n        \"std\": 9500.064751142056,\n        \"min\": 0.0,\n        \"max\": 27579.0,\n        \"num_unique_values\": 8,\n        \"samples\": [\n          796.1095761267632,\n          834.0,\n          27579.0\n        ],\n        \"semantic_type\": \"\",\n        \"description\": \"\"\n      }\n    },\n    {\n      \"column\": \"customer_nw_category\",\n      \"properties\": {\n        \"dtype\": \"number\",\n        \"std\": 10033.851018715113,\n        \"min\": 0.6604434141637349,\n        \"max\": 28382.0,\n        \"num_unique_values\": 6,\n        \"samples\": [\n          28382.0,\n          2.2255302656613347,\n          3.0\n        ],\n        \"semantic_type\": \"\",\n        \"description\": \"\"\n      }\n    },\n    {\n      \"column\": \"branch_code\",\n      \"properties\": {\n        \"dtype\": \"number\",\n        \"std\": 9705.948626587593,\n        \"min\": 1.0,\n        \"max\": 28382.0,\n        \"num_unique_values\": 8,\n        \"samples\": [\n          925.9750193784794,\n          572.0,\n          28382.0\n        ],\n        \"semantic_type\": \"\",\n        \"description\": \"\"\n      }\n    },\n    {\n      \"column\": \"current_balance\",\n      \"properties\": {\n        \"dtype\": \"number\",\n        \"std\": 2083841.221784954,\n        \"min\": -5503.96,\n        \"max\": 5905904.03,\n        \"num_unique_values\": 8,\n        \"samples\": [\n          7380.55180360792,\n          3281.255,\n          28382.0\n        ],\n        \"semantic_type\": \"\",\n        \"description\": \"\"\n      }\n    },\n    {\n      \"column\": \"previous_month_end_balance\",\n      \"properties\": {\n        \"dtype\": \"number\",\n        \"std\": 2025205.5954303886,\n        \"min\": -3149.57,\n        \"max\": 5740438.63,\n        \"num_unique_values\": 8,\n        \"samples\": [\n          7495.770547882461,\n          3379.915,\n          28382.0\n        ],\n        \"semantic_type\": \"\",\n        \"description\": \"\"\n      }\n    },\n    {\n      \"column\": \"average_monthly_balance_prevQ\",\n      \"properties\": {\n        \"dtype\": \"number\",\n        \"std\": 2010791.3856797547,\n        \"min\": 1428.69,\n        \"max\": 5700289.57,\n        \"num_unique_values\": 8,\n        \"samples\": [\n          7496.779855542243,\n          3542.865,\n          28382.0\n        ],\n        \"semantic_type\": \"\",\n        \"description\": \"\"\n      }\n    },\n    {\n      \"column\": \"average_monthly_balance_prevQ2\",\n      \"properties\": {\n        \"dtype\": \"number\",\n        \"std\": 1767655.6046050275,\n        \"min\": -16506.1,\n        \"max\": 5010170.1,\n        \"num_unique_values\": 8,\n        \"samples\": [\n          7124.209162497357,\n          3359.6000000000004,\n          28382.0\n        ],\n        \"semantic_type\": \"\",\n        \"description\": \"\"\n      }\n    },\n    {\n      \"column\": \"current_month_credit\",\n      \"properties\": {\n        \"dtype\": \"number\",\n        \"std\": 4332593.185377012,\n        \"min\": 0.01,\n        \"max\": 12269845.39,\n        \"num_unique_values\": 8,\n        \"samples\": [\n          3433.2522401522097,\n          0.61,\n          28382.0\n        ],\n        \"semantic_type\": \"\",\n        \"description\": \"\"\n      }\n    },\n    {\n      \"column\": \"previous_month_credit\",\n      \"properties\": {\n        \"dtype\": \"number\",\n        \"std\": 831988.2014584296,\n        \"min\": 0.01,\n        \"max\": 2361808.29,\n        \"num_unique_values\": 8,\n        \"samples\": [\n          3261.694458459587,\n          0.63,\n          28382.0\n        ],\n        \"semantic_type\": \"\",\n        \"description\": \"\"\n      }\n    },\n    {\n      \"column\": \"current_month_debit\",\n      \"properties\": {\n        \"dtype\": \"number\",\n        \"std\": 2696138.71632524,\n        \"min\": 0.01,\n        \"max\": 7637857.36,\n        \"num_unique_values\": 8,\n        \"samples\": [\n          3658.7445486576,\n          91.93,\n          28382.0\n        ],\n        \"semantic_type\": \"\",\n        \"description\": \"\"\n      }\n    },\n    {\n      \"column\": \"previous_month_debit\",\n      \"properties\": {\n        \"dtype\": \"number\",\n        \"std\": 497214.80208104115,\n        \"min\": 0.01,\n        \"max\": 1414168.06,\n        \"num_unique_values\": 8,\n        \"samples\": [\n          3339.7613529701925,\n          109.96000000000001,\n          28382.0\n        ],\n        \"semantic_type\": \"\",\n        \"description\": \"\"\n      }\n    },\n    {\n      \"column\": \"current_month_balance\",\n      \"properties\": {\n        \"dtype\": \"number\",\n        \"std\": 2038579.6208782236,\n        \"min\": -3374.18,\n        \"max\": 5778184.77,\n        \"num_unique_values\": 8,\n        \"samples\": [\n          7451.132765485167,\n          3447.995,\n          28382.0\n        ],\n        \"semantic_type\": \"\",\n        \"description\": \"\"\n      }\n    },\n    {\n      \"column\": \"previous_month_balance\",\n      \"properties\": {\n        \"dtype\": \"number\",\n        \"std\": 2018127.0872743553,\n        \"min\": -5171.92,\n        \"max\": 5720144.5,\n        \"num_unique_values\": 8,\n        \"samples\": [\n          7495.177128814036,\n          3465.2349999999997,\n          28382.0\n        ],\n        \"semantic_type\": \"\",\n        \"description\": \"\"\n      }\n    },\n    {\n      \"column\": \"churn\",\n      \"properties\": {\n        \"dtype\": \"number\",\n        \"std\": 10034.472843803214,\n        \"min\": 0.0,\n        \"max\": 28382.0,\n        \"num_unique_values\": 5,\n        \"samples\": [\n          0.18532872947642873,\n          1.0,\n          0.38857085754523585\n        ],\n        \"semantic_type\": \"\",\n        \"description\": \"\"\n      }\n    }\n  ]\n}"
            }
          },
          "metadata": {},
          "execution_count": 16
        }
      ],
      "source": [
        "data.describe(include=[int, float])"
      ]
    },
    {
      "cell_type": "markdown",
      "metadata": {
        "id": "4esogQI_x7zp"
      },
      "source": [
        "* count represents total number of data points.\n",
        "* mean represents average value\n",
        "* std represents standard deviation\n",
        "* min represents the minimum value of the column\n",
        "* 25% represents 25th percentile that means 25% data fall below this value.\n",
        "* 50% represents 50th percentile that means 50% data fall below this value. This is __Median__\n",
        "* 75% represents the 75th percentile here\n",
        "* max represents the maximum value of the column"
      ]
    },
    {
      "cell_type": "code",
      "execution_count": 17,
      "metadata": {
        "id": "RFier7inQ_o1"
      },
      "outputs": [],
      "source": [
        "churn_age = data[data['churn']==1]['age']"
      ]
    },
    {
      "cell_type": "markdown",
      "metadata": {
        "id": "x1TJETJvx7zq"
      },
      "source": [
        "A __Histogram__ visualises the distribution of data over a continuous interval.\n",
        "Each bar in a histogram represents the tabulated __frequency__ at each __interval/bin__.\n",
        "In simple words height represents the frequency for respective bin (interval)"
      ]
    },
    {
      "cell_type": "code",
      "execution_count": 18,
      "metadata": {
        "colab": {
          "base_uri": "https://localhost:8080/",
          "height": 583
        },
        "id": "gi_dN-BNQ_o7",
        "outputId": "93aea501-f4ce-4659-9011-b8aa2a0d49c6"
      },
      "outputs": [
        {
          "output_type": "execute_result",
          "data": {
            "text/plain": [
              "<matplotlib.legend.Legend at 0x7acef0c990f0>"
            ]
          },
          "metadata": {},
          "execution_count": 18
        },
        {
          "output_type": "display_data",
          "data": {
            "text/plain": [
              "<Figure size 1120x560 with 1 Axes>"
            ],
            "image/png": "[encoded data removed]"
          },
          "metadata": {}
        }
      ],
      "source": [
        "# setting image resolution\n",
        "plt.figure(figsize = (8,4), dpi = 140)\n",
        "\n",
        "# Plotting histogram and descriptive summary\n",
        "plt.scatter(churn_age.mean(), 0, label = 'mean', color = 'red')\n",
        "plt.scatter(churn_age.median(), 0, label = 'median', color = 'green')\n",
        "plt.hist(churn_age,bins=10)\n",
        "\n",
        "# axes labels\n",
        "plt.xlabel('churn_age')\n",
        "plt.ylabel('frequency')\n",
        "plt.title('churn_age: mean, median, range')\n",
        "plt.legend()"
      ]
    },
    {
      "cell_type": "markdown",
      "source": [
        "* Mean Value is higher than the Median Value\n",
        "* The peak occurs at the interval (36,45) that means highest number of customers age lie in this interval\n",
        "* Most customer age between 30 and 65"
      ],
      "metadata": {
        "id": "BaYyaki84l3V"
      }
    }
  ],
  "metadata": {
    "colab": {
      "provenance": [],
      "include_colab_link": true
    },
    "kernelspec": {
      "display_name": "Python 3",
      "language": "python",
      "name": "python3"
    },
    "language_info": {
      "codemirror_mode": {
        "name": "ipython",
        "version": 3
      },
      "file_extension": ".py",
      "mimetype": "text/x-python",
      "name": "python",
      "nbconvert_exporter": "python",
      "pygments_lexer": "ipython3",
      "version": "3.6.9"
    }
  },
  "nbformat": 4,
  "nbformat_minor": 0
}