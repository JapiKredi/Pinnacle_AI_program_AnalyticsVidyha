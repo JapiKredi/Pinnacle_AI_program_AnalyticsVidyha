{
  "nbformat": 4,
  "nbformat_minor": 0,
  "metadata": {
    "colab": {
      "provenance": [],
      "machine_shape": "hm",
      "gpuType": "T4",
      "include_colab_link": true
    },
    "kernelspec": {
      "name": "python3",
      "display_name": "Python 3"
    },
    "language_info": {
      "name": "python"
    },
    "accelerator": "GPU"
  },
  "cells": [
    {
      "cell_type": "markdown",
      "metadata": {
        "id": "view-in-github",
        "colab_type": "text"
      },
      "source": [
        "<a href=\"https://colab.research.google.com/github/JapiKredi/Pinnacle_AI_program_AnalyticsVidyha/blob/main/Assignment_nyc_taxi_trip_duration_JasperBongers.ipynb\" target=\"_parent\"><img src=\"https://colab.research.google.com/assets/colab-badge.svg\" alt=\"Open In Colab\"/></a>"
      ]
    },
    {
      "cell_type": "code",
      "execution_count": 3,
      "metadata": {
        "id": "DliwpVnIkfLe"
      },
      "outputs": [],
      "source": [
        "# Importing the dependencies\n",
        "import numpy as np\n",
        "import pandas as pd\n",
        "import datetime as dt\n",
        "from time import strftime\n",
        "from geopy.distance import geodesic\n",
        "import seaborn as sns\n",
        "import matplotlib.pyplot as plt\n",
        "%matplotlib inline\n",
        "\n",
        "from sklearn.preprocessing import OneHotEncoder\n",
        "from sklearn.linear_model import LinearRegression\n",
        "from sklearn.tree import DecisionTreeRegressor\n",
        "from sklearn.ensemble import RandomForestRegressor\n",
        "from sklearn.ensemble import AdaBoostRegressor\n",
        "from sklearn.ensemble import GradientBoostingRegressor\n",
        "from xgboost import XGBRegressor\n",
        "from sklearn import metrics\n",
        "from sklearn.model_selection import train_test_split\n",
        "from sklearn.metrics import r2_score\n",
        "from IPython.display import clear_output"
      ]
    },
    {
      "cell_type": "code",
      "source": [
        "from google.colab import drive\n",
        "drive.mount('/content/drive')"
      ],
      "metadata": {
        "colab": {
          "base_uri": "https://localhost:8080/"
        },
        "id": "Q9erZNaGk6JG",
        "outputId": "0289b8f0-28d2-4a76-9e27-c2ca1d6c5ec1"
      },
      "execution_count": 4,
      "outputs": [
        {
          "output_type": "stream",
          "name": "stdout",
          "text": [
            "Drive already mounted at /content/drive; to attempt to forcibly remount, call drive.mount(\"/content/drive\", force_remount=True).\n"
          ]
        }
      ]
    },
    {
      "cell_type": "code",
      "source": [
        "# Reading the dataset\n",
        "data = pd.read_csv('/content/drive/My Drive/Assignment_nyc_taxi_trip_duration_JasperBongers/nyc_taxi_trip_duration.csv')"
      ],
      "metadata": {
        "id": "dCjtKbh-lAN6"
      },
      "execution_count": 5,
      "outputs": []
    },
    {
      "cell_type": "code",
      "source": [
        "# Head of the data\n",
        "data.head()"
      ],
      "metadata": {
        "colab": {
          "base_uri": "https://localhost:8080/",
          "height": 307
        },
        "id": "WuZ5T7auixur",
        "outputId": "301a677f-e642-4b6c-c1c9-60fb423ef53a"
      },
      "execution_count": 6,
      "outputs": [
        {
          "output_type": "execute_result",
          "data": {
            "text/plain": [
              "          id  vendor_id      pickup_datetime     dropoff_datetime  \\\n",
              "0  id1080784          2  2016-02-29 16:40:21  2016-02-29 16:47:01   \n",
              "1  id0889885          1  2016-03-11 23:35:37  2016-03-11 23:53:57   \n",
              "2  id0857912          2  2016-02-21 17:59:33  2016-02-21 18:26:48   \n",
              "3  id3744273          2  2016-01-05 09:44:31  2016-01-05 10:03:32   \n",
              "4  id0232939          1  2016-02-17 06:42:23  2016-02-17 06:56:31   \n",
              "\n",
              "   passenger_count  pickup_longitude  pickup_latitude  dropoff_longitude  \\\n",
              "0                1        -73.953918        40.778873         -73.963875   \n",
              "1                2        -73.988312        40.731743         -73.994751   \n",
              "2                2        -73.997314        40.721458         -73.948029   \n",
              "3                6        -73.961670        40.759720         -73.956779   \n",
              "4                1        -74.017120        40.708469         -73.988182   \n",
              "\n",
              "   dropoff_latitude store_and_fwd_flag  trip_duration  \n",
              "0         40.771164                  N            400  \n",
              "1         40.694931                  N           1100  \n",
              "2         40.774918                  N           1635  \n",
              "3         40.780628                  N           1141  \n",
              "4         40.740631                  N            848  "
            ],
            "text/html": [
              "\n",
              "  <div id=\"df-76c46a53-c863-4924-b0c4-ceb5ce7ac3a6\" class=\"colab-df-container\">\n",
              "    <div>\n",
              "<style scoped>\n",
              "    .dataframe tbody tr th:only-of-type {\n",
              "        vertical-align: middle;\n",
              "    }\n",
              "\n",
              "    .dataframe tbody tr th {\n",
              "        vertical-align: top;\n",
              "    }\n",
              "\n",
              "    .dataframe thead th {\n",
              "        text-align: right;\n",
              "    }\n",
              "</style>\n",
              "<table border=\"1\" class=\"dataframe\">\n",
              "  <thead>\n",
              "    <tr style=\"text-align: right;\">\n",
              "      <th></th>\n",
              "      <th>id</th>\n",
              "      <th>vendor_id</th>\n",
              "      <th>pickup_datetime</th>\n",
              "      <th>dropoff_datetime</th>\n",
              "      <th>passenger_count</th>\n",
              "      <th>pickup_longitude</th>\n",
              "      <th>pickup_latitude</th>\n",
              "      <th>dropoff_longitude</th>\n",
              "      <th>dropoff_latitude</th>\n",
              "      <th>store_and_fwd_flag</th>\n",
              "      <th>trip_duration</th>\n",
              "    </tr>\n",
              "  </thead>\n",
              "  <tbody>\n",
              "    <tr>\n",
              "      <th>0</th>\n",
              "      <td>id1080784</td>\n",
              "      <td>2</td>\n",
              "      <td>2016-02-29 16:40:21</td>\n",
              "      <td>2016-02-29 16:47:01</td>\n",
              "      <td>1</td>\n",
              "      <td>-73.953918</td>\n",
              "      <td>40.778873</td>\n",
              "      <td>-73.963875</td>\n",
              "      <td>40.771164</td>\n",
              "      <td>N</td>\n",
              "      <td>400</td>\n",
              "    </tr>\n",
              "    <tr>\n",
              "      <th>1</th>\n",
              "      <td>id0889885</td>\n",
              "      <td>1</td>\n",
              "      <td>2016-03-11 23:35:37</td>\n",
              "      <td>2016-03-11 23:53:57</td>\n",
              "      <td>2</td>\n",
              "      <td>-73.988312</td>\n",
              "      <td>40.731743</td>\n",
              "      <td>-73.994751</td>\n",
              "      <td>40.694931</td>\n",
              "      <td>N</td>\n",
              "      <td>1100</td>\n",
              "    </tr>\n",
              "    <tr>\n",
              "      <th>2</th>\n",
              "      <td>id0857912</td>\n",
              "      <td>2</td>\n",
              "      <td>2016-02-21 17:59:33</td>\n",
              "      <td>2016-02-21 18:26:48</td>\n",
              "      <td>2</td>\n",
              "      <td>-73.997314</td>\n",
              "      <td>40.721458</td>\n",
              "      <td>-73.948029</td>\n",
              "      <td>40.774918</td>\n",
              "      <td>N</td>\n",
              "      <td>1635</td>\n",
              "    </tr>\n",
              "    <tr>\n",
              "      <th>3</th>\n",
              "      <td>id3744273</td>\n",
              "      <td>2</td>\n",
              "      <td>2016-01-05 09:44:31</td>\n",
              "      <td>2016-01-05 10:03:32</td>\n",
              "      <td>6</td>\n",
              "      <td>-73.961670</td>\n",
              "      <td>40.759720</td>\n",
              "      <td>-73.956779</td>\n",
              "      <td>40.780628</td>\n",
              "      <td>N</td>\n",
              "      <td>1141</td>\n",
              "    </tr>\n",
              "    <tr>\n",
              "      <th>4</th>\n",
              "      <td>id0232939</td>\n",
              "      <td>1</td>\n",
              "      <td>2016-02-17 06:42:23</td>\n",
              "      <td>2016-02-17 06:56:31</td>\n",
              "      <td>1</td>\n",
              "      <td>-74.017120</td>\n",
              "      <td>40.708469</td>\n",
              "      <td>-73.988182</td>\n",
              "      <td>40.740631</td>\n",
              "      <td>N</td>\n",
              "      <td>848</td>\n",
              "    </tr>\n",
              "  </tbody>\n",
              "</table>\n",
              "</div>\n",
              "    <div class=\"colab-df-buttons\">\n",
              "\n",
              "  <div class=\"colab-df-container\">\n",
              "    <button class=\"colab-df-convert\" onclick=\"convertToInteractive('df-76c46a53-c863-4924-b0c4-ceb5ce7ac3a6')\"\n",
              "            title=\"Convert this dataframe to an interactive table.\"\n",
              "            style=\"display:none;\">\n",
              "\n",
              "  <svg xmlns=\"http://www.w3.org/2000/svg\" height=\"24px\" viewBox=\"0 -960 960 960\">\n",
              "    <path d=\"M120-120v-720h720v720H120Zm60-500h600v-160H180v160Zm220 220h160v-160H400v160Zm0 220h160v-160H400v160ZM180-400h160v-160H180v160Zm440 0h160v-160H620v160ZM180-180h160v-160H180v160Zm440 0h160v-160H620v160Z\"/>\n",
              "  </svg>\n",
              "    </button>\n",
              "\n",
              "  <style>\n",
              "    .colab-df-container {\n",
              "      display:flex;\n",
              "      gap: 12px;\n",
              "    }\n",
              "\n",
              "    .colab-df-convert {\n",
              "      background-color: #E8F0FE;\n",
              "      border: none;\n",
              "      border-radius: 50%;\n",
              "      cursor: pointer;\n",
              "      display: none;\n",
              "      fill: #1967D2;\n",
              "      height: 32px;\n",
              "      padding: 0 0 0 0;\n",
              "      width: 32px;\n",
              "    }\n",
              "\n",
              "    .colab-df-convert:hover {\n",
              "      background-color: #E2EBFA;\n",
              "      box-shadow: 0px 1px 2px rgba(60, 64, 67, 0.3), 0px 1px 3px 1px rgba(60, 64, 67, 0.15);\n",
              "      fill: #174EA6;\n",
              "    }\n",
              "\n",
              "    .colab-df-buttons div {\n",
              "      margin-bottom: 4px;\n",
              "    }\n",
              "\n",
              "    [theme=dark] .colab-df-convert {\n",
              "      background-color: #3B4455;\n",
              "      fill: #D2E3FC;\n",
              "    }\n",
              "\n",
              "    [theme=dark] .colab-df-convert:hover {\n",
              "      background-color: #434B5C;\n",
              "      box-shadow: 0px 1px 3px 1px rgba(0, 0, 0, 0.15);\n",
              "      filter: drop-shadow(0px 1px 2px rgba(0, 0, 0, 0.3));\n",
              "      fill: #FFFFFF;\n",
              "    }\n",
              "  </style>\n",
              "\n",
              "    <script>\n",
              "      const buttonEl =\n",
              "        document.querySelector('#df-76c46a53-c863-4924-b0c4-ceb5ce7ac3a6 button.colab-df-convert');\n",
              "      buttonEl.style.display =\n",
              "        google.colab.kernel.accessAllowed ? 'block' : 'none';\n",
              "\n",
              "      async function convertToInteractive(key) {\n",
              "        const element = document.querySelector('#df-76c46a53-c863-4924-b0c4-ceb5ce7ac3a6');\n",
              "        const dataTable =\n",
              "          await google.colab.kernel.invokeFunction('convertToInteractive',\n",
              "                                                    [key], {});\n",
              "        if (!dataTable) return;\n",
              "\n",
              "        const docLinkHtml = 'Like what you see? Visit the ' +\n",
              "          '<a target=\"_blank\" href=https://colab.research.google.com/notebooks/data_table.ipynb>data table notebook</a>'\n",
              "          + ' to learn more about interactive tables.';\n",
              "        element.innerHTML = '';\n",
              "        dataTable['output_type'] = 'display_data';\n",
              "        await google.colab.output.renderOutput(dataTable, element);\n",
              "        const docLink = document.createElement('div');\n",
              "        docLink.innerHTML = docLinkHtml;\n",
              "        element.appendChild(docLink);\n",
              "      }\n",
              "    </script>\n",
              "  </div>\n",
              "\n",
              "\n",
              "<div id=\"df-fac38f03-d768-4db7-b6cf-2e59db27391a\">\n",
              "  <button class=\"colab-df-quickchart\" onclick=\"quickchart('df-fac38f03-d768-4db7-b6cf-2e59db27391a')\"\n",
              "            title=\"Suggest charts\"\n",
              "            style=\"display:none;\">\n",
              "\n",
              "<svg xmlns=\"http://www.w3.org/2000/svg\" height=\"24px\"viewBox=\"0 0 24 24\"\n",
              "     width=\"24px\">\n",
              "    <g>\n",
              "        <path d=\"M19 3H5c-1.1 0-2 .9-2 2v14c0 1.1.9 2 2 2h14c1.1 0 2-.9 2-2V5c0-1.1-.9-2-2-2zM9 17H7v-7h2v7zm4 0h-2V7h2v10zm4 0h-2v-4h2v4z\"/>\n",
              "    </g>\n",
              "</svg>\n",
              "  </button>\n",
              "\n",
              "<style>\n",
              "  .colab-df-quickchart {\n",
              "      --bg-color: #E8F0FE;\n",
              "      --fill-color: #1967D2;\n",
              "      --hover-bg-color: #E2EBFA;\n",
              "      --hover-fill-color: #174EA6;\n",
              "      --disabled-fill-color: #AAA;\n",
              "      --disabled-bg-color: #DDD;\n",
              "  }\n",
              "\n",
              "  [theme=dark] .colab-df-quickchart {\n",
              "      --bg-color: #3B4455;\n",
              "      --fill-color: #D2E3FC;\n",
              "      --hover-bg-color: #434B5C;\n",
              "      --hover-fill-color: #FFFFFF;\n",
              "      --disabled-bg-color: #3B4455;\n",
              "      --disabled-fill-color: #666;\n",
              "  }\n",
              "\n",
              "  .colab-df-quickchart {\n",
              "    background-color: var(--bg-color);\n",
              "    border: none;\n",
              "    border-radius: 50%;\n",
              "    cursor: pointer;\n",
              "    display: none;\n",
              "    fill: var(--fill-color);\n",
              "    height: 32px;\n",
              "    padding: 0;\n",
              "    width: 32px;\n",
              "  }\n",
              "\n",
              "  .colab-df-quickchart:hover {\n",
              "    background-color: var(--hover-bg-color);\n",
              "    box-shadow: 0 1px 2px rgba(60, 64, 67, 0.3), 0 1px 3px 1px rgba(60, 64, 67, 0.15);\n",
              "    fill: var(--button-hover-fill-color);\n",
              "  }\n",
              "\n",
              "  .colab-df-quickchart-complete:disabled,\n",
              "  .colab-df-quickchart-complete:disabled:hover {\n",
              "    background-color: var(--disabled-bg-color);\n",
              "    fill: var(--disabled-fill-color);\n",
              "    box-shadow: none;\n",
              "  }\n",
              "\n",
              "  .colab-df-spinner {\n",
              "    border: 2px solid var(--fill-color);\n",
              "    border-color: transparent;\n",
              "    border-bottom-color: var(--fill-color);\n",
              "    animation:\n",
              "      spin 1s steps(1) infinite;\n",
              "  }\n",
              "\n",
              "  @keyframes spin {\n",
              "    0% {\n",
              "      border-color: transparent;\n",
              "      border-bottom-color: var(--fill-color);\n",
              "      border-left-color: var(--fill-color);\n",
              "    }\n",
              "    20% {\n",
              "      border-color: transparent;\n",
              "      border-left-color: var(--fill-color);\n",
              "      border-top-color: var(--fill-color);\n",
              "    }\n",
              "    30% {\n",
              "      border-color: transparent;\n",
              "      border-left-color: var(--fill-color);\n",
              "      border-top-color: var(--fill-color);\n",
              "      border-right-color: var(--fill-color);\n",
              "    }\n",
              "    40% {\n",
              "      border-color: transparent;\n",
              "      border-right-color: var(--fill-color);\n",
              "      border-top-color: var(--fill-color);\n",
              "    }\n",
              "    60% {\n",
              "      border-color: transparent;\n",
              "      border-right-color: var(--fill-color);\n",
              "    }\n",
              "    80% {\n",
              "      border-color: transparent;\n",
              "      border-right-color: var(--fill-color);\n",
              "      border-bottom-color: var(--fill-color);\n",
              "    }\n",
              "    90% {\n",
              "      border-color: transparent;\n",
              "      border-bottom-color: var(--fill-color);\n",
              "    }\n",
              "  }\n",
              "</style>\n",
              "\n",
              "  <script>\n",
              "    async function quickchart(key) {\n",
              "      const quickchartButtonEl =\n",
              "        document.querySelector('#' + key + ' button');\n",
              "      quickchartButtonEl.disabled = true;  // To prevent multiple clicks.\n",
              "      quickchartButtonEl.classList.add('colab-df-spinner');\n",
              "      try {\n",
              "        const charts = await google.colab.kernel.invokeFunction(\n",
              "            'suggestCharts', [key], {});\n",
              "      } catch (error) {\n",
              "        console.error('Error during call to suggestCharts:', error);\n",
              "      }\n",
              "      quickchartButtonEl.classList.remove('colab-df-spinner');\n",
              "      quickchartButtonEl.classList.add('colab-df-quickchart-complete');\n",
              "    }\n",
              "    (() => {\n",
              "      let quickchartButtonEl =\n",
              "        document.querySelector('#df-fac38f03-d768-4db7-b6cf-2e59db27391a button');\n",
              "      quickchartButtonEl.style.display =\n",
              "        google.colab.kernel.accessAllowed ? 'block' : 'none';\n",
              "    })();\n",
              "  </script>\n",
              "</div>\n",
              "\n",
              "    </div>\n",
              "  </div>\n"
            ],
            "application/vnd.google.colaboratory.intrinsic+json": {
              "type": "dataframe",
              "variable_name": "data"
            }
          },
          "metadata": {},
          "execution_count": 6
        }
      ]
    },
    {
      "cell_type": "code",
      "source": [
        "# Tail of the data\n",
        "data.tail()"
      ],
      "metadata": {
        "colab": {
          "base_uri": "https://localhost:8080/",
          "height": 307
        },
        "id": "T9IiBHF6liMx",
        "outputId": "36dc7441-122b-4651-e76d-9972cab4cc0c"
      },
      "execution_count": 7,
      "outputs": [
        {
          "output_type": "execute_result",
          "data": {
            "text/plain": [
              "               id  vendor_id      pickup_datetime     dropoff_datetime  \\\n",
              "729317  id3905982          2  2016-05-21 13:29:38  2016-05-21 13:34:34   \n",
              "729318  id0102861          1  2016-02-22 00:43:11  2016-02-22 00:48:26   \n",
              "729319  id0439699          1  2016-04-15 18:56:48  2016-04-15 19:08:01   \n",
              "729320  id2078912          1  2016-06-19 09:50:47  2016-06-19 09:58:14   \n",
              "729321  id1053441          2  2016-01-01 17:24:16  2016-01-01 17:44:40   \n",
              "\n",
              "        passenger_count  pickup_longitude  pickup_latitude  dropoff_longitude  \\\n",
              "729317                2        -73.965919        40.789780         -73.952637   \n",
              "729318                1        -73.996666        40.737434         -74.001320   \n",
              "729319                1        -73.997849        40.761696         -74.001488   \n",
              "729320                1        -74.006706        40.708244         -74.013550   \n",
              "729321                4        -74.003342        40.743839         -73.945847   \n",
              "\n",
              "        dropoff_latitude store_and_fwd_flag  trip_duration  \n",
              "729317         40.789181                  N            296  \n",
              "729318         40.731911                  N            315  \n",
              "729319         40.741207                  N            673  \n",
              "729320         40.713814                  N            447  \n",
              "729321         40.712841                  N           1224  "
            ],
            "text/html": [
              "\n",
              "  <div id=\"df-ac28344d-8024-4b5a-88db-2a5e3c910e0d\" class=\"colab-df-container\">\n",
              "    <div>\n",
              "<style scoped>\n",
              "    .dataframe tbody tr th:only-of-type {\n",
              "        vertical-align: middle;\n",
              "    }\n",
              "\n",
              "    .dataframe tbody tr th {\n",
              "        vertical-align: top;\n",
              "    }\n",
              "\n",
              "    .dataframe thead th {\n",
              "        text-align: right;\n",
              "    }\n",
              "</style>\n",
              "<table border=\"1\" class=\"dataframe\">\n",
              "  <thead>\n",
              "    <tr style=\"text-align: right;\">\n",
              "      <th></th>\n",
              "      <th>id</th>\n",
              "      <th>vendor_id</th>\n",
              "      <th>pickup_datetime</th>\n",
              "      <th>dropoff_datetime</th>\n",
              "      <th>passenger_count</th>\n",
              "      <th>pickup_longitude</th>\n",
              "      <th>pickup_latitude</th>\n",
              "      <th>dropoff_longitude</th>\n",
              "      <th>dropoff_latitude</th>\n",
              "      <th>store_and_fwd_flag</th>\n",
              "      <th>trip_duration</th>\n",
              "    </tr>\n",
              "  </thead>\n",
              "  <tbody>\n",
              "    <tr>\n",
              "      <th>729317</th>\n",
              "      <td>id3905982</td>\n",
              "      <td>2</td>\n",
              "      <td>2016-05-21 13:29:38</td>\n",
              "      <td>2016-05-21 13:34:34</td>\n",
              "      <td>2</td>\n",
              "      <td>-73.965919</td>\n",
              "      <td>40.789780</td>\n",
              "      <td>-73.952637</td>\n",
              "      <td>40.789181</td>\n",
              "      <td>N</td>\n",
              "      <td>296</td>\n",
              "    </tr>\n",
              "    <tr>\n",
              "      <th>729318</th>\n",
              "      <td>id0102861</td>\n",
              "      <td>1</td>\n",
              "      <td>2016-02-22 00:43:11</td>\n",
              "      <td>2016-02-22 00:48:26</td>\n",
              "      <td>1</td>\n",
              "      <td>-73.996666</td>\n",
              "      <td>40.737434</td>\n",
              "      <td>-74.001320</td>\n",
              "      <td>40.731911</td>\n",
              "      <td>N</td>\n",
              "      <td>315</td>\n",
              "    </tr>\n",
              "    <tr>\n",
              "      <th>729319</th>\n",
              "      <td>id0439699</td>\n",
              "      <td>1</td>\n",
              "      <td>2016-04-15 18:56:48</td>\n",
              "      <td>2016-04-15 19:08:01</td>\n",
              "      <td>1</td>\n",
              "      <td>-73.997849</td>\n",
              "      <td>40.761696</td>\n",
              "      <td>-74.001488</td>\n",
              "      <td>40.741207</td>\n",
              "      <td>N</td>\n",
              "      <td>673</td>\n",
              "    </tr>\n",
              "    <tr>\n",
              "      <th>729320</th>\n",
              "      <td>id2078912</td>\n",
              "      <td>1</td>\n",
              "      <td>2016-06-19 09:50:47</td>\n",
              "      <td>2016-06-19 09:58:14</td>\n",
              "      <td>1</td>\n",
              "      <td>-74.006706</td>\n",
              "      <td>40.708244</td>\n",
              "      <td>-74.013550</td>\n",
              "      <td>40.713814</td>\n",
              "      <td>N</td>\n",
              "      <td>447</td>\n",
              "    </tr>\n",
              "    <tr>\n",
              "      <th>729321</th>\n",
              "      <td>id1053441</td>\n",
              "      <td>2</td>\n",
              "      <td>2016-01-01 17:24:16</td>\n",
              "      <td>2016-01-01 17:44:40</td>\n",
              "      <td>4</td>\n",
              "      <td>-74.003342</td>\n",
              "      <td>40.743839</td>\n",
              "      <td>-73.945847</td>\n",
              "      <td>40.712841</td>\n",
              "      <td>N</td>\n",
              "      <td>1224</td>\n",
              "    </tr>\n",
              "  </tbody>\n",
              "</table>\n",
              "</div>\n",
              "    <div class=\"colab-df-buttons\">\n",
              "\n",
              "  <div class=\"colab-df-container\">\n",
              "    <button class=\"colab-df-convert\" onclick=\"convertToInteractive('df-ac28344d-8024-4b5a-88db-2a5e3c910e0d')\"\n",
              "            title=\"Convert this dataframe to an interactive table.\"\n",
              "            style=\"display:none;\">\n",
              "\n",
              "  <svg xmlns=\"http://www.w3.org/2000/svg\" height=\"24px\" viewBox=\"0 -960 960 960\">\n",
              "    <path d=\"M120-120v-720h720v720H120Zm60-500h600v-160H180v160Zm220 220h160v-160H400v160Zm0 220h160v-160H400v160ZM180-400h160v-160H180v160Zm440 0h160v-160H620v160ZM180-180h160v-160H180v160Zm440 0h160v-160H620v160Z\"/>\n",
              "  </svg>\n",
              "    </button>\n",
              "\n",
              "  <style>\n",
              "    .colab-df-container {\n",
              "      display:flex;\n",
              "      gap: 12px;\n",
              "    }\n",
              "\n",
              "    .colab-df-convert {\n",
              "      background-color: #E8F0FE;\n",
              "      border: none;\n",
              "      border-radius: 50%;\n",
              "      cursor: pointer;\n",
              "      display: none;\n",
              "      fill: #1967D2;\n",
              "      height: 32px;\n",
              "      padding: 0 0 0 0;\n",
              "      width: 32px;\n",
              "    }\n",
              "\n",
              "    .colab-df-convert:hover {\n",
              "      background-color: #E2EBFA;\n",
              "      box-shadow: 0px 1px 2px rgba(60, 64, 67, 0.3), 0px 1px 3px 1px rgba(60, 64, 67, 0.15);\n",
              "      fill: #174EA6;\n",
              "    }\n",
              "\n",
              "    .colab-df-buttons div {\n",
              "      margin-bottom: 4px;\n",
              "    }\n",
              "\n",
              "    [theme=dark] .colab-df-convert {\n",
              "      background-color: #3B4455;\n",
              "      fill: #D2E3FC;\n",
              "    }\n",
              "\n",
              "    [theme=dark] .colab-df-convert:hover {\n",
              "      background-color: #434B5C;\n",
              "      box-shadow: 0px 1px 3px 1px rgba(0, 0, 0, 0.15);\n",
              "      filter: drop-shadow(0px 1px 2px rgba(0, 0, 0, 0.3));\n",
              "      fill: #FFFFFF;\n",
              "    }\n",
              "  </style>\n",
              "\n",
              "    <script>\n",
              "      const buttonEl =\n",
              "        document.querySelector('#df-ac28344d-8024-4b5a-88db-2a5e3c910e0d button.colab-df-convert');\n",
              "      buttonEl.style.display =\n",
              "        google.colab.kernel.accessAllowed ? 'block' : 'none';\n",
              "\n",
              "      async function convertToInteractive(key) {\n",
              "        const element = document.querySelector('#df-ac28344d-8024-4b5a-88db-2a5e3c910e0d');\n",
              "        const dataTable =\n",
              "          await google.colab.kernel.invokeFunction('convertToInteractive',\n",
              "                                                    [key], {});\n",
              "        if (!dataTable) return;\n",
              "\n",
              "        const docLinkHtml = 'Like what you see? Visit the ' +\n",
              "          '<a target=\"_blank\" href=https://colab.research.google.com/notebooks/data_table.ipynb>data table notebook</a>'\n",
              "          + ' to learn more about interactive tables.';\n",
              "        element.innerHTML = '';\n",
              "        dataTable['output_type'] = 'display_data';\n",
              "        await google.colab.output.renderOutput(dataTable, element);\n",
              "        const docLink = document.createElement('div');\n",
              "        docLink.innerHTML = docLinkHtml;\n",
              "        element.appendChild(docLink);\n",
              "      }\n",
              "    </script>\n",
              "  </div>\n",
              "\n",
              "\n",
              "<div id=\"df-fb1bcf98-21e4-437b-b43b-108665d0d1a6\">\n",
              "  <button class=\"colab-df-quickchart\" onclick=\"quickchart('df-fb1bcf98-21e4-437b-b43b-108665d0d1a6')\"\n",
              "            title=\"Suggest charts\"\n",
              "            style=\"display:none;\">\n",
              "\n",
              "<svg xmlns=\"http://www.w3.org/2000/svg\" height=\"24px\"viewBox=\"0 0 24 24\"\n",
              "     width=\"24px\">\n",
              "    <g>\n",
              "        <path d=\"M19 3H5c-1.1 0-2 .9-2 2v14c0 1.1.9 2 2 2h14c1.1 0 2-.9 2-2V5c0-1.1-.9-2-2-2zM9 17H7v-7h2v7zm4 0h-2V7h2v10zm4 0h-2v-4h2v4z\"/>\n",
              "    </g>\n",
              "</svg>\n",
              "  </button>\n",
              "\n",
              "<style>\n",
              "  .colab-df-quickchart {\n",
              "      --bg-color: #E8F0FE;\n",
              "      --fill-color: #1967D2;\n",
              "      --hover-bg-color: #E2EBFA;\n",
              "      --hover-fill-color: #174EA6;\n",
              "      --disabled-fill-color: #AAA;\n",
              "      --disabled-bg-color: #DDD;\n",
              "  }\n",
              "\n",
              "  [theme=dark] .colab-df-quickchart {\n",
              "      --bg-color: #3B4455;\n",
              "      --fill-color: #D2E3FC;\n",
              "      --hover-bg-color: #434B5C;\n",
              "      --hover-fill-color: #FFFFFF;\n",
              "      --disabled-bg-color: #3B4455;\n",
              "      --disabled-fill-color: #666;\n",
              "  }\n",
              "\n",
              "  .colab-df-quickchart {\n",
              "    background-color: var(--bg-color);\n",
              "    border: none;\n",
              "    border-radius: 50%;\n",
              "    cursor: pointer;\n",
              "    display: none;\n",
              "    fill: var(--fill-color);\n",
              "    height: 32px;\n",
              "    padding: 0;\n",
              "    width: 32px;\n",
              "  }\n",
              "\n",
              "  .colab-df-quickchart:hover {\n",
              "    background-color: var(--hover-bg-color);\n",
              "    box-shadow: 0 1px 2px rgba(60, 64, 67, 0.3), 0 1px 3px 1px rgba(60, 64, 67, 0.15);\n",
              "    fill: var(--button-hover-fill-color);\n",
              "  }\n",
              "\n",
              "  .colab-df-quickchart-complete:disabled,\n",
              "  .colab-df-quickchart-complete:disabled:hover {\n",
              "    background-color: var(--disabled-bg-color);\n",
              "    fill: var(--disabled-fill-color);\n",
              "    box-shadow: none;\n",
              "  }\n",
              "\n",
              "  .colab-df-spinner {\n",
              "    border: 2px solid var(--fill-color);\n",
              "    border-color: transparent;\n",
              "    border-bottom-color: var(--fill-color);\n",
              "    animation:\n",
              "      spin 1s steps(1) infinite;\n",
              "  }\n",
              "\n",
              "  @keyframes spin {\n",
              "    0% {\n",
              "      border-color: transparent;\n",
              "      border-bottom-color: var(--fill-color);\n",
              "      border-left-color: var(--fill-color);\n",
              "    }\n",
              "    20% {\n",
              "      border-color: transparent;\n",
              "      border-left-color: var(--fill-color);\n",
              "      border-top-color: var(--fill-color);\n",
              "    }\n",
              "    30% {\n",
              "      border-color: transparent;\n",
              "      border-left-color: var(--fill-color);\n",
              "      border-top-color: var(--fill-color);\n",
              "      border-right-color: var(--fill-color);\n",
              "    }\n",
              "    40% {\n",
              "      border-color: transparent;\n",
              "      border-right-color: var(--fill-color);\n",
              "      border-top-color: var(--fill-color);\n",
              "    }\n",
              "    60% {\n",
              "      border-color: transparent;\n",
              "      border-right-color: var(--fill-color);\n",
              "    }\n",
              "    80% {\n",
              "      border-color: transparent;\n",
              "      border-right-color: var(--fill-color);\n",
              "      border-bottom-color: var(--fill-color);\n",
              "    }\n",
              "    90% {\n",
              "      border-color: transparent;\n",
              "      border-bottom-color: var(--fill-color);\n",
              "    }\n",
              "  }\n",
              "</style>\n",
              "\n",
              "  <script>\n",
              "    async function quickchart(key) {\n",
              "      const quickchartButtonEl =\n",
              "        document.querySelector('#' + key + ' button');\n",
              "      quickchartButtonEl.disabled = true;  // To prevent multiple clicks.\n",
              "      quickchartButtonEl.classList.add('colab-df-spinner');\n",
              "      try {\n",
              "        const charts = await google.colab.kernel.invokeFunction(\n",
              "            'suggestCharts', [key], {});\n",
              "      } catch (error) {\n",
              "        console.error('Error during call to suggestCharts:', error);\n",
              "      }\n",
              "      quickchartButtonEl.classList.remove('colab-df-spinner');\n",
              "      quickchartButtonEl.classList.add('colab-df-quickchart-complete');\n",
              "    }\n",
              "    (() => {\n",
              "      let quickchartButtonEl =\n",
              "        document.querySelector('#df-fb1bcf98-21e4-437b-b43b-108665d0d1a6 button');\n",
              "      quickchartButtonEl.style.display =\n",
              "        google.colab.kernel.accessAllowed ? 'block' : 'none';\n",
              "    })();\n",
              "  </script>\n",
              "</div>\n",
              "\n",
              "    </div>\n",
              "  </div>\n"
            ],
            "application/vnd.google.colaboratory.intrinsic+json": {
              "type": "dataframe",
              "repr_error": "0"
            }
          },
          "metadata": {},
          "execution_count": 7
        }
      ]
    },
    {
      "cell_type": "code",
      "source": [
        "# Analysis of the shape f the dataframe\n",
        "data.shape\n",
        "# The dataset consists of 729322 rows and 11 columns\n",
        "# 729322 taxi trips and 11 features"
      ],
      "metadata": {
        "colab": {
          "base_uri": "https://localhost:8080/"
        },
        "id": "Q7NEQVCnllEr",
        "outputId": "4c65309d-753b-4e16-e603-997e4e96c139"
      },
      "execution_count": 8,
      "outputs": [
        {
          "output_type": "execute_result",
          "data": {
            "text/plain": [
              "(729322, 11)"
            ]
          },
          "metadata": {},
          "execution_count": 8
        }
      ]
    },
    {
      "cell_type": "code",
      "source": [
        "# Analysis of the datatypes of the columns\n",
        "data.dtypes"
      ],
      "metadata": {
        "colab": {
          "base_uri": "https://localhost:8080/",
          "height": 441
        },
        "id": "ZUmfyGgNlq5p",
        "outputId": "3a34d917-377a-486a-c37c-e9901d08a9aa"
      },
      "execution_count": 9,
      "outputs": [
        {
          "output_type": "execute_result",
          "data": {
            "text/plain": [
              "id                     object\n",
              "vendor_id               int64\n",
              "pickup_datetime        object\n",
              "dropoff_datetime       object\n",
              "passenger_count         int64\n",
              "pickup_longitude      float64\n",
              "pickup_latitude       float64\n",
              "dropoff_longitude     float64\n",
              "dropoff_latitude      float64\n",
              "store_and_fwd_flag     object\n",
              "trip_duration           int64\n",
              "dtype: object"
            ],
            "text/html": [
              "<div>\n",
              "<style scoped>\n",
              "    .dataframe tbody tr th:only-of-type {\n",
              "        vertical-align: middle;\n",
              "    }\n",
              "\n",
              "    .dataframe tbody tr th {\n",
              "        vertical-align: top;\n",
              "    }\n",
              "\n",
              "    .dataframe thead th {\n",
              "        text-align: right;\n",
              "    }\n",
              "</style>\n",
              "<table border=\"1\" class=\"dataframe\">\n",
              "  <thead>\n",
              "    <tr style=\"text-align: right;\">\n",
              "      <th></th>\n",
              "      <th>0</th>\n",
              "    </tr>\n",
              "  </thead>\n",
              "  <tbody>\n",
              "    <tr>\n",
              "      <th>id</th>\n",
              "      <td>object</td>\n",
              "    </tr>\n",
              "    <tr>\n",
              "      <th>vendor_id</th>\n",
              "      <td>int64</td>\n",
              "    </tr>\n",
              "    <tr>\n",
              "      <th>pickup_datetime</th>\n",
              "      <td>object</td>\n",
              "    </tr>\n",
              "    <tr>\n",
              "      <th>dropoff_datetime</th>\n",
              "      <td>object</td>\n",
              "    </tr>\n",
              "    <tr>\n",
              "      <th>passenger_count</th>\n",
              "      <td>int64</td>\n",
              "    </tr>\n",
              "    <tr>\n",
              "      <th>pickup_longitude</th>\n",
              "      <td>float64</td>\n",
              "    </tr>\n",
              "    <tr>\n",
              "      <th>pickup_latitude</th>\n",
              "      <td>float64</td>\n",
              "    </tr>\n",
              "    <tr>\n",
              "      <th>dropoff_longitude</th>\n",
              "      <td>float64</td>\n",
              "    </tr>\n",
              "    <tr>\n",
              "      <th>dropoff_latitude</th>\n",
              "      <td>float64</td>\n",
              "    </tr>\n",
              "    <tr>\n",
              "      <th>store_and_fwd_flag</th>\n",
              "      <td>object</td>\n",
              "    </tr>\n",
              "    <tr>\n",
              "      <th>trip_duration</th>\n",
              "      <td>int64</td>\n",
              "    </tr>\n",
              "  </tbody>\n",
              "</table>\n",
              "</div><br><label><b>dtype:</b> object</label>"
            ]
          },
          "metadata": {},
          "execution_count": 9
        }
      ]
    },
    {
      "cell_type": "code",
      "source": [
        "# Geeting the info function:\n",
        "data.info()"
      ],
      "metadata": {
        "colab": {
          "base_uri": "https://localhost:8080/"
        },
        "id": "IaGdMEENl28R",
        "outputId": "875557a9-1eee-434e-ac25-c0b242e7aee2"
      },
      "execution_count": 10,
      "outputs": [
        {
          "output_type": "stream",
          "name": "stdout",
          "text": [
            "<class 'pandas.core.frame.DataFrame'>\n",
            "RangeIndex: 729322 entries, 0 to 729321\n",
            "Data columns (total 11 columns):\n",
            " #   Column              Non-Null Count   Dtype  \n",
            "---  ------              --------------   -----  \n",
            " 0   id                  729322 non-null  object \n",
            " 1   vendor_id           729322 non-null  int64  \n",
            " 2   pickup_datetime     729322 non-null  object \n",
            " 3   dropoff_datetime    729322 non-null  object \n",
            " 4   passenger_count     729322 non-null  int64  \n",
            " 5   pickup_longitude    729322 non-null  float64\n",
            " 6   pickup_latitude     729322 non-null  float64\n",
            " 7   dropoff_longitude   729322 non-null  float64\n",
            " 8   dropoff_latitude    729322 non-null  float64\n",
            " 9   store_and_fwd_flag  729322 non-null  object \n",
            " 10  trip_duration       729322 non-null  int64  \n",
            "dtypes: float64(4), int64(3), object(4)\n",
            "memory usage: 61.2+ MB\n"
          ]
        }
      ]
    },
    {
      "cell_type": "code",
      "source": [
        "# Check for missing values\n",
        "data.isnull().sum()\n",
        "# Conclusion: no missing values"
      ],
      "metadata": {
        "colab": {
          "base_uri": "https://localhost:8080/",
          "height": 441
        },
        "id": "mL5wh4_5lw1R",
        "outputId": "ee859f10-6702-4aa3-f2b7-e6d74b641a4d"
      },
      "execution_count": 11,
      "outputs": [
        {
          "output_type": "execute_result",
          "data": {
            "text/plain": [
              "id                    0\n",
              "vendor_id             0\n",
              "pickup_datetime       0\n",
              "dropoff_datetime      0\n",
              "passenger_count       0\n",
              "pickup_longitude      0\n",
              "pickup_latitude       0\n",
              "dropoff_longitude     0\n",
              "dropoff_latitude      0\n",
              "store_and_fwd_flag    0\n",
              "trip_duration         0\n",
              "dtype: int64"
            ],
            "text/html": [
              "<div>\n",
              "<style scoped>\n",
              "    .dataframe tbody tr th:only-of-type {\n",
              "        vertical-align: middle;\n",
              "    }\n",
              "\n",
              "    .dataframe tbody tr th {\n",
              "        vertical-align: top;\n",
              "    }\n",
              "\n",
              "    .dataframe thead th {\n",
              "        text-align: right;\n",
              "    }\n",
              "</style>\n",
              "<table border=\"1\" class=\"dataframe\">\n",
              "  <thead>\n",
              "    <tr style=\"text-align: right;\">\n",
              "      <th></th>\n",
              "      <th>0</th>\n",
              "    </tr>\n",
              "  </thead>\n",
              "  <tbody>\n",
              "    <tr>\n",
              "      <th>id</th>\n",
              "      <td>0</td>\n",
              "    </tr>\n",
              "    <tr>\n",
              "      <th>vendor_id</th>\n",
              "      <td>0</td>\n",
              "    </tr>\n",
              "    <tr>\n",
              "      <th>pickup_datetime</th>\n",
              "      <td>0</td>\n",
              "    </tr>\n",
              "    <tr>\n",
              "      <th>dropoff_datetime</th>\n",
              "      <td>0</td>\n",
              "    </tr>\n",
              "    <tr>\n",
              "      <th>passenger_count</th>\n",
              "      <td>0</td>\n",
              "    </tr>\n",
              "    <tr>\n",
              "      <th>pickup_longitude</th>\n",
              "      <td>0</td>\n",
              "    </tr>\n",
              "    <tr>\n",
              "      <th>pickup_latitude</th>\n",
              "      <td>0</td>\n",
              "    </tr>\n",
              "    <tr>\n",
              "      <th>dropoff_longitude</th>\n",
              "      <td>0</td>\n",
              "    </tr>\n",
              "    <tr>\n",
              "      <th>dropoff_latitude</th>\n",
              "      <td>0</td>\n",
              "    </tr>\n",
              "    <tr>\n",
              "      <th>store_and_fwd_flag</th>\n",
              "      <td>0</td>\n",
              "    </tr>\n",
              "    <tr>\n",
              "      <th>trip_duration</th>\n",
              "      <td>0</td>\n",
              "    </tr>\n",
              "  </tbody>\n",
              "</table>\n",
              "</div><br><label><b>dtype:</b> int64</label>"
            ]
          },
          "metadata": {},
          "execution_count": 11
        }
      ]
    },
    {
      "cell_type": "code",
      "source": [
        "# Lets see the dataset description (for all numerical columns)\n",
        "data.describe()"
      ],
      "metadata": {
        "colab": {
          "base_uri": "https://localhost:8080/",
          "height": 316
        },
        "id": "G2_r9gMxl0i9",
        "outputId": "efdd5e9b-4f3c-4a6e-806d-93afa0f95345"
      },
      "execution_count": 12,
      "outputs": [
        {
          "output_type": "execute_result",
          "data": {
            "text/plain": [
              "           vendor_id  passenger_count  pickup_longitude  pickup_latitude  \\\n",
              "count  729322.000000    729322.000000     729322.000000    729322.000000   \n",
              "mean        1.535403         1.662055        -73.973513        40.750919   \n",
              "std         0.498745         1.312446          0.069754         0.033594   \n",
              "min         1.000000         0.000000       -121.933342        34.712234   \n",
              "25%         1.000000         1.000000        -73.991859        40.737335   \n",
              "50%         2.000000         1.000000        -73.981758        40.754070   \n",
              "75%         2.000000         2.000000        -73.967361        40.768314   \n",
              "max         2.000000         9.000000        -65.897385        51.881084   \n",
              "\n",
              "       dropoff_longitude  dropoff_latitude  trip_duration  \n",
              "count      729322.000000     729322.000000   7.293220e+05  \n",
              "mean          -73.973422         40.751775   9.522291e+02  \n",
              "std             0.069588          0.036037   3.864626e+03  \n",
              "min          -121.933304         32.181141   1.000000e+00  \n",
              "25%           -73.991318         40.735931   3.970000e+02  \n",
              "50%           -73.979759         40.754509   6.630000e+02  \n",
              "75%           -73.963036         40.769741   1.075000e+03  \n",
              "max           -65.897385         43.921028   1.939736e+06  "
            ],
            "text/html": [
              "\n",
              "  <div id=\"df-82add0ec-347f-4b8e-9b0a-fa7b2deddc1c\" class=\"colab-df-container\">\n",
              "    <div>\n",
              "<style scoped>\n",
              "    .dataframe tbody tr th:only-of-type {\n",
              "        vertical-align: middle;\n",
              "    }\n",
              "\n",
              "    .dataframe tbody tr th {\n",
              "        vertical-align: top;\n",
              "    }\n",
              "\n",
              "    .dataframe thead th {\n",
              "        text-align: right;\n",
              "    }\n",
              "</style>\n",
              "<table border=\"1\" class=\"dataframe\">\n",
              "  <thead>\n",
              "    <tr style=\"text-align: right;\">\n",
              "      <th></th>\n",
              "      <th>vendor_id</th>\n",
              "      <th>passenger_count</th>\n",
              "      <th>pickup_longitude</th>\n",
              "      <th>pickup_latitude</th>\n",
              "      <th>dropoff_longitude</th>\n",
              "      <th>dropoff_latitude</th>\n",
              "      <th>trip_duration</th>\n",
              "    </tr>\n",
              "  </thead>\n",
              "  <tbody>\n",
              "    <tr>\n",
              "      <th>count</th>\n",
              "      <td>729322.000000</td>\n",
              "      <td>729322.000000</td>\n",
              "      <td>729322.000000</td>\n",
              "      <td>729322.000000</td>\n",
              "      <td>729322.000000</td>\n",
              "      <td>729322.000000</td>\n",
              "      <td>7.293220e+05</td>\n",
              "    </tr>\n",
              "    <tr>\n",
              "      <th>mean</th>\n",
              "      <td>1.535403</td>\n",
              "      <td>1.662055</td>\n",
              "      <td>-73.973513</td>\n",
              "      <td>40.750919</td>\n",
              "      <td>-73.973422</td>\n",
              "      <td>40.751775</td>\n",
              "      <td>9.522291e+02</td>\n",
              "    </tr>\n",
              "    <tr>\n",
              "      <th>std</th>\n",
              "      <td>0.498745</td>\n",
              "      <td>1.312446</td>\n",
              "      <td>0.069754</td>\n",
              "      <td>0.033594</td>\n",
              "      <td>0.069588</td>\n",
              "      <td>0.036037</td>\n",
              "      <td>3.864626e+03</td>\n",
              "    </tr>\n",
              "    <tr>\n",
              "      <th>min</th>\n",
              "      <td>1.000000</td>\n",
              "      <td>0.000000</td>\n",
              "      <td>-121.933342</td>\n",
              "      <td>34.712234</td>\n",
              "      <td>-121.933304</td>\n",
              "      <td>32.181141</td>\n",
              "      <td>1.000000e+00</td>\n",
              "    </tr>\n",
              "    <tr>\n",
              "      <th>25%</th>\n",
              "      <td>1.000000</td>\n",
              "      <td>1.000000</td>\n",
              "      <td>-73.991859</td>\n",
              "      <td>40.737335</td>\n",
              "      <td>-73.991318</td>\n",
              "      <td>40.735931</td>\n",
              "      <td>3.970000e+02</td>\n",
              "    </tr>\n",
              "    <tr>\n",
              "      <th>50%</th>\n",
              "      <td>2.000000</td>\n",
              "      <td>1.000000</td>\n",
              "      <td>-73.981758</td>\n",
              "      <td>40.754070</td>\n",
              "      <td>-73.979759</td>\n",
              "      <td>40.754509</td>\n",
              "      <td>6.630000e+02</td>\n",
              "    </tr>\n",
              "    <tr>\n",
              "      <th>75%</th>\n",
              "      <td>2.000000</td>\n",
              "      <td>2.000000</td>\n",
              "      <td>-73.967361</td>\n",
              "      <td>40.768314</td>\n",
              "      <td>-73.963036</td>\n",
              "      <td>40.769741</td>\n",
              "      <td>1.075000e+03</td>\n",
              "    </tr>\n",
              "    <tr>\n",
              "      <th>max</th>\n",
              "      <td>2.000000</td>\n",
              "      <td>9.000000</td>\n",
              "      <td>-65.897385</td>\n",
              "      <td>51.881084</td>\n",
              "      <td>-65.897385</td>\n",
              "      <td>43.921028</td>\n",
              "      <td>1.939736e+06</td>\n",
              "    </tr>\n",
              "  </tbody>\n",
              "</table>\n",
              "</div>\n",
              "    <div class=\"colab-df-buttons\">\n",
              "\n",
              "  <div class=\"colab-df-container\">\n",
              "    <button class=\"colab-df-convert\" onclick=\"convertToInteractive('df-82add0ec-347f-4b8e-9b0a-fa7b2deddc1c')\"\n",
              "            title=\"Convert this dataframe to an interactive table.\"\n",
              "            style=\"display:none;\">\n",
              "\n",
              "  <svg xmlns=\"http://www.w3.org/2000/svg\" height=\"24px\" viewBox=\"0 -960 960 960\">\n",
              "    <path d=\"M120-120v-720h720v720H120Zm60-500h600v-160H180v160Zm220 220h160v-160H400v160Zm0 220h160v-160H400v160ZM180-400h160v-160H180v160Zm440 0h160v-160H620v160ZM180-180h160v-160H180v160Zm440 0h160v-160H620v160Z\"/>\n",
              "  </svg>\n",
              "    </button>\n",
              "\n",
              "  <style>\n",
              "    .colab-df-container {\n",
              "      display:flex;\n",
              "      gap: 12px;\n",
              "    }\n",
              "\n",
              "    .colab-df-convert {\n",
              "      background-color: #E8F0FE;\n",
              "      border: none;\n",
              "      border-radius: 50%;\n",
              "      cursor: pointer;\n",
              "      display: none;\n",
              "      fill: #1967D2;\n",
              "      height: 32px;\n",
              "      padding: 0 0 0 0;\n",
              "      width: 32px;\n",
              "    }\n",
              "\n",
              "    .colab-df-convert:hover {\n",
              "      background-color: #E2EBFA;\n",
              "      box-shadow: 0px 1px 2px rgba(60, 64, 67, 0.3), 0px 1px 3px 1px rgba(60, 64, 67, 0.15);\n",
              "      fill: #174EA6;\n",
              "    }\n",
              "\n",
              "    .colab-df-buttons div {\n",
              "      margin-bottom: 4px;\n",
              "    }\n",
              "\n",
              "    [theme=dark] .colab-df-convert {\n",
              "      background-color: #3B4455;\n",
              "      fill: #D2E3FC;\n",
              "    }\n",
              "\n",
              "    [theme=dark] .colab-df-convert:hover {\n",
              "      background-color: #434B5C;\n",
              "      box-shadow: 0px 1px 3px 1px rgba(0, 0, 0, 0.15);\n",
              "      filter: drop-shadow(0px 1px 2px rgba(0, 0, 0, 0.3));\n",
              "      fill: #FFFFFF;\n",
              "    }\n",
              "  </style>\n",
              "\n",
              "    <script>\n",
              "      const buttonEl =\n",
              "        document.querySelector('#df-82add0ec-347f-4b8e-9b0a-fa7b2deddc1c button.colab-df-convert');\n",
              "      buttonEl.style.display =\n",
              "        google.colab.kernel.accessAllowed ? 'block' : 'none';\n",
              "\n",
              "      async function convertToInteractive(key) {\n",
              "        const element = document.querySelector('#df-82add0ec-347f-4b8e-9b0a-fa7b2deddc1c');\n",
              "        const dataTable =\n",
              "          await google.colab.kernel.invokeFunction('convertToInteractive',\n",
              "                                                    [key], {});\n",
              "        if (!dataTable) return;\n",
              "\n",
              "        const docLinkHtml = 'Like what you see? Visit the ' +\n",
              "          '<a target=\"_blank\" href=https://colab.research.google.com/notebooks/data_table.ipynb>data table notebook</a>'\n",
              "          + ' to learn more about interactive tables.';\n",
              "        element.innerHTML = '';\n",
              "        dataTable['output_type'] = 'display_data';\n",
              "        await google.colab.output.renderOutput(dataTable, element);\n",
              "        const docLink = document.createElement('div');\n",
              "        docLink.innerHTML = docLinkHtml;\n",
              "        element.appendChild(docLink);\n",
              "      }\n",
              "    </script>\n",
              "  </div>\n",
              "\n",
              "\n",
              "<div id=\"df-26e487ce-7d21-4da0-9a1f-755b1aca6710\">\n",
              "  <button class=\"colab-df-quickchart\" onclick=\"quickchart('df-26e487ce-7d21-4da0-9a1f-755b1aca6710')\"\n",
              "            title=\"Suggest charts\"\n",
              "            style=\"display:none;\">\n",
              "\n",
              "<svg xmlns=\"http://www.w3.org/2000/svg\" height=\"24px\"viewBox=\"0 0 24 24\"\n",
              "     width=\"24px\">\n",
              "    <g>\n",
              "        <path d=\"M19 3H5c-1.1 0-2 .9-2 2v14c0 1.1.9 2 2 2h14c1.1 0 2-.9 2-2V5c0-1.1-.9-2-2-2zM9 17H7v-7h2v7zm4 0h-2V7h2v10zm4 0h-2v-4h2v4z\"/>\n",
              "    </g>\n",
              "</svg>\n",
              "  </button>\n",
              "\n",
              "<style>\n",
              "  .colab-df-quickchart {\n",
              "      --bg-color: #E8F0FE;\n",
              "      --fill-color: #1967D2;\n",
              "      --hover-bg-color: #E2EBFA;\n",
              "      --hover-fill-color: #174EA6;\n",
              "      --disabled-fill-color: #AAA;\n",
              "      --disabled-bg-color: #DDD;\n",
              "  }\n",
              "\n",
              "  [theme=dark] .colab-df-quickchart {\n",
              "      --bg-color: #3B4455;\n",
              "      --fill-color: #D2E3FC;\n",
              "      --hover-bg-color: #434B5C;\n",
              "      --hover-fill-color: #FFFFFF;\n",
              "      --disabled-bg-color: #3B4455;\n",
              "      --disabled-fill-color: #666;\n",
              "  }\n",
              "\n",
              "  .colab-df-quickchart {\n",
              "    background-color: var(--bg-color);\n",
              "    border: none;\n",
              "    border-radius: 50%;\n",
              "    cursor: pointer;\n",
              "    display: none;\n",
              "    fill: var(--fill-color);\n",
              "    height: 32px;\n",
              "    padding: 0;\n",
              "    width: 32px;\n",
              "  }\n",
              "\n",
              "  .colab-df-quickchart:hover {\n",
              "    background-color: var(--hover-bg-color);\n",
              "    box-shadow: 0 1px 2px rgba(60, 64, 67, 0.3), 0 1px 3px 1px rgba(60, 64, 67, 0.15);\n",
              "    fill: var(--button-hover-fill-color);\n",
              "  }\n",
              "\n",
              "  .colab-df-quickchart-complete:disabled,\n",
              "  .colab-df-quickchart-complete:disabled:hover {\n",
              "    background-color: var(--disabled-bg-color);\n",
              "    fill: var(--disabled-fill-color);\n",
              "    box-shadow: none;\n",
              "  }\n",
              "\n",
              "  .colab-df-spinner {\n",
              "    border: 2px solid var(--fill-color);\n",
              "    border-color: transparent;\n",
              "    border-bottom-color: var(--fill-color);\n",
              "    animation:\n",
              "      spin 1s steps(1) infinite;\n",
              "  }\n",
              "\n",
              "  @keyframes spin {\n",
              "    0% {\n",
              "      border-color: transparent;\n",
              "      border-bottom-color: var(--fill-color);\n",
              "      border-left-color: var(--fill-color);\n",
              "    }\n",
              "    20% {\n",
              "      border-color: transparent;\n",
              "      border-left-color: var(--fill-color);\n",
              "      border-top-color: var(--fill-color);\n",
              "    }\n",
              "    30% {\n",
              "      border-color: transparent;\n",
              "      border-left-color: var(--fill-color);\n",
              "      border-top-color: var(--fill-color);\n",
              "      border-right-color: var(--fill-color);\n",
              "    }\n",
              "    40% {\n",
              "      border-color: transparent;\n",
              "      border-right-color: var(--fill-color);\n",
              "      border-top-color: var(--fill-color);\n",
              "    }\n",
              "    60% {\n",
              "      border-color: transparent;\n",
              "      border-right-color: var(--fill-color);\n",
              "    }\n",
              "    80% {\n",
              "      border-color: transparent;\n",
              "      border-right-color: var(--fill-color);\n",
              "      border-bottom-color: var(--fill-color);\n",
              "    }\n",
              "    90% {\n",
              "      border-color: transparent;\n",
              "      border-bottom-color: var(--fill-color);\n",
              "    }\n",
              "  }\n",
              "</style>\n",
              "\n",
              "  <script>\n",
              "    async function quickchart(key) {\n",
              "      const quickchartButtonEl =\n",
              "        document.querySelector('#' + key + ' button');\n",
              "      quickchartButtonEl.disabled = true;  // To prevent multiple clicks.\n",
              "      quickchartButtonEl.classList.add('colab-df-spinner');\n",
              "      try {\n",
              "        const charts = await google.colab.kernel.invokeFunction(\n",
              "            'suggestCharts', [key], {});\n",
              "      } catch (error) {\n",
              "        console.error('Error during call to suggestCharts:', error);\n",
              "      }\n",
              "      quickchartButtonEl.classList.remove('colab-df-spinner');\n",
              "      quickchartButtonEl.classList.add('colab-df-quickchart-complete');\n",
              "    }\n",
              "    (() => {\n",
              "      let quickchartButtonEl =\n",
              "        document.querySelector('#df-26e487ce-7d21-4da0-9a1f-755b1aca6710 button');\n",
              "      quickchartButtonEl.style.display =\n",
              "        google.colab.kernel.accessAllowed ? 'block' : 'none';\n",
              "    })();\n",
              "  </script>\n",
              "</div>\n",
              "\n",
              "    </div>\n",
              "  </div>\n"
            ],
            "application/vnd.google.colaboratory.intrinsic+json": {
              "type": "dataframe",
              "summary": "{\n  \"name\": \"data\",\n  \"rows\": 8,\n  \"fields\": [\n    {\n      \"column\": \"vendor_id\",\n      \"properties\": {\n        \"dtype\": \"number\",\n        \"std\": 257853.75913386865,\n        \"min\": 0.49874541279901935,\n        \"max\": 729322.0,\n        \"num_unique_values\": 5,\n        \"samples\": [\n          1.5354027439183242,\n          2.0,\n          0.49874541279901935\n        ],\n        \"semantic_type\": \"\",\n        \"description\": \"\"\n      }\n    },\n    {\n      \"column\": \"passenger_count\",\n      \"properties\": {\n        \"dtype\": \"number\",\n        \"std\": 257853.45911540854,\n        \"min\": 0.0,\n        \"max\": 729322.0,\n        \"num_unique_values\": 7,\n        \"samples\": [\n          729322.0,\n          1.6620546205928246,\n          2.0\n        ],\n        \"semantic_type\": \"\",\n        \"description\": \"\"\n      }\n    },\n    {\n      \"column\": \"pickup_longitude\",\n      \"properties\": {\n        \"dtype\": \"number\",\n        \"std\": 257878.69736194593,\n        \"min\": -121.93334197998048,\n        \"max\": 729322.0,\n        \"num_unique_values\": 8,\n        \"samples\": [\n          -73.97351307454848,\n          -73.98175811767578,\n          729322.0\n        ],\n        \"semantic_type\": \"\",\n        \"description\": \"\"\n      }\n    },\n    {\n      \"column\": \"pickup_latitude\",\n      \"properties\": {\n        \"dtype\": \"number\",\n        \"std\": 257841.6577873508,\n        \"min\": 0.03359412072122805,\n        \"max\": 729322.0,\n        \"num_unique_values\": 8,\n        \"samples\": [\n          40.75091887972495,\n          40.754070281982415,\n          729322.0\n        ],\n        \"semantic_type\": \"\",\n        \"description\": \"\"\n      }\n    },\n    {\n      \"column\": \"dropoff_longitude\",\n      \"properties\": {\n        \"dtype\": \"number\",\n        \"std\": 257878.69701696263,\n        \"min\": -121.9333038330078,\n        \"max\": 729322.0,\n        \"num_unique_values\": 8,\n        \"samples\": [\n          -73.97342219209891,\n          -73.9797592163086,\n          729322.0\n        ],\n        \"semantic_type\": \"\",\n        \"description\": \"\"\n      }\n    },\n    {\n      \"column\": \"dropoff_latitude\",\n      \"properties\": {\n        \"dtype\": \"number\",\n        \"std\": 257842.1874252027,\n        \"min\": 0.03603721108730259,\n        \"max\": 729322.0,\n        \"num_unique_values\": 8,\n        \"samples\": [\n          40.751775436975464,\n          40.75450897216797,\n          729322.0\n        ],\n        \"semantic_type\": \"\",\n        \"description\": \"\"\n      }\n    },\n    {\n      \"column\": \"trip_duration\",\n      \"properties\": {\n        \"dtype\": \"number\",\n        \"std\": 696867.9585964862,\n        \"min\": 1.0,\n        \"max\": 1939736.0,\n        \"num_unique_values\": 8,\n        \"samples\": [\n          952.2291333594764,\n          663.0,\n          729322.0\n        ],\n        \"semantic_type\": \"\",\n        \"description\": \"\"\n      }\n    }\n  ]\n}"
            }
          },
          "metadata": {},
          "execution_count": 12
        }
      ]
    },
    {
      "cell_type": "code",
      "source": [
        "## cheaking if any duplicate values\n",
        "data.duplicated().sum()\n",
        "## no duplicated values"
      ],
      "metadata": {
        "colab": {
          "base_uri": "https://localhost:8080/"
        },
        "id": "gGbvYHdUmAQS",
        "outputId": "cb5df4fb-e2eb-4fce-b64c-dce82f87a708"
      },
      "execution_count": 13,
      "outputs": [
        {
          "output_type": "execute_result",
          "data": {
            "text/plain": [
              "0"
            ]
          },
          "metadata": {},
          "execution_count": 13
        }
      ]
    },
    {
      "cell_type": "markdown",
      "source": [
        "# Encoding"
      ],
      "metadata": {
        "id": "if2iPkNKpkte"
      }
    },
    {
      "cell_type": "markdown",
      "source": [
        "let's analyze each column in the provided data and suggest appropriate encoding techniques based on the nature of the data:\n",
        "\n",
        "1. **id**: a unique identifier for each trip.\n",
        "\n",
        "2. **Vendor_id**: a code indicating the provider associated with the trip record.\n",
        "\n",
        "3. **Pickup_datetime**: date and time when the meter was engaged.\n",
        "\n",
        "4. **Dropoff_datetime**: date and time when the meter was disengaged.\n",
        "\n",
        "5. **Passenger_count**: the number of passengers in the vehicle (driver entered value).\n",
        "\n",
        "6. **Pickup_longitude**: the longitude where the meter was engaged.\n",
        "\n",
        "7. **pickup_latitude**: the latitude where the meter was engaged.\n",
        "\n",
        "8. **Dropoff_longitude**: the longitude where the meter was disengaged.\n",
        "\n",
        "9. **Dropoff_latitude**: the latitude where the meter was disengaged.\n",
        "\n",
        "10. **Store_and_fwd _flag**: This flag indicates whether the trip record was held in vehicle memory before sending to the vendor because the vehicle did not have a connection to the server (Y=store and forward; N=not a store and forward trip).\n",
        "\n",
        "11. **trip_duration**: (target) duration of the trip in seconds.\n"
      ],
      "metadata": {
        "id": "9T4M1JXlpp9-"
      }
    },
    {
      "cell_type": "markdown",
      "source": [
        "# Integer Data Type\n"
      ],
      "metadata": {
        "id": "kpSHqM1atl82"
      }
    },
    {
      "cell_type": "code",
      "source": [
        "# Identifying variables with integer datatype\n",
        "data.dtypes[data.dtypes == 'int64']"
      ],
      "metadata": {
        "colab": {
          "base_uri": "https://localhost:8080/",
          "height": 195
        },
        "id": "oQaRKVshsU42",
        "outputId": "e1cd472b-7a85-4978-ff3f-44eb7b6a4bbb"
      },
      "execution_count": 14,
      "outputs": [
        {
          "output_type": "execute_result",
          "data": {
            "text/plain": [
              "vendor_id          int64\n",
              "passenger_count    int64\n",
              "trip_duration      int64\n",
              "dtype: object"
            ],
            "text/html": [
              "<div>\n",
              "<style scoped>\n",
              "    .dataframe tbody tr th:only-of-type {\n",
              "        vertical-align: middle;\n",
              "    }\n",
              "\n",
              "    .dataframe tbody tr th {\n",
              "        vertical-align: top;\n",
              "    }\n",
              "\n",
              "    .dataframe thead th {\n",
              "        text-align: right;\n",
              "    }\n",
              "</style>\n",
              "<table border=\"1\" class=\"dataframe\">\n",
              "  <thead>\n",
              "    <tr style=\"text-align: right;\">\n",
              "      <th></th>\n",
              "      <th>0</th>\n",
              "    </tr>\n",
              "  </thead>\n",
              "  <tbody>\n",
              "    <tr>\n",
              "      <th>vendor_id</th>\n",
              "      <td>int64</td>\n",
              "    </tr>\n",
              "    <tr>\n",
              "      <th>passenger_count</th>\n",
              "      <td>int64</td>\n",
              "    </tr>\n",
              "    <tr>\n",
              "      <th>trip_duration</th>\n",
              "      <td>int64</td>\n",
              "    </tr>\n",
              "  </tbody>\n",
              "</table>\n",
              "</div><br><label><b>dtype:</b> object</label>"
            ]
          },
          "metadata": {},
          "execution_count": 14
        }
      ]
    },
    {
      "cell_type": "markdown",
      "source": [
        "**vendor_id** -> it is okay for this to be an int64.\n",
        "\n",
        "**passenger_count** -> very good for this to be an int64.\n",
        "\n",
        "**trip_duration** -> number of seconds can be best translated into a datetime object. If we want to understand the duration of events in a more human-readable format (e.g., hours, minutes, seconds), converting the seconds into a timedelta object can be helpful.\n"
      ],
      "metadata": {
        "id": "A74Iu4XCuFX3"
      }
    },
    {
      "cell_type": "code",
      "source": [
        "# Assuming 'data' is your DataFrame and 'event_duration' is the column with the number of seconds\n",
        "data['trip_duration'] = pd.to_timedelta(data['trip_duration'], unit='s')"
      ],
      "metadata": {
        "id": "-6TPNt3Yo3Da"
      },
      "execution_count": 15,
      "outputs": []
    },
    {
      "cell_type": "code",
      "source": [
        "# Verify if the trip_duration feature was changed into a Datetime object\n",
        "data.info()\n",
        "# Conclusion: Yes! properly converted."
      ],
      "metadata": {
        "colab": {
          "base_uri": "https://localhost:8080/"
        },
        "id": "lC8gyA74qLSF",
        "outputId": "c50c5087-1abb-4975-d191-e69c272f11f0"
      },
      "execution_count": 16,
      "outputs": [
        {
          "output_type": "stream",
          "name": "stdout",
          "text": [
            "<class 'pandas.core.frame.DataFrame'>\n",
            "RangeIndex: 729322 entries, 0 to 729321\n",
            "Data columns (total 11 columns):\n",
            " #   Column              Non-Null Count   Dtype          \n",
            "---  ------              --------------   -----          \n",
            " 0   id                  729322 non-null  object         \n",
            " 1   vendor_id           729322 non-null  int64          \n",
            " 2   pickup_datetime     729322 non-null  object         \n",
            " 3   dropoff_datetime    729322 non-null  object         \n",
            " 4   passenger_count     729322 non-null  int64          \n",
            " 5   pickup_longitude    729322 non-null  float64        \n",
            " 6   pickup_latitude     729322 non-null  float64        \n",
            " 7   dropoff_longitude   729322 non-null  float64        \n",
            " 8   dropoff_latitude    729322 non-null  float64        \n",
            " 9   store_and_fwd_flag  729322 non-null  object         \n",
            " 10  trip_duration       729322 non-null  timedelta64[ns]\n",
            "dtypes: float64(4), int64(2), object(4), timedelta64[ns](1)\n",
            "memory usage: 61.2+ MB\n"
          ]
        }
      ]
    },
    {
      "cell_type": "markdown",
      "source": [
        "# Float Data Type"
      ],
      "metadata": {
        "id": "ZOc3e6fEt3xo"
      }
    },
    {
      "cell_type": "code",
      "source": [
        "# Identifying variables with float datatype\n",
        "data.dtypes[data.dtypes == 'float64']"
      ],
      "metadata": {
        "colab": {
          "base_uri": "https://localhost:8080/",
          "height": 226
        },
        "id": "BoA8NIy7plsq",
        "outputId": "a8ee1a3f-5f6b-4b47-86d8-8951e3278937"
      },
      "execution_count": 17,
      "outputs": [
        {
          "output_type": "execute_result",
          "data": {
            "text/plain": [
              "pickup_longitude     float64\n",
              "pickup_latitude      float64\n",
              "dropoff_longitude    float64\n",
              "dropoff_latitude     float64\n",
              "dtype: object"
            ],
            "text/html": [
              "<div>\n",
              "<style scoped>\n",
              "    .dataframe tbody tr th:only-of-type {\n",
              "        vertical-align: middle;\n",
              "    }\n",
              "\n",
              "    .dataframe tbody tr th {\n",
              "        vertical-align: top;\n",
              "    }\n",
              "\n",
              "    .dataframe thead th {\n",
              "        text-align: right;\n",
              "    }\n",
              "</style>\n",
              "<table border=\"1\" class=\"dataframe\">\n",
              "  <thead>\n",
              "    <tr style=\"text-align: right;\">\n",
              "      <th></th>\n",
              "      <th>0</th>\n",
              "    </tr>\n",
              "  </thead>\n",
              "  <tbody>\n",
              "    <tr>\n",
              "      <th>pickup_longitude</th>\n",
              "      <td>float64</td>\n",
              "    </tr>\n",
              "    <tr>\n",
              "      <th>pickup_latitude</th>\n",
              "      <td>float64</td>\n",
              "    </tr>\n",
              "    <tr>\n",
              "      <th>dropoff_longitude</th>\n",
              "      <td>float64</td>\n",
              "    </tr>\n",
              "    <tr>\n",
              "      <th>dropoff_latitude</th>\n",
              "      <td>float64</td>\n",
              "    </tr>\n",
              "  </tbody>\n",
              "</table>\n",
              "</div><br><label><b>dtype:</b> object</label>"
            ]
          },
          "metadata": {},
          "execution_count": 17
        }
      ]
    },
    {
      "cell_type": "markdown",
      "source": [
        "Longitude and latitude values require precision, which is well-supported by the float64 data type.\n",
        "\n",
        "So no need to convert these."
      ],
      "metadata": {
        "id": "At6bCb5EuB8s"
      }
    },
    {
      "cell_type": "markdown",
      "source": [
        "# Object Data Type"
      ],
      "metadata": {
        "id": "3oJ2ZPxQuMiS"
      }
    },
    {
      "cell_type": "code",
      "source": [
        "# Identifying variables with float datatype\n",
        "data.dtypes[data.dtypes == 'object']"
      ],
      "metadata": {
        "colab": {
          "base_uri": "https://localhost:8080/",
          "height": 226
        },
        "id": "p_NwjC0Ut8uP",
        "outputId": "ab6ee8ad-9d3e-40fc-ece5-4cc0578e8da6"
      },
      "execution_count": 18,
      "outputs": [
        {
          "output_type": "execute_result",
          "data": {
            "text/plain": [
              "id                    object\n",
              "pickup_datetime       object\n",
              "dropoff_datetime      object\n",
              "store_and_fwd_flag    object\n",
              "dtype: object"
            ],
            "text/html": [
              "<div>\n",
              "<style scoped>\n",
              "    .dataframe tbody tr th:only-of-type {\n",
              "        vertical-align: middle;\n",
              "    }\n",
              "\n",
              "    .dataframe tbody tr th {\n",
              "        vertical-align: top;\n",
              "    }\n",
              "\n",
              "    .dataframe thead th {\n",
              "        text-align: right;\n",
              "    }\n",
              "</style>\n",
              "<table border=\"1\" class=\"dataframe\">\n",
              "  <thead>\n",
              "    <tr style=\"text-align: right;\">\n",
              "      <th></th>\n",
              "      <th>0</th>\n",
              "    </tr>\n",
              "  </thead>\n",
              "  <tbody>\n",
              "    <tr>\n",
              "      <th>id</th>\n",
              "      <td>object</td>\n",
              "    </tr>\n",
              "    <tr>\n",
              "      <th>pickup_datetime</th>\n",
              "      <td>object</td>\n",
              "    </tr>\n",
              "    <tr>\n",
              "      <th>dropoff_datetime</th>\n",
              "      <td>object</td>\n",
              "    </tr>\n",
              "    <tr>\n",
              "      <th>store_and_fwd_flag</th>\n",
              "      <td>object</td>\n",
              "    </tr>\n",
              "  </tbody>\n",
              "</table>\n",
              "</div><br><label><b>dtype:</b> object</label>"
            ]
          },
          "metadata": {},
          "execution_count": 18
        }
      ]
    },
    {
      "cell_type": "markdown",
      "source": [
        "**pickup_datetime** -> good to convert into a datetime object.\n",
        "\n",
        "**dropoff_datetime** -> good to convert into a datetime object.\n",
        "\n",
        "**store_and_fwd_flag** -> good to convert this into 0's and 1's.\n",
        "\n"
      ],
      "metadata": {
        "id": "lW-UYF5jvfPu"
      }
    },
    {
      "cell_type": "code",
      "source": [
        "# Convert pickup_datetime and dropoff_datetime into a Datetime object\n",
        "data['pickup_datetime'] = pd.to_datetime(data['pickup_datetime'])\n",
        "data['dropoff_datetime'] = pd.to_datetime(data['dropoff_datetime'])"
      ],
      "metadata": {
        "id": "eUiJRyNx-JZv"
      },
      "execution_count": 19,
      "outputs": []
    },
    {
      "cell_type": "code",
      "source": [
        "# Checking if the datatype was converted properly\n",
        "data.info()\n",
        "# converted from Object to float64. Need to convert this into int64."
      ],
      "metadata": {
        "colab": {
          "base_uri": "https://localhost:8080/"
        },
        "id": "HRVCNVA2-qR9",
        "outputId": "59b54345-9835-45b9-f992-efc9b1f03e31"
      },
      "execution_count": 20,
      "outputs": [
        {
          "output_type": "stream",
          "name": "stdout",
          "text": [
            "<class 'pandas.core.frame.DataFrame'>\n",
            "RangeIndex: 729322 entries, 0 to 729321\n",
            "Data columns (total 11 columns):\n",
            " #   Column              Non-Null Count   Dtype          \n",
            "---  ------              --------------   -----          \n",
            " 0   id                  729322 non-null  object         \n",
            " 1   vendor_id           729322 non-null  int64          \n",
            " 2   pickup_datetime     729322 non-null  datetime64[ns] \n",
            " 3   dropoff_datetime    729322 non-null  datetime64[ns] \n",
            " 4   passenger_count     729322 non-null  int64          \n",
            " 5   pickup_longitude    729322 non-null  float64        \n",
            " 6   pickup_latitude     729322 non-null  float64        \n",
            " 7   dropoff_longitude   729322 non-null  float64        \n",
            " 8   dropoff_latitude    729322 non-null  float64        \n",
            " 9   store_and_fwd_flag  729322 non-null  object         \n",
            " 10  trip_duration       729322 non-null  timedelta64[ns]\n",
            "dtypes: datetime64[ns](2), float64(4), int64(2), object(2), timedelta64[ns](1)\n",
            "memory usage: 61.2+ MB\n"
          ]
        }
      ]
    },
    {
      "cell_type": "code",
      "source": [
        "# Use pd.get_dummies to convert 'store_and_fwd_flag' into numerical values\n",
        "data = pd.get_dummies(data, columns=['store_and_fwd_flag'])"
      ],
      "metadata": {
        "id": "4ktNTuEaBr3r"
      },
      "execution_count": 21,
      "outputs": []
    },
    {
      "cell_type": "code",
      "source": [
        "# Checking if the datatype was converted properly\n",
        "data.info()\n",
        "# converted from Object to float64. Need to convert this into int64."
      ],
      "metadata": {
        "colab": {
          "base_uri": "https://localhost:8080/"
        },
        "id": "7Z5sySbQCGLn",
        "outputId": "8ef5e9f9-fdd7-4ca1-a811-8eb07e4768fb"
      },
      "execution_count": 22,
      "outputs": [
        {
          "output_type": "stream",
          "name": "stdout",
          "text": [
            "<class 'pandas.core.frame.DataFrame'>\n",
            "RangeIndex: 729322 entries, 0 to 729321\n",
            "Data columns (total 12 columns):\n",
            " #   Column                Non-Null Count   Dtype          \n",
            "---  ------                --------------   -----          \n",
            " 0   id                    729322 non-null  object         \n",
            " 1   vendor_id             729322 non-null  int64          \n",
            " 2   pickup_datetime       729322 non-null  datetime64[ns] \n",
            " 3   dropoff_datetime      729322 non-null  datetime64[ns] \n",
            " 4   passenger_count       729322 non-null  int64          \n",
            " 5   pickup_longitude      729322 non-null  float64        \n",
            " 6   pickup_latitude       729322 non-null  float64        \n",
            " 7   dropoff_longitude     729322 non-null  float64        \n",
            " 8   dropoff_latitude      729322 non-null  float64        \n",
            " 9   trip_duration         729322 non-null  timedelta64[ns]\n",
            " 10  store_and_fwd_flag_N  729322 non-null  bool           \n",
            " 11  store_and_fwd_flag_Y  729322 non-null  bool           \n",
            "dtypes: bool(2), datetime64[ns](2), float64(4), int64(2), object(1), timedelta64[ns](1)\n",
            "memory usage: 57.0+ MB\n"
          ]
        }
      ]
    },
    {
      "cell_type": "code",
      "source": [
        "# Convert the 'store_and_fwd_flag' column to int64\n",
        "data['store_and_fwd_flag_N'] = data['store_and_fwd_flag_N'].astype('int64')"
      ],
      "metadata": {
        "id": "pAPKU9Y-Cu9n"
      },
      "execution_count": 23,
      "outputs": []
    },
    {
      "cell_type": "code",
      "source": [
        "# Checking the unique values of store_and_fwd_flag_N\n",
        "print(data['store_and_fwd_flag_N'].unique())"
      ],
      "metadata": {
        "colab": {
          "base_uri": "https://localhost:8080/"
        },
        "id": "66tOcHvlyQSl",
        "outputId": "e47f7771-76f9-4854-dffd-ef31860dcc97"
      },
      "execution_count": 24,
      "outputs": [
        {
          "output_type": "stream",
          "name": "stdout",
          "text": [
            "[1 0]\n"
          ]
        }
      ]
    },
    {
      "cell_type": "code",
      "source": [
        "# Convert the 'store_and_fwd_flag' column to int64\n",
        "data['store_and_fwd_flag_Y'] = data['store_and_fwd_flag_Y'].astype('int64')"
      ],
      "metadata": {
        "id": "hY4lIC1hC1w0"
      },
      "execution_count": 25,
      "outputs": []
    },
    {
      "cell_type": "code",
      "source": [
        "# Checking if the datatype was converted properly\n",
        "data.info()\n",
        "# Successfully converted to int64."
      ],
      "metadata": {
        "colab": {
          "base_uri": "https://localhost:8080/"
        },
        "id": "Op855-PN7mht",
        "outputId": "ae12b5a0-792d-4b1f-8634-41cb78713b7d"
      },
      "execution_count": 26,
      "outputs": [
        {
          "output_type": "stream",
          "name": "stdout",
          "text": [
            "<class 'pandas.core.frame.DataFrame'>\n",
            "RangeIndex: 729322 entries, 0 to 729321\n",
            "Data columns (total 12 columns):\n",
            " #   Column                Non-Null Count   Dtype          \n",
            "---  ------                --------------   -----          \n",
            " 0   id                    729322 non-null  object         \n",
            " 1   vendor_id             729322 non-null  int64          \n",
            " 2   pickup_datetime       729322 non-null  datetime64[ns] \n",
            " 3   dropoff_datetime      729322 non-null  datetime64[ns] \n",
            " 4   passenger_count       729322 non-null  int64          \n",
            " 5   pickup_longitude      729322 non-null  float64        \n",
            " 6   pickup_latitude       729322 non-null  float64        \n",
            " 7   dropoff_longitude     729322 non-null  float64        \n",
            " 8   dropoff_latitude      729322 non-null  float64        \n",
            " 9   trip_duration         729322 non-null  timedelta64[ns]\n",
            " 10  store_and_fwd_flag_N  729322 non-null  int64          \n",
            " 11  store_and_fwd_flag_Y  729322 non-null  int64          \n",
            "dtypes: datetime64[ns](2), float64(4), int64(4), object(1), timedelta64[ns](1)\n",
            "memory usage: 66.8+ MB\n"
          ]
        }
      ]
    },
    {
      "cell_type": "code",
      "source": [
        "# Checking the unique values of store_and_fwd_flag_Y\n",
        "print(data['store_and_fwd_flag_Y'].unique())"
      ],
      "metadata": {
        "colab": {
          "base_uri": "https://localhost:8080/"
        },
        "id": "rbrbScP9yQPn",
        "outputId": "14110229-c93d-4f61-8823-e423356e9bbe"
      },
      "execution_count": 27,
      "outputs": [
        {
          "output_type": "stream",
          "name": "stdout",
          "text": [
            "[0 1]\n"
          ]
        }
      ]
    },
    {
      "cell_type": "markdown",
      "source": [
        "### Datetimeobject\n",
        "\n",
        "We can craate new Datetime objects by some simple calculations on Datetime objects\n"
      ],
      "metadata": {
        "id": "Dp5GIoOKub7e"
      }
    },
    {
      "cell_type": "code",
      "source": [
        "# Create a new variable real_trip_duration by taking the difference between pickup_datetime and dropoff_datetime\n",
        "data['real_trip_duration'] = data['dropoff_datetime'] - data['pickup_datetime']"
      ],
      "metadata": {
        "id": "FSVPXwY3umh8"
      },
      "execution_count": 28,
      "outputs": []
    },
    {
      "cell_type": "code",
      "source": [
        "# Get the head function for dataframe data\n",
        "data.head()"
      ],
      "metadata": {
        "colab": {
          "base_uri": "https://localhost:8080/",
          "height": 307
        },
        "id": "mIhZYzAi--IX",
        "outputId": "4823cc38-2495-4426-e7e9-a755064e4a6f"
      },
      "execution_count": 29,
      "outputs": [
        {
          "output_type": "execute_result",
          "data": {
            "text/plain": [
              "          id  vendor_id     pickup_datetime    dropoff_datetime  \\\n",
              "0  id1080784          2 2016-02-29 16:40:21 2016-02-29 16:47:01   \n",
              "1  id0889885          1 2016-03-11 23:35:37 2016-03-11 23:53:57   \n",
              "2  id0857912          2 2016-02-21 17:59:33 2016-02-21 18:26:48   \n",
              "3  id3744273          2 2016-01-05 09:44:31 2016-01-05 10:03:32   \n",
              "4  id0232939          1 2016-02-17 06:42:23 2016-02-17 06:56:31   \n",
              "\n",
              "   passenger_count  pickup_longitude  pickup_latitude  dropoff_longitude  \\\n",
              "0                1        -73.953918        40.778873         -73.963875   \n",
              "1                2        -73.988312        40.731743         -73.994751   \n",
              "2                2        -73.997314        40.721458         -73.948029   \n",
              "3                6        -73.961670        40.759720         -73.956779   \n",
              "4                1        -74.017120        40.708469         -73.988182   \n",
              "\n",
              "   dropoff_latitude   trip_duration  store_and_fwd_flag_N  \\\n",
              "0         40.771164 0 days 00:06:40                     1   \n",
              "1         40.694931 0 days 00:18:20                     1   \n",
              "2         40.774918 0 days 00:27:15                     1   \n",
              "3         40.780628 0 days 00:19:01                     1   \n",
              "4         40.740631 0 days 00:14:08                     1   \n",
              "\n",
              "   store_and_fwd_flag_Y real_trip_duration  \n",
              "0                     0    0 days 00:06:40  \n",
              "1                     0    0 days 00:18:20  \n",
              "2                     0    0 days 00:27:15  \n",
              "3                     0    0 days 00:19:01  \n",
              "4                     0    0 days 00:14:08  "
            ],
            "text/html": [
              "\n",
              "  <div id=\"df-73b77975-a99f-48c0-b08d-b5b8f722fa59\" class=\"colab-df-container\">\n",
              "    <div>\n",
              "<style scoped>\n",
              "    .dataframe tbody tr th:only-of-type {\n",
              "        vertical-align: middle;\n",
              "    }\n",
              "\n",
              "    .dataframe tbody tr th {\n",
              "        vertical-align: top;\n",
              "    }\n",
              "\n",
              "    .dataframe thead th {\n",
              "        text-align: right;\n",
              "    }\n",
              "</style>\n",
              "<table border=\"1\" class=\"dataframe\">\n",
              "  <thead>\n",
              "    <tr style=\"text-align: right;\">\n",
              "      <th></th>\n",
              "      <th>id</th>\n",
              "      <th>vendor_id</th>\n",
              "      <th>pickup_datetime</th>\n",
              "      <th>dropoff_datetime</th>\n",
              "      <th>passenger_count</th>\n",
              "      <th>pickup_longitude</th>\n",
              "      <th>pickup_latitude</th>\n",
              "      <th>dropoff_longitude</th>\n",
              "      <th>dropoff_latitude</th>\n",
              "      <th>trip_duration</th>\n",
              "      <th>store_and_fwd_flag_N</th>\n",
              "      <th>store_and_fwd_flag_Y</th>\n",
              "      <th>real_trip_duration</th>\n",
              "    </tr>\n",
              "  </thead>\n",
              "  <tbody>\n",
              "    <tr>\n",
              "      <th>0</th>\n",
              "      <td>id1080784</td>\n",
              "      <td>2</td>\n",
              "      <td>2016-02-29 16:40:21</td>\n",
              "      <td>2016-02-29 16:47:01</td>\n",
              "      <td>1</td>\n",
              "      <td>-73.953918</td>\n",
              "      <td>40.778873</td>\n",
              "      <td>-73.963875</td>\n",
              "      <td>40.771164</td>\n",
              "      <td>0 days 00:06:40</td>\n",
              "      <td>1</td>\n",
              "      <td>0</td>\n",
              "      <td>0 days 00:06:40</td>\n",
              "    </tr>\n",
              "    <tr>\n",
              "      <th>1</th>\n",
              "      <td>id0889885</td>\n",
              "      <td>1</td>\n",
              "      <td>2016-03-11 23:35:37</td>\n",
              "      <td>2016-03-11 23:53:57</td>\n",
              "      <td>2</td>\n",
              "      <td>-73.988312</td>\n",
              "      <td>40.731743</td>\n",
              "      <td>-73.994751</td>\n",
              "      <td>40.694931</td>\n",
              "      <td>0 days 00:18:20</td>\n",
              "      <td>1</td>\n",
              "      <td>0</td>\n",
              "      <td>0 days 00:18:20</td>\n",
              "    </tr>\n",
              "    <tr>\n",
              "      <th>2</th>\n",
              "      <td>id0857912</td>\n",
              "      <td>2</td>\n",
              "      <td>2016-02-21 17:59:33</td>\n",
              "      <td>2016-02-21 18:26:48</td>\n",
              "      <td>2</td>\n",
              "      <td>-73.997314</td>\n",
              "      <td>40.721458</td>\n",
              "      <td>-73.948029</td>\n",
              "      <td>40.774918</td>\n",
              "      <td>0 days 00:27:15</td>\n",
              "      <td>1</td>\n",
              "      <td>0</td>\n",
              "      <td>0 days 00:27:15</td>\n",
              "    </tr>\n",
              "    <tr>\n",
              "      <th>3</th>\n",
              "      <td>id3744273</td>\n",
              "      <td>2</td>\n",
              "      <td>2016-01-05 09:44:31</td>\n",
              "      <td>2016-01-05 10:03:32</td>\n",
              "      <td>6</td>\n",
              "      <td>-73.961670</td>\n",
              "      <td>40.759720</td>\n",
              "      <td>-73.956779</td>\n",
              "      <td>40.780628</td>\n",
              "      <td>0 days 00:19:01</td>\n",
              "      <td>1</td>\n",
              "      <td>0</td>\n",
              "      <td>0 days 00:19:01</td>\n",
              "    </tr>\n",
              "    <tr>\n",
              "      <th>4</th>\n",
              "      <td>id0232939</td>\n",
              "      <td>1</td>\n",
              "      <td>2016-02-17 06:42:23</td>\n",
              "      <td>2016-02-17 06:56:31</td>\n",
              "      <td>1</td>\n",
              "      <td>-74.017120</td>\n",
              "      <td>40.708469</td>\n",
              "      <td>-73.988182</td>\n",
              "      <td>40.740631</td>\n",
              "      <td>0 days 00:14:08</td>\n",
              "      <td>1</td>\n",
              "      <td>0</td>\n",
              "      <td>0 days 00:14:08</td>\n",
              "    </tr>\n",
              "  </tbody>\n",
              "</table>\n",
              "</div>\n",
              "    <div class=\"colab-df-buttons\">\n",
              "\n",
              "  <div class=\"colab-df-container\">\n",
              "    <button class=\"colab-df-convert\" onclick=\"convertToInteractive('df-73b77975-a99f-48c0-b08d-b5b8f722fa59')\"\n",
              "            title=\"Convert this dataframe to an interactive table.\"\n",
              "            style=\"display:none;\">\n",
              "\n",
              "  <svg xmlns=\"http://www.w3.org/2000/svg\" height=\"24px\" viewBox=\"0 -960 960 960\">\n",
              "    <path d=\"M120-120v-720h720v720H120Zm60-500h600v-160H180v160Zm220 220h160v-160H400v160Zm0 220h160v-160H400v160ZM180-400h160v-160H180v160Zm440 0h160v-160H620v160ZM180-180h160v-160H180v160Zm440 0h160v-160H620v160Z\"/>\n",
              "  </svg>\n",
              "    </button>\n",
              "\n",
              "  <style>\n",
              "    .colab-df-container {\n",
              "      display:flex;\n",
              "      gap: 12px;\n",
              "    }\n",
              "\n",
              "    .colab-df-convert {\n",
              "      background-color: #E8F0FE;\n",
              "      border: none;\n",
              "      border-radius: 50%;\n",
              "      cursor: pointer;\n",
              "      display: none;\n",
              "      fill: #1967D2;\n",
              "      height: 32px;\n",
              "      padding: 0 0 0 0;\n",
              "      width: 32px;\n",
              "    }\n",
              "\n",
              "    .colab-df-convert:hover {\n",
              "      background-color: #E2EBFA;\n",
              "      box-shadow: 0px 1px 2px rgba(60, 64, 67, 0.3), 0px 1px 3px 1px rgba(60, 64, 67, 0.15);\n",
              "      fill: #174EA6;\n",
              "    }\n",
              "\n",
              "    .colab-df-buttons div {\n",
              "      margin-bottom: 4px;\n",
              "    }\n",
              "\n",
              "    [theme=dark] .colab-df-convert {\n",
              "      background-color: #3B4455;\n",
              "      fill: #D2E3FC;\n",
              "    }\n",
              "\n",
              "    [theme=dark] .colab-df-convert:hover {\n",
              "      background-color: #434B5C;\n",
              "      box-shadow: 0px 1px 3px 1px rgba(0, 0, 0, 0.15);\n",
              "      filter: drop-shadow(0px 1px 2px rgba(0, 0, 0, 0.3));\n",
              "      fill: #FFFFFF;\n",
              "    }\n",
              "  </style>\n",
              "\n",
              "    <script>\n",
              "      const buttonEl =\n",
              "        document.querySelector('#df-73b77975-a99f-48c0-b08d-b5b8f722fa59 button.colab-df-convert');\n",
              "      buttonEl.style.display =\n",
              "        google.colab.kernel.accessAllowed ? 'block' : 'none';\n",
              "\n",
              "      async function convertToInteractive(key) {\n",
              "        const element = document.querySelector('#df-73b77975-a99f-48c0-b08d-b5b8f722fa59');\n",
              "        const dataTable =\n",
              "          await google.colab.kernel.invokeFunction('convertToInteractive',\n",
              "                                                    [key], {});\n",
              "        if (!dataTable) return;\n",
              "\n",
              "        const docLinkHtml = 'Like what you see? Visit the ' +\n",
              "          '<a target=\"_blank\" href=https://colab.research.google.com/notebooks/data_table.ipynb>data table notebook</a>'\n",
              "          + ' to learn more about interactive tables.';\n",
              "        element.innerHTML = '';\n",
              "        dataTable['output_type'] = 'display_data';\n",
              "        await google.colab.output.renderOutput(dataTable, element);\n",
              "        const docLink = document.createElement('div');\n",
              "        docLink.innerHTML = docLinkHtml;\n",
              "        element.appendChild(docLink);\n",
              "      }\n",
              "    </script>\n",
              "  </div>\n",
              "\n",
              "\n",
              "<div id=\"df-89392164-2228-4e71-b152-8518ba53bf7d\">\n",
              "  <button class=\"colab-df-quickchart\" onclick=\"quickchart('df-89392164-2228-4e71-b152-8518ba53bf7d')\"\n",
              "            title=\"Suggest charts\"\n",
              "            style=\"display:none;\">\n",
              "\n",
              "<svg xmlns=\"http://www.w3.org/2000/svg\" height=\"24px\"viewBox=\"0 0 24 24\"\n",
              "     width=\"24px\">\n",
              "    <g>\n",
              "        <path d=\"M19 3H5c-1.1 0-2 .9-2 2v14c0 1.1.9 2 2 2h14c1.1 0 2-.9 2-2V5c0-1.1-.9-2-2-2zM9 17H7v-7h2v7zm4 0h-2V7h2v10zm4 0h-2v-4h2v4z\"/>\n",
              "    </g>\n",
              "</svg>\n",
              "  </button>\n",
              "\n",
              "<style>\n",
              "  .colab-df-quickchart {\n",
              "      --bg-color: #E8F0FE;\n",
              "      --fill-color: #1967D2;\n",
              "      --hover-bg-color: #E2EBFA;\n",
              "      --hover-fill-color: #174EA6;\n",
              "      --disabled-fill-color: #AAA;\n",
              "      --disabled-bg-color: #DDD;\n",
              "  }\n",
              "\n",
              "  [theme=dark] .colab-df-quickchart {\n",
              "      --bg-color: #3B4455;\n",
              "      --fill-color: #D2E3FC;\n",
              "      --hover-bg-color: #434B5C;\n",
              "      --hover-fill-color: #FFFFFF;\n",
              "      --disabled-bg-color: #3B4455;\n",
              "      --disabled-fill-color: #666;\n",
              "  }\n",
              "\n",
              "  .colab-df-quickchart {\n",
              "    background-color: var(--bg-color);\n",
              "    border: none;\n",
              "    border-radius: 50%;\n",
              "    cursor: pointer;\n",
              "    display: none;\n",
              "    fill: var(--fill-color);\n",
              "    height: 32px;\n",
              "    padding: 0;\n",
              "    width: 32px;\n",
              "  }\n",
              "\n",
              "  .colab-df-quickchart:hover {\n",
              "    background-color: var(--hover-bg-color);\n",
              "    box-shadow: 0 1px 2px rgba(60, 64, 67, 0.3), 0 1px 3px 1px rgba(60, 64, 67, 0.15);\n",
              "    fill: var(--button-hover-fill-color);\n",
              "  }\n",
              "\n",
              "  .colab-df-quickchart-complete:disabled,\n",
              "  .colab-df-quickchart-complete:disabled:hover {\n",
              "    background-color: var(--disabled-bg-color);\n",
              "    fill: var(--disabled-fill-color);\n",
              "    box-shadow: none;\n",
              "  }\n",
              "\n",
              "  .colab-df-spinner {\n",
              "    border: 2px solid var(--fill-color);\n",
              "    border-color: transparent;\n",
              "    border-bottom-color: var(--fill-color);\n",
              "    animation:\n",
              "      spin 1s steps(1) infinite;\n",
              "  }\n",
              "\n",
              "  @keyframes spin {\n",
              "    0% {\n",
              "      border-color: transparent;\n",
              "      border-bottom-color: var(--fill-color);\n",
              "      border-left-color: var(--fill-color);\n",
              "    }\n",
              "    20% {\n",
              "      border-color: transparent;\n",
              "      border-left-color: var(--fill-color);\n",
              "      border-top-color: var(--fill-color);\n",
              "    }\n",
              "    30% {\n",
              "      border-color: transparent;\n",
              "      border-left-color: var(--fill-color);\n",
              "      border-top-color: var(--fill-color);\n",
              "      border-right-color: var(--fill-color);\n",
              "    }\n",
              "    40% {\n",
              "      border-color: transparent;\n",
              "      border-right-color: var(--fill-color);\n",
              "      border-top-color: var(--fill-color);\n",
              "    }\n",
              "    60% {\n",
              "      border-color: transparent;\n",
              "      border-right-color: var(--fill-color);\n",
              "    }\n",
              "    80% {\n",
              "      border-color: transparent;\n",
              "      border-right-color: var(--fill-color);\n",
              "      border-bottom-color: var(--fill-color);\n",
              "    }\n",
              "    90% {\n",
              "      border-color: transparent;\n",
              "      border-bottom-color: var(--fill-color);\n",
              "    }\n",
              "  }\n",
              "</style>\n",
              "\n",
              "  <script>\n",
              "    async function quickchart(key) {\n",
              "      const quickchartButtonEl =\n",
              "        document.querySelector('#' + key + ' button');\n",
              "      quickchartButtonEl.disabled = true;  // To prevent multiple clicks.\n",
              "      quickchartButtonEl.classList.add('colab-df-spinner');\n",
              "      try {\n",
              "        const charts = await google.colab.kernel.invokeFunction(\n",
              "            'suggestCharts', [key], {});\n",
              "      } catch (error) {\n",
              "        console.error('Error during call to suggestCharts:', error);\n",
              "      }\n",
              "      quickchartButtonEl.classList.remove('colab-df-spinner');\n",
              "      quickchartButtonEl.classList.add('colab-df-quickchart-complete');\n",
              "    }\n",
              "    (() => {\n",
              "      let quickchartButtonEl =\n",
              "        document.querySelector('#df-89392164-2228-4e71-b152-8518ba53bf7d button');\n",
              "      quickchartButtonEl.style.display =\n",
              "        google.colab.kernel.accessAllowed ? 'block' : 'none';\n",
              "    })();\n",
              "  </script>\n",
              "</div>\n",
              "\n",
              "    </div>\n",
              "  </div>\n"
            ],
            "application/vnd.google.colaboratory.intrinsic+json": {
              "type": "dataframe",
              "variable_name": "data"
            }
          },
          "metadata": {},
          "execution_count": 29
        }
      ]
    },
    {
      "cell_type": "code",
      "source": [
        "# Comparing (target) trip_duration with real_trip_duration\n",
        "data[['trip_duration', 'real_trip_duration']].sum()\n",
        "# The (target) trip_duration with real_trip_duration are excately the same"
      ],
      "metadata": {
        "colab": {
          "base_uri": "https://localhost:8080/",
          "height": 164
        },
        "id": "F473MRcyAeRq",
        "outputId": "c8a4cee9-8d2f-46da-cab9-46cccf23e870"
      },
      "execution_count": 30,
      "outputs": [
        {
          "output_type": "execute_result",
          "data": {
            "text/plain": [
              "trip_duration        8037 days 23:34:16\n",
              "real_trip_duration   8037 days 23:34:16\n",
              "dtype: timedelta64[ns]"
            ],
            "text/html": [
              "<div>\n",
              "<style scoped>\n",
              "    .dataframe tbody tr th:only-of-type {\n",
              "        vertical-align: middle;\n",
              "    }\n",
              "\n",
              "    .dataframe tbody tr th {\n",
              "        vertical-align: top;\n",
              "    }\n",
              "\n",
              "    .dataframe thead th {\n",
              "        text-align: right;\n",
              "    }\n",
              "</style>\n",
              "<table border=\"1\" class=\"dataframe\">\n",
              "  <thead>\n",
              "    <tr style=\"text-align: right;\">\n",
              "      <th></th>\n",
              "      <th>0</th>\n",
              "    </tr>\n",
              "  </thead>\n",
              "  <tbody>\n",
              "    <tr>\n",
              "      <th>trip_duration</th>\n",
              "      <td>8037 days 23:34:16</td>\n",
              "    </tr>\n",
              "    <tr>\n",
              "      <th>real_trip_duration</th>\n",
              "      <td>8037 days 23:34:16</td>\n",
              "    </tr>\n",
              "  </tbody>\n",
              "</table>\n",
              "</div><br><label><b>dtype:</b> timedelta64[ns]</label>"
            ]
          },
          "metadata": {},
          "execution_count": 30
        }
      ]
    },
    {
      "cell_type": "code",
      "source": [
        "# Check if the columns are exactly the same\n",
        "are_equal = data['trip_duration'].equals(data['real_trip_duration'])\n",
        "print(f\"The columns are exactly the same: {are_equal}\")\n",
        "# The (target) trip_duration with real_trip_duration are excately the same"
      ],
      "metadata": {
        "colab": {
          "base_uri": "https://localhost:8080/"
        },
        "id": "BAEaKPDykWRA",
        "outputId": "74282da3-befa-48d5-d9e2-3b262ed8994d"
      },
      "execution_count": 31,
      "outputs": [
        {
          "output_type": "stream",
          "name": "stdout",
          "text": [
            "The columns are exactly the same: True\n"
          ]
        }
      ]
    },
    {
      "cell_type": "code",
      "source": [
        "# As real_trip_duration is excately the sale as trip_duration\n",
        "# remove the column real_trip_duration from the dataset as it does not contain any new information.\n",
        "data.drop('real_trip_duration', axis=1, inplace=True)"
      ],
      "metadata": {
        "id": "0N3a_O82hSjd"
      },
      "execution_count": 32,
      "outputs": []
    },
    {
      "cell_type": "code",
      "source": [
        "# Change trip_duration from a Datatime datatype to int64 in order to make the processing faster and consume less memory\n",
        "data['trip_duration'] = data['trip_duration'].astype('int64')"
      ],
      "metadata": {
        "id": "uWFsWA0PiM3i"
      },
      "execution_count": 33,
      "outputs": []
    },
    {
      "cell_type": "code",
      "source": [
        "# Check if both changes have been implemented properly\n",
        "data.info()\n",
        "# Conclusion: Yes!"
      ],
      "metadata": {
        "colab": {
          "base_uri": "https://localhost:8080/"
        },
        "id": "bxrT8UtpkfiI",
        "outputId": "5dc12d0c-6157-4e2e-e67c-789d61fd2709"
      },
      "execution_count": 34,
      "outputs": [
        {
          "output_type": "stream",
          "name": "stdout",
          "text": [
            "<class 'pandas.core.frame.DataFrame'>\n",
            "RangeIndex: 729322 entries, 0 to 729321\n",
            "Data columns (total 12 columns):\n",
            " #   Column                Non-Null Count   Dtype         \n",
            "---  ------                --------------   -----         \n",
            " 0   id                    729322 non-null  object        \n",
            " 1   vendor_id             729322 non-null  int64         \n",
            " 2   pickup_datetime       729322 non-null  datetime64[ns]\n",
            " 3   dropoff_datetime      729322 non-null  datetime64[ns]\n",
            " 4   passenger_count       729322 non-null  int64         \n",
            " 5   pickup_longitude      729322 non-null  float64       \n",
            " 6   pickup_latitude       729322 non-null  float64       \n",
            " 7   dropoff_longitude     729322 non-null  float64       \n",
            " 8   dropoff_latitude      729322 non-null  float64       \n",
            " 9   trip_duration         729322 non-null  int64         \n",
            " 10  store_and_fwd_flag_N  729322 non-null  int64         \n",
            " 11  store_and_fwd_flag_Y  729322 non-null  int64         \n",
            "dtypes: datetime64[ns](2), float64(4), int64(5), object(1)\n",
            "memory usage: 66.8+ MB\n"
          ]
        }
      ]
    },
    {
      "cell_type": "markdown",
      "source": [
        "#### Create new features with the Datetime features\n"
      ],
      "metadata": {
        "id": "lLYmSpdlpNuf"
      }
    },
    {
      "cell_type": "code",
      "source": [
        "# Calculate and assign new columns to the dataframe such as weekday,\n",
        "# Month and pickup_hour which will help us to gain more insights from the data.\n",
        "data['weekday'] = data.pickup_datetime.dt.day_name() # Changed weekday_name to day_name()\n",
        "data['month'] = data.pickup_datetime.dt.month\n",
        "data['weekday_num'] = data.pickup_datetime.dt.weekday\n",
        "data['pickup_hour'] = data.pickup_datetime.dt.hour"
      ],
      "metadata": {
        "id": "hl9SsztLpWne"
      },
      "execution_count": 35,
      "outputs": []
    },
    {
      "cell_type": "markdown",
      "source": [
        "## Calculate distance between pickup and dropoff coordinates using geodesic."
      ],
      "metadata": {
        "id": "WxSfoEbqqJSk"
      }
    },
    {
      "cell_type": "code",
      "source": [
        "# Import necessary libraries\n",
        "from geopy.distance import geodesic\n",
        "import pandas as pd\n",
        "from tqdm import tqdm\n",
        "\n",
        "# Define a function to calculate the geodesic distance\n",
        "def calculate_distance(row):\n",
        "    return geodesic(\n",
        "        (row['pickup_latitude'], row['pickup_longitude']),\n",
        "        (row['dropoff_latitude'], row['dropoff_longitude'])\n",
        "    ).miles\n",
        "\n",
        "# Use tqdm to apply the function with a progress bar\n",
        "tqdm.pandas(desc=\"Calculating distances\")\n",
        "data['distance'] = data.progress_apply(calculate_distance, axis=1)"
      ],
      "metadata": {
        "colab": {
          "base_uri": "https://localhost:8080/"
        },
        "id": "fQlwfoOijDFU",
        "outputId": "b952debd-3ca3-4544-b54d-eecfb7b971fa"
      },
      "execution_count": 36,
      "outputs": [
        {
          "output_type": "stream",
          "name": "stderr",
          "text": [
            "Calculating distances: 100%|██████████| 729322/729322 [02:12<00:00, 5513.57it/s]\n"
          ]
        }
      ]
    },
    {
      "cell_type": "code",
      "source": [
        "# Checking dataframe data if the distance feature has been created properly\n",
        "data.head()\n",
        "# Conclusion: Yes, the distance feature looks good to go"
      ],
      "metadata": {
        "colab": {
          "base_uri": "https://localhost:8080/",
          "height": 307
        },
        "id": "oidjchoQ4hu-",
        "outputId": "2af4f411-6527-4ca1-f4d8-51d4365df472"
      },
      "execution_count": 37,
      "outputs": [
        {
          "output_type": "execute_result",
          "data": {
            "text/plain": [
              "          id  vendor_id     pickup_datetime    dropoff_datetime  \\\n",
              "0  id1080784          2 2016-02-29 16:40:21 2016-02-29 16:47:01   \n",
              "1  id0889885          1 2016-03-11 23:35:37 2016-03-11 23:53:57   \n",
              "2  id0857912          2 2016-02-21 17:59:33 2016-02-21 18:26:48   \n",
              "3  id3744273          2 2016-01-05 09:44:31 2016-01-05 10:03:32   \n",
              "4  id0232939          1 2016-02-17 06:42:23 2016-02-17 06:56:31   \n",
              "\n",
              "   passenger_count  pickup_longitude  pickup_latitude  dropoff_longitude  \\\n",
              "0                1        -73.953918        40.778873         -73.963875   \n",
              "1                2        -73.988312        40.731743         -73.994751   \n",
              "2                2        -73.997314        40.721458         -73.948029   \n",
              "3                6        -73.961670        40.759720         -73.956779   \n",
              "4                1        -74.017120        40.708469         -73.988182   \n",
              "\n",
              "   dropoff_latitude  trip_duration  store_and_fwd_flag_N  \\\n",
              "0         40.771164   400000000000                     1   \n",
              "1         40.694931  1100000000000                     1   \n",
              "2         40.774918  1635000000000                     1   \n",
              "3         40.780628  1141000000000                     1   \n",
              "4         40.740631   848000000000                     1   \n",
              "\n",
              "   store_and_fwd_flag_Y    weekday  month  weekday_num  pickup_hour  distance  \n",
              "0                     0     Monday      2            0           16  0.745502  \n",
              "1                     0     Friday      3            4           23  2.562501  \n",
              "2                     0     Sunday      2            6           17  4.505212  \n",
              "3                     0    Tuesday      1            1            9  1.465371  \n",
              "4                     0  Wednesday      2            2            6  2.689391  "
            ],
            "text/html": [
              "\n",
              "  <div id=\"df-1e28e86d-7e7c-42d8-b367-fb5d11a3b501\" class=\"colab-df-container\">\n",
              "    <div>\n",
              "<style scoped>\n",
              "    .dataframe tbody tr th:only-of-type {\n",
              "        vertical-align: middle;\n",
              "    }\n",
              "\n",
              "    .dataframe tbody tr th {\n",
              "        vertical-align: top;\n",
              "    }\n",
              "\n",
              "    .dataframe thead th {\n",
              "        text-align: right;\n",
              "    }\n",
              "</style>\n",
              "<table border=\"1\" class=\"dataframe\">\n",
              "  <thead>\n",
              "    <tr style=\"text-align: right;\">\n",
              "      <th></th>\n",
              "      <th>id</th>\n",
              "      <th>vendor_id</th>\n",
              "      <th>pickup_datetime</th>\n",
              "      <th>dropoff_datetime</th>\n",
              "      <th>passenger_count</th>\n",
              "      <th>pickup_longitude</th>\n",
              "      <th>pickup_latitude</th>\n",
              "      <th>dropoff_longitude</th>\n",
              "      <th>dropoff_latitude</th>\n",
              "      <th>trip_duration</th>\n",
              "      <th>store_and_fwd_flag_N</th>\n",
              "      <th>store_and_fwd_flag_Y</th>\n",
              "      <th>weekday</th>\n",
              "      <th>month</th>\n",
              "      <th>weekday_num</th>\n",
              "      <th>pickup_hour</th>\n",
              "      <th>distance</th>\n",
              "    </tr>\n",
              "  </thead>\n",
              "  <tbody>\n",
              "    <tr>\n",
              "      <th>0</th>\n",
              "      <td>id1080784</td>\n",
              "      <td>2</td>\n",
              "      <td>2016-02-29 16:40:21</td>\n",
              "      <td>2016-02-29 16:47:01</td>\n",
              "      <td>1</td>\n",
              "      <td>-73.953918</td>\n",
              "      <td>40.778873</td>\n",
              "      <td>-73.963875</td>\n",
              "      <td>40.771164</td>\n",
              "      <td>400000000000</td>\n",
              "      <td>1</td>\n",
              "      <td>0</td>\n",
              "      <td>Monday</td>\n",
              "      <td>2</td>\n",
              "      <td>0</td>\n",
              "      <td>16</td>\n",
              "      <td>0.745502</td>\n",
              "    </tr>\n",
              "    <tr>\n",
              "      <th>1</th>\n",
              "      <td>id0889885</td>\n",
              "      <td>1</td>\n",
              "      <td>2016-03-11 23:35:37</td>\n",
              "      <td>2016-03-11 23:53:57</td>\n",
              "      <td>2</td>\n",
              "      <td>-73.988312</td>\n",
              "      <td>40.731743</td>\n",
              "      <td>-73.994751</td>\n",
              "      <td>40.694931</td>\n",
              "      <td>1100000000000</td>\n",
              "      <td>1</td>\n",
              "      <td>0</td>\n",
              "      <td>Friday</td>\n",
              "      <td>3</td>\n",
              "      <td>4</td>\n",
              "      <td>23</td>\n",
              "      <td>2.562501</td>\n",
              "    </tr>\n",
              "    <tr>\n",
              "      <th>2</th>\n",
              "      <td>id0857912</td>\n",
              "      <td>2</td>\n",
              "      <td>2016-02-21 17:59:33</td>\n",
              "      <td>2016-02-21 18:26:48</td>\n",
              "      <td>2</td>\n",
              "      <td>-73.997314</td>\n",
              "      <td>40.721458</td>\n",
              "      <td>-73.948029</td>\n",
              "      <td>40.774918</td>\n",
              "      <td>1635000000000</td>\n",
              "      <td>1</td>\n",
              "      <td>0</td>\n",
              "      <td>Sunday</td>\n",
              "      <td>2</td>\n",
              "      <td>6</td>\n",
              "      <td>17</td>\n",
              "      <td>4.505212</td>\n",
              "    </tr>\n",
              "    <tr>\n",
              "      <th>3</th>\n",
              "      <td>id3744273</td>\n",
              "      <td>2</td>\n",
              "      <td>2016-01-05 09:44:31</td>\n",
              "      <td>2016-01-05 10:03:32</td>\n",
              "      <td>6</td>\n",
              "      <td>-73.961670</td>\n",
              "      <td>40.759720</td>\n",
              "      <td>-73.956779</td>\n",
              "      <td>40.780628</td>\n",
              "      <td>1141000000000</td>\n",
              "      <td>1</td>\n",
              "      <td>0</td>\n",
              "      <td>Tuesday</td>\n",
              "      <td>1</td>\n",
              "      <td>1</td>\n",
              "      <td>9</td>\n",
              "      <td>1.465371</td>\n",
              "    </tr>\n",
              "    <tr>\n",
              "      <th>4</th>\n",
              "      <td>id0232939</td>\n",
              "      <td>1</td>\n",
              "      <td>2016-02-17 06:42:23</td>\n",
              "      <td>2016-02-17 06:56:31</td>\n",
              "      <td>1</td>\n",
              "      <td>-74.017120</td>\n",
              "      <td>40.708469</td>\n",
              "      <td>-73.988182</td>\n",
              "      <td>40.740631</td>\n",
              "      <td>848000000000</td>\n",
              "      <td>1</td>\n",
              "      <td>0</td>\n",
              "      <td>Wednesday</td>\n",
              "      <td>2</td>\n",
              "      <td>2</td>\n",
              "      <td>6</td>\n",
              "      <td>2.689391</td>\n",
              "    </tr>\n",
              "  </tbody>\n",
              "</table>\n",
              "</div>\n",
              "    <div class=\"colab-df-buttons\">\n",
              "\n",
              "  <div class=\"colab-df-container\">\n",
              "    <button class=\"colab-df-convert\" onclick=\"convertToInteractive('df-1e28e86d-7e7c-42d8-b367-fb5d11a3b501')\"\n",
              "            title=\"Convert this dataframe to an interactive table.\"\n",
              "            style=\"display:none;\">\n",
              "\n",
              "  <svg xmlns=\"http://www.w3.org/2000/svg\" height=\"24px\" viewBox=\"0 -960 960 960\">\n",
              "    <path d=\"M120-120v-720h720v720H120Zm60-500h600v-160H180v160Zm220 220h160v-160H400v160Zm0 220h160v-160H400v160ZM180-400h160v-160H180v160Zm440 0h160v-160H620v160ZM180-180h160v-160H180v160Zm440 0h160v-160H620v160Z\"/>\n",
              "  </svg>\n",
              "    </button>\n",
              "\n",
              "  <style>\n",
              "    .colab-df-container {\n",
              "      display:flex;\n",
              "      gap: 12px;\n",
              "    }\n",
              "\n",
              "    .colab-df-convert {\n",
              "      background-color: #E8F0FE;\n",
              "      border: none;\n",
              "      border-radius: 50%;\n",
              "      cursor: pointer;\n",
              "      display: none;\n",
              "      fill: #1967D2;\n",
              "      height: 32px;\n",
              "      padding: 0 0 0 0;\n",
              "      width: 32px;\n",
              "    }\n",
              "\n",
              "    .colab-df-convert:hover {\n",
              "      background-color: #E2EBFA;\n",
              "      box-shadow: 0px 1px 2px rgba(60, 64, 67, 0.3), 0px 1px 3px 1px rgba(60, 64, 67, 0.15);\n",
              "      fill: #174EA6;\n",
              "    }\n",
              "\n",
              "    .colab-df-buttons div {\n",
              "      margin-bottom: 4px;\n",
              "    }\n",
              "\n",
              "    [theme=dark] .colab-df-convert {\n",
              "      background-color: #3B4455;\n",
              "      fill: #D2E3FC;\n",
              "    }\n",
              "\n",
              "    [theme=dark] .colab-df-convert:hover {\n",
              "      background-color: #434B5C;\n",
              "      box-shadow: 0px 1px 3px 1px rgba(0, 0, 0, 0.15);\n",
              "      filter: drop-shadow(0px 1px 2px rgba(0, 0, 0, 0.3));\n",
              "      fill: #FFFFFF;\n",
              "    }\n",
              "  </style>\n",
              "\n",
              "    <script>\n",
              "      const buttonEl =\n",
              "        document.querySelector('#df-1e28e86d-7e7c-42d8-b367-fb5d11a3b501 button.colab-df-convert');\n",
              "      buttonEl.style.display =\n",
              "        google.colab.kernel.accessAllowed ? 'block' : 'none';\n",
              "\n",
              "      async function convertToInteractive(key) {\n",
              "        const element = document.querySelector('#df-1e28e86d-7e7c-42d8-b367-fb5d11a3b501');\n",
              "        const dataTable =\n",
              "          await google.colab.kernel.invokeFunction('convertToInteractive',\n",
              "                                                    [key], {});\n",
              "        if (!dataTable) return;\n",
              "\n",
              "        const docLinkHtml = 'Like what you see? Visit the ' +\n",
              "          '<a target=\"_blank\" href=https://colab.research.google.com/notebooks/data_table.ipynb>data table notebook</a>'\n",
              "          + ' to learn more about interactive tables.';\n",
              "        element.innerHTML = '';\n",
              "        dataTable['output_type'] = 'display_data';\n",
              "        await google.colab.output.renderOutput(dataTable, element);\n",
              "        const docLink = document.createElement('div');\n",
              "        docLink.innerHTML = docLinkHtml;\n",
              "        element.appendChild(docLink);\n",
              "      }\n",
              "    </script>\n",
              "  </div>\n",
              "\n",
              "\n",
              "<div id=\"df-28e8a91b-c345-4225-a237-6d85a52ea954\">\n",
              "  <button class=\"colab-df-quickchart\" onclick=\"quickchart('df-28e8a91b-c345-4225-a237-6d85a52ea954')\"\n",
              "            title=\"Suggest charts\"\n",
              "            style=\"display:none;\">\n",
              "\n",
              "<svg xmlns=\"http://www.w3.org/2000/svg\" height=\"24px\"viewBox=\"0 0 24 24\"\n",
              "     width=\"24px\">\n",
              "    <g>\n",
              "        <path d=\"M19 3H5c-1.1 0-2 .9-2 2v14c0 1.1.9 2 2 2h14c1.1 0 2-.9 2-2V5c0-1.1-.9-2-2-2zM9 17H7v-7h2v7zm4 0h-2V7h2v10zm4 0h-2v-4h2v4z\"/>\n",
              "    </g>\n",
              "</svg>\n",
              "  </button>\n",
              "\n",
              "<style>\n",
              "  .colab-df-quickchart {\n",
              "      --bg-color: #E8F0FE;\n",
              "      --fill-color: #1967D2;\n",
              "      --hover-bg-color: #E2EBFA;\n",
              "      --hover-fill-color: #174EA6;\n",
              "      --disabled-fill-color: #AAA;\n",
              "      --disabled-bg-color: #DDD;\n",
              "  }\n",
              "\n",
              "  [theme=dark] .colab-df-quickchart {\n",
              "      --bg-color: #3B4455;\n",
              "      --fill-color: #D2E3FC;\n",
              "      --hover-bg-color: #434B5C;\n",
              "      --hover-fill-color: #FFFFFF;\n",
              "      --disabled-bg-color: #3B4455;\n",
              "      --disabled-fill-color: #666;\n",
              "  }\n",
              "\n",
              "  .colab-df-quickchart {\n",
              "    background-color: var(--bg-color);\n",
              "    border: none;\n",
              "    border-radius: 50%;\n",
              "    cursor: pointer;\n",
              "    display: none;\n",
              "    fill: var(--fill-color);\n",
              "    height: 32px;\n",
              "    padding: 0;\n",
              "    width: 32px;\n",
              "  }\n",
              "\n",
              "  .colab-df-quickchart:hover {\n",
              "    background-color: var(--hover-bg-color);\n",
              "    box-shadow: 0 1px 2px rgba(60, 64, 67, 0.3), 0 1px 3px 1px rgba(60, 64, 67, 0.15);\n",
              "    fill: var(--button-hover-fill-color);\n",
              "  }\n",
              "\n",
              "  .colab-df-quickchart-complete:disabled,\n",
              "  .colab-df-quickchart-complete:disabled:hover {\n",
              "    background-color: var(--disabled-bg-color);\n",
              "    fill: var(--disabled-fill-color);\n",
              "    box-shadow: none;\n",
              "  }\n",
              "\n",
              "  .colab-df-spinner {\n",
              "    border: 2px solid var(--fill-color);\n",
              "    border-color: transparent;\n",
              "    border-bottom-color: var(--fill-color);\n",
              "    animation:\n",
              "      spin 1s steps(1) infinite;\n",
              "  }\n",
              "\n",
              "  @keyframes spin {\n",
              "    0% {\n",
              "      border-color: transparent;\n",
              "      border-bottom-color: var(--fill-color);\n",
              "      border-left-color: var(--fill-color);\n",
              "    }\n",
              "    20% {\n",
              "      border-color: transparent;\n",
              "      border-left-color: var(--fill-color);\n",
              "      border-top-color: var(--fill-color);\n",
              "    }\n",
              "    30% {\n",
              "      border-color: transparent;\n",
              "      border-left-color: var(--fill-color);\n",
              "      border-top-color: var(--fill-color);\n",
              "      border-right-color: var(--fill-color);\n",
              "    }\n",
              "    40% {\n",
              "      border-color: transparent;\n",
              "      border-right-color: var(--fill-color);\n",
              "      border-top-color: var(--fill-color);\n",
              "    }\n",
              "    60% {\n",
              "      border-color: transparent;\n",
              "      border-right-color: var(--fill-color);\n",
              "    }\n",
              "    80% {\n",
              "      border-color: transparent;\n",
              "      border-right-color: var(--fill-color);\n",
              "      border-bottom-color: var(--fill-color);\n",
              "    }\n",
              "    90% {\n",
              "      border-color: transparent;\n",
              "      border-bottom-color: var(--fill-color);\n",
              "    }\n",
              "  }\n",
              "</style>\n",
              "\n",
              "  <script>\n",
              "    async function quickchart(key) {\n",
              "      const quickchartButtonEl =\n",
              "        document.querySelector('#' + key + ' button');\n",
              "      quickchartButtonEl.disabled = true;  // To prevent multiple clicks.\n",
              "      quickchartButtonEl.classList.add('colab-df-spinner');\n",
              "      try {\n",
              "        const charts = await google.colab.kernel.invokeFunction(\n",
              "            'suggestCharts', [key], {});\n",
              "      } catch (error) {\n",
              "        console.error('Error during call to suggestCharts:', error);\n",
              "      }\n",
              "      quickchartButtonEl.classList.remove('colab-df-spinner');\n",
              "      quickchartButtonEl.classList.add('colab-df-quickchart-complete');\n",
              "    }\n",
              "    (() => {\n",
              "      let quickchartButtonEl =\n",
              "        document.querySelector('#df-28e8a91b-c345-4225-a237-6d85a52ea954 button');\n",
              "      quickchartButtonEl.style.display =\n",
              "        google.colab.kernel.accessAllowed ? 'block' : 'none';\n",
              "    })();\n",
              "  </script>\n",
              "</div>\n",
              "\n",
              "    </div>\n",
              "  </div>\n"
            ],
            "application/vnd.google.colaboratory.intrinsic+json": {
              "type": "dataframe",
              "summary": "{\n  \"name\": \"# Conclusion: Yes, the distance feature looks good to go\",\n  \"rows\": 5,\n  \"fields\": [\n    {\n      \"column\": \"id\",\n      \"properties\": {\n        \"dtype\": \"string\",\n        \"num_unique_values\": 5,\n        \"samples\": [\n          \"id0889885\",\n          \"id0232939\",\n          \"id0857912\"\n        ],\n        \"semantic_type\": \"\",\n        \"description\": \"\"\n      }\n    },\n    {\n      \"column\": \"vendor_id\",\n      \"properties\": {\n        \"dtype\": \"number\",\n        \"std\": 0,\n        \"min\": 1,\n        \"max\": 2,\n        \"num_unique_values\": 2,\n        \"samples\": [\n          1,\n          2\n        ],\n        \"semantic_type\": \"\",\n        \"description\": \"\"\n      }\n    },\n    {\n      \"column\": \"pickup_datetime\",\n      \"properties\": {\n        \"dtype\": \"date\",\n        \"min\": \"2016-01-05 09:44:31\",\n        \"max\": \"2016-03-11 23:35:37\",\n        \"num_unique_values\": 5,\n        \"samples\": [\n          \"2016-03-11 23:35:37\",\n          \"2016-02-17 06:42:23\"\n        ],\n        \"semantic_type\": \"\",\n        \"description\": \"\"\n      }\n    },\n    {\n      \"column\": \"dropoff_datetime\",\n      \"properties\": {\n        \"dtype\": \"date\",\n        \"min\": \"2016-01-05 10:03:32\",\n        \"max\": \"2016-03-11 23:53:57\",\n        \"num_unique_values\": 5,\n        \"samples\": [\n          \"2016-03-11 23:53:57\",\n          \"2016-02-17 06:56:31\"\n        ],\n        \"semantic_type\": \"\",\n        \"description\": \"\"\n      }\n    },\n    {\n      \"column\": \"passenger_count\",\n      \"properties\": {\n        \"dtype\": \"number\",\n        \"std\": 2,\n        \"min\": 1,\n        \"max\": 6,\n        \"num_unique_values\": 3,\n        \"samples\": [\n          1,\n          2\n        ],\n        \"semantic_type\": \"\",\n        \"description\": \"\"\n      }\n    },\n    {\n      \"column\": \"pickup_longitude\",\n      \"properties\": {\n        \"dtype\": \"number\",\n        \"std\": 0.02596055412353733,\n        \"min\": -74.01712036132812,\n        \"max\": -73.95391845703125,\n        \"num_unique_values\": 5,\n        \"samples\": [\n          -73.98831176757811,\n          -74.01712036132812\n        ],\n        \"semantic_type\": \"\",\n        \"description\": \"\"\n      }\n    },\n    {\n      \"column\": \"pickup_latitude\",\n      \"properties\": {\n        \"dtype\": \"number\",\n        \"std\": 0.028749575792197078,\n        \"min\": 40.70846939086913,\n        \"max\": 40.77887344360352,\n        \"num_unique_values\": 5,\n        \"samples\": [\n          40.73174285888672,\n          40.70846939086913\n        ],\n        \"semantic_type\": \"\",\n        \"description\": \"\"\n      }\n    },\n    {\n      \"column\": \"dropoff_longitude\",\n      \"properties\": {\n        \"dtype\": \"number\",\n        \"std\": 0.020234377926148215,\n        \"min\": -73.9947509765625,\n        \"max\": -73.94802856445312,\n        \"num_unique_values\": 5,\n        \"samples\": [\n          -73.9947509765625,\n          -73.9881820678711\n        ],\n        \"semantic_type\": \"\",\n        \"description\": \"\"\n      }\n    },\n    {\n      \"column\": \"dropoff_latitude\",\n      \"properties\": {\n        \"dtype\": \"number\",\n        \"std\": 0.03569710782109564,\n        \"min\": 40.69493103027344,\n        \"max\": 40.780628204345696,\n        \"num_unique_values\": 5,\n        \"samples\": [\n          40.69493103027344,\n          40.740631103515625\n        ],\n        \"semantic_type\": \"\",\n        \"description\": \"\"\n      }\n    },\n    {\n      \"column\": \"trip_duration\",\n      \"properties\": {\n        \"dtype\": \"number\",\n        \"std\": 450869936899,\n        \"min\": 400000000000,\n        \"max\": 1635000000000,\n        \"num_unique_values\": 5,\n        \"samples\": [\n          1100000000000,\n          848000000000\n        ],\n        \"semantic_type\": \"\",\n        \"description\": \"\"\n      }\n    },\n    {\n      \"column\": \"store_and_fwd_flag_N\",\n      \"properties\": {\n        \"dtype\": \"number\",\n        \"std\": 0,\n        \"min\": 1,\n        \"max\": 1,\n        \"num_unique_values\": 1,\n        \"samples\": [\n          1\n        ],\n        \"semantic_type\": \"\",\n        \"description\": \"\"\n      }\n    },\n    {\n      \"column\": \"store_and_fwd_flag_Y\",\n      \"properties\": {\n        \"dtype\": \"number\",\n        \"std\": 0,\n        \"min\": 0,\n        \"max\": 0,\n        \"num_unique_values\": 1,\n        \"samples\": [\n          0\n        ],\n        \"semantic_type\": \"\",\n        \"description\": \"\"\n      }\n    },\n    {\n      \"column\": \"weekday\",\n      \"properties\": {\n        \"dtype\": \"string\",\n        \"num_unique_values\": 5,\n        \"samples\": [\n          \"Friday\"\n        ],\n        \"semantic_type\": \"\",\n        \"description\": \"\"\n      }\n    },\n    {\n      \"column\": \"month\",\n      \"properties\": {\n        \"dtype\": \"int32\",\n        \"num_unique_values\": 3,\n        \"samples\": [\n          2\n        ],\n        \"semantic_type\": \"\",\n        \"description\": \"\"\n      }\n    },\n    {\n      \"column\": \"weekday_num\",\n      \"properties\": {\n        \"dtype\": \"int32\",\n        \"num_unique_values\": 5,\n        \"samples\": [\n          4\n        ],\n        \"semantic_type\": \"\",\n        \"description\": \"\"\n      }\n    },\n    {\n      \"column\": \"pickup_hour\",\n      \"properties\": {\n        \"dtype\": \"int32\",\n        \"num_unique_values\": 5,\n        \"samples\": [\n          23\n        ],\n        \"semantic_type\": \"\",\n        \"description\": \"\"\n      }\n    },\n    {\n      \"column\": \"distance\",\n      \"properties\": {\n        \"dtype\": \"number\",\n        \"std\": 1.4276518076790479,\n        \"min\": 0.745502461683862,\n        \"max\": 4.505211941927295,\n        \"num_unique_values\": 5,\n        \"samples\": [\n          2.5625007255563306\n        ],\n        \"semantic_type\": \"\",\n        \"description\": \"\"\n      }\n    }\n  ]\n}"
            }
          },
          "metadata": {},
          "execution_count": 37
        }
      ]
    },
    {
      "cell_type": "code",
      "source": [
        "# Checking dataframe data if the distance feature has been created properly\n",
        "data.info()\n",
        "# Conclusion: Yes, the distance feature looks good to go"
      ],
      "metadata": {
        "colab": {
          "base_uri": "https://localhost:8080/"
        },
        "id": "VfxJ_8rj4yXH",
        "outputId": "69b6ae34-059c-4514-a698-12266f228c91"
      },
      "execution_count": 38,
      "outputs": [
        {
          "output_type": "stream",
          "name": "stdout",
          "text": [
            "<class 'pandas.core.frame.DataFrame'>\n",
            "RangeIndex: 729322 entries, 0 to 729321\n",
            "Data columns (total 17 columns):\n",
            " #   Column                Non-Null Count   Dtype         \n",
            "---  ------                --------------   -----         \n",
            " 0   id                    729322 non-null  object        \n",
            " 1   vendor_id             729322 non-null  int64         \n",
            " 2   pickup_datetime       729322 non-null  datetime64[ns]\n",
            " 3   dropoff_datetime      729322 non-null  datetime64[ns]\n",
            " 4   passenger_count       729322 non-null  int64         \n",
            " 5   pickup_longitude      729322 non-null  float64       \n",
            " 6   pickup_latitude       729322 non-null  float64       \n",
            " 7   dropoff_longitude     729322 non-null  float64       \n",
            " 8   dropoff_latitude      729322 non-null  float64       \n",
            " 9   trip_duration         729322 non-null  int64         \n",
            " 10  store_and_fwd_flag_N  729322 non-null  int64         \n",
            " 11  store_and_fwd_flag_Y  729322 non-null  int64         \n",
            " 12  weekday               729322 non-null  object        \n",
            " 13  month                 729322 non-null  int32         \n",
            " 14  weekday_num           729322 non-null  int32         \n",
            " 15  pickup_hour           729322 non-null  int32         \n",
            " 16  distance              729322 non-null  float64       \n",
            "dtypes: datetime64[ns](2), float64(5), int32(3), int64(5), object(2)\n",
            "memory usage: 86.2+ MB\n"
          ]
        }
      ]
    },
    {
      "cell_type": "markdown",
      "source": [
        "### Creating new Feature: Calculate Speed in miles/hr for further insights"
      ],
      "metadata": {
        "id": "PQRbBeZ2rPYk"
      }
    },
    {
      "cell_type": "code",
      "source": [
        "data['speed'] = (data.distance/(data.trip_duration/3600))"
      ],
      "metadata": {
        "id": "D6NIm1tLrTGb"
      },
      "execution_count": 39,
      "outputs": []
    },
    {
      "cell_type": "code",
      "source": [
        "# Checking dataframe data if the speed feature has been created properly\n",
        "data.head()\n",
        "# Conclusion: Yes, the speed feature looks good to go"
      ],
      "metadata": {
        "colab": {
          "base_uri": "https://localhost:8080/",
          "height": 307
        },
        "id": "P8wEQnxU48RT",
        "outputId": "0fb48ef5-45c6-41b9-9573-b5870d17dd1b"
      },
      "execution_count": 40,
      "outputs": [
        {
          "output_type": "execute_result",
          "data": {
            "text/plain": [
              "          id  vendor_id     pickup_datetime    dropoff_datetime  \\\n",
              "0  id1080784          2 2016-02-29 16:40:21 2016-02-29 16:47:01   \n",
              "1  id0889885          1 2016-03-11 23:35:37 2016-03-11 23:53:57   \n",
              "2  id0857912          2 2016-02-21 17:59:33 2016-02-21 18:26:48   \n",
              "3  id3744273          2 2016-01-05 09:44:31 2016-01-05 10:03:32   \n",
              "4  id0232939          1 2016-02-17 06:42:23 2016-02-17 06:56:31   \n",
              "\n",
              "   passenger_count  pickup_longitude  pickup_latitude  dropoff_longitude  \\\n",
              "0                1        -73.953918        40.778873         -73.963875   \n",
              "1                2        -73.988312        40.731743         -73.994751   \n",
              "2                2        -73.997314        40.721458         -73.948029   \n",
              "3                6        -73.961670        40.759720         -73.956779   \n",
              "4                1        -74.017120        40.708469         -73.988182   \n",
              "\n",
              "   dropoff_latitude  trip_duration  store_and_fwd_flag_N  \\\n",
              "0         40.771164   400000000000                     1   \n",
              "1         40.694931  1100000000000                     1   \n",
              "2         40.774918  1635000000000                     1   \n",
              "3         40.780628  1141000000000                     1   \n",
              "4         40.740631   848000000000                     1   \n",
              "\n",
              "   store_and_fwd_flag_Y    weekday  month  weekday_num  pickup_hour  distance  \\\n",
              "0                     0     Monday      2            0           16  0.745502   \n",
              "1                     0     Friday      3            4           23  2.562501   \n",
              "2                     0     Sunday      2            6           17  4.505212   \n",
              "3                     0    Tuesday      1            1            9  1.465371   \n",
              "4                     0  Wednesday      2            2            6  2.689391   \n",
              "\n",
              "          speed  \n",
              "0  6.709522e-09  \n",
              "1  8.386366e-09  \n",
              "2  9.919733e-09  \n",
              "3  4.623433e-09  \n",
              "4  1.141723e-08  "
            ],
            "text/html": [
              "\n",
              "  <div id=\"df-564987fe-56d4-4fa6-8414-a9bda344ef9b\" class=\"colab-df-container\">\n",
              "    <div>\n",
              "<style scoped>\n",
              "    .dataframe tbody tr th:only-of-type {\n",
              "        vertical-align: middle;\n",
              "    }\n",
              "\n",
              "    .dataframe tbody tr th {\n",
              "        vertical-align: top;\n",
              "    }\n",
              "\n",
              "    .dataframe thead th {\n",
              "        text-align: right;\n",
              "    }\n",
              "</style>\n",
              "<table border=\"1\" class=\"dataframe\">\n",
              "  <thead>\n",
              "    <tr style=\"text-align: right;\">\n",
              "      <th></th>\n",
              "      <th>id</th>\n",
              "      <th>vendor_id</th>\n",
              "      <th>pickup_datetime</th>\n",
              "      <th>dropoff_datetime</th>\n",
              "      <th>passenger_count</th>\n",
              "      <th>pickup_longitude</th>\n",
              "      <th>pickup_latitude</th>\n",
              "      <th>dropoff_longitude</th>\n",
              "      <th>dropoff_latitude</th>\n",
              "      <th>trip_duration</th>\n",
              "      <th>store_and_fwd_flag_N</th>\n",
              "      <th>store_and_fwd_flag_Y</th>\n",
              "      <th>weekday</th>\n",
              "      <th>month</th>\n",
              "      <th>weekday_num</th>\n",
              "      <th>pickup_hour</th>\n",
              "      <th>distance</th>\n",
              "      <th>speed</th>\n",
              "    </tr>\n",
              "  </thead>\n",
              "  <tbody>\n",
              "    <tr>\n",
              "      <th>0</th>\n",
              "      <td>id1080784</td>\n",
              "      <td>2</td>\n",
              "      <td>2016-02-29 16:40:21</td>\n",
              "      <td>2016-02-29 16:47:01</td>\n",
              "      <td>1</td>\n",
              "      <td>-73.953918</td>\n",
              "      <td>40.778873</td>\n",
              "      <td>-73.963875</td>\n",
              "      <td>40.771164</td>\n",
              "      <td>400000000000</td>\n",
              "      <td>1</td>\n",
              "      <td>0</td>\n",
              "      <td>Monday</td>\n",
              "      <td>2</td>\n",
              "      <td>0</td>\n",
              "      <td>16</td>\n",
              "      <td>0.745502</td>\n",
              "      <td>6.709522e-09</td>\n",
              "    </tr>\n",
              "    <tr>\n",
              "      <th>1</th>\n",
              "      <td>id0889885</td>\n",
              "      <td>1</td>\n",
              "      <td>2016-03-11 23:35:37</td>\n",
              "      <td>2016-03-11 23:53:57</td>\n",
              "      <td>2</td>\n",
              "      <td>-73.988312</td>\n",
              "      <td>40.731743</td>\n",
              "      <td>-73.994751</td>\n",
              "      <td>40.694931</td>\n",
              "      <td>1100000000000</td>\n",
              "      <td>1</td>\n",
              "      <td>0</td>\n",
              "      <td>Friday</td>\n",
              "      <td>3</td>\n",
              "      <td>4</td>\n",
              "      <td>23</td>\n",
              "      <td>2.562501</td>\n",
              "      <td>8.386366e-09</td>\n",
              "    </tr>\n",
              "    <tr>\n",
              "      <th>2</th>\n",
              "      <td>id0857912</td>\n",
              "      <td>2</td>\n",
              "      <td>2016-02-21 17:59:33</td>\n",
              "      <td>2016-02-21 18:26:48</td>\n",
              "      <td>2</td>\n",
              "      <td>-73.997314</td>\n",
              "      <td>40.721458</td>\n",
              "      <td>-73.948029</td>\n",
              "      <td>40.774918</td>\n",
              "      <td>1635000000000</td>\n",
              "      <td>1</td>\n",
              "      <td>0</td>\n",
              "      <td>Sunday</td>\n",
              "      <td>2</td>\n",
              "      <td>6</td>\n",
              "      <td>17</td>\n",
              "      <td>4.505212</td>\n",
              "      <td>9.919733e-09</td>\n",
              "    </tr>\n",
              "    <tr>\n",
              "      <th>3</th>\n",
              "      <td>id3744273</td>\n",
              "      <td>2</td>\n",
              "      <td>2016-01-05 09:44:31</td>\n",
              "      <td>2016-01-05 10:03:32</td>\n",
              "      <td>6</td>\n",
              "      <td>-73.961670</td>\n",
              "      <td>40.759720</td>\n",
              "      <td>-73.956779</td>\n",
              "      <td>40.780628</td>\n",
              "      <td>1141000000000</td>\n",
              "      <td>1</td>\n",
              "      <td>0</td>\n",
              "      <td>Tuesday</td>\n",
              "      <td>1</td>\n",
              "      <td>1</td>\n",
              "      <td>9</td>\n",
              "      <td>1.465371</td>\n",
              "      <td>4.623433e-09</td>\n",
              "    </tr>\n",
              "    <tr>\n",
              "      <th>4</th>\n",
              "      <td>id0232939</td>\n",
              "      <td>1</td>\n",
              "      <td>2016-02-17 06:42:23</td>\n",
              "      <td>2016-02-17 06:56:31</td>\n",
              "      <td>1</td>\n",
              "      <td>-74.017120</td>\n",
              "      <td>40.708469</td>\n",
              "      <td>-73.988182</td>\n",
              "      <td>40.740631</td>\n",
              "      <td>848000000000</td>\n",
              "      <td>1</td>\n",
              "      <td>0</td>\n",
              "      <td>Wednesday</td>\n",
              "      <td>2</td>\n",
              "      <td>2</td>\n",
              "      <td>6</td>\n",
              "      <td>2.689391</td>\n",
              "      <td>1.141723e-08</td>\n",
              "    </tr>\n",
              "  </tbody>\n",
              "</table>\n",
              "</div>\n",
              "    <div class=\"colab-df-buttons\">\n",
              "\n",
              "  <div class=\"colab-df-container\">\n",
              "    <button class=\"colab-df-convert\" onclick=\"convertToInteractive('df-564987fe-56d4-4fa6-8414-a9bda344ef9b')\"\n",
              "            title=\"Convert this dataframe to an interactive table.\"\n",
              "            style=\"display:none;\">\n",
              "\n",
              "  <svg xmlns=\"http://www.w3.org/2000/svg\" height=\"24px\" viewBox=\"0 -960 960 960\">\n",
              "    <path d=\"M120-120v-720h720v720H120Zm60-500h600v-160H180v160Zm220 220h160v-160H400v160Zm0 220h160v-160H400v160ZM180-400h160v-160H180v160Zm440 0h160v-160H620v160ZM180-180h160v-160H180v160Zm440 0h160v-160H620v160Z\"/>\n",
              "  </svg>\n",
              "    </button>\n",
              "\n",
              "  <style>\n",
              "    .colab-df-container {\n",
              "      display:flex;\n",
              "      gap: 12px;\n",
              "    }\n",
              "\n",
              "    .colab-df-convert {\n",
              "      background-color: #E8F0FE;\n",
              "      border: none;\n",
              "      border-radius: 50%;\n",
              "      cursor: pointer;\n",
              "      display: none;\n",
              "      fill: #1967D2;\n",
              "      height: 32px;\n",
              "      padding: 0 0 0 0;\n",
              "      width: 32px;\n",
              "    }\n",
              "\n",
              "    .colab-df-convert:hover {\n",
              "      background-color: #E2EBFA;\n",
              "      box-shadow: 0px 1px 2px rgba(60, 64, 67, 0.3), 0px 1px 3px 1px rgba(60, 64, 67, 0.15);\n",
              "      fill: #174EA6;\n",
              "    }\n",
              "\n",
              "    .colab-df-buttons div {\n",
              "      margin-bottom: 4px;\n",
              "    }\n",
              "\n",
              "    [theme=dark] .colab-df-convert {\n",
              "      background-color: #3B4455;\n",
              "      fill: #D2E3FC;\n",
              "    }\n",
              "\n",
              "    [theme=dark] .colab-df-convert:hover {\n",
              "      background-color: #434B5C;\n",
              "      box-shadow: 0px 1px 3px 1px rgba(0, 0, 0, 0.15);\n",
              "      filter: drop-shadow(0px 1px 2px rgba(0, 0, 0, 0.3));\n",
              "      fill: #FFFFFF;\n",
              "    }\n",
              "  </style>\n",
              "\n",
              "    <script>\n",
              "      const buttonEl =\n",
              "        document.querySelector('#df-564987fe-56d4-4fa6-8414-a9bda344ef9b button.colab-df-convert');\n",
              "      buttonEl.style.display =\n",
              "        google.colab.kernel.accessAllowed ? 'block' : 'none';\n",
              "\n",
              "      async function convertToInteractive(key) {\n",
              "        const element = document.querySelector('#df-564987fe-56d4-4fa6-8414-a9bda344ef9b');\n",
              "        const dataTable =\n",
              "          await google.colab.kernel.invokeFunction('convertToInteractive',\n",
              "                                                    [key], {});\n",
              "        if (!dataTable) return;\n",
              "\n",
              "        const docLinkHtml = 'Like what you see? Visit the ' +\n",
              "          '<a target=\"_blank\" href=https://colab.research.google.com/notebooks/data_table.ipynb>data table notebook</a>'\n",
              "          + ' to learn more about interactive tables.';\n",
              "        element.innerHTML = '';\n",
              "        dataTable['output_type'] = 'display_data';\n",
              "        await google.colab.output.renderOutput(dataTable, element);\n",
              "        const docLink = document.createElement('div');\n",
              "        docLink.innerHTML = docLinkHtml;\n",
              "        element.appendChild(docLink);\n",
              "      }\n",
              "    </script>\n",
              "  </div>\n",
              "\n",
              "\n",
              "<div id=\"df-bdf03a0d-d316-4129-9e4c-a833c9fd16eb\">\n",
              "  <button class=\"colab-df-quickchart\" onclick=\"quickchart('df-bdf03a0d-d316-4129-9e4c-a833c9fd16eb')\"\n",
              "            title=\"Suggest charts\"\n",
              "            style=\"display:none;\">\n",
              "\n",
              "<svg xmlns=\"http://www.w3.org/2000/svg\" height=\"24px\"viewBox=\"0 0 24 24\"\n",
              "     width=\"24px\">\n",
              "    <g>\n",
              "        <path d=\"M19 3H5c-1.1 0-2 .9-2 2v14c0 1.1.9 2 2 2h14c1.1 0 2-.9 2-2V5c0-1.1-.9-2-2-2zM9 17H7v-7h2v7zm4 0h-2V7h2v10zm4 0h-2v-4h2v4z\"/>\n",
              "    </g>\n",
              "</svg>\n",
              "  </button>\n",
              "\n",
              "<style>\n",
              "  .colab-df-quickchart {\n",
              "      --bg-color: #E8F0FE;\n",
              "      --fill-color: #1967D2;\n",
              "      --hover-bg-color: #E2EBFA;\n",
              "      --hover-fill-color: #174EA6;\n",
              "      --disabled-fill-color: #AAA;\n",
              "      --disabled-bg-color: #DDD;\n",
              "  }\n",
              "\n",
              "  [theme=dark] .colab-df-quickchart {\n",
              "      --bg-color: #3B4455;\n",
              "      --fill-color: #D2E3FC;\n",
              "      --hover-bg-color: #434B5C;\n",
              "      --hover-fill-color: #FFFFFF;\n",
              "      --disabled-bg-color: #3B4455;\n",
              "      --disabled-fill-color: #666;\n",
              "  }\n",
              "\n",
              "  .colab-df-quickchart {\n",
              "    background-color: var(--bg-color);\n",
              "    border: none;\n",
              "    border-radius: 50%;\n",
              "    cursor: pointer;\n",
              "    display: none;\n",
              "    fill: var(--fill-color);\n",
              "    height: 32px;\n",
              "    padding: 0;\n",
              "    width: 32px;\n",
              "  }\n",
              "\n",
              "  .colab-df-quickchart:hover {\n",
              "    background-color: var(--hover-bg-color);\n",
              "    box-shadow: 0 1px 2px rgba(60, 64, 67, 0.3), 0 1px 3px 1px rgba(60, 64, 67, 0.15);\n",
              "    fill: var(--button-hover-fill-color);\n",
              "  }\n",
              "\n",
              "  .colab-df-quickchart-complete:disabled,\n",
              "  .colab-df-quickchart-complete:disabled:hover {\n",
              "    background-color: var(--disabled-bg-color);\n",
              "    fill: var(--disabled-fill-color);\n",
              "    box-shadow: none;\n",
              "  }\n",
              "\n",
              "  .colab-df-spinner {\n",
              "    border: 2px solid var(--fill-color);\n",
              "    border-color: transparent;\n",
              "    border-bottom-color: var(--fill-color);\n",
              "    animation:\n",
              "      spin 1s steps(1) infinite;\n",
              "  }\n",
              "\n",
              "  @keyframes spin {\n",
              "    0% {\n",
              "      border-color: transparent;\n",
              "      border-bottom-color: var(--fill-color);\n",
              "      border-left-color: var(--fill-color);\n",
              "    }\n",
              "    20% {\n",
              "      border-color: transparent;\n",
              "      border-left-color: var(--fill-color);\n",
              "      border-top-color: var(--fill-color);\n",
              "    }\n",
              "    30% {\n",
              "      border-color: transparent;\n",
              "      border-left-color: var(--fill-color);\n",
              "      border-top-color: var(--fill-color);\n",
              "      border-right-color: var(--fill-color);\n",
              "    }\n",
              "    40% {\n",
              "      border-color: transparent;\n",
              "      border-right-color: var(--fill-color);\n",
              "      border-top-color: var(--fill-color);\n",
              "    }\n",
              "    60% {\n",
              "      border-color: transparent;\n",
              "      border-right-color: var(--fill-color);\n",
              "    }\n",
              "    80% {\n",
              "      border-color: transparent;\n",
              "      border-right-color: var(--fill-color);\n",
              "      border-bottom-color: var(--fill-color);\n",
              "    }\n",
              "    90% {\n",
              "      border-color: transparent;\n",
              "      border-bottom-color: var(--fill-color);\n",
              "    }\n",
              "  }\n",
              "</style>\n",
              "\n",
              "  <script>\n",
              "    async function quickchart(key) {\n",
              "      const quickchartButtonEl =\n",
              "        document.querySelector('#' + key + ' button');\n",
              "      quickchartButtonEl.disabled = true;  // To prevent multiple clicks.\n",
              "      quickchartButtonEl.classList.add('colab-df-spinner');\n",
              "      try {\n",
              "        const charts = await google.colab.kernel.invokeFunction(\n",
              "            'suggestCharts', [key], {});\n",
              "      } catch (error) {\n",
              "        console.error('Error during call to suggestCharts:', error);\n",
              "      }\n",
              "      quickchartButtonEl.classList.remove('colab-df-spinner');\n",
              "      quickchartButtonEl.classList.add('colab-df-quickchart-complete');\n",
              "    }\n",
              "    (() => {\n",
              "      let quickchartButtonEl =\n",
              "        document.querySelector('#df-bdf03a0d-d316-4129-9e4c-a833c9fd16eb button');\n",
              "      quickchartButtonEl.style.display =\n",
              "        google.colab.kernel.accessAllowed ? 'block' : 'none';\n",
              "    })();\n",
              "  </script>\n",
              "</div>\n",
              "\n",
              "    </div>\n",
              "  </div>\n"
            ],
            "application/vnd.google.colaboratory.intrinsic+json": {
              "type": "dataframe",
              "summary": "{\n  \"name\": \"# Conclusion: Yes, the speed feature looks good to go\",\n  \"rows\": 5,\n  \"fields\": [\n    {\n      \"column\": \"id\",\n      \"properties\": {\n        \"dtype\": \"string\",\n        \"num_unique_values\": 5,\n        \"samples\": [\n          \"id0889885\",\n          \"id0232939\",\n          \"id0857912\"\n        ],\n        \"semantic_type\": \"\",\n        \"description\": \"\"\n      }\n    },\n    {\n      \"column\": \"vendor_id\",\n      \"properties\": {\n        \"dtype\": \"number\",\n        \"std\": 0,\n        \"min\": 1,\n        \"max\": 2,\n        \"num_unique_values\": 2,\n        \"samples\": [\n          1,\n          2\n        ],\n        \"semantic_type\": \"\",\n        \"description\": \"\"\n      }\n    },\n    {\n      \"column\": \"pickup_datetime\",\n      \"properties\": {\n        \"dtype\": \"date\",\n        \"min\": \"2016-01-05 09:44:31\",\n        \"max\": \"2016-03-11 23:35:37\",\n        \"num_unique_values\": 5,\n        \"samples\": [\n          \"2016-03-11 23:35:37\",\n          \"2016-02-17 06:42:23\"\n        ],\n        \"semantic_type\": \"\",\n        \"description\": \"\"\n      }\n    },\n    {\n      \"column\": \"dropoff_datetime\",\n      \"properties\": {\n        \"dtype\": \"date\",\n        \"min\": \"2016-01-05 10:03:32\",\n        \"max\": \"2016-03-11 23:53:57\",\n        \"num_unique_values\": 5,\n        \"samples\": [\n          \"2016-03-11 23:53:57\",\n          \"2016-02-17 06:56:31\"\n        ],\n        \"semantic_type\": \"\",\n        \"description\": \"\"\n      }\n    },\n    {\n      \"column\": \"passenger_count\",\n      \"properties\": {\n        \"dtype\": \"number\",\n        \"std\": 2,\n        \"min\": 1,\n        \"max\": 6,\n        \"num_unique_values\": 3,\n        \"samples\": [\n          1,\n          2\n        ],\n        \"semantic_type\": \"\",\n        \"description\": \"\"\n      }\n    },\n    {\n      \"column\": \"pickup_longitude\",\n      \"properties\": {\n        \"dtype\": \"number\",\n        \"std\": 0.02596055412353733,\n        \"min\": -74.01712036132812,\n        \"max\": -73.95391845703125,\n        \"num_unique_values\": 5,\n        \"samples\": [\n          -73.98831176757811,\n          -74.01712036132812\n        ],\n        \"semantic_type\": \"\",\n        \"description\": \"\"\n      }\n    },\n    {\n      \"column\": \"pickup_latitude\",\n      \"properties\": {\n        \"dtype\": \"number\",\n        \"std\": 0.028749575792197078,\n        \"min\": 40.70846939086913,\n        \"max\": 40.77887344360352,\n        \"num_unique_values\": 5,\n        \"samples\": [\n          40.73174285888672,\n          40.70846939086913\n        ],\n        \"semantic_type\": \"\",\n        \"description\": \"\"\n      }\n    },\n    {\n      \"column\": \"dropoff_longitude\",\n      \"properties\": {\n        \"dtype\": \"number\",\n        \"std\": 0.020234377926148215,\n        \"min\": -73.9947509765625,\n        \"max\": -73.94802856445312,\n        \"num_unique_values\": 5,\n        \"samples\": [\n          -73.9947509765625,\n          -73.9881820678711\n        ],\n        \"semantic_type\": \"\",\n        \"description\": \"\"\n      }\n    },\n    {\n      \"column\": \"dropoff_latitude\",\n      \"properties\": {\n        \"dtype\": \"number\",\n        \"std\": 0.03569710782109564,\n        \"min\": 40.69493103027344,\n        \"max\": 40.780628204345696,\n        \"num_unique_values\": 5,\n        \"samples\": [\n          40.69493103027344,\n          40.740631103515625\n        ],\n        \"semantic_type\": \"\",\n        \"description\": \"\"\n      }\n    },\n    {\n      \"column\": \"trip_duration\",\n      \"properties\": {\n        \"dtype\": \"number\",\n        \"std\": 450869936899,\n        \"min\": 400000000000,\n        \"max\": 1635000000000,\n        \"num_unique_values\": 5,\n        \"samples\": [\n          1100000000000,\n          848000000000\n        ],\n        \"semantic_type\": \"\",\n        \"description\": \"\"\n      }\n    },\n    {\n      \"column\": \"store_and_fwd_flag_N\",\n      \"properties\": {\n        \"dtype\": \"number\",\n        \"std\": 0,\n        \"min\": 1,\n        \"max\": 1,\n        \"num_unique_values\": 1,\n        \"samples\": [\n          1\n        ],\n        \"semantic_type\": \"\",\n        \"description\": \"\"\n      }\n    },\n    {\n      \"column\": \"store_and_fwd_flag_Y\",\n      \"properties\": {\n        \"dtype\": \"number\",\n        \"std\": 0,\n        \"min\": 0,\n        \"max\": 0,\n        \"num_unique_values\": 1,\n        \"samples\": [\n          0\n        ],\n        \"semantic_type\": \"\",\n        \"description\": \"\"\n      }\n    },\n    {\n      \"column\": \"weekday\",\n      \"properties\": {\n        \"dtype\": \"string\",\n        \"num_unique_values\": 5,\n        \"samples\": [\n          \"Friday\"\n        ],\n        \"semantic_type\": \"\",\n        \"description\": \"\"\n      }\n    },\n    {\n      \"column\": \"month\",\n      \"properties\": {\n        \"dtype\": \"int32\",\n        \"num_unique_values\": 3,\n        \"samples\": [\n          2\n        ],\n        \"semantic_type\": \"\",\n        \"description\": \"\"\n      }\n    },\n    {\n      \"column\": \"weekday_num\",\n      \"properties\": {\n        \"dtype\": \"int32\",\n        \"num_unique_values\": 5,\n        \"samples\": [\n          4\n        ],\n        \"semantic_type\": \"\",\n        \"description\": \"\"\n      }\n    },\n    {\n      \"column\": \"pickup_hour\",\n      \"properties\": {\n        \"dtype\": \"int32\",\n        \"num_unique_values\": 5,\n        \"samples\": [\n          23\n        ],\n        \"semantic_type\": \"\",\n        \"description\": \"\"\n      }\n    },\n    {\n      \"column\": \"distance\",\n      \"properties\": {\n        \"dtype\": \"number\",\n        \"std\": 1.4276518076790479,\n        \"min\": 0.745502461683862,\n        \"max\": 4.505211941927295,\n        \"num_unique_values\": 5,\n        \"samples\": [\n          2.5625007255563306\n        ],\n        \"semantic_type\": \"\",\n        \"description\": \"\"\n      }\n    },\n    {\n      \"column\": \"speed\",\n      \"properties\": {\n        \"dtype\": \"number\",\n        \"std\": 2.6624931785823155e-09,\n        \"min\": 4.623432746026002e-09,\n        \"max\": 1.1417225939949857e-08,\n        \"num_unique_values\": 5,\n        \"samples\": [\n          8.386366010911626e-09\n        ],\n        \"semantic_type\": \"\",\n        \"description\": \"\"\n      }\n    }\n  ]\n}"
            }
          },
          "metadata": {},
          "execution_count": 40
        }
      ]
    },
    {
      "cell_type": "code",
      "source": [
        "# Checking dataframe data if the speed feature has been created properly\n",
        "data.info()\n",
        "# Conclusion: Yes, the speed feature looks good to go"
      ],
      "metadata": {
        "colab": {
          "base_uri": "https://localhost:8080/"
        },
        "id": "i4mbZIL85BtF",
        "outputId": "0d69c384-aafb-4113-bd3f-6e5dc56e18fb"
      },
      "execution_count": 41,
      "outputs": [
        {
          "output_type": "stream",
          "name": "stdout",
          "text": [
            "<class 'pandas.core.frame.DataFrame'>\n",
            "RangeIndex: 729322 entries, 0 to 729321\n",
            "Data columns (total 18 columns):\n",
            " #   Column                Non-Null Count   Dtype         \n",
            "---  ------                --------------   -----         \n",
            " 0   id                    729322 non-null  object        \n",
            " 1   vendor_id             729322 non-null  int64         \n",
            " 2   pickup_datetime       729322 non-null  datetime64[ns]\n",
            " 3   dropoff_datetime      729322 non-null  datetime64[ns]\n",
            " 4   passenger_count       729322 non-null  int64         \n",
            " 5   pickup_longitude      729322 non-null  float64       \n",
            " 6   pickup_latitude       729322 non-null  float64       \n",
            " 7   dropoff_longitude     729322 non-null  float64       \n",
            " 8   dropoff_latitude      729322 non-null  float64       \n",
            " 9   trip_duration         729322 non-null  int64         \n",
            " 10  store_and_fwd_flag_N  729322 non-null  int64         \n",
            " 11  store_and_fwd_flag_Y  729322 non-null  int64         \n",
            " 12  weekday               729322 non-null  object        \n",
            " 13  month                 729322 non-null  int32         \n",
            " 14  weekday_num           729322 non-null  int32         \n",
            " 15  pickup_hour           729322 non-null  int32         \n",
            " 16  distance              729322 non-null  float64       \n",
            " 17  speed                 729322 non-null  float64       \n",
            "dtypes: datetime64[ns](2), float64(6), int32(3), int64(5), object(2)\n",
            "memory usage: 91.8+ MB\n"
          ]
        }
      ]
    },
    {
      "cell_type": "markdown",
      "source": [
        "## Updated list of features\n",
        "\n",
        "let's analyze each column in the provided data and suggest appropriate encoding techniques based on the nature of the data:\n",
        "\n",
        "1. **id**: a unique identifier for each trip.\n",
        "\n",
        "2. **Vendor_id**: a code indicating the provider associated with the trip record.\n",
        "\n",
        "3. **Pickup_datetime**: date and time when the meter was engaged.\n",
        "\n",
        "4. **Dropoff_datetime**: date and time when the meter was disengaged.\n",
        "\n",
        "5. **Passenger_count**: the number of passengers in the vehicle (driver entered value).\n",
        "\n",
        "6. **Pickup_longitude**: the longitude where the meter was engaged.\n",
        "\n",
        "7. **pickup_latitude**: the latitude where the meter was engaged.\n",
        "\n",
        "8. **Dropoff_longitude**: the longitude where the meter was disengaged.\n",
        "\n",
        "9. **Dropoff_latitude**: the latitude where the meter was disengaged.\n",
        "\n",
        "10. **trip_duration**: (target) duration of the trip in seconds.\n",
        "\n",
        "11. **store_and_fwd_flag_N**: This flag indicates whether the trip record was held in vehicle memory before sending to the vendor because the vehicle did not have a connection to the server (Y=store and forward; N=not a store and forward trip).\n",
        "\n",
        "12. **store_and_fwd_flag_Y**: This flag indicates whether the trip record was held in vehicle memory before sending to the vendor because the vehicle did not have a connection to the server (Y=store and forward; N=not a store and forward trip).\n",
        "\n",
        "13. **weekday**: We used the datetime object to get the day of the week of the trip.\n",
        "\n",
        "14. **month**: We used the datetime object to get the month of the trip.\n",
        "\n",
        "15. **weekday_num**: We used the datetime object to get the weekday number of the trip.\n",
        "\n",
        "16. **pickup_hour**: We used the datetime object to get the hour of the pickup of the trip.\n",
        "\n",
        "17. **distance**: We have used the geospecial data (longitude and lattitude) to calculate the distance between PickUp Location and the DropOff Location..\n",
        "\n",
        "18. **speed**: We have calculated the average speed as the distance dvided by the trip duration.\n"
      ],
      "metadata": {
        "id": "PuX2_dx11Q3o"
      }
    },
    {
      "cell_type": "markdown",
      "source": [
        "# Univariate analysis\n",
        "\n",
        "\n",
        "Univariate analysis is the analysis of one variable. It's major purpose is to describe patterns in the data consisting of single variable."
      ],
      "metadata": {
        "id": "PDyB8-F3pAi4"
      }
    },
    {
      "cell_type": "markdown",
      "source": [
        "## 1. Id"
      ],
      "metadata": {
        "id": "8wlAN57E1pZF"
      }
    },
    {
      "cell_type": "code",
      "source": [
        "# There are 729322 Unique id's which represent each row in the data\n",
        "data.id.nunique()"
      ],
      "metadata": {
        "colab": {
          "base_uri": "https://localhost:8080/"
        },
        "id": "-yvQhOug1ot1",
        "outputId": "9f965133-cd68-4a38-c096-f151228ec4ca"
      },
      "execution_count": 42,
      "outputs": [
        {
          "output_type": "execute_result",
          "data": {
            "text/plain": [
              "729322"
            ]
          },
          "metadata": {},
          "execution_count": 42
        }
      ]
    },
    {
      "cell_type": "markdown",
      "source": [
        "## 2. vendor_id"
      ],
      "metadata": {
        "id": "srslwZU9-YsD"
      }
    },
    {
      "cell_type": "code",
      "source": [
        "# There are 2 Unique id's which represent each row in the data\n",
        "data.vendor_id.nunique()"
      ],
      "metadata": {
        "colab": {
          "base_uri": "https://localhost:8080/"
        },
        "id": "36NrgULx_NJX",
        "outputId": "e5952ef0-c233-4057-99d6-717a51bb3747"
      },
      "execution_count": 43,
      "outputs": [
        {
          "output_type": "execute_result",
          "data": {
            "text/plain": [
              "2"
            ]
          },
          "metadata": {},
          "execution_count": 43
        }
      ]
    },
    {
      "cell_type": "code",
      "source": [
        "# These are 1 and 2\n",
        "data.vendor_id.unique()"
      ],
      "metadata": {
        "colab": {
          "base_uri": "https://localhost:8080/"
        },
        "id": "cBtO3cqv_SJ4",
        "outputId": "3f549c2e-ff72-4c57-d293-a5b1cb50daad"
      },
      "execution_count": 44,
      "outputs": [
        {
          "output_type": "execute_result",
          "data": {
            "text/plain": [
              "array([2, 1])"
            ]
          },
          "metadata": {},
          "execution_count": 44
        }
      ]
    },
    {
      "cell_type": "code",
      "source": [
        "# Visualising vendor_id\n",
        "fig, axes = plt.subplots(nrows=1, ncols=2,figsize=(12,5))\n",
        "ax = data['vendor_id'].value_counts().plot(kind='bar',title=\"Vendors\",ax=axes[0],color = ('blue',(1, 0.5, 0.13)))\n",
        "data['vendor_id'].value_counts().plot(kind='pie',title=\"Vendors\",ax=axes[1])\n",
        "ax.set_ylabel(\"Count\")\n",
        "ax.set_xlabel(\"Vendor Id\")\n",
        "fig.tight_layout()"
      ],
      "metadata": {
        "colab": {
          "base_uri": "https://localhost:8080/",
          "height": 368
        },
        "id": "_joOQpUN-fnX",
        "outputId": "dd9c54c0-e1f3-4f41-a393-32622f3fa986"
      },
      "execution_count": 45,
      "outputs": [
        {
          "output_type": "display_data",
          "data": {
            "text/plain": [
              "<Figure size 1200x500 with 2 Axes>"
            ],
            "image/png": "[encoded data removed]"
          },
          "metadata": {}
        }
      ]
    },
    {
      "cell_type": "markdown",
      "source": [
        "## 3. pickup_datetime"
      ],
      "metadata": {
        "id": "F54M_F2z_YJP"
      }
    },
    {
      "cell_type": "code",
      "source": [
        "# There are 709359 Unique id's which represent each row in the data\n",
        "data.pickup_datetime.nunique()"
      ],
      "metadata": {
        "colab": {
          "base_uri": "https://localhost:8080/"
        },
        "id": "6-Yx57Oq_hC2",
        "outputId": "00015440-6808-4a0f-caad-a31040172b65"
      },
      "execution_count": 46,
      "outputs": [
        {
          "output_type": "execute_result",
          "data": {
            "text/plain": [
              "709359"
            ]
          },
          "metadata": {},
          "execution_count": 46
        }
      ]
    },
    {
      "cell_type": "code",
      "source": [
        "# There are so many unique timestamps\n",
        "data.pickup_datetime.unique()"
      ],
      "metadata": {
        "colab": {
          "base_uri": "https://localhost:8080/"
        },
        "id": "xvhd4Cil_wgl",
        "outputId": "326ece5c-156d-4afa-a9d2-2718b86fff44"
      },
      "execution_count": 47,
      "outputs": [
        {
          "output_type": "execute_result",
          "data": {
            "text/plain": [
              "<DatetimeArray>\n",
              "['2016-02-29 16:40:21', '2016-03-11 23:35:37', '2016-02-21 17:59:33',\n",
              " '2016-01-05 09:44:31', '2016-02-17 06:42:23', '2016-02-14 18:31:42',\n",
              " '2016-04-20 20:30:14', '2016-06-19 16:48:14', '2016-03-28 19:17:03',\n",
              " '2016-04-10 22:01:41',\n",
              " ...\n",
              " '2016-01-01 00:47:30', '2016-02-05 11:24:34', '2016-03-21 03:43:03',\n",
              " '2016-06-28 06:41:53', '2016-01-25 22:31:56', '2016-05-21 13:29:38',\n",
              " '2016-02-22 00:43:11', '2016-04-15 18:56:48', '2016-06-19 09:50:47',\n",
              " '2016-01-01 17:24:16']\n",
              "Length: 709359, dtype: datetime64[ns]"
            ]
          },
          "metadata": {},
          "execution_count": 47
        }
      ]
    },
    {
      "cell_type": "code",
      "source": [
        "# There are so many unique timestamps, but all of them between Januari 2016 to June 2016\n",
        "data.pickup_datetime.describe()"
      ],
      "metadata": {
        "colab": {
          "base_uri": "https://localhost:8080/",
          "height": 318
        },
        "id": "aUG63Gq7__el",
        "outputId": "17479b3f-aa17-4456-8cca-54dc4e3553c3"
      },
      "execution_count": 48,
      "outputs": [
        {
          "output_type": "execute_result",
          "data": {
            "text/plain": [
              "count                           729322\n",
              "mean     2016-04-01 11:17:42.123299584\n",
              "min                2016-01-01 00:01:14\n",
              "25%      2016-02-17 18:46:36.249999872\n",
              "50%         2016-04-01 17:30:37.500000\n",
              "75%      2016-05-15 07:13:01.249999872\n",
              "max                2016-06-30 23:59:37\n",
              "Name: pickup_datetime, dtype: object"
            ],
            "text/html": [
              "<div>\n",
              "<style scoped>\n",
              "    .dataframe tbody tr th:only-of-type {\n",
              "        vertical-align: middle;\n",
              "    }\n",
              "\n",
              "    .dataframe tbody tr th {\n",
              "        vertical-align: top;\n",
              "    }\n",
              "\n",
              "    .dataframe thead th {\n",
              "        text-align: right;\n",
              "    }\n",
              "</style>\n",
              "<table border=\"1\" class=\"dataframe\">\n",
              "  <thead>\n",
              "    <tr style=\"text-align: right;\">\n",
              "      <th></th>\n",
              "      <th>pickup_datetime</th>\n",
              "    </tr>\n",
              "  </thead>\n",
              "  <tbody>\n",
              "    <tr>\n",
              "      <th>count</th>\n",
              "      <td>729322</td>\n",
              "    </tr>\n",
              "    <tr>\n",
              "      <th>mean</th>\n",
              "      <td>2016-04-01 11:17:42.123299584</td>\n",
              "    </tr>\n",
              "    <tr>\n",
              "      <th>min</th>\n",
              "      <td>2016-01-01 00:01:14</td>\n",
              "    </tr>\n",
              "    <tr>\n",
              "      <th>25%</th>\n",
              "      <td>2016-02-17 18:46:36.249999872</td>\n",
              "    </tr>\n",
              "    <tr>\n",
              "      <th>50%</th>\n",
              "      <td>2016-04-01 17:30:37.500000</td>\n",
              "    </tr>\n",
              "    <tr>\n",
              "      <th>75%</th>\n",
              "      <td>2016-05-15 07:13:01.249999872</td>\n",
              "    </tr>\n",
              "    <tr>\n",
              "      <th>max</th>\n",
              "      <td>2016-06-30 23:59:37</td>\n",
              "    </tr>\n",
              "  </tbody>\n",
              "</table>\n",
              "</div><br><label><b>dtype:</b> object</label>"
            ]
          },
          "metadata": {},
          "execution_count": 48
        }
      ]
    },
    {
      "cell_type": "markdown",
      "source": [
        "## 4. dropoff_datetime"
      ],
      "metadata": {
        "id": "mpnBbFEoAlig"
      }
    },
    {
      "cell_type": "code",
      "source": [
        "# There are 709308 Unique id's which represent each row in the data\n",
        "# Please note that this is a lower number than the number of unique values of pickup_datetime which can of course happen\n",
        "data.dropoff_datetime.nunique()"
      ],
      "metadata": {
        "colab": {
          "base_uri": "https://localhost:8080/"
        },
        "id": "xNVPGhtLArjR",
        "outputId": "aaca4ae5-15eb-4c64-d60d-83e660e080c8"
      },
      "execution_count": 49,
      "outputs": [
        {
          "output_type": "execute_result",
          "data": {
            "text/plain": [
              "709308"
            ]
          },
          "metadata": {},
          "execution_count": 49
        }
      ]
    },
    {
      "cell_type": "code",
      "source": [
        "# There are so many unique timestamps\n",
        "data.dropoff_datetime.unique()"
      ],
      "metadata": {
        "colab": {
          "base_uri": "https://localhost:8080/"
        },
        "id": "6PbCifUyArrR",
        "outputId": "2939e9de-4eff-4016-b6ec-eeae4f1b3eb7"
      },
      "execution_count": 50,
      "outputs": [
        {
          "output_type": "execute_result",
          "data": {
            "text/plain": [
              "<DatetimeArray>\n",
              "['2016-02-29 16:47:01', '2016-03-11 23:53:57', '2016-02-21 18:26:48',\n",
              " '2016-01-05 10:03:32', '2016-02-17 06:56:31', '2016-02-14 18:55:57',\n",
              " '2016-04-20 20:36:51', '2016-06-19 17:06:35', '2016-03-28 19:48:29',\n",
              " '2016-04-10 22:25:30',\n",
              " ...\n",
              " '2016-05-28 15:41:19', '2016-01-01 01:12:56', '2016-02-05 11:46:39',\n",
              " '2016-03-21 04:05:21', '2016-06-28 06:43:43', '2016-01-25 22:39:25',\n",
              " '2016-05-21 13:34:34', '2016-04-15 19:08:01', '2016-06-19 09:58:14',\n",
              " '2016-01-01 17:44:40']\n",
              "Length: 709308, dtype: datetime64[ns]"
            ]
          },
          "metadata": {},
          "execution_count": 50
        }
      ]
    },
    {
      "cell_type": "code",
      "source": [
        "# There are so many unique timestamps, but all of them between Januari 2016 to July 1st 2016\n",
        "data.dropoff_datetime.describe()"
      ],
      "metadata": {
        "colab": {
          "base_uri": "https://localhost:8080/",
          "height": 318
        },
        "id": "izw2UvD5AruB",
        "outputId": "9273c9c9-b476-47e2-be32-99d243b7a266"
      },
      "execution_count": 51,
      "outputs": [
        {
          "output_type": "execute_result",
          "data": {
            "text/plain": [
              "count                           729322\n",
              "mean     2016-04-01 11:33:34.352432128\n",
              "min                2016-01-01 00:05:54\n",
              "25%         2016-02-17 19:00:30.500000\n",
              "50%         2016-04-01 17:46:47.500000\n",
              "75%         2016-05-15 07:38:40.500000\n",
              "max                2016-07-01 23:02:03\n",
              "Name: dropoff_datetime, dtype: object"
            ],
            "text/html": [
              "<div>\n",
              "<style scoped>\n",
              "    .dataframe tbody tr th:only-of-type {\n",
              "        vertical-align: middle;\n",
              "    }\n",
              "\n",
              "    .dataframe tbody tr th {\n",
              "        vertical-align: top;\n",
              "    }\n",
              "\n",
              "    .dataframe thead th {\n",
              "        text-align: right;\n",
              "    }\n",
              "</style>\n",
              "<table border=\"1\" class=\"dataframe\">\n",
              "  <thead>\n",
              "    <tr style=\"text-align: right;\">\n",
              "      <th></th>\n",
              "      <th>dropoff_datetime</th>\n",
              "    </tr>\n",
              "  </thead>\n",
              "  <tbody>\n",
              "    <tr>\n",
              "      <th>count</th>\n",
              "      <td>729322</td>\n",
              "    </tr>\n",
              "    <tr>\n",
              "      <th>mean</th>\n",
              "      <td>2016-04-01 11:33:34.352432128</td>\n",
              "    </tr>\n",
              "    <tr>\n",
              "      <th>min</th>\n",
              "      <td>2016-01-01 00:05:54</td>\n",
              "    </tr>\n",
              "    <tr>\n",
              "      <th>25%</th>\n",
              "      <td>2016-02-17 19:00:30.500000</td>\n",
              "    </tr>\n",
              "    <tr>\n",
              "      <th>50%</th>\n",
              "      <td>2016-04-01 17:46:47.500000</td>\n",
              "    </tr>\n",
              "    <tr>\n",
              "      <th>75%</th>\n",
              "      <td>2016-05-15 07:38:40.500000</td>\n",
              "    </tr>\n",
              "    <tr>\n",
              "      <th>max</th>\n",
              "      <td>2016-07-01 23:02:03</td>\n",
              "    </tr>\n",
              "  </tbody>\n",
              "</table>\n",
              "</div><br><label><b>dtype:</b> object</label>"
            ]
          },
          "metadata": {},
          "execution_count": 51
        }
      ]
    },
    {
      "cell_type": "markdown",
      "source": [
        "## 5. passenger_count"
      ],
      "metadata": {
        "id": "f8Iq0vT-BXLh"
      }
    },
    {
      "cell_type": "code",
      "source": [
        "# Get the value_counts of passenger_count\n",
        "pd.options.display.float_format = '{:.2f}'.format #To suppress scientific notation.\n",
        "data.passenger_count.value_counts()"
      ],
      "metadata": {
        "colab": {
          "base_uri": "https://localhost:8080/",
          "height": 411
        },
        "id": "Gwrwxnv5Bghw",
        "outputId": "d7329f91-97b8-4edb-a027-771cc07a48b7"
      },
      "execution_count": 52,
      "outputs": [
        {
          "output_type": "execute_result",
          "data": {
            "text/plain": [
              "passenger_count\n",
              "1    517415\n",
              "2    105097\n",
              "5     38926\n",
              "3     29692\n",
              "6     24107\n",
              "4     14050\n",
              "0        33\n",
              "7         1\n",
              "9         1\n",
              "Name: count, dtype: int64"
            ],
            "text/html": [
              "<div>\n",
              "<style scoped>\n",
              "    .dataframe tbody tr th:only-of-type {\n",
              "        vertical-align: middle;\n",
              "    }\n",
              "\n",
              "    .dataframe tbody tr th {\n",
              "        vertical-align: top;\n",
              "    }\n",
              "\n",
              "    .dataframe thead th {\n",
              "        text-align: right;\n",
              "    }\n",
              "</style>\n",
              "<table border=\"1\" class=\"dataframe\">\n",
              "  <thead>\n",
              "    <tr style=\"text-align: right;\">\n",
              "      <th></th>\n",
              "      <th>count</th>\n",
              "    </tr>\n",
              "    <tr>\n",
              "      <th>passenger_count</th>\n",
              "      <th></th>\n",
              "    </tr>\n",
              "  </thead>\n",
              "  <tbody>\n",
              "    <tr>\n",
              "      <th>1</th>\n",
              "      <td>517415</td>\n",
              "    </tr>\n",
              "    <tr>\n",
              "      <th>2</th>\n",
              "      <td>105097</td>\n",
              "    </tr>\n",
              "    <tr>\n",
              "      <th>5</th>\n",
              "      <td>38926</td>\n",
              "    </tr>\n",
              "    <tr>\n",
              "      <th>3</th>\n",
              "      <td>29692</td>\n",
              "    </tr>\n",
              "    <tr>\n",
              "      <th>6</th>\n",
              "      <td>24107</td>\n",
              "    </tr>\n",
              "    <tr>\n",
              "      <th>4</th>\n",
              "      <td>14050</td>\n",
              "    </tr>\n",
              "    <tr>\n",
              "      <th>0</th>\n",
              "      <td>33</td>\n",
              "    </tr>\n",
              "    <tr>\n",
              "      <th>7</th>\n",
              "      <td>1</td>\n",
              "    </tr>\n",
              "    <tr>\n",
              "      <th>9</th>\n",
              "      <td>1</td>\n",
              "    </tr>\n",
              "  </tbody>\n",
              "</table>\n",
              "</div><br><label><b>dtype:</b> int64</label>"
            ]
          },
          "metadata": {},
          "execution_count": 52
        }
      ]
    },
    {
      "cell_type": "markdown",
      "source": [
        "## Observations\n",
        "\n",
        "1. There are some trips with 0 passenger count.\n",
        "\n",
        "2. Few trips consisted of even 6, 7, 8 or 9 passengers. Clear outliers and pointers to data inconsistency\n",
        "\n",
        "3. Most of trip consist of passenger either 1 or 2.\n"
      ],
      "metadata": {
        "id": "x4ZuDsRlCDWr"
      }
    },
    {
      "cell_type": "markdown",
      "source": [
        "# 6. Distance"
      ],
      "metadata": {
        "id": "x5udJj88Fkps"
      }
    },
    {
      "cell_type": "code",
      "source": [
        "# Visulise distance\n",
        "plt.figure(figsize = (20,5))\n",
        "sns.boxplot(data.distance)\n",
        "plt.show()"
      ],
      "metadata": {
        "colab": {
          "base_uri": "https://localhost:8080/",
          "height": 230
        },
        "id": "DF8e7YpeFooO",
        "outputId": "9ddce59d-a422-4a24-eef6-82d5a9eb0976"
      },
      "execution_count": 53,
      "outputs": [
        {
          "output_type": "display_data",
          "data": {
            "text/plain": [
              "<Figure size 2000x500 with 1 Axes>"
            ],
            "image/png": "[encoded data removed]"
          },
          "metadata": {}
        }
      ]
    },
    {
      "cell_type": "code",
      "source": [
        "print(f\"There are {data.distance[data.distance == 0 ].count()} trip records with 0 miles distance\")"
      ],
      "metadata": {
        "colab": {
          "base_uri": "https://localhost:8080/"
        },
        "id": "qbvBChN-Fwbv",
        "outputId": "c1ee8c5e-50d6-4954-8b40-7fceffa9316e"
      },
      "execution_count": 54,
      "outputs": [
        {
          "output_type": "stream",
          "name": "stdout",
          "text": [
            "There are 2901 trip records with 0 miles distance\n"
          ]
        }
      ]
    },
    {
      "cell_type": "markdown",
      "source": [
        "### Observations:\n",
        "\n",
        "- mean distance travelled is approx 2.1 miles.\n",
        "\n",
        "- There some trips with over 60 miles distance.\n",
        "\n",
        "- Some of the trips distance value is 0 miles.\n",
        "\n",
        "There are approximately 6,000 trip records with a distance of 0 kilometers.\n",
        "Below are some possible explanations for these records:\n",
        "- The customer may have changed their mind and canceled the journey immediately after accepting it.\n",
        "\n",
        "- The software might not have recorded the drop-off location correctly, resulting in the drop-off location being the same as the pickup location.\n",
        "\n",
        "- There could have been an issue with the GPS tracker while the journey was concluding.\n",
        "The driver may have canceled the trip shortly after accepting it, preventing the journey from starting.\n",
        "\n",
        "- Alternatively, there could be a technical issue with the software that requires further investigation by a technical expert.\n",
        "\n",
        "- Additionally, there are significant inconsistencies in the data where the drop-off location matches the pickup location. We cannot impute distance values based on a correlation with trip duration because the coordinates for the drop-off location would not align with the expected distance. We will further explore this issue in our bivariate analysis of trip duration."
      ],
      "metadata": {
        "id": "wGmXd3FhF1yv"
      }
    },
    {
      "cell_type": "code",
      "source": [
        "data.distance.groupby(pd.cut(data.distance, np.arange(0,80,10))).count().plot(kind='barh',figsize = (19,4))\n",
        "plt.show()"
      ],
      "metadata": {
        "colab": {
          "base_uri": "https://localhost:8080/",
          "height": 240
        },
        "id": "b8U3-UTAGZXP",
        "outputId": "bac1f630-3ff8-4744-d36b-a8dc95f6e75f"
      },
      "execution_count": 55,
      "outputs": [
        {
          "output_type": "stream",
          "name": "stderr",
          "text": [
            "<ipython-input-55-1b8993c0aa47>:1: FutureWarning: The default of observed=False is deprecated and will be changed to True in a future version of pandas. Pass observed=False to retain current behavior or observed=True to adopt the future default and silence this warning.\n",
            "  data.distance.groupby(pd.cut(data.distance, np.arange(0,80,10))).count().plot(kind='barh',figsize = (19,4))\n"
          ]
        },
        {
          "output_type": "display_data",
          "data": {
            "text/plain": [
              "<Figure size 1900x400 with 1 Axes>"
            ],
            "image/png": "[encoded data removed]"
          },
          "metadata": {}
        }
      ]
    },
    {
      "cell_type": "markdown",
      "source": [
        "From the above observation it is evident that most of the rides are completed between 1-10 miles with some of the rides with distances between 10-30 miles. Other slabs bar are not visible because the number of trips are very less as compared to these slabs"
      ],
      "metadata": {
        "id": "fyvneg5lGhM6"
      }
    },
    {
      "cell_type": "code",
      "source": [
        "# Visualise the distance feature\n",
        "ax = data['distance'].hist(bins=30, figsize=(18,5))\n",
        "ax.set_yscale('log')\n",
        "ax.set_xlabel(\"trip distance (miles)\")\n",
        "ax.set_ylabel(\"count\")\n",
        "plt.show()"
      ],
      "metadata": {
        "colab": {
          "base_uri": "https://localhost:8080/",
          "height": 269
        },
        "id": "Ihp9Q8EMHIap",
        "outputId": "2a081291-0a72-4d3e-aa4e-839c21615f82"
      },
      "execution_count": 56,
      "outputs": [
        {
          "output_type": "display_data",
          "data": {
            "text/plain": [
              "<Figure size 1800x500 with 1 Axes>"
            ],
            "image/png": "[encoded data removed]"
          },
          "metadata": {}
        }
      ]
    },
    {
      "cell_type": "markdown",
      "source": [
        "According to the dustribution of trip distances and the fact that it takes about 30 miles to drive across the whole New York City, we decided to use 30 as the number to split the trips into short or long distance trips."
      ],
      "metadata": {
        "id": "qhauuoXpHRZc"
      }
    },
    {
      "cell_type": "code",
      "source": [
        "df_short = data[data.distance <= 30].count()\n",
        "df_long = data[data.distance > 30].count()\n",
        "print(f\"Short Trips: {df_short[0]} records in total.\\nLong Trips: {df_long[0]} records in total.\")"
      ],
      "metadata": {
        "colab": {
          "base_uri": "https://localhost:8080/"
        },
        "id": "YS6a5cfxHSkS",
        "outputId": "48946b9d-fbf9-4cf0-9793-33eda827402e"
      },
      "execution_count": 57,
      "outputs": [
        {
          "output_type": "stream",
          "name": "stdout",
          "text": [
            "Short Trips: 729267 records in total.\n",
            "Long Trips: 55 records in total.\n"
          ]
        },
        {
          "output_type": "stream",
          "name": "stderr",
          "text": [
            "<ipython-input-57-ffd561f13462>:3: FutureWarning: Series.__getitem__ treating keys as positions is deprecated. In a future version, integer keys will always be treated as labels (consistent with DataFrame behavior). To access a value by position, use `ser.iloc[pos]`\n",
            "  print(f\"Short Trips: {df_short[0]} records in total.\\nLong Trips: {df_long[0]} records in total.\")\n"
          ]
        }
      ]
    },
    {
      "cell_type": "markdown",
      "source": [
        "# 7. Trip duration"
      ],
      "metadata": {
        "id": "k5QrH6e6CNSr"
      }
    },
    {
      "cell_type": "code",
      "source": [
        "# Visualisation of trip_duration\n",
        "plt.figure(figsize = (20,5))\n",
        "sns.boxplot(data.trip_duration)\n",
        "plt.show()"
      ],
      "metadata": {
        "colab": {
          "base_uri": "https://localhost:8080/",
          "height": 236
        },
        "id": "RmCUy-5wCQtD",
        "outputId": "724bb478-9743-47a5-e04f-393489869198"
      },
      "execution_count": 58,
      "outputs": [
        {
          "output_type": "display_data",
          "data": {
            "text/plain": [
              "<Figure size 2000x500 with 1 Axes>"
            ],
            "image/png": "[encoded data removed]"
          },
          "metadata": {}
        }
      ]
    },
    {
      "cell_type": "code",
      "source": [
        "import pandas as pd\n",
        "import numpy as np\n",
        "\n",
        "# Define the maximum trip duration to limit the number of bins\n",
        "max_duration = data['trip_duration'].max()\n",
        "max_limit = min(max_duration, 3600 * 24)  # Limit to 24 hours\n",
        "\n",
        "# Group and count the trip durations\n",
        "trip_duration_bins = pd.cut(data['trip_duration'], np.arange(1, max_limit, 3600))\n",
        "trip_duration_counts = data['trip_duration'].groupby(trip_duration_bins).count()\n",
        "\n",
        "print(trip_duration_counts)"
      ],
      "metadata": {
        "colab": {
          "base_uri": "https://localhost:8080/"
        },
        "id": "_nEei2odCwcE",
        "outputId": "87de9490-93f6-4442-a972-d1f47e0c085c"
      },
      "execution_count": 59,
      "outputs": [
        {
          "output_type": "stream",
          "name": "stdout",
          "text": [
            "trip_duration\n",
            "(1, 3601]         0\n",
            "(3601, 7201]      0\n",
            "(7201, 10801]     0\n",
            "(10801, 14401]    0\n",
            "(14401, 18001]    0\n",
            "(18001, 21601]    0\n",
            "(21601, 25201]    0\n",
            "(25201, 28801]    0\n",
            "(28801, 32401]    0\n",
            "(32401, 36001]    0\n",
            "(36001, 39601]    0\n",
            "(39601, 43201]    0\n",
            "(43201, 46801]    0\n",
            "(46801, 50401]    0\n",
            "(50401, 54001]    0\n",
            "(54001, 57601]    0\n",
            "(57601, 61201]    0\n",
            "(61201, 64801]    0\n",
            "(64801, 68401]    0\n",
            "(68401, 72001]    0\n",
            "(72001, 75601]    0\n",
            "(75601, 79201]    0\n",
            "(79201, 82801]    0\n",
            "Name: trip_duration, dtype: int64\n"
          ]
        },
        {
          "output_type": "stream",
          "name": "stderr",
          "text": [
            "<ipython-input-59-2a12f3625500>:10: FutureWarning: The default of observed=False is deprecated and will be changed to True in a future version of pandas. Pass observed=False to retain current behavior or observed=True to adopt the future default and silence this warning.\n",
            "  trip_duration_counts = data['trip_duration'].groupby(trip_duration_bins).count()\n"
          ]
        }
      ]
    },
    {
      "cell_type": "markdown",
      "source": [
        "1. Some trip durations exceed 100,000 seconds, which are clear outliers and should be excluded from the analysis.\n",
        "\n",
        "2. There are instances of trip durations as short as 1 second, indicating trips with a distance of 0 kilometers.\n",
        "\n",
        "3. The majority of trip durations fall within the range of 10 to 20 minutes.\n",
        "\n",
        "4. The mean and mode of the trip durations differ, suggesting that the distribution is skewed to the right."
      ],
      "metadata": {
        "id": "MK-J0HDhCj_E"
      }
    },
    {
      "cell_type": "markdown",
      "source": [
        "- Some trips lasted for over 20 days, which seems implausible given the distances traveled.\n",
        "\n",
        "- All these trips were conducted by Vendor 1, suggesting that this vendor may permit significantly longer trips for outstation services.\n",
        "\n",
        "- Notably, these trips occurred exclusively on Tuesdays in the first month or Saturdays in the second month. This pattern may indicate a relationship between the day of the week, pickup location, month, and passenger behavior.\n",
        "\n",
        "- However, these anomalies hinder our ability to make accurate predictions and introduce inconsistencies in the algorithm's calculations."
      ],
      "metadata": {
        "id": "9CoXVQHJC8HN"
      }
    },
    {
      "cell_type": "code",
      "source": [
        "# visualize the number of trips taken in bins of 0-10, 20-30 minutes\n",
        "import pandas as pd\n",
        "import numpy as np\n",
        "import matplotlib.pyplot as plt\n",
        "\n",
        "# Define the bin edges\n",
        "bin_edges = np.arange(1, 7200, 600)\n",
        "\n",
        "# Group and count the trip durations\n",
        "trip_duration_bins = pd.cut(data['trip_duration'], bin_edges)\n",
        "trip_duration_counts = data['trip_duration'].groupby(trip_duration_bins, observed=False).count()\n",
        "\n",
        "# Plot the results\n",
        "trip_duration_counts.plot(kind='barh', figsize=(18, 5))\n",
        "plt.title('Trip Duration')\n",
        "plt.xlabel('Trip Counts')\n",
        "plt.ylabel('Trip Duration (seconds)')\n",
        "plt.show()"
      ],
      "metadata": {
        "colab": {
          "base_uri": "https://localhost:8080/",
          "height": 271
        },
        "id": "LlmMTFRYD4Dl",
        "outputId": "8d792de1-e4ef-4f54-e564-053a23611809"
      },
      "execution_count": 64,
      "outputs": [
        {
          "output_type": "display_data",
          "data": {
            "text/plain": [
              "<Figure size 1800x500 with 1 Axes>"
            ],
            "image/png": "[encoded data removed]"
          },
          "metadata": {}
        }
      ]
    },
    {
      "cell_type": "markdown",
      "source": [
        "# 8. Speed"
      ],
      "metadata": {
        "id": "C2NgZcyVHhbh"
      }
    },
    {
      "cell_type": "code",
      "source": [
        "# Visuaisation of speed\n",
        "plt.figure(figsize = (20,5))\n",
        "sns.boxplot(data.speed)\n",
        "plt.show()"
      ],
      "metadata": {
        "colab": {
          "base_uri": "https://localhost:8080/",
          "height": 237
        },
        "id": "i8s5duk4Hk1k",
        "outputId": "28c35842-c7e7-4bfa-db31-e4a09c563abd"
      },
      "execution_count": 66,
      "outputs": [
        {
          "output_type": "display_data",
          "data": {
            "text/plain": [
              "<Figure size 2000x500 with 1 Axes>"
            ],
            "image/png": "[encoded data removed]"
          },
          "metadata": {}
        }
      ]
    },
    {
      "cell_type": "markdown",
      "source": [
        "### Observations\n",
        "- Many trips were done at a speed of over 125 mile/h. Going SuperSonic..!!\n",
        "- I choose to remove them and focus on the trips which were done at less than 65 mile/h as per the speed limits"
      ],
      "metadata": {
        "id": "LxnGixP8HzHB"
      }
    },
    {
      "cell_type": "code",
      "source": [
        "data = data[data.speed <= 65]\n",
        "data.speed.groupby(pd.cut(data.speed, np.arange(0,65,10))).count().plot(kind = 'barh',figsize = (19,5))\n",
        "plt.xlabel('Trip count')\n",
        "plt.ylabel('Speed (mile/H)')\n",
        "plt.title('Speed')\n",
        "plt.show()"
      ],
      "metadata": {
        "colab": {
          "base_uri": "https://localhost:8080/",
          "height": 298
        },
        "id": "DUk1V-KzH5-J",
        "outputId": "69e9b214-e239-4909-9337-b6031a442e27"
      },
      "execution_count": 67,
      "outputs": [
        {
          "output_type": "stream",
          "name": "stderr",
          "text": [
            "<ipython-input-67-fa4af9157c77>:2: FutureWarning: The default of observed=False is deprecated and will be changed to True in a future version of pandas. Pass observed=False to retain current behavior or observed=True to adopt the future default and silence this warning.\n",
            "  data.speed.groupby(pd.cut(data.speed, np.arange(0,65,10))).count().plot(kind = 'barh',figsize = (19,5))\n"
          ]
        },
        {
          "output_type": "display_data",
          "data": {
            "text/plain": [
              "<Figure size 1900x500 with 1 Axes>"
            ],
            "image/png": "[encoded data removed]"
          },
          "metadata": {}
        }
      ]
    },
    {
      "cell_type": "markdown",
      "source": [
        "### Conclusions\n",
        "- Trips over 15 miles/h are being considered as outliers but we cannot ignore them because they are well under the highest speed limit of 65 mile/h on state controlled highways.\n",
        "\n",
        "- Mostly trips are done at a speed range of 6-12 miles/h with an average speed of around 8 miles/h.\n",
        "\n",
        "- It is evident from this graph what we thought off i.e. most of the trips were done at a speed range of 6-12 miles/H."
      ],
      "metadata": {
        "id": "29gflJoNIJHh"
      }
    },
    {
      "cell_type": "markdown",
      "source": [
        "# 9: Total trips Per Hour"
      ],
      "metadata": {
        "id": "YVS_P-_cIiGX"
      }
    },
    {
      "cell_type": "code",
      "source": [
        "# Visualise the distribution of the pickups across the 24 hour time scale.\n",
        "\n",
        "def clock(ax, radii, title, color):\n",
        "    N = 24\n",
        "    bottom = 2\n",
        "\n",
        "    # create theta for 24 hours\n",
        "    theta = np.linspace(0.0, 2 * np.pi, N, endpoint=False)\n",
        "\n",
        "\n",
        "    # width of each bin on the plot\n",
        "    width = (2*np.pi) / N\n",
        "\n",
        "    bars = ax.bar(theta, radii, width=width, bottom=bottom, color=color, edgecolor=\"#999999\")\n",
        "\n",
        "    # set the lable go clockwise and start from the top\n",
        "    ax.set_theta_zero_location(\"N\")\n",
        "    # clockwise\n",
        "    ax.set_theta_direction(-1)\n",
        "\n",
        "    # set the label\n",
        "    ax.set_xticks(theta)\n",
        "    ticks = [\"{}:00\".format(x) for x in range(24)]\n",
        "    ax.set_xticklabels(ticks)\n",
        "    ax.set_title(title)\n"
      ],
      "metadata": {
        "id": "RDsaVZx0Ik_o"
      },
      "execution_count": 69,
      "outputs": []
    },
    {
      "cell_type": "code",
      "source": [
        "plt.figure(figsize = (15,15))\n",
        "ax = plt.subplot(2,2,1, polar=True)\n",
        "    # make the histogram that bined on 24 hour\n",
        "radii = np.array(data['pickup_hour'].value_counts(sort = False).tolist(), dtype=\"int64\")\n",
        "title = \"Trips per Hour\"\n",
        "clock(ax, radii, title, \"#dc143c\")"
      ],
      "metadata": {
        "colab": {
          "base_uri": "https://localhost:8080/",
          "height": 657
        },
        "id": "YBE3UnryI3Z5",
        "outputId": "502097c2-8367-4683-aa08-610a6acc4e39"
      },
      "execution_count": 70,
      "outputs": [
        {
          "output_type": "display_data",
          "data": {
            "text/plain": [
              "<Figure size 1500x1500 with 1 Axes>"
            ],
            "image/png": "[encoded data removed]"
          },
          "metadata": {}
        }
      ]
    },
    {
      "cell_type": "markdown",
      "source": [
        "### Observations\n",
        "\n",
        "The data aligns with the general trend of taxi pickups, which typically begin to rise around 6 AM and decline in the late evening, around 8 PM. There are no unusual patterns observed in this behavior. The peak number of pickups occurs between 6 PM and 7 PM."
      ],
      "metadata": {
        "id": "QXxDuL4VJI7F"
      }
    },
    {
      "cell_type": "markdown",
      "source": [
        "# 10. Total trips per weekday"
      ],
      "metadata": {
        "id": "zrR3Uc9iJPG3"
      }
    },
    {
      "cell_type": "code",
      "source": [
        "# Visualise the feature weekday_num\n",
        "plt.figure(figsize = (14,5))\n",
        "sns.countplot(data.weekday_num)\n",
        "plt.xlabel(' WeekDay ')\n",
        "plt.ylabel('Trip counts')\n",
        "plt.title('Trips per Day',fontsize = 20)\n",
        "plt.show()"
      ],
      "metadata": {
        "id": "jjgtNKPGJRGf"
      },
      "execution_count": null,
      "outputs": []
    },
    {
      "cell_type": "markdown",
      "source": [
        "### Observations\n",
        "\n",
        "Here we can see an increasing trend of taxi pickups starting from Monday till Friday. The trend starts declining from saturday till monday which is normal where some office going people likes to stay at home for rest on the weekends."
      ],
      "metadata": {
        "id": "wJUwEwDtKWxY"
      }
    },
    {
      "cell_type": "code",
      "source": [
        "# Visualise the hourwise pickup pattern across the week\n",
        "n = sns.FacetGrid(df, col='weekday_num')\n",
        "n.map(plt.hist, 'pickup_hour')\n",
        "plt.show()"
      ],
      "metadata": {
        "id": "uOOOxcgfJRLC"
      },
      "execution_count": null,
      "outputs": []
    },
    {
      "cell_type": "markdown",
      "source": [
        "### Observations\n",
        "\n",
        "- Taxi pickups have increased during late-night hours over the weekend, likely due to a rise in outstation rides or late-night leisure activities nearby.\n",
        "\n",
        "- Additionally, early morning pickups (before 5 AM) have seen an uptick over the weekend compared to pickups during office hours (after 7 AM), which have decreased for obvious reasons.\n",
        "\n",
        "- Overall, taxi pickups appear to remain consistent throughout the week, with a notable peak at 3 PM."
      ],
      "metadata": {
        "id": "ZJsif_mzKrEl"
      }
    },
    {
      "cell_type": "markdown",
      "source": [
        "# 11. Total trips per month"
      ],
      "metadata": {
        "id": "_Z0OC1FHKyR0"
      }
    },
    {
      "cell_type": "code",
      "source": [
        "# Visualise Total trips per month\n",
        "plt.figure(figsize = (19,5))\n",
        "sns.countplot(data.month)\n",
        "plt.ylabel('Trip Counts',fontsize = 15)\n",
        "plt.xlabel('Months',fontsize = 15)\n",
        "plt.title('Trips per Month',fontsize = 20)\n",
        "plt.show()"
      ],
      "metadata": {
        "id": "nI1SJgMMK0Yu"
      },
      "execution_count": null,
      "outputs": []
    },
    {
      "cell_type": "markdown",
      "source": [
        "### Observation\n",
        "\n",
        "Quite a balance across the months here. It could have been more equivalent if we wouldn't have removed the inconsistent records in our study of the univariate analysis"
      ],
      "metadata": {
        "id": "IAdI6KH3K_Qg"
      }
    },
    {
      "cell_type": "markdown",
      "source": [
        "## Distribution"
      ],
      "metadata": {
        "id": "j5U_cJ-DnJ0r"
      }
    },
    {
      "cell_type": "code",
      "source": [
        "import pandas as pd\n",
        "import matplotlib.pyplot as plt\n",
        "import seaborn as sns\n",
        "\n",
        "# Taking a subset to minimize impact on memory\n",
        "# Taking a subset of 10,000 rows will app generate the same distribution as the full dataset\n",
        "\n",
        "data_subset = data.iloc[:10000]  # Take the first 10,000 rows\n",
        "\n",
        "# Assuming 'data' is your DataFrame\n",
        "plt.figure(figsize=(15, 30))\n",
        "\n",
        "# Iterate through each column and plot on a separate subplot\n",
        "for i, column in enumerate(data_subset.columns):\n",
        "    plt.subplot(7, 3, i + 1)\n",
        "    # Limit the number of bins to avoid excessive memory usage\n",
        "    try:\n",
        "        plt.title(f'Distribution of {column}')\n",
        "        sns.histplot(data_subset[column], kde=True, bins=30)\n",
        "        plt.xticks(rotation=45)\n",
        "    except MemoryError:\n",
        "        print(f\"MemoryError: Skipping column {column} due to memory constraints\")\n",
        "\n",
        "# Adjust layout and show the plot\n",
        "plt.tight_layout()\n",
        "plt.show()"
      ],
      "metadata": {
        "id": "JJK-j07MFnfy"
      },
      "execution_count": null,
      "outputs": []
    },
    {
      "cell_type": "markdown",
      "source": [
        "## Normalized Distribution (Gaussian)"
      ],
      "metadata": {
        "id": "jxBuoWdLnF05"
      }
    },
    {
      "cell_type": "code",
      "source": [
        "# Select only the numercial data\n",
        "numerical_data = data.select_dtypes(include=['int64', 'float64'])\n",
        "# Remove id , vendor_id, store_and_fwd_flag_N, store_and_fwd_flag_Y, pickup_longitude, pickup_latitude, dropoff_longitude, dropoff_latitude\n",
        "numerical_data = numerical_data.drop(['vendor_id', 'store_and_fwd_flag_N', 'store_and_fwd_flag_Y', 'pickup_longitude', 'pickup_latitude', 'dropoff_longitude', 'dropoff_latitude'], axis=1)"
      ],
      "metadata": {
        "id": "AAUIX22-lfmL"
      },
      "execution_count": null,
      "outputs": []
    },
    {
      "cell_type": "code",
      "source": [
        "# Taking a subset to minimize impact on memory\n",
        "# Taking a subset of 10,000 rows will app generate the same distribution as the full dataset\n",
        "data_subset = numerical_data.iloc[:10000]  # Take the first 10,000 rows\n",
        "\n",
        "from scipy import stats\n",
        "\n",
        "plt.figure(figsize=(15, 30))\n",
        "\n",
        "# Iterate through each column and plot on a separate subplot\n",
        "for i, column in enumerate(data_subset.columns):\n",
        "    plt.subplot(7, 3, i+1)\n",
        "    sns.histplot(data_subset[column], kde=True)\n",
        "    plt.title(f'Distribution of {column}')\n",
        "    plt.xticks(rotation=45)\n",
        "\n",
        "    # Add additional analysis to detect distribution type\n",
        "    # Check for normal distribution\n",
        "    k2, p = stats.normaltest(data_subset[column])\n",
        "    if p < 0.05:\n",
        "        plt.text(0.5, 0.5, \"Not Normal\", horizontalalignment='center', verticalalignment='center', transform=plt.gca().transAxes)\n",
        "    else:\n",
        "        plt.text(0.5, 0.5, \"Normal\", horizontalalignment='center', verticalalignment='center', transform=plt.gca().transAxes)\n",
        "\n",
        "# Adjust layout and show the plot\n",
        "plt.tight_layout()\n",
        "plt.show()"
      ],
      "metadata": {
        "id": "HbW3CG3wmZv-"
      },
      "execution_count": null,
      "outputs": []
    },
    {
      "cell_type": "markdown",
      "source": [
        "## Skewed Distribution (negative and positive)\n"
      ],
      "metadata": {
        "id": "p0W8oaGMnQ65"
      }
    },
    {
      "cell_type": "code",
      "source": [
        "# Taking a subset to minimize impact on memory\n",
        "# Taking a subset of 10,000 rows will app generate the same distribution as the full dataset\n",
        "data_subset = numerical_data.iloc[:10000]  # Take the first 10,000 rows\n",
        "\n",
        "# Taking a subset to minimize impact on memory\n",
        "plt.figure(figsize=(15, 10))\n",
        "\n",
        "# Iterate through each column and plot on a separate subplot\n",
        "for i, column in enumerate(data_subset.columns):\n",
        "    plt.subplot(7, 3, i+1)\n",
        "    sns.histplot(data_subset[column], kde=True)\n",
        "    plt.title(f'Distribution of {column}')\n",
        "    plt.xticks(rotation=45)\n",
        "\n",
        "    # Check for skewness\n",
        "    skewness = stats.skew(data[column])\n",
        "    if skewness < -1 or skewness > 1:\n",
        "        plt.text(0.5, 0.3, f\"Skewed ({skewness:.2f})\", horizontalalignment='center', verticalalignment='center', transform=plt.gca().transAxes)\n",
        "    else:\n",
        "        plt.text(0.5, 0.3, f\"Not Skewed\", horizontalalignment='center', verticalalignment='center', transform=plt.gca().transAxes)\n",
        "\n",
        "# Adjust layout and show the plot\n",
        "plt.tight_layout()\n",
        "plt.show()"
      ],
      "metadata": {
        "id": "JsG4YbrDmZy7"
      },
      "execution_count": null,
      "outputs": []
    },
    {
      "cell_type": "markdown",
      "source": [
        "## Outliers\n"
      ],
      "metadata": {
        "id": "vu7mVVtJnaKG"
      }
    },
    {
      "cell_type": "code",
      "source": [
        "# For the outlier analysis we cannot take a subset.\n",
        "\n",
        "plt.figure(figsize=(15, 30))\n",
        "\n",
        "# Iterate through each column and plot on a separate subplot\n",
        "for i, column in enumerate(numerical_data.columns):\n",
        "    plt.subplot(7, 3, i+1)\n",
        "    sns.boxplot(numerical_data[column])\n",
        "    plt.title(f'Box plot of {column}')\n",
        "\n",
        "# Adjust layout and show the plot\n",
        "plt.tight_layout()\n",
        "plt.show()"
      ],
      "metadata": {
        "id": "dcDPkiMAnU8u"
      },
      "execution_count": null,
      "outputs": []
    },
    {
      "cell_type": "markdown",
      "source": [
        "# Bivariate analysis"
      ],
      "metadata": {
        "id": "k7pLj64GpC7v"
      }
    },
    {
      "cell_type": "code",
      "source": [
        "# Calculate the correlation matrix\n",
        "correlation_matrix = numerical_data.corr()\n",
        "\n",
        "# Print the correlation matrix\n",
        "print(\"Correlation Matrix:\")\n",
        "print(correlation_matrix)"
      ],
      "metadata": {
        "id": "UNnevekGnVGB"
      },
      "execution_count": null,
      "outputs": []
    },
    {
      "cell_type": "code",
      "source": [
        "# Create a heatmap\n",
        "plt.figure(figsize=(10, 8))\n",
        "sns.heatmap(correlation_matrix, annot=True, cmap='coolwarm', fmt=\".2f\", linewidths=0.5)\n",
        "plt.title('Correlation Heatmap')\n",
        "plt.show()"
      ],
      "metadata": {
        "id": "0Ltu1Re1pGp-"
      },
      "execution_count": null,
      "outputs": []
    },
    {
      "cell_type": "markdown",
      "source": [
        "# 1: Bivariate analysis Trip Duration per hour"
      ],
      "metadata": {
        "id": "cUde5F1dLfKu"
      }
    },
    {
      "cell_type": "markdown",
      "source": [
        "We need to aggregate the total trip duration to plot it against the month. The aggregation measure can be any of the following: sum, mean, median, or mode. Since we have already conducted an outlier analysis, we can use the mean for visualization. This approach should effectively represent the pattern without introducing bias into the general trend."
      ],
      "metadata": {
        "id": "4ZSJBVisL2rx"
      }
    },
    {
      "cell_type": "code",
      "source": [
        "# Visualise trip duration per hour by analysis pickup_hour with trip_duration\n",
        "plt.figure(figsize = (14,5))\n",
        "group1 = data.groupby('pickup_hour').trip_duration.mean()\n",
        "sns.pointplot(group1.index, group1.values)\n",
        "plt.ylabel('Trip Duration (seconds)')\n",
        "plt.xlabel('Pickup Hour')\n",
        "plt.title('Trip Duration per Hour')\n",
        "plt.show()"
      ],
      "metadata": {
        "id": "JOrBNO9xL3tm"
      },
      "execution_count": null,
      "outputs": []
    },
    {
      "cell_type": "markdown",
      "source": [
        "### Observation\n",
        "\n",
        "- Average trip duration is lowest at 6 AM when there is minimal traffic on the roads.\n",
        "\n",
        "- Average trip duration is generally highest around 3 PM during the busy streets.\n",
        "\n",
        "- Trip duration on an average is similar during early morning hours i.e. before 6 AM & late evening hours i.e. after 6 PM."
      ],
      "metadata": {
        "id": "PFdE3kX1MGfk"
      }
    },
    {
      "cell_type": "markdown",
      "source": [
        "# 2. Trip duration per WeekDay"
      ],
      "metadata": {
        "id": "QZjcIScnMPga"
      }
    },
    {
      "cell_type": "code",
      "source": [
        "# Visualise trip duration per hour by analysis weekday_num with trip_duration\n",
        "plt.figure(figsize = (14,5))\n",
        "group2 = data.groupby('weekday_num').trip_duration.mean()\n",
        "sns.pointplot(group2.index, group2.values)\n",
        "plt.ylabel('Trip Duration (seconds)')\n",
        "plt.xlabel('Weekday')\n",
        "plt.title('Trip Duration per WeekDay')\n",
        "plt.show()"
      ],
      "metadata": {
        "id": "5wnQAq4rMRxY"
      },
      "execution_count": null,
      "outputs": []
    },
    {
      "cell_type": "markdown",
      "source": [
        "### Observation\n",
        "\n",
        "Trip durations are nearly evenly distributed throughout the week, ranging from 0 to 1,000 minutes, with only minimal variations in duration times. Notably, Thursday has the longest trip durations compared to the other days."
      ],
      "metadata": {
        "id": "FWDv2nbBMjAv"
      }
    },
    {
      "cell_type": "markdown",
      "source": [
        "# 3. Trip duration per Month"
      ],
      "metadata": {
        "id": "xEg9usgyMtOU"
      }
    },
    {
      "cell_type": "code",
      "source": [
        "# Visualise trip duration per hour by analysis month with trip_duration\n",
        "plt.figure(figsize = (14,5))\n",
        "group3 = data.groupby('month').trip_duration.mean()\n",
        "sns.pointplot(group3.index, group3.values)\n",
        "plt.ylabel('Trip Duration (seconds)')\n",
        "plt.xlabel('Month')\n",
        "plt.title('Trip Duration per Month')\n",
        "plt.show()"
      ],
      "metadata": {
        "id": "A-zAmNNAMppD"
      },
      "execution_count": null,
      "outputs": []
    },
    {
      "cell_type": "markdown",
      "source": [
        "### Observations\n",
        "\n",
        "Analysis of Average Trip Duration Trends\n",
        "We observe an increasing trend in the average trip duration over the subsequent months. While the differences in duration from month to month are not significant, there has been a gradual increase over a six-month period.\n",
        "The lowest average trip duration occurs in February, coinciding with the decline of winter.\n",
        "Seasonal factors, such as wind and rain, may contribute to this gradual rise in trip duration. For instance, May is typically considered the wettest month in New York City, which aligns with our visualization. Increased rainfall often leads to longer travel times due to traffic congestion during the rainy season, resulting in naturally longer trip durations in April, May, and June."
      ],
      "metadata": {
        "id": "mQW5jVJvNoIv"
      }
    },
    {
      "cell_type": "markdown",
      "source": [
        "# 4. Trip duration per vendor"
      ],
      "metadata": {
        "id": "yirE4swnNgDW"
      }
    },
    {
      "cell_type": "code",
      "source": [
        "# Visualise vendor_id with trip_duration\n",
        "group4 = data.groupby('vendor_id').trip_duration.mean()\n",
        "sns.barplot(group4.index, group4.values)\n",
        "plt.ylabel('Trip Duration (seconds)')\n",
        "plt.xlabel('Vendor')\n",
        "plt.title('Trip Duration per Vendor')\n",
        "plt.show()"
      ],
      "metadata": {
        "id": "XM89JxopNitR"
      },
      "execution_count": null,
      "outputs": []
    },
    {
      "cell_type": "markdown",
      "source": [
        "### Observation\n",
        "\n",
        "Vendor Performance Comparison\n",
        "\n",
        "Vendor 2 stands out with a higher average trip duration compared to Vendor 1, though the difference is relatively small."
      ],
      "metadata": {
        "id": "2wU2tehvOIhx"
      }
    },
    {
      "cell_type": "markdown",
      "source": [
        "# 5. Distance per hour"
      ],
      "metadata": {
        "id": "OS_eXWEIOWLZ"
      }
    },
    {
      "cell_type": "markdown",
      "source": [
        "Analyzing Distance Distribution Across Variables\n",
        "\n",
        "Next, let's examine how trip distance is distributed across various variables. We expect that trip distance should be roughly proportional to trip duration, assuming we disregard general traffic conditions and other road factors.\n",
        "\n",
        "Now, let's visualize this relationship for each hour.\n",
        "\n",
        "Since we have already conducted an outlier analysis for this variable, we can use the mean as our aggregate measure for the visualizations."
      ],
      "metadata": {
        "id": "gX7pWpcgOr87"
      }
    },
    {
      "cell_type": "code",
      "source": [
        "# Visualise pickup_hour with distance\n",
        "plt.figure(figsize = (14,5))\n",
        "group5 = df.groupby('pickup_hour').distance.mean()\n",
        "sns.pointplot(group5.index, group5.values)\n",
        "plt.ylabel('Distance (mile)')\n",
        "plt.title('Distance per Hour')\n",
        "plt.show()"
      ],
      "metadata": {
        "id": "J3kJWZ0XOcMm"
      },
      "execution_count": null,
      "outputs": []
    },
    {
      "cell_type": "markdown",
      "source": [
        "### Observation\n",
        "\n",
        "Analysis of Trip Distance Trends\n",
        "\n",
        "Trip distances are highest during the early morning hours, which may be attributed to several factors, including:\n",
        "\n",
        "Outstation trips taken over the weekends.\n",
        "Longer journeys to the city airport, located on the outskirts.\n",
        "\n",
        "Throughout the day, trip distances remain relatively consistent, ranging from 2 to 2.5 miles from morning until evening.\n",
        "\n",
        "However, distances begin to increase gradually during the late night hours, starting in the evening and continuing until 5 AM, before steeply declining as morning approaches."
      ],
      "metadata": {
        "id": "OO4FvQCsPFwl"
      }
    },
    {
      "cell_type": "markdown",
      "source": [
        "# 6. Distance per WeekDay"
      ],
      "metadata": {
        "id": "bxLM2xO0POXv"
      }
    },
    {
      "cell_type": "code",
      "source": [
        "# Visualise weekday_num with distance\n",
        "plt.figure(figsize = (14,5))\n",
        "group6 = df.groupby('weekday_num').distance.mean()\n",
        "sns.pointplot(group6.index, group6.values)\n",
        "plt.ylabel('Distance (mile)')\n",
        "plt.title('Distance per WeekDay')\n",
        "plt.show()"
      ],
      "metadata": {
        "id": "_fxavil0PSeH"
      },
      "execution_count": null,
      "outputs": []
    },
    {
      "cell_type": "markdown",
      "source": [
        "### Observations\n",
        "\n",
        "The distribution of trip distances is fairly consistent, with an average distance of approximately 2 miles per hour.\n",
        "\n",
        "Sundays tend to have the highest average distance, likely due to outstation trips or late-night journeys to the airport."
      ],
      "metadata": {
        "id": "wRwlppF_PXSX"
      }
    },
    {
      "cell_type": "markdown",
      "source": [
        "# 7.Distance per Month"
      ],
      "metadata": {
        "id": "YaQ3ilLwk22h"
      }
    },
    {
      "cell_type": "code",
      "source": [
        "# Visualise month with distance\n",
        "plt.figure(figsize = (14,5))\n",
        "group7 = data.groupby('month').distance.mean()\n",
        "sns.pointplot(group7.index, group7.values)\n",
        "plt.ylabel('Distance (mile)')\n",
        "plt.xlabel('Month')\n",
        "plt.title('Distance per Month')\n",
        "plt.show()"
      ],
      "metadata": {
        "id": "NHAQ-WnTk5aF"
      },
      "execution_count": null,
      "outputs": []
    },
    {
      "cell_type": "markdown",
      "source": [
        "### Observation\n",
        "\n",
        "In this case, the distribution is nearly uniform, with average distances primarily around 3.5 km. The fifth month records the highest average distance, while the second month shows the lowest."
      ],
      "metadata": {
        "id": "BSDmRDi1lM6Z"
      }
    },
    {
      "cell_type": "markdown",
      "source": [
        "# 8. Distance per Vendor"
      ],
      "metadata": {
        "id": "kF54cBw2lP4a"
      }
    },
    {
      "cell_type": "code",
      "source": [
        "# Visualise vendor_id with distance\n",
        "group8 = data.groupby('vendor_id').distance.mean()\n",
        "sns.barplot(group8.index, group8.values)\n",
        "plt.ylabel(\"Distance mile\")\n",
        "plt.xlabel(\"Vendor\")\n",
        "plt.title('Distance per Vendor')\n",
        "plt.show()"
      ],
      "metadata": {
        "id": "sPUXBHMIlXDO"
      },
      "execution_count": null,
      "outputs": []
    },
    {
      "cell_type": "markdown",
      "source": [
        "### Observation\n",
        "\n",
        "Vendor Comparison:\n",
        "\n",
        "The analysis reveals a similar pattern for both vendors, leaving little additional insight to explore."
      ],
      "metadata": {
        "id": "8uHjv6PIlltQ"
      }
    },
    {
      "cell_type": "markdown",
      "source": [
        "# 9. Distance vs Trip duration"
      ],
      "metadata": {
        "id": "4ZSV4Xtils4T"
      }
    },
    {
      "cell_type": "code",
      "source": [
        "# Visualise trip_duration with distance\n",
        "plt.figure(figsize = (10,5))\n",
        "plt.scatter(data.trip_duration, df.distance , s=5, alpha=1)\n",
        "plt.ylabel('Distance')\n",
        "plt.xlabel('Trip Duration')\n",
        "plt.title('Distance v/s Trip Duration')\n",
        "plt.show()"
      ],
      "metadata": {
        "id": "C0nr2G-clv5s"
      },
      "execution_count": null,
      "outputs": []
    },
    {
      "cell_type": "markdown",
      "source": [
        "### Observations\n",
        "\n",
        "Analysis of Trip Duration and Distance\n",
        "Many trips recorded negligible distances while exceeding 20,000 seconds in duration. Initially, the graph shows a clear correlation between distance covered and trip duration; however, this correlation diminishes later on.\n",
        "\n",
        "Additionally, there were a few trips that covered significant distances of approximately 120 miles in a very short time frame, which is unlikely and should be classified as outliers.\n",
        "\n",
        "Let’s focus on the section of the graph where the distance is less than 30 miles and the duration is under 1,000 seconds."
      ],
      "metadata": {
        "id": "qWnroAi7mEQM"
      }
    },
    {
      "cell_type": "code",
      "source": [
        "# Visualise Distance vs Trip Duration\n",
        "plt.figure(figsize = (10,5))\n",
        "dur_dist = df.loc[(data.distance < 30) & (data.trip_duration < 1000), ['distance','trip_duration']]\n",
        "plt.scatter(dur_dist.trip_duration, dur_dist.distance , s=1, alpha=0.5)\n",
        "plt.ylabel('Distance')\n",
        "plt.xlabel('Trip Duration')\n",
        "plt.title('Distance vs Trip Duration')\n",
        "plt.show()"
      ],
      "metadata": {
        "id": "ya6C_5NkmKze"
      },
      "execution_count": null,
      "outputs": []
    },
    {
      "cell_type": "markdown",
      "source": [
        "Analysis of Trip Duration and Distance Relationship\n",
        "\n",
        "Ideally, there should be a linear relationship between the distance covered and trip duration on average. However, we observe a dense cluster of trips in the lower right corner, indicating many trips with inconsistent readings.\n",
        "\n",
        "To enhance the consistency of our data for the predictive model, we should remove trips that recorded a distance of 0 miles but had a duration of more than 1 minute. We assume that if a trip was canceled shortly after booking, it should not have taken more than a minute."
      ],
      "metadata": {
        "id": "RfIhShPwnrch"
      }
    },
    {
      "cell_type": "markdown",
      "source": [
        "# 10. Average speed per hour"
      ],
      "metadata": {
        "id": "gmpXT4Cbn4m_"
      }
    },
    {
      "cell_type": "code",
      "source": [
        "# Visualise Average Speed per Hour\n",
        "plt.figure(figsize = (14,5))\n",
        "group9 = data.groupby('pickup_hour').speed.mean()\n",
        "sns.pointplot(group9.index, group9.values)\n",
        "plt.xlabel('Pick Up Hours')\n",
        "plt.ylabel('Speed mile/h')\n",
        "plt.title('Average Speed per Hour')\n",
        "plt.show()"
      ],
      "metadata": {
        "id": "Yb5TGsLSn3xI"
      },
      "execution_count": null,
      "outputs": []
    },
    {
      "cell_type": "markdown",
      "source": [
        "### Observations\n",
        "\n",
        "The average speed trend aligns well with typical conditions. Average taxi speeds tend to increase after late evening and continue to rise gradually until the early morning hours.\n",
        "\n",
        "The highest average taxi speed occurs at 5 AM, after which it declines sharply as office hours approach. During office hours, from 8 AM to 6 PM, the average taxi speed remains relatively consistent."
      ],
      "metadata": {
        "id": "mJx-OzrjoURD"
      }
    },
    {
      "cell_type": "markdown",
      "source": [
        "#Data Preprocessing\n",
        "\n",
        "### PLanning:\n",
        "1) Remove redudant columns\n",
        "\n",
        "2) Creating new derrived features\n",
        "\n",
        "3) Removing outliers\n",
        "\n",
        "4) Scaling the data\n",
        "\n",
        "\n"
      ],
      "metadata": {
        "id": "FItfW9Tkncu3"
      }
    },
    {
      "cell_type": "markdown",
      "source": [
        "# 11. Average speed per weekday"
      ],
      "metadata": {
        "id": "b8lzLGafoXJd"
      }
    },
    {
      "cell_type": "code",
      "source": [
        "# Visualise Average Speed per WeekDay\n",
        "plt.figure(figsize = (14,5))\n",
        "group10 = df.groupby('weekday_num').speed.mean()\n",
        "sns.pointplot(group10.index, group10.values)\n",
        "plt.xlabel('Pick Up WeekDay')\n",
        "plt.ylabel('Speed mile/h')\n",
        "plt.title('Average Speed per WeekDay')\n",
        "plt.show()"
      ],
      "metadata": {
        "id": "qpLZ3_C4Ln8y"
      },
      "execution_count": null,
      "outputs": []
    },
    {
      "cell_type": "markdown",
      "source": [
        "### Observations\n",
        "\n",
        "Analysis of Average Taxi Speed Trends\n",
        "Average taxi speeds are higher on weekends compared to weekdays, which is expected due to the influx of office workers and business owners during the week. Interestingly, average taxi speeds on Mondays are also elevated, which is surprising given that it is typically one of the busiest days following the weekend.\n",
        "\n",
        "Several factors may contribute to this phenomenon:\n",
        "\n",
        "Many customers return from outstation trips in the early hours of Monday, before 6 AM, to make it to the office on time.\n",
        "\n",
        "Early morning passengers arriving from airports after vacations may also be heading to their offices or businesses for the upcoming week.\n",
        "\n",
        "There may be additional local factors influencing this trend that only residents would know about.\n",
        "\n",
        "Furthermore, we cannot overlook the anomalies present in the dataset, which can be challenging to identify within such a large volume of data."
      ],
      "metadata": {
        "id": "gMDNnz_8oiA8"
      }
    },
    {
      "cell_type": "markdown",
      "source": [
        "# 12. Passenger count per vendor\n",
        "\n",
        "Analyzing Passenger Count\n",
        "\n",
        "Let's explore a different metric in our analysis: passenger count. We will plot this metric against the vendor only, as it would not be particularly useful to compare it with hour, weekday, or month. Passenger count should be represented as a whole number rather than a ratio.\n",
        "\n",
        "We will use the mean as our aggregate measure since we have already conducted an outlier analysis on this metric, ensuring that our results are not skewed by extreme values. Using the median would yield a value of 1, as the majority of trips are taken by single passengers.\n",
        "\n",
        "Now, let’s examine the distribution of passenger counts."
      ],
      "metadata": {
        "id": "sM7zYva5o4Q6"
      }
    },
    {
      "cell_type": "code",
      "source": [
        "# Visualise Passenger Count per Vendor\n",
        "group9 = df.groupby('vendor_id').passenger_count.mean()\n",
        "sns.barplot(group9.index, group9.values)\n",
        "plt.ylabel('Passenger count')\n",
        "plt.xlabel('Vendor Id')\n",
        "plt.title('Passenger Count per Vendor')\n",
        "plt.show()"
      ],
      "metadata": {
        "id": "XwgznVoyo7_V"
      },
      "execution_count": null,
      "outputs": []
    },
    {
      "cell_type": "markdown",
      "source": [
        "### Observations\n",
        "\n",
        "Comparison of Average Passenger Count by Vendor\n",
        "\n",
        "There is a clear distinction between the two vendors regarding the average passenger count for all trips. It appears that trips from Vendor 2 typically accommodate 2 passengers, while trips from Vendor 1 generally have 1 passenger. Let’s delve deeper into this analysis.\n",
        "\n",
        "It seems that Vendor 2 primarily serves larger vehicles, including minivans, which contributes to their higher average passenger count. This vendor has a significant share of trips with more than one passenger, further explaining their greater market presence."
      ],
      "metadata": {
        "id": "PmFSw5h9pTDq"
      }
    },
    {
      "cell_type": "markdown",
      "source": [
        "# 13. Pick Up Points v/s Dropoff Points"
      ],
      "metadata": {
        "id": "ywnqkYU7pkpn"
      }
    },
    {
      "cell_type": "code",
      "source": [
        "city_long_border = (-74.03, -73.75)\n",
        "city_lat_border = (40.63, 40.85)\n",
        "fig, ax = plt.subplots(ncols=2, sharex=True, sharey=True,figsize = (12,5))\n",
        "ax[0].scatter(df['pickup_longitude'].values, df['pickup_latitude'].values,\n",
        "color='blue', s=1, label='train', alpha=0.1)\n",
        "ax[1].scatter(df['dropoff_longitude'].values, df['dropoff_latitude'].values,\n",
        "color='green', s=1, label='train', alpha=0.1)\n",
        "ax[1].set_title('Drop-off Co-ordinates')\n",
        "ax[0].set_title('Pick-up Co-ordinates')\n",
        "ax[0].set_ylabel('Latitude')\n",
        "ax[0].set_xlabel('Longitude')\n",
        "ax[1].set_ylabel('Latitude')\n",
        "ax[1].set_xlabel('Longitude')\n",
        "plt.ylim(city_lat_border)\n",
        "plt.xlim(city_long_border)\n",
        "plt.show()"
      ],
      "metadata": {
        "id": "u15VSFuKprJg"
      },
      "execution_count": null,
      "outputs": []
    },
    {
      "cell_type": "markdown",
      "source": [
        "### Observations\n",
        "\n",
        "Analysis of Pickup and Dropoff Locations\n",
        "The pickup data clearly indicates that the majority of trips are concentrated in the Manhattan area, suggesting it is a highly populated location for pickups. In contrast, the drop-off locations are more dispersed compared to pickups.\n",
        "\n",
        "As noted in the distance analysis, the average trip distance is 2.1 miles, which accounts for the significant volume of drop-offs within Manhattan itself."
      ],
      "metadata": {
        "id": "QNVMs1Lzp9A1"
      }
    },
    {
      "cell_type": "markdown",
      "source": [
        "# Feature Engineering"
      ],
      "metadata": {
        "id": "8_qANslkqFO_"
      }
    },
    {
      "cell_type": "markdown",
      "source": [
        "# 1) Removing redundant features"
      ],
      "metadata": {
        "id": "FidWzSbxoQzE"
      }
    },
    {
      "cell_type": "code",
      "source": [
        "data = data.drop(['id','vendor_id', ],axis = 1)"
      ],
      "metadata": {
        "id": "U6dqEZw2I00w"
      },
      "execution_count": null,
      "outputs": []
    },
    {
      "cell_type": "markdown",
      "source": [
        "#2) Creating new derrived features\n",
        "\n",
        "### 1) Creating a new distance feature by comparing the longitude and latitude features.\n",
        "### 2) Creating new features of the datetime to capture the moment of thye week and to moment in the day\n"
      ],
      "metadata": {
        "id": "zhhoQTEEJH94"
      }
    },
    {
      "cell_type": "markdown",
      "source": [
        "#Removing Outliers"
      ],
      "metadata": {
        "id": "NQLqYInbLiT0"
      }
    },
    {
      "cell_type": "code",
      "source": [
        "data.describe()"
      ],
      "metadata": {
        "id": "go-6qNnwnfeB"
      },
      "execution_count": null,
      "outputs": []
    },
    {
      "cell_type": "markdown",
      "source": [
        "# Conclusions w.r.t. Outliers\n",
        "\n",
        "We see potential outliers at the following features...\n",
        "\n",
        "1) trip_duration -> 1.939736e+15 seconds is a lot\n",
        "\n",
        "2) distance -> there are some very high numbers\n"
      ],
      "metadata": {
        "id": "ALn_duxUPNox"
      }
    },
    {
      "cell_type": "markdown",
      "source": [
        "#### Handling outliers @ trip_duration"
      ],
      "metadata": {
        "id": "27HBHOowP3iZ"
      }
    },
    {
      "cell_type": "code",
      "source": [
        "data.trip_duration.describe()"
      ],
      "metadata": {
        "id": "CGruKpi5Q4es"
      },
      "execution_count": null,
      "outputs": []
    },
    {
      "cell_type": "code",
      "source": [
        "data['trip_duration'].quantile(0.25), data['distance'].quantile(0.75)"
      ],
      "metadata": {
        "id": "xIMF_gBtPrpK"
      },
      "execution_count": null,
      "outputs": []
    },
    {
      "cell_type": "code",
      "source": [
        "IQR = data['trip_duration'].quantile(0.75) - data['trip_duration'].quantile(0.25)\n",
        "IQR"
      ],
      "metadata": {
        "id": "F_KH8huPPzy2"
      },
      "execution_count": null,
      "outputs": []
    },
    {
      "cell_type": "code",
      "source": [
        "Q1 = data['trip_duration'].quantile(0.25)\n",
        "Q3 = data['trip_duration'].quantile(0.75)\n",
        "\n",
        "whisker_1 = Q1 - (1.5*IQR)\n",
        "whisker_2 = Q3 + (1.5*IQR)\n",
        "\n",
        "whisker_1, whisker_2"
      ],
      "metadata": {
        "id": "jAeT3EecPz43"
      },
      "execution_count": null,
      "outputs": []
    },
    {
      "cell_type": "markdown",
      "source": [
        "#### Handling outliers @ distance"
      ],
      "metadata": {
        "id": "cBGwko5iQD37"
      }
    },
    {
      "cell_type": "code",
      "source": [
        "data.distance.describe()"
      ],
      "metadata": {
        "id": "dndoB8uYQl_A"
      },
      "execution_count": null,
      "outputs": []
    },
    {
      "cell_type": "code",
      "source": [
        "data['distance'].quantile(0.25), data['distance'].quantile(0.75)"
      ],
      "metadata": {
        "id": "M_tGTo0jPFPm"
      },
      "execution_count": null,
      "outputs": []
    },
    {
      "cell_type": "code",
      "source": [
        "IQR = data['distance'].quantile(0.75) - data['distance'].quantile(0.25)\n",
        "IQR"
      ],
      "metadata": {
        "id": "Tao4fcANQFq7"
      },
      "execution_count": null,
      "outputs": []
    },
    {
      "cell_type": "code",
      "source": [
        "Q1 = data['distance'].quantile(0.25)\n",
        "Q3 = data['distance'].quantile(0.75)\n",
        "\n",
        "whisker_1 = Q1 - (1.5*IQR)\n",
        "whisker_2 = Q3 + (1.5*IQR)\n",
        "\n",
        "whisker_1, whisker_2"
      ],
      "metadata": {
        "id": "41FDDErHQFuc"
      },
      "execution_count": null,
      "outputs": []
    },
    {
      "cell_type": "code",
      "source": [
        "df_df_og = df.copy()\n",
        "# Drop the columns specified in the num_cols list from the DataFrame df.\n",
        "# The axis=1 parameter indicates that columns are being dropped (as opposed to rows).\n",
        "df = df.drop(columns = num_cols,axis = 1)\n",
        "# Merging the Standardized Columns Back into the DataFrame\n",
        "# The how=\"left\" parameter specifies a left join,\n",
        "# meaning all rows from the original DataFrame df will be retained,\n",
        "# and the corresponding rows from the scaled DataFrame will be added.\n",
        "df = df.merge(scaled,left_index=True,right_index=True,how = \"left\")"
      ],
      "metadata": {
        "id": "1FYZuQXJomks"
      },
      "execution_count": null,
      "outputs": []
    },
    {
      "cell_type": "markdown",
      "source": [
        "# Isolating the dependent (output/target) variable"
      ],
      "metadata": {
        "id": "SttFIXQmO-bd"
      }
    },
    {
      "cell_type": "code",
      "source": [
        "y_all = df.churn\n",
        "df = df.drop(['churn','customer_id','occupation'],axis = 1)"
      ],
      "metadata": {
        "id": "oCCMtdZPopv_"
      },
      "execution_count": null,
      "outputs": []
    },
    {
      "cell_type": "markdown",
      "source": [
        "### Train Test Split to create a validation set"
      ],
      "metadata": {
        "id": "uU-md56mpD9B"
      }
    },
    {
      "cell_type": "code",
      "source": [
        "x = data.iloc[:, [1, 4, 11, 12, 14, 15, 16]].values\n",
        "y = data.iloc[:,10].values\n",
        "x_train, x_test, y_train, y_test = train_test_split(x, y, test_size=0.2,random_state = 7294)"
      ],
      "metadata": {
        "id": "ts8H4u4lrxoe"
      },
      "execution_count": null,
      "outputs": []
    },
    {
      "cell_type": "code",
      "source": [
        "from sklearn.decomposition import PCA\n",
        "pca = PCA().fit(x_train)\n",
        "plt.plot(np.cumsum(pca.explained_variance_ratio_))\n",
        "plt.xlabel(\"number of components\")\n",
        "plt.ylabel(\"Cumulative explained variance\")\n",
        "plt.show()"
      ],
      "metadata": {
        "id": "3t5Qm1wIryYl"
      },
      "execution_count": null,
      "outputs": []
    },
    {
      "cell_type": "code",
      "source": [
        "arr = np.cumsum(np.round(pca.explained_variance_ratio_, decimals=4)*100)\n",
        "list(zip(range(1,len(arr)), arr))"
      ],
      "metadata": {
        "id": "gFJiKXzVr3an"
      },
      "execution_count": null,
      "outputs": []
    },
    {
      "cell_type": "markdown",
      "source": [
        "In this analysis, we observe that six variables are sufficient to capture at least 99% of the variance in the training dataset. Therefore, we will proceed with this set of variables, indicating that the model does not require the use of Principal Component Analysis (PCA)."
      ],
      "metadata": {
        "id": "ZnZvYoyIsAhF"
      }
    },
    {
      "cell_type": "markdown",
      "source": [
        "# 3. Correlation Analysis"
      ],
      "metadata": {
        "id": "4nfSYI75sEku"
      }
    },
    {
      "cell_type": "markdown",
      "source": [
        "Correlation Analysis Overview\n",
        "Correlation analysis is a statistical method used to assess the strength of the relationship between two or more continuous variables that are numerically measured. This analysis is valuable for identifying potential connections between variables. For our analysis, we will utilize a heatmap."
      ],
      "metadata": {
        "id": "vFfcVD73sMgw"
      }
    },
    {
      "cell_type": "markdown",
      "source": [
        "### Heatmap"
      ],
      "metadata": {
        "id": "SfMkLYX7sPGg"
      }
    },
    {
      "cell_type": "code",
      "source": [
        "plt.figure(figsize=(15,15))\n",
        "corr = pd.DataFrame(x_train[:,0:]).corr()\n",
        "corr.index = pd.DataFrame(x_train[:,0:]).columns\n",
        "sns.heatmap(corr, cmap='RdYlGn', vmin=-1, vmax=1, square=True)\n",
        "plt.title(\"Correlation Heatmap\", fontsize=16)\n",
        "plt.show()"
      ],
      "metadata": {
        "id": "L7NnUWPxsBBk"
      },
      "execution_count": null,
      "outputs": []
    },
    {
      "cell_type": "markdown",
      "source": [
        "Correlation Findings\n",
        "\n",
        "Some feature combinations exhibit a slight correlation, while most features show no correlation at all.\n",
        "\n",
        "Additionally, there is no evidence of negative correlation among the variables.\n"
      ],
      "metadata": {
        "id": "uHq49h2asdNo"
      }
    },
    {
      "cell_type": "markdown",
      "source": [
        "# Model"
      ],
      "metadata": {
        "id": "FgyUrdsxsjT5"
      }
    },
    {
      "cell_type": "markdown",
      "source": [
        "We need a model to train on our dataset to serve our purpose of prediciting the NYC taxi trip duration given the other features as training and test set.\n",
        "\n",
        "Since our dependent variable contains continous values so we will use regression technique to predict our output. We will try almost every Regression model (except SVR)"
      ],
      "metadata": {
        "id": "fXgHF15Asu2M"
      }
    },
    {
      "cell_type": "markdown",
      "source": [
        "### 1: Data Cleaning"
      ],
      "metadata": {
        "id": "xoGGHByGs2DH"
      }
    },
    {
      "cell_type": "markdown",
      "source": [
        "Outlier Analysis\n",
        "Our analysis indicates that there are no null values in the dataset; however, we have identified numerous outliers in the Speed, Distance, and Trip Duration variables. These outliers need to be removed, as failing to address them could adversely affect the model's performance."
      ],
      "metadata": {
        "id": "vgC9OCR_tBzX"
      }
    },
    {
      "cell_type": "markdown",
      "source": [
        "# 2. Model Training"
      ],
      "metadata": {
        "id": "Irt3xRsKtEpw"
      }
    },
    {
      "cell_type": "markdown",
      "source": [
        "# 1. Multiple Linear Regression"
      ],
      "metadata": {
        "id": "fvcNxwavtIQH"
      }
    },
    {
      "cell_type": "code",
      "source": [
        "start_time = time.time()\n",
        "lm_regression = LinearRegression()\n",
        "lm_regression = lm_regression.fit(x_train, y_train)\n",
        "end_time = time.time()\n",
        "lm_time = (end_time - start_time)\n",
        "print(f\"Time taken to train linear regression model : {lm_time} seconds\")"
      ],
      "metadata": {
        "id": "4PMgx9ODsdgI"
      },
      "execution_count": null,
      "outputs": []
    },
    {
      "cell_type": "code",
      "source": [
        "trips = lm_regression.predict(x_test)"
      ],
      "metadata": {
        "id": "8evN15ECtPBs"
      },
      "execution_count": null,
      "outputs": []
    },
    {
      "cell_type": "code",
      "source": [
        "predictions = pd.DataFrame({'Actual': y_test.flatten(), 'Predicted': trips.flatten()})"
      ],
      "metadata": {
        "id": "qp0VphZPtPIB"
      },
      "execution_count": null,
      "outputs": []
    },
    {
      "cell_type": "code",
      "source": [
        "predictions"
      ],
      "metadata": {
        "id": "D7aW5H9gtPM0"
      },
      "execution_count": null,
      "outputs": []
    },
    {
      "cell_type": "markdown",
      "source": [
        "### Accuracy Metrics"
      ],
      "metadata": {
        "id": "ngFr5EcAtWzM"
      }
    },
    {
      "cell_type": "code",
      "source": [
        "predictions.sample(20).plot(kind='bar',figsize=(14,8))\n",
        "plt.grid(which='major', linestyle='-', linewidth='0.5', color='green')\n",
        "plt.grid(which='minor', linestyle=':', linewidth='0.5', color='black')\n",
        "plt.show()"
      ],
      "metadata": {
        "id": "rzN7h8rutXY2"
      },
      "execution_count": null,
      "outputs": []
    },
    {
      "cell_type": "markdown",
      "source": [
        "From the above graph, we can see that there is quite difference between predicted values and Actual values\n",
        "\n",
        "Let's check the r2_score value"
      ],
      "metadata": {
        "id": "VoXr8V__tc-1"
      }
    },
    {
      "cell_type": "code",
      "source": [
        "lm_score = r2_score(y_test, trips)\n",
        "print(lm_score)"
      ],
      "metadata": {
        "id": "elSooSGRtaDW"
      },
      "execution_count": null,
      "outputs": []
    },
    {
      "cell_type": "markdown",
      "source": [
        "he r2_score is above 0.5 which is a good thing but it is quite low for a regression model.\n",
        "\n",
        "Let's Move towards next Model"
      ],
      "metadata": {
        "id": "LJMHCkb_tjEz"
      }
    },
    {
      "cell_type": "markdown",
      "source": [
        "# 2. Decision Tree"
      ],
      "metadata": {
        "id": "kYerGgFxtm3r"
      }
    },
    {
      "cell_type": "markdown",
      "source": [
        "Overview of Decision Trees\n",
        "A decision tree is a predictive modeling technique utilized in statistics, data mining, and machine learning. It employs a tree-like structure to represent decisions, where the branches correspond to observations about an item and the leaves indicate the conclusions regarding the item's target value."
      ],
      "metadata": {
        "id": "eE8lkZeOtvYZ"
      }
    },
    {
      "cell_type": "code",
      "source": [
        "start_time = time.time()\n",
        "dt_regression = DecisionTreeRegressor()\n",
        "dt_regression = dt_regression.fit(x_train, y_train)\n",
        "end_time = time.time()\n",
        "dt_time = (end_time - start_time)\n",
        "print(f\"Time taken to train Decision tree model : {dt_time} seconds\")\n",
        "Ti"
      ],
      "metadata": {
        "id": "ekPlPZOdtkP6"
      },
      "execution_count": null,
      "outputs": []
    },
    {
      "cell_type": "code",
      "source": [
        "trips = dt_regression.predict(x_test)"
      ],
      "metadata": {
        "id": "UHbXXUnTt0VV"
      },
      "execution_count": null,
      "outputs": []
    },
    {
      "cell_type": "code",
      "source": [
        "predictions = pd.DataFrame({'Actual': y_test.flatten(), 'Predicted': trips.flatten()})"
      ],
      "metadata": {
        "id": "KvqhD3SUt0bE"
      },
      "execution_count": null,
      "outputs": []
    },
    {
      "cell_type": "code",
      "source": [
        "predictions"
      ],
      "metadata": {
        "id": "OR9PrpJdt0fi"
      },
      "execution_count": null,
      "outputs": []
    },
    {
      "cell_type": "markdown",
      "source": [
        "### Accuracy Metrics"
      ],
      "metadata": {
        "id": "rkRZ1Ypot_Lz"
      }
    },
    {
      "cell_type": "code",
      "source": [
        "predictions.sample(20).plot(kind='bar',figsize=(14,8))\n",
        "plt.grid(which='major', linestyle='-', linewidth='0.5', color='green')\n",
        "plt.grid(which='minor', linestyle=':', linewidth='0.5', color='black')\n",
        "plt.show()"
      ],
      "metadata": {
        "id": "c1Xue0x_uAih"
      },
      "execution_count": null,
      "outputs": []
    },
    {
      "cell_type": "markdown",
      "source": [
        "From the above graph, we can see that difference is quite low between predicted values and Actual values\n",
        "\n",
        "Let's check the r2_score value"
      ],
      "metadata": {
        "id": "KxS_QpOuuFQc"
      }
    },
    {
      "cell_type": "code",
      "source": [
        "dt_score = r2_score(y_test, trips)\n",
        "print(dt_score)"
      ],
      "metadata": {
        "id": "sas3rw10uCwT"
      },
      "execution_count": null,
      "outputs": []
    },
    {
      "cell_type": "markdown",
      "source": [
        "The r2 score is best but the time taken for execution is high\n",
        "\n",
        "So, Let's check if we can get same accuracy with less execution time in next model."
      ],
      "metadata": {
        "id": "p35MaE6TuKp7"
      }
    },
    {
      "cell_type": "markdown",
      "source": [
        "# 3. Random Forest"
      ],
      "metadata": {
        "id": "1Zp78RuJuNyK"
      }
    },
    {
      "cell_type": "markdown",
      "source": [
        "Overview of Random Forests\n",
        "Random forests, also known as random decision forests, are an ensemble learning method used for classification, regression, and other tasks. This approach involves constructing a large number of decision trees during the training phase. For classification tasks, the model outputs the class that appears most frequently among the individual trees, while for regression tasks, it provides the average prediction from all the trees."
      ],
      "metadata": {
        "id": "Qle3iL0buXBF"
      }
    },
    {
      "cell_type": "code",
      "source": [
        "start_time = time.time()\n",
        "rf_regression = RandomForestRegressor()\n",
        "rf_regression = rf_regression.fit(x_train, y_train)\n",
        "end_time = time.time()\n",
        "rf_time = (end_time - start_time)\n",
        "print(f\"Time taken to train Random Forest model : {rf_time} seconds\")"
      ],
      "metadata": {
        "id": "IVzwlU7SuLhd"
      },
      "execution_count": null,
      "outputs": []
    },
    {
      "cell_type": "code",
      "source": [
        "trips = rf_regression.predict(x_test)"
      ],
      "metadata": {
        "id": "4YqtikZsuam-"
      },
      "execution_count": null,
      "outputs": []
    },
    {
      "cell_type": "code",
      "source": [
        "predictions = pd.DataFrame({'Actual': y_test.flatten(), 'Predicted': trips.flatten()})"
      ],
      "metadata": {
        "id": "dX9CbXrEuasM"
      },
      "execution_count": null,
      "outputs": []
    },
    {
      "cell_type": "code",
      "source": [
        "predictions"
      ],
      "metadata": {
        "id": "kw1lG_EHugSb"
      },
      "execution_count": null,
      "outputs": []
    },
    {
      "cell_type": "markdown",
      "source": [
        "### Accuracy Metrics"
      ],
      "metadata": {
        "id": "Kmjd79SnukTv"
      }
    },
    {
      "cell_type": "code",
      "source": [
        "predictions.sample(20).plot(kind='bar',figsize=(14,8))\n",
        "plt.grid(which='major', linestyle='-', linewidth='0.5', color='green')\n",
        "plt.grid(which='minor', linestyle=':', linewidth='0.5', color='black')\n",
        "plt.show()"
      ],
      "metadata": {
        "id": "uoKEPjqDuk2B"
      },
      "execution_count": null,
      "outputs": []
    },
    {
      "cell_type": "code",
      "source": [
        "rf_score = r2_score(y_test, trips)\n",
        "print(rf_score)"
      ],
      "metadata": {
        "id": "Gw8CH7FdunJf"
      },
      "execution_count": null,
      "outputs": []
    },
    {
      "cell_type": "markdown",
      "source": [
        "# 4. AdaBoost"
      ],
      "metadata": {
        "id": "H3xJnRGKur4w"
      }
    },
    {
      "cell_type": "code",
      "source": [
        "start_time = time.time()\n",
        "regression = AdaBoostRegressor()\n",
        "regression = regression.fit(x_train, y_train)\n",
        "end_time = time.time()\n",
        "ad_time = (end_time - start_time)\n",
        "print(f\"Time taken to train AdaBoost model : {ad_time} seconds\")"
      ],
      "metadata": {
        "id": "l6KShPZrus15"
      },
      "execution_count": null,
      "outputs": []
    },
    {
      "cell_type": "code",
      "source": [
        "trips = regression.predict(x_test)"
      ],
      "metadata": {
        "id": "1hdcSgPMuwYP"
      },
      "execution_count": null,
      "outputs": []
    },
    {
      "cell_type": "code",
      "source": [
        "predictions = pd.DataFrame({'Actual': y_test.flatten(), 'Predicted': trips.flatten()})"
      ],
      "metadata": {
        "id": "Hp5PG1y-uwfg"
      },
      "execution_count": null,
      "outputs": []
    },
    {
      "cell_type": "code",
      "source": [
        "predictions"
      ],
      "metadata": {
        "id": "-NI08dMQuwkh"
      },
      "execution_count": null,
      "outputs": []
    },
    {
      "cell_type": "markdown",
      "source": [
        "### Accuracy Metrics"
      ],
      "metadata": {
        "id": "4bfoUBnDu6As"
      }
    },
    {
      "cell_type": "code",
      "source": [
        "predictions.sample(20).plot(kind='bar',figsize=(14,8))\n",
        "plt.grid(which='major', linestyle='-', linewidth='0.5', color='green')\n",
        "plt.grid(which='minor', linestyle=':', linewidth='0.5', color='black')\n",
        "plt.show()"
      ],
      "metadata": {
        "id": "RrerewWQu6iE"
      },
      "execution_count": null,
      "outputs": []
    },
    {
      "cell_type": "code",
      "source": [
        "ad_score = r2_score(y_test, trips)\n",
        "print(ad_score)"
      ],
      "metadata": {
        "id": "cJEYj6jQu_Nk"
      },
      "execution_count": null,
      "outputs": []
    },
    {
      "cell_type": "markdown",
      "source": [
        "# 5. Gradient Boost"
      ],
      "metadata": {
        "id": "OqDRfi-Vu_m_"
      }
    },
    {
      "cell_type": "markdown",
      "source": [
        "Gradient boosting is a machine learning technique for regression and classification problems, which produces a prediction model in the form of an ensemble of weak prediction models, typically decision trees"
      ],
      "metadata": {
        "id": "cJ9JbS0lvEwj"
      }
    },
    {
      "cell_type": "code",
      "source": [
        "start_time = time.time()\n",
        "regression = GradientBoostingRegressor()\n",
        "regression = regression.fit(x_train, y_train)\n",
        "end_time = time.time()\n",
        "gd_time = (end_time - start_time)\n",
        "print(f\"Time taken to train Gradient Boost model : {gd_time} seconds\")"
      ],
      "metadata": {
        "id": "AkP7UduuvCT8"
      },
      "execution_count": null,
      "outputs": []
    },
    {
      "cell_type": "code",
      "source": [
        "trips = regression.predict(x_test)"
      ],
      "metadata": {
        "id": "pD3L9dNlvHkv"
      },
      "execution_count": null,
      "outputs": []
    },
    {
      "cell_type": "code",
      "source": [
        "predictions = pd.DataFrame({'Actual': y_test.flatten(), 'Predicted': trips.flatten()})"
      ],
      "metadata": {
        "id": "rAhwc8d3vJt2"
      },
      "execution_count": null,
      "outputs": []
    },
    {
      "cell_type": "code",
      "source": [
        "predictions"
      ],
      "metadata": {
        "id": "aigojdVnvPaU"
      },
      "execution_count": null,
      "outputs": []
    },
    {
      "cell_type": "markdown",
      "source": [
        "### Accuracy Metrics"
      ],
      "metadata": {
        "id": "hWzJBc6kvRRm"
      }
    },
    {
      "cell_type": "code",
      "source": [
        "predictions.sample(20).plot(kind='bar',figsize=(14,8))\n",
        "plt.grid(which='major', linestyle='-', linewidth='0.5', color='green')\n",
        "plt.grid(which='minor', linestyle=':', linewidth='0.5', color='black')\n",
        "plt.show()"
      ],
      "metadata": {
        "id": "xOEfUTu8vR7A"
      },
      "execution_count": null,
      "outputs": []
    },
    {
      "cell_type": "code",
      "source": [
        "gd_score = r2_score(y_test, trips)\n",
        "print(gd_score)"
      ],
      "metadata": {
        "id": "ArJ1NgLcvYJ1"
      },
      "execution_count": null,
      "outputs": []
    },
    {
      "cell_type": "markdown",
      "source": [
        "@ 6. XGBoost"
      ],
      "metadata": {
        "id": "3mcTRfQkvahH"
      }
    },
    {
      "cell_type": "code",
      "source": [
        "start_time = time.time()\n",
        "regression = XGBRegressor(objective ='reg:squarederror')\n",
        "regression = regression.fit(x_train, y_train)\n",
        "end_time = time.time()\n",
        "xgb_time = (end_time - start_time)\n",
        "print(f\"Time taken to train XGBoost  model : {xgb_time} seconds\")"
      ],
      "metadata": {
        "id": "z25R1WeCvbmU"
      },
      "execution_count": null,
      "outputs": []
    },
    {
      "cell_type": "code",
      "source": [
        "trips = regression.predict(x_test)"
      ],
      "metadata": {
        "id": "sqHe6P3rvfB9"
      },
      "execution_count": null,
      "outputs": []
    },
    {
      "cell_type": "code",
      "source": [
        "predictions = pd.DataFrame({'Actual': y_test.flatten(), 'Predicted': trips.flatten()})"
      ],
      "metadata": {
        "id": "1zMG8_PnvfJI"
      },
      "execution_count": null,
      "outputs": []
    },
    {
      "cell_type": "code",
      "source": [
        "predictions"
      ],
      "metadata": {
        "id": "XS7JPNo3vfPs"
      },
      "execution_count": null,
      "outputs": []
    },
    {
      "cell_type": "markdown",
      "source": [
        "### Accuracy Metrics"
      ],
      "metadata": {
        "id": "2_hnKQ-hvqLD"
      }
    },
    {
      "cell_type": "code",
      "source": [
        "predictions.sample(20).plot(kind='bar',figsize=(14,8))\n",
        "plt.grid(which='major', linestyle='-', linewidth='0.5', color='green')\n",
        "plt.grid(which='minor', linestyle=':', linewidth='0.5', color='black')\n",
        "plt.show()"
      ],
      "metadata": {
        "id": "7_4yxyatvsSk"
      },
      "execution_count": null,
      "outputs": []
    },
    {
      "cell_type": "code",
      "source": [
        "xgb_score = r2_score(y_test, trips)\n",
        "print(xgb_score)"
      ],
      "metadata": {
        "id": "IPdxFnK1vuly"
      },
      "execution_count": null,
      "outputs": []
    },
    {
      "cell_type": "markdown",
      "source": [
        "# Model Comparison"
      ],
      "metadata": {
        "id": "HR87eU4-vw0n"
      }
    },
    {
      "cell_type": "markdown",
      "source": [
        "Lets Analysis all the model we train based on their r2_score and time taken for execution."
      ],
      "metadata": {
        "id": "TxSYDgYDv3AU"
      }
    },
    {
      "cell_type": "code",
      "source": [
        "r2 = [lm_score, dt_score, rf_score, ad_score, gd_score, xgb_score]\n",
        "tm = [lm_time, dt_time, rf_time, ad_time, gd_time, xgb_time]\n",
        "comp = pd.DataFrame({'Time': tm, 'Accu': r2})"
      ],
      "metadata": {
        "id": "A1YAbNPkvyhL"
      },
      "execution_count": null,
      "outputs": []
    },
    {
      "cell_type": "code",
      "source": [
        "label = ['LM', 'DT', 'RF', 'ADB', 'GDB', 'XGB']\n",
        "fig, axes = plt.subplots(nrows=1, ncols=2,figsize=(12,5))\n",
        "ax = comp['Time'].plot(kind='bar',title=\"Time\",ax=axes[0],color = (1, 0.5, 0.13))\n",
        "ax1 = comp['Accu'].plot(kind='bar',title=\"Accuarcy\",ax=axes[1])\n",
        "ax.set_ylabel(\"Time (secs)\")\n",
        "ax.set_xlabel('Models')\n",
        "ax.set_xticklabels(label)\n",
        "ax1.set_ylabel(\"Accuracy\")\n",
        "ax1.set_xlabel('Models')\n",
        "ax1.set_xticklabels(label)\n",
        "fig.tight_layout()"
      ],
      "metadata": {
        "id": "ot7L5eI8v83Z"
      },
      "execution_count": null,
      "outputs": []
    },
    {
      "cell_type": "markdown",
      "source": [
        "Model Selection Analysis\n",
        "\n",
        "\n",
        "Based on the figure above, we can determine the most suitable model for this dataset.\n",
        "We can immediately rule out Random Forest, as it requires the most time to train.\n",
        "\n",
        "AdaBoost is faster than Random Forest but yields the lowest accuracy among all the models tested. Linear Regression takes the least amount of time to train, but it does not provide satisfactory accuracy.\n",
        "\n",
        "\n",
        "This leaves us with Decision Tree, Gradient Boost, and XGBoost. All three models demonstrate similar accuracy levels, but the Decision Tree stands out for its minimal training time."
      ],
      "metadata": {
        "id": "bjtq7ooIv9kA"
      }
    },
    {
      "cell_type": "code",
      "source": [],
      "metadata": {
        "id": "8OFeUM3DwJSL"
      },
      "execution_count": null,
      "outputs": []
    },
    {
      "cell_type": "markdown",
      "source": [
        "# Conclusion"
      ],
      "metadata": {
        "id": "-7r1huQVwKAi"
      }
    },
    {
      "cell_type": "markdown",
      "source": [
        "Conclusion of Data Analysis\n",
        "\n",
        "\n",
        "Based on our comprehensive data analysis and visualization, we evaluated six of the most effective algorithms. We concluded that the Decision Tree algorithm is the most suitable choice for this scenario, as it provides the best accuracy with the least amount of training time.\n",
        "\n",
        "In summary, we conclude that the Decision Tree algorithm is the optimal choice for this dataset."
      ],
      "metadata": {
        "id": "DCgKekUOwMCJ"
      }
    },
    {
      "cell_type": "code",
      "source": [
        "# The end"
      ],
      "metadata": {
        "id": "XktN4NFIwLPM"
      },
      "execution_count": null,
      "outputs": []
    }
  ]
}