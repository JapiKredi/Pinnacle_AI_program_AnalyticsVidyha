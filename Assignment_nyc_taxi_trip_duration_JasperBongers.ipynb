{
  "nbformat": 4,
  "nbformat_minor": 0,
  "metadata": {
    "colab": {
      "provenance": [],
      "include_colab_link": true
    },
    "kernelspec": {
      "name": "python3",
      "display_name": "Python 3"
    },
    "language_info": {
      "name": "python"
    }
  },
  "cells": [
    {
      "cell_type": "markdown",
      "metadata": {
        "id": "view-in-github",
        "colab_type": "text"
      },
      "source": [
        "<a href=\"https://colab.research.google.com/github/JapiKredi/Pinnacle_AI_program_AnalyticsVidyha/blob/main/Assignment_nyc_taxi_trip_duration_JasperBongers.ipynb\" target=\"_parent\"><img src=\"https://colab.research.google.com/assets/colab-badge.svg\" alt=\"Open In Colab\"/></a>"
      ]
    },
    {
      "cell_type": "code",
      "execution_count": 1,
      "metadata": {
        "id": "DliwpVnIkfLe"
      },
      "outputs": [],
      "source": [
        "# Importing the dependencies\n",
        "import numpy as np\n",
        "import pandas as pd\n",
        "import datetime as dt\n",
        "from time import strftime\n",
        "from geopy.distance import geodesic\n",
        "import seaborn as sns\n",
        "import matplotlib.pyplot as plt\n",
        "%matplotlib inline\n",
        "\n",
        "from sklearn.preprocessing import OneHotEncoder\n",
        "from sklearn.linear_model import LinearRegression\n",
        "from sklearn.tree import DecisionTreeRegressor\n",
        "from sklearn.ensemble import RandomForestRegressor\n",
        "from sklearn.ensemble import AdaBoostRegressor\n",
        "from sklearn.ensemble import GradientBoostingRegressor\n",
        "from xgboost import XGBRegressor\n",
        "from sklearn import metrics\n",
        "from sklearn.model_selection import train_test_split\n",
        "from sklearn.metrics import r2_score\n",
        "from IPython.display import clear_output"
      ]
    },
    {
      "cell_type": "code",
      "source": [
        "from google.colab import drive\n",
        "drive.mount('/content/drive')"
      ],
      "metadata": {
        "colab": {
          "base_uri": "https://localhost:8080/"
        },
        "id": "Q9erZNaGk6JG",
        "outputId": "e8e33aa1-3b0b-4606-813e-fc9046fdaacd"
      },
      "execution_count": 2,
      "outputs": [
        {
          "output_type": "stream",
          "name": "stdout",
          "text": [
            "Mounted at /content/drive\n"
          ]
        }
      ]
    },
    {
      "cell_type": "code",
      "source": [
        "# Reading the dataset\n",
        "data = pd.read_csv('/content/drive/My Drive/Assignment_nyc_taxi_trip_duration_JasperBongers/nyc_taxi_trip_duration.csv')"
      ],
      "metadata": {
        "id": "dCjtKbh-lAN6"
      },
      "execution_count": 3,
      "outputs": []
    },
    {
      "cell_type": "code",
      "source": [
        "# Head of the data\n",
        "data.head()"
      ],
      "metadata": {
        "colab": {
          "base_uri": "https://localhost:8080/",
          "height": 307
        },
        "id": "WuZ5T7auixur",
        "outputId": "fc5a1f88-b918-4164-927e-21745d149cd3"
      },
      "execution_count": 4,
      "outputs": [
        {
          "output_type": "execute_result",
          "data": {
            "text/plain": [
              "          id  vendor_id      pickup_datetime     dropoff_datetime  \\\n",
              "0  id1080784          2  2016-02-29 16:40:21  2016-02-29 16:47:01   \n",
              "1  id0889885          1  2016-03-11 23:35:37  2016-03-11 23:53:57   \n",
              "2  id0857912          2  2016-02-21 17:59:33  2016-02-21 18:26:48   \n",
              "3  id3744273          2  2016-01-05 09:44:31  2016-01-05 10:03:32   \n",
              "4  id0232939          1  2016-02-17 06:42:23  2016-02-17 06:56:31   \n",
              "\n",
              "   passenger_count  pickup_longitude  pickup_latitude  dropoff_longitude  \\\n",
              "0                1        -73.953918        40.778873         -73.963875   \n",
              "1                2        -73.988312        40.731743         -73.994751   \n",
              "2                2        -73.997314        40.721458         -73.948029   \n",
              "3                6        -73.961670        40.759720         -73.956779   \n",
              "4                1        -74.017120        40.708469         -73.988182   \n",
              "\n",
              "   dropoff_latitude store_and_fwd_flag  trip_duration  \n",
              "0         40.771164                  N            400  \n",
              "1         40.694931                  N           1100  \n",
              "2         40.774918                  N           1635  \n",
              "3         40.780628                  N           1141  \n",
              "4         40.740631                  N            848  "
            ],
            "text/html": [
              "\n",
              "  <div id=\"df-eb3225be-98f3-47b0-9035-fc553ca1e895\" class=\"colab-df-container\">\n",
              "    <div>\n",
              "<style scoped>\n",
              "    .dataframe tbody tr th:only-of-type {\n",
              "        vertical-align: middle;\n",
              "    }\n",
              "\n",
              "    .dataframe tbody tr th {\n",
              "        vertical-align: top;\n",
              "    }\n",
              "\n",
              "    .dataframe thead th {\n",
              "        text-align: right;\n",
              "    }\n",
              "</style>\n",
              "<table border=\"1\" class=\"dataframe\">\n",
              "  <thead>\n",
              "    <tr style=\"text-align: right;\">\n",
              "      <th></th>\n",
              "      <th>id</th>\n",
              "      <th>vendor_id</th>\n",
              "      <th>pickup_datetime</th>\n",
              "      <th>dropoff_datetime</th>\n",
              "      <th>passenger_count</th>\n",
              "      <th>pickup_longitude</th>\n",
              "      <th>pickup_latitude</th>\n",
              "      <th>dropoff_longitude</th>\n",
              "      <th>dropoff_latitude</th>\n",
              "      <th>store_and_fwd_flag</th>\n",
              "      <th>trip_duration</th>\n",
              "    </tr>\n",
              "  </thead>\n",
              "  <tbody>\n",
              "    <tr>\n",
              "      <th>0</th>\n",
              "      <td>id1080784</td>\n",
              "      <td>2</td>\n",
              "      <td>2016-02-29 16:40:21</td>\n",
              "      <td>2016-02-29 16:47:01</td>\n",
              "      <td>1</td>\n",
              "      <td>-73.953918</td>\n",
              "      <td>40.778873</td>\n",
              "      <td>-73.963875</td>\n",
              "      <td>40.771164</td>\n",
              "      <td>N</td>\n",
              "      <td>400</td>\n",
              "    </tr>\n",
              "    <tr>\n",
              "      <th>1</th>\n",
              "      <td>id0889885</td>\n",
              "      <td>1</td>\n",
              "      <td>2016-03-11 23:35:37</td>\n",
              "      <td>2016-03-11 23:53:57</td>\n",
              "      <td>2</td>\n",
              "      <td>-73.988312</td>\n",
              "      <td>40.731743</td>\n",
              "      <td>-73.994751</td>\n",
              "      <td>40.694931</td>\n",
              "      <td>N</td>\n",
              "      <td>1100</td>\n",
              "    </tr>\n",
              "    <tr>\n",
              "      <th>2</th>\n",
              "      <td>id0857912</td>\n",
              "      <td>2</td>\n",
              "      <td>2016-02-21 17:59:33</td>\n",
              "      <td>2016-02-21 18:26:48</td>\n",
              "      <td>2</td>\n",
              "      <td>-73.997314</td>\n",
              "      <td>40.721458</td>\n",
              "      <td>-73.948029</td>\n",
              "      <td>40.774918</td>\n",
              "      <td>N</td>\n",
              "      <td>1635</td>\n",
              "    </tr>\n",
              "    <tr>\n",
              "      <th>3</th>\n",
              "      <td>id3744273</td>\n",
              "      <td>2</td>\n",
              "      <td>2016-01-05 09:44:31</td>\n",
              "      <td>2016-01-05 10:03:32</td>\n",
              "      <td>6</td>\n",
              "      <td>-73.961670</td>\n",
              "      <td>40.759720</td>\n",
              "      <td>-73.956779</td>\n",
              "      <td>40.780628</td>\n",
              "      <td>N</td>\n",
              "      <td>1141</td>\n",
              "    </tr>\n",
              "    <tr>\n",
              "      <th>4</th>\n",
              "      <td>id0232939</td>\n",
              "      <td>1</td>\n",
              "      <td>2016-02-17 06:42:23</td>\n",
              "      <td>2016-02-17 06:56:31</td>\n",
              "      <td>1</td>\n",
              "      <td>-74.017120</td>\n",
              "      <td>40.708469</td>\n",
              "      <td>-73.988182</td>\n",
              "      <td>40.740631</td>\n",
              "      <td>N</td>\n",
              "      <td>848</td>\n",
              "    </tr>\n",
              "  </tbody>\n",
              "</table>\n",
              "</div>\n",
              "    <div class=\"colab-df-buttons\">\n",
              "\n",
              "  <div class=\"colab-df-container\">\n",
              "    <button class=\"colab-df-convert\" onclick=\"convertToInteractive('df-eb3225be-98f3-47b0-9035-fc553ca1e895')\"\n",
              "            title=\"Convert this dataframe to an interactive table.\"\n",
              "            style=\"display:none;\">\n",
              "\n",
              "  <svg xmlns=\"http://www.w3.org/2000/svg\" height=\"24px\" viewBox=\"0 -960 960 960\">\n",
              "    <path d=\"M120-120v-720h720v720H120Zm60-500h600v-160H180v160Zm220 220h160v-160H400v160Zm0 220h160v-160H400v160ZM180-400h160v-160H180v160Zm440 0h160v-160H620v160ZM180-180h160v-160H180v160Zm440 0h160v-160H620v160Z\"/>\n",
              "  </svg>\n",
              "    </button>\n",
              "\n",
              "  <style>\n",
              "    .colab-df-container {\n",
              "      display:flex;\n",
              "      gap: 12px;\n",
              "    }\n",
              "\n",
              "    .colab-df-convert {\n",
              "      background-color: #E8F0FE;\n",
              "      border: none;\n",
              "      border-radius: 50%;\n",
              "      cursor: pointer;\n",
              "      display: none;\n",
              "      fill: #1967D2;\n",
              "      height: 32px;\n",
              "      padding: 0 0 0 0;\n",
              "      width: 32px;\n",
              "    }\n",
              "\n",
              "    .colab-df-convert:hover {\n",
              "      background-color: #E2EBFA;\n",
              "      box-shadow: 0px 1px 2px rgba(60, 64, 67, 0.3), 0px 1px 3px 1px rgba(60, 64, 67, 0.15);\n",
              "      fill: #174EA6;\n",
              "    }\n",
              "\n",
              "    .colab-df-buttons div {\n",
              "      margin-bottom: 4px;\n",
              "    }\n",
              "\n",
              "    [theme=dark] .colab-df-convert {\n",
              "      background-color: #3B4455;\n",
              "      fill: #D2E3FC;\n",
              "    }\n",
              "\n",
              "    [theme=dark] .colab-df-convert:hover {\n",
              "      background-color: #434B5C;\n",
              "      box-shadow: 0px 1px 3px 1px rgba(0, 0, 0, 0.15);\n",
              "      filter: drop-shadow(0px 1px 2px rgba(0, 0, 0, 0.3));\n",
              "      fill: #FFFFFF;\n",
              "    }\n",
              "  </style>\n",
              "\n",
              "    <script>\n",
              "      const buttonEl =\n",
              "        document.querySelector('#df-eb3225be-98f3-47b0-9035-fc553ca1e895 button.colab-df-convert');\n",
              "      buttonEl.style.display =\n",
              "        google.colab.kernel.accessAllowed ? 'block' : 'none';\n",
              "\n",
              "      async function convertToInteractive(key) {\n",
              "        const element = document.querySelector('#df-eb3225be-98f3-47b0-9035-fc553ca1e895');\n",
              "        const dataTable =\n",
              "          await google.colab.kernel.invokeFunction('convertToInteractive',\n",
              "                                                    [key], {});\n",
              "        if (!dataTable) return;\n",
              "\n",
              "        const docLinkHtml = 'Like what you see? Visit the ' +\n",
              "          '<a target=\"_blank\" href=https://colab.research.google.com/notebooks/data_table.ipynb>data table notebook</a>'\n",
              "          + ' to learn more about interactive tables.';\n",
              "        element.innerHTML = '';\n",
              "        dataTable['output_type'] = 'display_data';\n",
              "        await google.colab.output.renderOutput(dataTable, element);\n",
              "        const docLink = document.createElement('div');\n",
              "        docLink.innerHTML = docLinkHtml;\n",
              "        element.appendChild(docLink);\n",
              "      }\n",
              "    </script>\n",
              "  </div>\n",
              "\n",
              "\n",
              "<div id=\"df-94c20a93-fe61-48d0-8adb-299667a31eba\">\n",
              "  <button class=\"colab-df-quickchart\" onclick=\"quickchart('df-94c20a93-fe61-48d0-8adb-299667a31eba')\"\n",
              "            title=\"Suggest charts\"\n",
              "            style=\"display:none;\">\n",
              "\n",
              "<svg xmlns=\"http://www.w3.org/2000/svg\" height=\"24px\"viewBox=\"0 0 24 24\"\n",
              "     width=\"24px\">\n",
              "    <g>\n",
              "        <path d=\"M19 3H5c-1.1 0-2 .9-2 2v14c0 1.1.9 2 2 2h14c1.1 0 2-.9 2-2V5c0-1.1-.9-2-2-2zM9 17H7v-7h2v7zm4 0h-2V7h2v10zm4 0h-2v-4h2v4z\"/>\n",
              "    </g>\n",
              "</svg>\n",
              "  </button>\n",
              "\n",
              "<style>\n",
              "  .colab-df-quickchart {\n",
              "      --bg-color: #E8F0FE;\n",
              "      --fill-color: #1967D2;\n",
              "      --hover-bg-color: #E2EBFA;\n",
              "      --hover-fill-color: #174EA6;\n",
              "      --disabled-fill-color: #AAA;\n",
              "      --disabled-bg-color: #DDD;\n",
              "  }\n",
              "\n",
              "  [theme=dark] .colab-df-quickchart {\n",
              "      --bg-color: #3B4455;\n",
              "      --fill-color: #D2E3FC;\n",
              "      --hover-bg-color: #434B5C;\n",
              "      --hover-fill-color: #FFFFFF;\n",
              "      --disabled-bg-color: #3B4455;\n",
              "      --disabled-fill-color: #666;\n",
              "  }\n",
              "\n",
              "  .colab-df-quickchart {\n",
              "    background-color: var(--bg-color);\n",
              "    border: none;\n",
              "    border-radius: 50%;\n",
              "    cursor: pointer;\n",
              "    display: none;\n",
              "    fill: var(--fill-color);\n",
              "    height: 32px;\n",
              "    padding: 0;\n",
              "    width: 32px;\n",
              "  }\n",
              "\n",
              "  .colab-df-quickchart:hover {\n",
              "    background-color: var(--hover-bg-color);\n",
              "    box-shadow: 0 1px 2px rgba(60, 64, 67, 0.3), 0 1px 3px 1px rgba(60, 64, 67, 0.15);\n",
              "    fill: var(--button-hover-fill-color);\n",
              "  }\n",
              "\n",
              "  .colab-df-quickchart-complete:disabled,\n",
              "  .colab-df-quickchart-complete:disabled:hover {\n",
              "    background-color: var(--disabled-bg-color);\n",
              "    fill: var(--disabled-fill-color);\n",
              "    box-shadow: none;\n",
              "  }\n",
              "\n",
              "  .colab-df-spinner {\n",
              "    border: 2px solid var(--fill-color);\n",
              "    border-color: transparent;\n",
              "    border-bottom-color: var(--fill-color);\n",
              "    animation:\n",
              "      spin 1s steps(1) infinite;\n",
              "  }\n",
              "\n",
              "  @keyframes spin {\n",
              "    0% {\n",
              "      border-color: transparent;\n",
              "      border-bottom-color: var(--fill-color);\n",
              "      border-left-color: var(--fill-color);\n",
              "    }\n",
              "    20% {\n",
              "      border-color: transparent;\n",
              "      border-left-color: var(--fill-color);\n",
              "      border-top-color: var(--fill-color);\n",
              "    }\n",
              "    30% {\n",
              "      border-color: transparent;\n",
              "      border-left-color: var(--fill-color);\n",
              "      border-top-color: var(--fill-color);\n",
              "      border-right-color: var(--fill-color);\n",
              "    }\n",
              "    40% {\n",
              "      border-color: transparent;\n",
              "      border-right-color: var(--fill-color);\n",
              "      border-top-color: var(--fill-color);\n",
              "    }\n",
              "    60% {\n",
              "      border-color: transparent;\n",
              "      border-right-color: var(--fill-color);\n",
              "    }\n",
              "    80% {\n",
              "      border-color: transparent;\n",
              "      border-right-color: var(--fill-color);\n",
              "      border-bottom-color: var(--fill-color);\n",
              "    }\n",
              "    90% {\n",
              "      border-color: transparent;\n",
              "      border-bottom-color: var(--fill-color);\n",
              "    }\n",
              "  }\n",
              "</style>\n",
              "\n",
              "  <script>\n",
              "    async function quickchart(key) {\n",
              "      const quickchartButtonEl =\n",
              "        document.querySelector('#' + key + ' button');\n",
              "      quickchartButtonEl.disabled = true;  // To prevent multiple clicks.\n",
              "      quickchartButtonEl.classList.add('colab-df-spinner');\n",
              "      try {\n",
              "        const charts = await google.colab.kernel.invokeFunction(\n",
              "            'suggestCharts', [key], {});\n",
              "      } catch (error) {\n",
              "        console.error('Error during call to suggestCharts:', error);\n",
              "      }\n",
              "      quickchartButtonEl.classList.remove('colab-df-spinner');\n",
              "      quickchartButtonEl.classList.add('colab-df-quickchart-complete');\n",
              "    }\n",
              "    (() => {\n",
              "      let quickchartButtonEl =\n",
              "        document.querySelector('#df-94c20a93-fe61-48d0-8adb-299667a31eba button');\n",
              "      quickchartButtonEl.style.display =\n",
              "        google.colab.kernel.accessAllowed ? 'block' : 'none';\n",
              "    })();\n",
              "  </script>\n",
              "</div>\n",
              "\n",
              "    </div>\n",
              "  </div>\n"
            ],
            "application/vnd.google.colaboratory.intrinsic+json": {
              "type": "dataframe",
              "variable_name": "data"
            }
          },
          "metadata": {},
          "execution_count": 4
        }
      ]
    },
    {
      "cell_type": "code",
      "source": [
        "# Tail of the data\n",
        "data.tail()"
      ],
      "metadata": {
        "colab": {
          "base_uri": "https://localhost:8080/",
          "height": 307
        },
        "id": "T9IiBHF6liMx",
        "outputId": "78b14b68-51e9-4e8b-c0b4-a8b66b7b153f"
      },
      "execution_count": 5,
      "outputs": [
        {
          "output_type": "execute_result",
          "data": {
            "text/plain": [
              "               id  vendor_id      pickup_datetime     dropoff_datetime  \\\n",
              "729317  id3905982          2  2016-05-21 13:29:38  2016-05-21 13:34:34   \n",
              "729318  id0102861          1  2016-02-22 00:43:11  2016-02-22 00:48:26   \n",
              "729319  id0439699          1  2016-04-15 18:56:48  2016-04-15 19:08:01   \n",
              "729320  id2078912          1  2016-06-19 09:50:47  2016-06-19 09:58:14   \n",
              "729321  id1053441          2  2016-01-01 17:24:16  2016-01-01 17:44:40   \n",
              "\n",
              "        passenger_count  pickup_longitude  pickup_latitude  dropoff_longitude  \\\n",
              "729317                2        -73.965919        40.789780         -73.952637   \n",
              "729318                1        -73.996666        40.737434         -74.001320   \n",
              "729319                1        -73.997849        40.761696         -74.001488   \n",
              "729320                1        -74.006706        40.708244         -74.013550   \n",
              "729321                4        -74.003342        40.743839         -73.945847   \n",
              "\n",
              "        dropoff_latitude store_and_fwd_flag  trip_duration  \n",
              "729317         40.789181                  N            296  \n",
              "729318         40.731911                  N            315  \n",
              "729319         40.741207                  N            673  \n",
              "729320         40.713814                  N            447  \n",
              "729321         40.712841                  N           1224  "
            ],
            "text/html": [
              "\n",
              "  <div id=\"df-53bd762b-3f90-49a3-9b99-a948be714b9a\" class=\"colab-df-container\">\n",
              "    <div>\n",
              "<style scoped>\n",
              "    .dataframe tbody tr th:only-of-type {\n",
              "        vertical-align: middle;\n",
              "    }\n",
              "\n",
              "    .dataframe tbody tr th {\n",
              "        vertical-align: top;\n",
              "    }\n",
              "\n",
              "    .dataframe thead th {\n",
              "        text-align: right;\n",
              "    }\n",
              "</style>\n",
              "<table border=\"1\" class=\"dataframe\">\n",
              "  <thead>\n",
              "    <tr style=\"text-align: right;\">\n",
              "      <th></th>\n",
              "      <th>id</th>\n",
              "      <th>vendor_id</th>\n",
              "      <th>pickup_datetime</th>\n",
              "      <th>dropoff_datetime</th>\n",
              "      <th>passenger_count</th>\n",
              "      <th>pickup_longitude</th>\n",
              "      <th>pickup_latitude</th>\n",
              "      <th>dropoff_longitude</th>\n",
              "      <th>dropoff_latitude</th>\n",
              "      <th>store_and_fwd_flag</th>\n",
              "      <th>trip_duration</th>\n",
              "    </tr>\n",
              "  </thead>\n",
              "  <tbody>\n",
              "    <tr>\n",
              "      <th>729317</th>\n",
              "      <td>id3905982</td>\n",
              "      <td>2</td>\n",
              "      <td>2016-05-21 13:29:38</td>\n",
              "      <td>2016-05-21 13:34:34</td>\n",
              "      <td>2</td>\n",
              "      <td>-73.965919</td>\n",
              "      <td>40.789780</td>\n",
              "      <td>-73.952637</td>\n",
              "      <td>40.789181</td>\n",
              "      <td>N</td>\n",
              "      <td>296</td>\n",
              "    </tr>\n",
              "    <tr>\n",
              "      <th>729318</th>\n",
              "      <td>id0102861</td>\n",
              "      <td>1</td>\n",
              "      <td>2016-02-22 00:43:11</td>\n",
              "      <td>2016-02-22 00:48:26</td>\n",
              "      <td>1</td>\n",
              "      <td>-73.996666</td>\n",
              "      <td>40.737434</td>\n",
              "      <td>-74.001320</td>\n",
              "      <td>40.731911</td>\n",
              "      <td>N</td>\n",
              "      <td>315</td>\n",
              "    </tr>\n",
              "    <tr>\n",
              "      <th>729319</th>\n",
              "      <td>id0439699</td>\n",
              "      <td>1</td>\n",
              "      <td>2016-04-15 18:56:48</td>\n",
              "      <td>2016-04-15 19:08:01</td>\n",
              "      <td>1</td>\n",
              "      <td>-73.997849</td>\n",
              "      <td>40.761696</td>\n",
              "      <td>-74.001488</td>\n",
              "      <td>40.741207</td>\n",
              "      <td>N</td>\n",
              "      <td>673</td>\n",
              "    </tr>\n",
              "    <tr>\n",
              "      <th>729320</th>\n",
              "      <td>id2078912</td>\n",
              "      <td>1</td>\n",
              "      <td>2016-06-19 09:50:47</td>\n",
              "      <td>2016-06-19 09:58:14</td>\n",
              "      <td>1</td>\n",
              "      <td>-74.006706</td>\n",
              "      <td>40.708244</td>\n",
              "      <td>-74.013550</td>\n",
              "      <td>40.713814</td>\n",
              "      <td>N</td>\n",
              "      <td>447</td>\n",
              "    </tr>\n",
              "    <tr>\n",
              "      <th>729321</th>\n",
              "      <td>id1053441</td>\n",
              "      <td>2</td>\n",
              "      <td>2016-01-01 17:24:16</td>\n",
              "      <td>2016-01-01 17:44:40</td>\n",
              "      <td>4</td>\n",
              "      <td>-74.003342</td>\n",
              "      <td>40.743839</td>\n",
              "      <td>-73.945847</td>\n",
              "      <td>40.712841</td>\n",
              "      <td>N</td>\n",
              "      <td>1224</td>\n",
              "    </tr>\n",
              "  </tbody>\n",
              "</table>\n",
              "</div>\n",
              "    <div class=\"colab-df-buttons\">\n",
              "\n",
              "  <div class=\"colab-df-container\">\n",
              "    <button class=\"colab-df-convert\" onclick=\"convertToInteractive('df-53bd762b-3f90-49a3-9b99-a948be714b9a')\"\n",
              "            title=\"Convert this dataframe to an interactive table.\"\n",
              "            style=\"display:none;\">\n",
              "\n",
              "  <svg xmlns=\"http://www.w3.org/2000/svg\" height=\"24px\" viewBox=\"0 -960 960 960\">\n",
              "    <path d=\"M120-120v-720h720v720H120Zm60-500h600v-160H180v160Zm220 220h160v-160H400v160Zm0 220h160v-160H400v160ZM180-400h160v-160H180v160Zm440 0h160v-160H620v160ZM180-180h160v-160H180v160Zm440 0h160v-160H620v160Z\"/>\n",
              "  </svg>\n",
              "    </button>\n",
              "\n",
              "  <style>\n",
              "    .colab-df-container {\n",
              "      display:flex;\n",
              "      gap: 12px;\n",
              "    }\n",
              "\n",
              "    .colab-df-convert {\n",
              "      background-color: #E8F0FE;\n",
              "      border: none;\n",
              "      border-radius: 50%;\n",
              "      cursor: pointer;\n",
              "      display: none;\n",
              "      fill: #1967D2;\n",
              "      height: 32px;\n",
              "      padding: 0 0 0 0;\n",
              "      width: 32px;\n",
              "    }\n",
              "\n",
              "    .colab-df-convert:hover {\n",
              "      background-color: #E2EBFA;\n",
              "      box-shadow: 0px 1px 2px rgba(60, 64, 67, 0.3), 0px 1px 3px 1px rgba(60, 64, 67, 0.15);\n",
              "      fill: #174EA6;\n",
              "    }\n",
              "\n",
              "    .colab-df-buttons div {\n",
              "      margin-bottom: 4px;\n",
              "    }\n",
              "\n",
              "    [theme=dark] .colab-df-convert {\n",
              "      background-color: #3B4455;\n",
              "      fill: #D2E3FC;\n",
              "    }\n",
              "\n",
              "    [theme=dark] .colab-df-convert:hover {\n",
              "      background-color: #434B5C;\n",
              "      box-shadow: 0px 1px 3px 1px rgba(0, 0, 0, 0.15);\n",
              "      filter: drop-shadow(0px 1px 2px rgba(0, 0, 0, 0.3));\n",
              "      fill: #FFFFFF;\n",
              "    }\n",
              "  </style>\n",
              "\n",
              "    <script>\n",
              "      const buttonEl =\n",
              "        document.querySelector('#df-53bd762b-3f90-49a3-9b99-a948be714b9a button.colab-df-convert');\n",
              "      buttonEl.style.display =\n",
              "        google.colab.kernel.accessAllowed ? 'block' : 'none';\n",
              "\n",
              "      async function convertToInteractive(key) {\n",
              "        const element = document.querySelector('#df-53bd762b-3f90-49a3-9b99-a948be714b9a');\n",
              "        const dataTable =\n",
              "          await google.colab.kernel.invokeFunction('convertToInteractive',\n",
              "                                                    [key], {});\n",
              "        if (!dataTable) return;\n",
              "\n",
              "        const docLinkHtml = 'Like what you see? Visit the ' +\n",
              "          '<a target=\"_blank\" href=https://colab.research.google.com/notebooks/data_table.ipynb>data table notebook</a>'\n",
              "          + ' to learn more about interactive tables.';\n",
              "        element.innerHTML = '';\n",
              "        dataTable['output_type'] = 'display_data';\n",
              "        await google.colab.output.renderOutput(dataTable, element);\n",
              "        const docLink = document.createElement('div');\n",
              "        docLink.innerHTML = docLinkHtml;\n",
              "        element.appendChild(docLink);\n",
              "      }\n",
              "    </script>\n",
              "  </div>\n",
              "\n",
              "\n",
              "<div id=\"df-6f054499-3f1b-4e80-9c38-873f65cb51b2\">\n",
              "  <button class=\"colab-df-quickchart\" onclick=\"quickchart('df-6f054499-3f1b-4e80-9c38-873f65cb51b2')\"\n",
              "            title=\"Suggest charts\"\n",
              "            style=\"display:none;\">\n",
              "\n",
              "<svg xmlns=\"http://www.w3.org/2000/svg\" height=\"24px\"viewBox=\"0 0 24 24\"\n",
              "     width=\"24px\">\n",
              "    <g>\n",
              "        <path d=\"M19 3H5c-1.1 0-2 .9-2 2v14c0 1.1.9 2 2 2h14c1.1 0 2-.9 2-2V5c0-1.1-.9-2-2-2zM9 17H7v-7h2v7zm4 0h-2V7h2v10zm4 0h-2v-4h2v4z\"/>\n",
              "    </g>\n",
              "</svg>\n",
              "  </button>\n",
              "\n",
              "<style>\n",
              "  .colab-df-quickchart {\n",
              "      --bg-color: #E8F0FE;\n",
              "      --fill-color: #1967D2;\n",
              "      --hover-bg-color: #E2EBFA;\n",
              "      --hover-fill-color: #174EA6;\n",
              "      --disabled-fill-color: #AAA;\n",
              "      --disabled-bg-color: #DDD;\n",
              "  }\n",
              "\n",
              "  [theme=dark] .colab-df-quickchart {\n",
              "      --bg-color: #3B4455;\n",
              "      --fill-color: #D2E3FC;\n",
              "      --hover-bg-color: #434B5C;\n",
              "      --hover-fill-color: #FFFFFF;\n",
              "      --disabled-bg-color: #3B4455;\n",
              "      --disabled-fill-color: #666;\n",
              "  }\n",
              "\n",
              "  .colab-df-quickchart {\n",
              "    background-color: var(--bg-color);\n",
              "    border: none;\n",
              "    border-radius: 50%;\n",
              "    cursor: pointer;\n",
              "    display: none;\n",
              "    fill: var(--fill-color);\n",
              "    height: 32px;\n",
              "    padding: 0;\n",
              "    width: 32px;\n",
              "  }\n",
              "\n",
              "  .colab-df-quickchart:hover {\n",
              "    background-color: var(--hover-bg-color);\n",
              "    box-shadow: 0 1px 2px rgba(60, 64, 67, 0.3), 0 1px 3px 1px rgba(60, 64, 67, 0.15);\n",
              "    fill: var(--button-hover-fill-color);\n",
              "  }\n",
              "\n",
              "  .colab-df-quickchart-complete:disabled,\n",
              "  .colab-df-quickchart-complete:disabled:hover {\n",
              "    background-color: var(--disabled-bg-color);\n",
              "    fill: var(--disabled-fill-color);\n",
              "    box-shadow: none;\n",
              "  }\n",
              "\n",
              "  .colab-df-spinner {\n",
              "    border: 2px solid var(--fill-color);\n",
              "    border-color: transparent;\n",
              "    border-bottom-color: var(--fill-color);\n",
              "    animation:\n",
              "      spin 1s steps(1) infinite;\n",
              "  }\n",
              "\n",
              "  @keyframes spin {\n",
              "    0% {\n",
              "      border-color: transparent;\n",
              "      border-bottom-color: var(--fill-color);\n",
              "      border-left-color: var(--fill-color);\n",
              "    }\n",
              "    20% {\n",
              "      border-color: transparent;\n",
              "      border-left-color: var(--fill-color);\n",
              "      border-top-color: var(--fill-color);\n",
              "    }\n",
              "    30% {\n",
              "      border-color: transparent;\n",
              "      border-left-color: var(--fill-color);\n",
              "      border-top-color: var(--fill-color);\n",
              "      border-right-color: var(--fill-color);\n",
              "    }\n",
              "    40% {\n",
              "      border-color: transparent;\n",
              "      border-right-color: var(--fill-color);\n",
              "      border-top-color: var(--fill-color);\n",
              "    }\n",
              "    60% {\n",
              "      border-color: transparent;\n",
              "      border-right-color: var(--fill-color);\n",
              "    }\n",
              "    80% {\n",
              "      border-color: transparent;\n",
              "      border-right-color: var(--fill-color);\n",
              "      border-bottom-color: var(--fill-color);\n",
              "    }\n",
              "    90% {\n",
              "      border-color: transparent;\n",
              "      border-bottom-color: var(--fill-color);\n",
              "    }\n",
              "  }\n",
              "</style>\n",
              "\n",
              "  <script>\n",
              "    async function quickchart(key) {\n",
              "      const quickchartButtonEl =\n",
              "        document.querySelector('#' + key + ' button');\n",
              "      quickchartButtonEl.disabled = true;  // To prevent multiple clicks.\n",
              "      quickchartButtonEl.classList.add('colab-df-spinner');\n",
              "      try {\n",
              "        const charts = await google.colab.kernel.invokeFunction(\n",
              "            'suggestCharts', [key], {});\n",
              "      } catch (error) {\n",
              "        console.error('Error during call to suggestCharts:', error);\n",
              "      }\n",
              "      quickchartButtonEl.classList.remove('colab-df-spinner');\n",
              "      quickchartButtonEl.classList.add('colab-df-quickchart-complete');\n",
              "    }\n",
              "    (() => {\n",
              "      let quickchartButtonEl =\n",
              "        document.querySelector('#df-6f054499-3f1b-4e80-9c38-873f65cb51b2 button');\n",
              "      quickchartButtonEl.style.display =\n",
              "        google.colab.kernel.accessAllowed ? 'block' : 'none';\n",
              "    })();\n",
              "  </script>\n",
              "</div>\n",
              "\n",
              "    </div>\n",
              "  </div>\n"
            ],
            "application/vnd.google.colaboratory.intrinsic+json": {
              "type": "dataframe",
              "repr_error": "0"
            }
          },
          "metadata": {},
          "execution_count": 5
        }
      ]
    },
    {
      "cell_type": "code",
      "source": [
        "# Analysis of the shape f the dataframe\n",
        "data.shape\n",
        "# The dataset consists of 729322 rows and 11 columns\n",
        "# 729322 taxi trips and 11 features"
      ],
      "metadata": {
        "colab": {
          "base_uri": "https://localhost:8080/"
        },
        "id": "Q7NEQVCnllEr",
        "outputId": "a342ce3d-9767-4ead-dc50-745cf48a453f"
      },
      "execution_count": 6,
      "outputs": [
        {
          "output_type": "execute_result",
          "data": {
            "text/plain": [
              "(729322, 11)"
            ]
          },
          "metadata": {},
          "execution_count": 6
        }
      ]
    },
    {
      "cell_type": "code",
      "source": [
        "# Analysis of the datatypes of the columns\n",
        "data.dtypes"
      ],
      "metadata": {
        "colab": {
          "base_uri": "https://localhost:8080/",
          "height": 441
        },
        "id": "ZUmfyGgNlq5p",
        "outputId": "f471a539-77f5-4a8f-c16e-b8325de85b67"
      },
      "execution_count": 7,
      "outputs": [
        {
          "output_type": "execute_result",
          "data": {
            "text/plain": [
              "id                     object\n",
              "vendor_id               int64\n",
              "pickup_datetime        object\n",
              "dropoff_datetime       object\n",
              "passenger_count         int64\n",
              "pickup_longitude      float64\n",
              "pickup_latitude       float64\n",
              "dropoff_longitude     float64\n",
              "dropoff_latitude      float64\n",
              "store_and_fwd_flag     object\n",
              "trip_duration           int64\n",
              "dtype: object"
            ],
            "text/html": [
              "<div>\n",
              "<style scoped>\n",
              "    .dataframe tbody tr th:only-of-type {\n",
              "        vertical-align: middle;\n",
              "    }\n",
              "\n",
              "    .dataframe tbody tr th {\n",
              "        vertical-align: top;\n",
              "    }\n",
              "\n",
              "    .dataframe thead th {\n",
              "        text-align: right;\n",
              "    }\n",
              "</style>\n",
              "<table border=\"1\" class=\"dataframe\">\n",
              "  <thead>\n",
              "    <tr style=\"text-align: right;\">\n",
              "      <th></th>\n",
              "      <th>0</th>\n",
              "    </tr>\n",
              "  </thead>\n",
              "  <tbody>\n",
              "    <tr>\n",
              "      <th>id</th>\n",
              "      <td>object</td>\n",
              "    </tr>\n",
              "    <tr>\n",
              "      <th>vendor_id</th>\n",
              "      <td>int64</td>\n",
              "    </tr>\n",
              "    <tr>\n",
              "      <th>pickup_datetime</th>\n",
              "      <td>object</td>\n",
              "    </tr>\n",
              "    <tr>\n",
              "      <th>dropoff_datetime</th>\n",
              "      <td>object</td>\n",
              "    </tr>\n",
              "    <tr>\n",
              "      <th>passenger_count</th>\n",
              "      <td>int64</td>\n",
              "    </tr>\n",
              "    <tr>\n",
              "      <th>pickup_longitude</th>\n",
              "      <td>float64</td>\n",
              "    </tr>\n",
              "    <tr>\n",
              "      <th>pickup_latitude</th>\n",
              "      <td>float64</td>\n",
              "    </tr>\n",
              "    <tr>\n",
              "      <th>dropoff_longitude</th>\n",
              "      <td>float64</td>\n",
              "    </tr>\n",
              "    <tr>\n",
              "      <th>dropoff_latitude</th>\n",
              "      <td>float64</td>\n",
              "    </tr>\n",
              "    <tr>\n",
              "      <th>store_and_fwd_flag</th>\n",
              "      <td>object</td>\n",
              "    </tr>\n",
              "    <tr>\n",
              "      <th>trip_duration</th>\n",
              "      <td>int64</td>\n",
              "    </tr>\n",
              "  </tbody>\n",
              "</table>\n",
              "</div><br><label><b>dtype:</b> object</label>"
            ]
          },
          "metadata": {},
          "execution_count": 7
        }
      ]
    },
    {
      "cell_type": "code",
      "source": [
        "# Geeting the info function:\n",
        "data.info()"
      ],
      "metadata": {
        "colab": {
          "base_uri": "https://localhost:8080/"
        },
        "id": "IaGdMEENl28R",
        "outputId": "4bd0da2b-b671-4267-a802-36c6a69399b9"
      },
      "execution_count": 8,
      "outputs": [
        {
          "output_type": "stream",
          "name": "stdout",
          "text": [
            "<class 'pandas.core.frame.DataFrame'>\n",
            "RangeIndex: 729322 entries, 0 to 729321\n",
            "Data columns (total 11 columns):\n",
            " #   Column              Non-Null Count   Dtype  \n",
            "---  ------              --------------   -----  \n",
            " 0   id                  729322 non-null  object \n",
            " 1   vendor_id           729322 non-null  int64  \n",
            " 2   pickup_datetime     729322 non-null  object \n",
            " 3   dropoff_datetime    729322 non-null  object \n",
            " 4   passenger_count     729322 non-null  int64  \n",
            " 5   pickup_longitude    729322 non-null  float64\n",
            " 6   pickup_latitude     729322 non-null  float64\n",
            " 7   dropoff_longitude   729322 non-null  float64\n",
            " 8   dropoff_latitude    729322 non-null  float64\n",
            " 9   store_and_fwd_flag  729322 non-null  object \n",
            " 10  trip_duration       729322 non-null  int64  \n",
            "dtypes: float64(4), int64(3), object(4)\n",
            "memory usage: 61.2+ MB\n"
          ]
        }
      ]
    },
    {
      "cell_type": "code",
      "source": [
        "# Check for missing values\n",
        "data.isnull().sum()\n",
        "# Conclusion: no missing values"
      ],
      "metadata": {
        "colab": {
          "base_uri": "https://localhost:8080/",
          "height": 441
        },
        "id": "mL5wh4_5lw1R",
        "outputId": "1058b7f1-b32f-4ff6-b308-aadfa24215f4"
      },
      "execution_count": 9,
      "outputs": [
        {
          "output_type": "execute_result",
          "data": {
            "text/plain": [
              "id                    0\n",
              "vendor_id             0\n",
              "pickup_datetime       0\n",
              "dropoff_datetime      0\n",
              "passenger_count       0\n",
              "pickup_longitude      0\n",
              "pickup_latitude       0\n",
              "dropoff_longitude     0\n",
              "dropoff_latitude      0\n",
              "store_and_fwd_flag    0\n",
              "trip_duration         0\n",
              "dtype: int64"
            ],
            "text/html": [
              "<div>\n",
              "<style scoped>\n",
              "    .dataframe tbody tr th:only-of-type {\n",
              "        vertical-align: middle;\n",
              "    }\n",
              "\n",
              "    .dataframe tbody tr th {\n",
              "        vertical-align: top;\n",
              "    }\n",
              "\n",
              "    .dataframe thead th {\n",
              "        text-align: right;\n",
              "    }\n",
              "</style>\n",
              "<table border=\"1\" class=\"dataframe\">\n",
              "  <thead>\n",
              "    <tr style=\"text-align: right;\">\n",
              "      <th></th>\n",
              "      <th>0</th>\n",
              "    </tr>\n",
              "  </thead>\n",
              "  <tbody>\n",
              "    <tr>\n",
              "      <th>id</th>\n",
              "      <td>0</td>\n",
              "    </tr>\n",
              "    <tr>\n",
              "      <th>vendor_id</th>\n",
              "      <td>0</td>\n",
              "    </tr>\n",
              "    <tr>\n",
              "      <th>pickup_datetime</th>\n",
              "      <td>0</td>\n",
              "    </tr>\n",
              "    <tr>\n",
              "      <th>dropoff_datetime</th>\n",
              "      <td>0</td>\n",
              "    </tr>\n",
              "    <tr>\n",
              "      <th>passenger_count</th>\n",
              "      <td>0</td>\n",
              "    </tr>\n",
              "    <tr>\n",
              "      <th>pickup_longitude</th>\n",
              "      <td>0</td>\n",
              "    </tr>\n",
              "    <tr>\n",
              "      <th>pickup_latitude</th>\n",
              "      <td>0</td>\n",
              "    </tr>\n",
              "    <tr>\n",
              "      <th>dropoff_longitude</th>\n",
              "      <td>0</td>\n",
              "    </tr>\n",
              "    <tr>\n",
              "      <th>dropoff_latitude</th>\n",
              "      <td>0</td>\n",
              "    </tr>\n",
              "    <tr>\n",
              "      <th>store_and_fwd_flag</th>\n",
              "      <td>0</td>\n",
              "    </tr>\n",
              "    <tr>\n",
              "      <th>trip_duration</th>\n",
              "      <td>0</td>\n",
              "    </tr>\n",
              "  </tbody>\n",
              "</table>\n",
              "</div><br><label><b>dtype:</b> int64</label>"
            ]
          },
          "metadata": {},
          "execution_count": 9
        }
      ]
    },
    {
      "cell_type": "code",
      "source": [
        "# Lets see the dataset description (for all numerical columns)\n",
        "data.describe()"
      ],
      "metadata": {
        "colab": {
          "base_uri": "https://localhost:8080/",
          "height": 316
        },
        "id": "G2_r9gMxl0i9",
        "outputId": "bd27de1d-548b-4c79-a9ba-b4b53c395a07"
      },
      "execution_count": 10,
      "outputs": [
        {
          "output_type": "execute_result",
          "data": {
            "text/plain": [
              "           vendor_id  passenger_count  pickup_longitude  pickup_latitude  \\\n",
              "count  729322.000000    729322.000000     729322.000000    729322.000000   \n",
              "mean        1.535403         1.662055        -73.973513        40.750919   \n",
              "std         0.498745         1.312446          0.069754         0.033594   \n",
              "min         1.000000         0.000000       -121.933342        34.712234   \n",
              "25%         1.000000         1.000000        -73.991859        40.737335   \n",
              "50%         2.000000         1.000000        -73.981758        40.754070   \n",
              "75%         2.000000         2.000000        -73.967361        40.768314   \n",
              "max         2.000000         9.000000        -65.897385        51.881084   \n",
              "\n",
              "       dropoff_longitude  dropoff_latitude  trip_duration  \n",
              "count      729322.000000     729322.000000   7.293220e+05  \n",
              "mean          -73.973422         40.751775   9.522291e+02  \n",
              "std             0.069588          0.036037   3.864626e+03  \n",
              "min          -121.933304         32.181141   1.000000e+00  \n",
              "25%           -73.991318         40.735931   3.970000e+02  \n",
              "50%           -73.979759         40.754509   6.630000e+02  \n",
              "75%           -73.963036         40.769741   1.075000e+03  \n",
              "max           -65.897385         43.921028   1.939736e+06  "
            ],
            "text/html": [
              "\n",
              "  <div id=\"df-aae3ff82-7835-4a90-ba07-b86895191c2a\" class=\"colab-df-container\">\n",
              "    <div>\n",
              "<style scoped>\n",
              "    .dataframe tbody tr th:only-of-type {\n",
              "        vertical-align: middle;\n",
              "    }\n",
              "\n",
              "    .dataframe tbody tr th {\n",
              "        vertical-align: top;\n",
              "    }\n",
              "\n",
              "    .dataframe thead th {\n",
              "        text-align: right;\n",
              "    }\n",
              "</style>\n",
              "<table border=\"1\" class=\"dataframe\">\n",
              "  <thead>\n",
              "    <tr style=\"text-align: right;\">\n",
              "      <th></th>\n",
              "      <th>vendor_id</th>\n",
              "      <th>passenger_count</th>\n",
              "      <th>pickup_longitude</th>\n",
              "      <th>pickup_latitude</th>\n",
              "      <th>dropoff_longitude</th>\n",
              "      <th>dropoff_latitude</th>\n",
              "      <th>trip_duration</th>\n",
              "    </tr>\n",
              "  </thead>\n",
              "  <tbody>\n",
              "    <tr>\n",
              "      <th>count</th>\n",
              "      <td>729322.000000</td>\n",
              "      <td>729322.000000</td>\n",
              "      <td>729322.000000</td>\n",
              "      <td>729322.000000</td>\n",
              "      <td>729322.000000</td>\n",
              "      <td>729322.000000</td>\n",
              "      <td>7.293220e+05</td>\n",
              "    </tr>\n",
              "    <tr>\n",
              "      <th>mean</th>\n",
              "      <td>1.535403</td>\n",
              "      <td>1.662055</td>\n",
              "      <td>-73.973513</td>\n",
              "      <td>40.750919</td>\n",
              "      <td>-73.973422</td>\n",
              "      <td>40.751775</td>\n",
              "      <td>9.522291e+02</td>\n",
              "    </tr>\n",
              "    <tr>\n",
              "      <th>std</th>\n",
              "      <td>0.498745</td>\n",
              "      <td>1.312446</td>\n",
              "      <td>0.069754</td>\n",
              "      <td>0.033594</td>\n",
              "      <td>0.069588</td>\n",
              "      <td>0.036037</td>\n",
              "      <td>3.864626e+03</td>\n",
              "    </tr>\n",
              "    <tr>\n",
              "      <th>min</th>\n",
              "      <td>1.000000</td>\n",
              "      <td>0.000000</td>\n",
              "      <td>-121.933342</td>\n",
              "      <td>34.712234</td>\n",
              "      <td>-121.933304</td>\n",
              "      <td>32.181141</td>\n",
              "      <td>1.000000e+00</td>\n",
              "    </tr>\n",
              "    <tr>\n",
              "      <th>25%</th>\n",
              "      <td>1.000000</td>\n",
              "      <td>1.000000</td>\n",
              "      <td>-73.991859</td>\n",
              "      <td>40.737335</td>\n",
              "      <td>-73.991318</td>\n",
              "      <td>40.735931</td>\n",
              "      <td>3.970000e+02</td>\n",
              "    </tr>\n",
              "    <tr>\n",
              "      <th>50%</th>\n",
              "      <td>2.000000</td>\n",
              "      <td>1.000000</td>\n",
              "      <td>-73.981758</td>\n",
              "      <td>40.754070</td>\n",
              "      <td>-73.979759</td>\n",
              "      <td>40.754509</td>\n",
              "      <td>6.630000e+02</td>\n",
              "    </tr>\n",
              "    <tr>\n",
              "      <th>75%</th>\n",
              "      <td>2.000000</td>\n",
              "      <td>2.000000</td>\n",
              "      <td>-73.967361</td>\n",
              "      <td>40.768314</td>\n",
              "      <td>-73.963036</td>\n",
              "      <td>40.769741</td>\n",
              "      <td>1.075000e+03</td>\n",
              "    </tr>\n",
              "    <tr>\n",
              "      <th>max</th>\n",
              "      <td>2.000000</td>\n",
              "      <td>9.000000</td>\n",
              "      <td>-65.897385</td>\n",
              "      <td>51.881084</td>\n",
              "      <td>-65.897385</td>\n",
              "      <td>43.921028</td>\n",
              "      <td>1.939736e+06</td>\n",
              "    </tr>\n",
              "  </tbody>\n",
              "</table>\n",
              "</div>\n",
              "    <div class=\"colab-df-buttons\">\n",
              "\n",
              "  <div class=\"colab-df-container\">\n",
              "    <button class=\"colab-df-convert\" onclick=\"convertToInteractive('df-aae3ff82-7835-4a90-ba07-b86895191c2a')\"\n",
              "            title=\"Convert this dataframe to an interactive table.\"\n",
              "            style=\"display:none;\">\n",
              "\n",
              "  <svg xmlns=\"http://www.w3.org/2000/svg\" height=\"24px\" viewBox=\"0 -960 960 960\">\n",
              "    <path d=\"M120-120v-720h720v720H120Zm60-500h600v-160H180v160Zm220 220h160v-160H400v160Zm0 220h160v-160H400v160ZM180-400h160v-160H180v160Zm440 0h160v-160H620v160ZM180-180h160v-160H180v160Zm440 0h160v-160H620v160Z\"/>\n",
              "  </svg>\n",
              "    </button>\n",
              "\n",
              "  <style>\n",
              "    .colab-df-container {\n",
              "      display:flex;\n",
              "      gap: 12px;\n",
              "    }\n",
              "\n",
              "    .colab-df-convert {\n",
              "      background-color: #E8F0FE;\n",
              "      border: none;\n",
              "      border-radius: 50%;\n",
              "      cursor: pointer;\n",
              "      display: none;\n",
              "      fill: #1967D2;\n",
              "      height: 32px;\n",
              "      padding: 0 0 0 0;\n",
              "      width: 32px;\n",
              "    }\n",
              "\n",
              "    .colab-df-convert:hover {\n",
              "      background-color: #E2EBFA;\n",
              "      box-shadow: 0px 1px 2px rgba(60, 64, 67, 0.3), 0px 1px 3px 1px rgba(60, 64, 67, 0.15);\n",
              "      fill: #174EA6;\n",
              "    }\n",
              "\n",
              "    .colab-df-buttons div {\n",
              "      margin-bottom: 4px;\n",
              "    }\n",
              "\n",
              "    [theme=dark] .colab-df-convert {\n",
              "      background-color: #3B4455;\n",
              "      fill: #D2E3FC;\n",
              "    }\n",
              "\n",
              "    [theme=dark] .colab-df-convert:hover {\n",
              "      background-color: #434B5C;\n",
              "      box-shadow: 0px 1px 3px 1px rgba(0, 0, 0, 0.15);\n",
              "      filter: drop-shadow(0px 1px 2px rgba(0, 0, 0, 0.3));\n",
              "      fill: #FFFFFF;\n",
              "    }\n",
              "  </style>\n",
              "\n",
              "    <script>\n",
              "      const buttonEl =\n",
              "        document.querySelector('#df-aae3ff82-7835-4a90-ba07-b86895191c2a button.colab-df-convert');\n",
              "      buttonEl.style.display =\n",
              "        google.colab.kernel.accessAllowed ? 'block' : 'none';\n",
              "\n",
              "      async function convertToInteractive(key) {\n",
              "        const element = document.querySelector('#df-aae3ff82-7835-4a90-ba07-b86895191c2a');\n",
              "        const dataTable =\n",
              "          await google.colab.kernel.invokeFunction('convertToInteractive',\n",
              "                                                    [key], {});\n",
              "        if (!dataTable) return;\n",
              "\n",
              "        const docLinkHtml = 'Like what you see? Visit the ' +\n",
              "          '<a target=\"_blank\" href=https://colab.research.google.com/notebooks/data_table.ipynb>data table notebook</a>'\n",
              "          + ' to learn more about interactive tables.';\n",
              "        element.innerHTML = '';\n",
              "        dataTable['output_type'] = 'display_data';\n",
              "        await google.colab.output.renderOutput(dataTable, element);\n",
              "        const docLink = document.createElement('div');\n",
              "        docLink.innerHTML = docLinkHtml;\n",
              "        element.appendChild(docLink);\n",
              "      }\n",
              "    </script>\n",
              "  </div>\n",
              "\n",
              "\n",
              "<div id=\"df-aefc3000-b2b0-46e9-ab1e-6b1bd9d31279\">\n",
              "  <button class=\"colab-df-quickchart\" onclick=\"quickchart('df-aefc3000-b2b0-46e9-ab1e-6b1bd9d31279')\"\n",
              "            title=\"Suggest charts\"\n",
              "            style=\"display:none;\">\n",
              "\n",
              "<svg xmlns=\"http://www.w3.org/2000/svg\" height=\"24px\"viewBox=\"0 0 24 24\"\n",
              "     width=\"24px\">\n",
              "    <g>\n",
              "        <path d=\"M19 3H5c-1.1 0-2 .9-2 2v14c0 1.1.9 2 2 2h14c1.1 0 2-.9 2-2V5c0-1.1-.9-2-2-2zM9 17H7v-7h2v7zm4 0h-2V7h2v10zm4 0h-2v-4h2v4z\"/>\n",
              "    </g>\n",
              "</svg>\n",
              "  </button>\n",
              "\n",
              "<style>\n",
              "  .colab-df-quickchart {\n",
              "      --bg-color: #E8F0FE;\n",
              "      --fill-color: #1967D2;\n",
              "      --hover-bg-color: #E2EBFA;\n",
              "      --hover-fill-color: #174EA6;\n",
              "      --disabled-fill-color: #AAA;\n",
              "      --disabled-bg-color: #DDD;\n",
              "  }\n",
              "\n",
              "  [theme=dark] .colab-df-quickchart {\n",
              "      --bg-color: #3B4455;\n",
              "      --fill-color: #D2E3FC;\n",
              "      --hover-bg-color: #434B5C;\n",
              "      --hover-fill-color: #FFFFFF;\n",
              "      --disabled-bg-color: #3B4455;\n",
              "      --disabled-fill-color: #666;\n",
              "  }\n",
              "\n",
              "  .colab-df-quickchart {\n",
              "    background-color: var(--bg-color);\n",
              "    border: none;\n",
              "    border-radius: 50%;\n",
              "    cursor: pointer;\n",
              "    display: none;\n",
              "    fill: var(--fill-color);\n",
              "    height: 32px;\n",
              "    padding: 0;\n",
              "    width: 32px;\n",
              "  }\n",
              "\n",
              "  .colab-df-quickchart:hover {\n",
              "    background-color: var(--hover-bg-color);\n",
              "    box-shadow: 0 1px 2px rgba(60, 64, 67, 0.3), 0 1px 3px 1px rgba(60, 64, 67, 0.15);\n",
              "    fill: var(--button-hover-fill-color);\n",
              "  }\n",
              "\n",
              "  .colab-df-quickchart-complete:disabled,\n",
              "  .colab-df-quickchart-complete:disabled:hover {\n",
              "    background-color: var(--disabled-bg-color);\n",
              "    fill: var(--disabled-fill-color);\n",
              "    box-shadow: none;\n",
              "  }\n",
              "\n",
              "  .colab-df-spinner {\n",
              "    border: 2px solid var(--fill-color);\n",
              "    border-color: transparent;\n",
              "    border-bottom-color: var(--fill-color);\n",
              "    animation:\n",
              "      spin 1s steps(1) infinite;\n",
              "  }\n",
              "\n",
              "  @keyframes spin {\n",
              "    0% {\n",
              "      border-color: transparent;\n",
              "      border-bottom-color: var(--fill-color);\n",
              "      border-left-color: var(--fill-color);\n",
              "    }\n",
              "    20% {\n",
              "      border-color: transparent;\n",
              "      border-left-color: var(--fill-color);\n",
              "      border-top-color: var(--fill-color);\n",
              "    }\n",
              "    30% {\n",
              "      border-color: transparent;\n",
              "      border-left-color: var(--fill-color);\n",
              "      border-top-color: var(--fill-color);\n",
              "      border-right-color: var(--fill-color);\n",
              "    }\n",
              "    40% {\n",
              "      border-color: transparent;\n",
              "      border-right-color: var(--fill-color);\n",
              "      border-top-color: var(--fill-color);\n",
              "    }\n",
              "    60% {\n",
              "      border-color: transparent;\n",
              "      border-right-color: var(--fill-color);\n",
              "    }\n",
              "    80% {\n",
              "      border-color: transparent;\n",
              "      border-right-color: var(--fill-color);\n",
              "      border-bottom-color: var(--fill-color);\n",
              "    }\n",
              "    90% {\n",
              "      border-color: transparent;\n",
              "      border-bottom-color: var(--fill-color);\n",
              "    }\n",
              "  }\n",
              "</style>\n",
              "\n",
              "  <script>\n",
              "    async function quickchart(key) {\n",
              "      const quickchartButtonEl =\n",
              "        document.querySelector('#' + key + ' button');\n",
              "      quickchartButtonEl.disabled = true;  // To prevent multiple clicks.\n",
              "      quickchartButtonEl.classList.add('colab-df-spinner');\n",
              "      try {\n",
              "        const charts = await google.colab.kernel.invokeFunction(\n",
              "            'suggestCharts', [key], {});\n",
              "      } catch (error) {\n",
              "        console.error('Error during call to suggestCharts:', error);\n",
              "      }\n",
              "      quickchartButtonEl.classList.remove('colab-df-spinner');\n",
              "      quickchartButtonEl.classList.add('colab-df-quickchart-complete');\n",
              "    }\n",
              "    (() => {\n",
              "      let quickchartButtonEl =\n",
              "        document.querySelector('#df-aefc3000-b2b0-46e9-ab1e-6b1bd9d31279 button');\n",
              "      quickchartButtonEl.style.display =\n",
              "        google.colab.kernel.accessAllowed ? 'block' : 'none';\n",
              "    })();\n",
              "  </script>\n",
              "</div>\n",
              "\n",
              "    </div>\n",
              "  </div>\n"
            ],
            "application/vnd.google.colaboratory.intrinsic+json": {
              "type": "dataframe",
              "summary": "{\n  \"name\": \"data\",\n  \"rows\": 8,\n  \"fields\": [\n    {\n      \"column\": \"vendor_id\",\n      \"properties\": {\n        \"dtype\": \"number\",\n        \"std\": 257853.75913386865,\n        \"min\": 0.49874541279901935,\n        \"max\": 729322.0,\n        \"num_unique_values\": 5,\n        \"samples\": [\n          1.5354027439183242,\n          2.0,\n          0.49874541279901935\n        ],\n        \"semantic_type\": \"\",\n        \"description\": \"\"\n      }\n    },\n    {\n      \"column\": \"passenger_count\",\n      \"properties\": {\n        \"dtype\": \"number\",\n        \"std\": 257853.45911540854,\n        \"min\": 0.0,\n        \"max\": 729322.0,\n        \"num_unique_values\": 7,\n        \"samples\": [\n          729322.0,\n          1.6620546205928246,\n          2.0\n        ],\n        \"semantic_type\": \"\",\n        \"description\": \"\"\n      }\n    },\n    {\n      \"column\": \"pickup_longitude\",\n      \"properties\": {\n        \"dtype\": \"number\",\n        \"std\": 257878.69736194593,\n        \"min\": -121.93334197998048,\n        \"max\": 729322.0,\n        \"num_unique_values\": 8,\n        \"samples\": [\n          -73.97351307454848,\n          -73.98175811767578,\n          729322.0\n        ],\n        \"semantic_type\": \"\",\n        \"description\": \"\"\n      }\n    },\n    {\n      \"column\": \"pickup_latitude\",\n      \"properties\": {\n        \"dtype\": \"number\",\n        \"std\": 257841.6577873508,\n        \"min\": 0.03359412072122805,\n        \"max\": 729322.0,\n        \"num_unique_values\": 8,\n        \"samples\": [\n          40.75091887972495,\n          40.754070281982415,\n          729322.0\n        ],\n        \"semantic_type\": \"\",\n        \"description\": \"\"\n      }\n    },\n    {\n      \"column\": \"dropoff_longitude\",\n      \"properties\": {\n        \"dtype\": \"number\",\n        \"std\": 257878.69701696263,\n        \"min\": -121.9333038330078,\n        \"max\": 729322.0,\n        \"num_unique_values\": 8,\n        \"samples\": [\n          -73.97342219209891,\n          -73.9797592163086,\n          729322.0\n        ],\n        \"semantic_type\": \"\",\n        \"description\": \"\"\n      }\n    },\n    {\n      \"column\": \"dropoff_latitude\",\n      \"properties\": {\n        \"dtype\": \"number\",\n        \"std\": 257842.1874252027,\n        \"min\": 0.03603721108730259,\n        \"max\": 729322.0,\n        \"num_unique_values\": 8,\n        \"samples\": [\n          40.751775436975464,\n          40.75450897216797,\n          729322.0\n        ],\n        \"semantic_type\": \"\",\n        \"description\": \"\"\n      }\n    },\n    {\n      \"column\": \"trip_duration\",\n      \"properties\": {\n        \"dtype\": \"number\",\n        \"std\": 696867.9585964862,\n        \"min\": 1.0,\n        \"max\": 1939736.0,\n        \"num_unique_values\": 8,\n        \"samples\": [\n          952.2291333594764,\n          663.0,\n          729322.0\n        ],\n        \"semantic_type\": \"\",\n        \"description\": \"\"\n      }\n    }\n  ]\n}"
            }
          },
          "metadata": {},
          "execution_count": 10
        }
      ]
    },
    {
      "cell_type": "code",
      "source": [
        "## cheaking if any duplicate values\n",
        "data.duplicated().sum()\n",
        "## no duplicated values"
      ],
      "metadata": {
        "colab": {
          "base_uri": "https://localhost:8080/"
        },
        "id": "gGbvYHdUmAQS",
        "outputId": "624b1325-3cfe-4774-d505-3dc9f117313b"
      },
      "execution_count": 11,
      "outputs": [
        {
          "output_type": "execute_result",
          "data": {
            "text/plain": [
              "0"
            ]
          },
          "metadata": {},
          "execution_count": 11
        }
      ]
    },
    {
      "cell_type": "markdown",
      "source": [
        "# Encoding"
      ],
      "metadata": {
        "id": "if2iPkNKpkte"
      }
    },
    {
      "cell_type": "markdown",
      "source": [
        "let's analyze each column in the provided data and suggest appropriate encoding techniques based on the nature of the data:\n",
        "\n",
        "1. **id**: a unique identifier for each trip.\n",
        "\n",
        "2. **Vendor_id**: a code indicating the provider associated with the trip record.\n",
        "\n",
        "3. **Pickup_datetime**: date and time when the meter was engaged.\n",
        "\n",
        "4. **Dropoff_datetime**: date and time when the meter was disengaged.\n",
        "\n",
        "5. **Passenger_count**: the number of passengers in the vehicle (driver entered value).\n",
        "\n",
        "6. **Pickup_longitude**: the longitude where the meter was engaged.\n",
        "\n",
        "7. **pickup_latitude**: the latitude where the meter was engaged.\n",
        "\n",
        "8. **Dropoff_longitude**: the longitude where the meter was disengaged.\n",
        "\n",
        "9. **Dropoff_latitude**: the latitude where the meter was disengaged.\n",
        "\n",
        "10. **Store_and_fwd _flag**: This flag indicates whether the trip record was held in vehicle memory before sending to the vendor because the vehicle did not have a connection to the server (Y=store and forward; N=not a store and forward trip).\n",
        "\n",
        "11. **trip_duration**: (target) duration of the trip in seconds.\n"
      ],
      "metadata": {
        "id": "9T4M1JXlpp9-"
      }
    },
    {
      "cell_type": "markdown",
      "source": [
        "# Integer Data Type\n"
      ],
      "metadata": {
        "id": "kpSHqM1atl82"
      }
    },
    {
      "cell_type": "code",
      "source": [
        "# Identifying variables with integer datatype\n",
        "data.dtypes[data.dtypes == 'int64']"
      ],
      "metadata": {
        "colab": {
          "base_uri": "https://localhost:8080/",
          "height": 195
        },
        "id": "oQaRKVshsU42",
        "outputId": "b6ed960e-2edb-4498-8d09-3a0e83eac06d"
      },
      "execution_count": 12,
      "outputs": [
        {
          "output_type": "execute_result",
          "data": {
            "text/plain": [
              "vendor_id          int64\n",
              "passenger_count    int64\n",
              "trip_duration      int64\n",
              "dtype: object"
            ],
            "text/html": [
              "<div>\n",
              "<style scoped>\n",
              "    .dataframe tbody tr th:only-of-type {\n",
              "        vertical-align: middle;\n",
              "    }\n",
              "\n",
              "    .dataframe tbody tr th {\n",
              "        vertical-align: top;\n",
              "    }\n",
              "\n",
              "    .dataframe thead th {\n",
              "        text-align: right;\n",
              "    }\n",
              "</style>\n",
              "<table border=\"1\" class=\"dataframe\">\n",
              "  <thead>\n",
              "    <tr style=\"text-align: right;\">\n",
              "      <th></th>\n",
              "      <th>0</th>\n",
              "    </tr>\n",
              "  </thead>\n",
              "  <tbody>\n",
              "    <tr>\n",
              "      <th>vendor_id</th>\n",
              "      <td>int64</td>\n",
              "    </tr>\n",
              "    <tr>\n",
              "      <th>passenger_count</th>\n",
              "      <td>int64</td>\n",
              "    </tr>\n",
              "    <tr>\n",
              "      <th>trip_duration</th>\n",
              "      <td>int64</td>\n",
              "    </tr>\n",
              "  </tbody>\n",
              "</table>\n",
              "</div><br><label><b>dtype:</b> object</label>"
            ]
          },
          "metadata": {},
          "execution_count": 12
        }
      ]
    },
    {
      "cell_type": "markdown",
      "source": [
        "**vendor_id** -> it is okay for this to be an int64.\n",
        "\n",
        "**passenger_count** -> very good for this to be an int64.\n",
        "\n",
        "**trip_duration** -> number of seconds can be best translated into a datetime object. If we want to understand the duration of events in a more human-readable format (e.g., hours, minutes, seconds), converting the seconds into a timedelta object can be helpful.\n"
      ],
      "metadata": {
        "id": "A74Iu4XCuFX3"
      }
    },
    {
      "cell_type": "code",
      "source": [
        "# Assuming 'data' is your DataFrame and 'event_duration' is the column with the number of seconds\n",
        "data['trip_duration'] = pd.to_timedelta(data['trip_duration'], unit='s')"
      ],
      "metadata": {
        "id": "-6TPNt3Yo3Da"
      },
      "execution_count": 13,
      "outputs": []
    },
    {
      "cell_type": "code",
      "source": [
        "# Verify if the trip_duration feature was changed into a Datetime object\n",
        "data.info()\n",
        "# Conclusion: Yes! properly converted."
      ],
      "metadata": {
        "colab": {
          "base_uri": "https://localhost:8080/"
        },
        "id": "lC8gyA74qLSF",
        "outputId": "14b98108-55eb-41f7-f0e8-599e9248a14d"
      },
      "execution_count": 14,
      "outputs": [
        {
          "output_type": "stream",
          "name": "stdout",
          "text": [
            "<class 'pandas.core.frame.DataFrame'>\n",
            "RangeIndex: 729322 entries, 0 to 729321\n",
            "Data columns (total 11 columns):\n",
            " #   Column              Non-Null Count   Dtype          \n",
            "---  ------              --------------   -----          \n",
            " 0   id                  729322 non-null  object         \n",
            " 1   vendor_id           729322 non-null  int64          \n",
            " 2   pickup_datetime     729322 non-null  object         \n",
            " 3   dropoff_datetime    729322 non-null  object         \n",
            " 4   passenger_count     729322 non-null  int64          \n",
            " 5   pickup_longitude    729322 non-null  float64        \n",
            " 6   pickup_latitude     729322 non-null  float64        \n",
            " 7   dropoff_longitude   729322 non-null  float64        \n",
            " 8   dropoff_latitude    729322 non-null  float64        \n",
            " 9   store_and_fwd_flag  729322 non-null  object         \n",
            " 10  trip_duration       729322 non-null  timedelta64[ns]\n",
            "dtypes: float64(4), int64(2), object(4), timedelta64[ns](1)\n",
            "memory usage: 61.2+ MB\n"
          ]
        }
      ]
    },
    {
      "cell_type": "markdown",
      "source": [
        "# Float Data Type"
      ],
      "metadata": {
        "id": "ZOc3e6fEt3xo"
      }
    },
    {
      "cell_type": "code",
      "source": [
        "# Identifying variables with float datatype\n",
        "data.dtypes[data.dtypes == 'float64']"
      ],
      "metadata": {
        "colab": {
          "base_uri": "https://localhost:8080/",
          "height": 226
        },
        "id": "BoA8NIy7plsq",
        "outputId": "1c128622-ab0c-4143-b168-aa84165ca377"
      },
      "execution_count": 15,
      "outputs": [
        {
          "output_type": "execute_result",
          "data": {
            "text/plain": [
              "pickup_longitude     float64\n",
              "pickup_latitude      float64\n",
              "dropoff_longitude    float64\n",
              "dropoff_latitude     float64\n",
              "dtype: object"
            ],
            "text/html": [
              "<div>\n",
              "<style scoped>\n",
              "    .dataframe tbody tr th:only-of-type {\n",
              "        vertical-align: middle;\n",
              "    }\n",
              "\n",
              "    .dataframe tbody tr th {\n",
              "        vertical-align: top;\n",
              "    }\n",
              "\n",
              "    .dataframe thead th {\n",
              "        text-align: right;\n",
              "    }\n",
              "</style>\n",
              "<table border=\"1\" class=\"dataframe\">\n",
              "  <thead>\n",
              "    <tr style=\"text-align: right;\">\n",
              "      <th></th>\n",
              "      <th>0</th>\n",
              "    </tr>\n",
              "  </thead>\n",
              "  <tbody>\n",
              "    <tr>\n",
              "      <th>pickup_longitude</th>\n",
              "      <td>float64</td>\n",
              "    </tr>\n",
              "    <tr>\n",
              "      <th>pickup_latitude</th>\n",
              "      <td>float64</td>\n",
              "    </tr>\n",
              "    <tr>\n",
              "      <th>dropoff_longitude</th>\n",
              "      <td>float64</td>\n",
              "    </tr>\n",
              "    <tr>\n",
              "      <th>dropoff_latitude</th>\n",
              "      <td>float64</td>\n",
              "    </tr>\n",
              "  </tbody>\n",
              "</table>\n",
              "</div><br><label><b>dtype:</b> object</label>"
            ]
          },
          "metadata": {},
          "execution_count": 15
        }
      ]
    },
    {
      "cell_type": "markdown",
      "source": [
        "Longitude and latitude values require precision, which is well-supported by the float64 data type.\n",
        "\n",
        "So no need to convert these."
      ],
      "metadata": {
        "id": "At6bCb5EuB8s"
      }
    },
    {
      "cell_type": "markdown",
      "source": [
        "# Object Data Type"
      ],
      "metadata": {
        "id": "3oJ2ZPxQuMiS"
      }
    },
    {
      "cell_type": "code",
      "source": [
        "# Identifying variables with float datatype\n",
        "data.dtypes[data.dtypes == 'object']"
      ],
      "metadata": {
        "colab": {
          "base_uri": "https://localhost:8080/",
          "height": 226
        },
        "id": "p_NwjC0Ut8uP",
        "outputId": "acc70b4a-a55e-478c-95eb-5592d75f7976"
      },
      "execution_count": 16,
      "outputs": [
        {
          "output_type": "execute_result",
          "data": {
            "text/plain": [
              "id                    object\n",
              "pickup_datetime       object\n",
              "dropoff_datetime      object\n",
              "store_and_fwd_flag    object\n",
              "dtype: object"
            ],
            "text/html": [
              "<div>\n",
              "<style scoped>\n",
              "    .dataframe tbody tr th:only-of-type {\n",
              "        vertical-align: middle;\n",
              "    }\n",
              "\n",
              "    .dataframe tbody tr th {\n",
              "        vertical-align: top;\n",
              "    }\n",
              "\n",
              "    .dataframe thead th {\n",
              "        text-align: right;\n",
              "    }\n",
              "</style>\n",
              "<table border=\"1\" class=\"dataframe\">\n",
              "  <thead>\n",
              "    <tr style=\"text-align: right;\">\n",
              "      <th></th>\n",
              "      <th>0</th>\n",
              "    </tr>\n",
              "  </thead>\n",
              "  <tbody>\n",
              "    <tr>\n",
              "      <th>id</th>\n",
              "      <td>object</td>\n",
              "    </tr>\n",
              "    <tr>\n",
              "      <th>pickup_datetime</th>\n",
              "      <td>object</td>\n",
              "    </tr>\n",
              "    <tr>\n",
              "      <th>dropoff_datetime</th>\n",
              "      <td>object</td>\n",
              "    </tr>\n",
              "    <tr>\n",
              "      <th>store_and_fwd_flag</th>\n",
              "      <td>object</td>\n",
              "    </tr>\n",
              "  </tbody>\n",
              "</table>\n",
              "</div><br><label><b>dtype:</b> object</label>"
            ]
          },
          "metadata": {},
          "execution_count": 16
        }
      ]
    },
    {
      "cell_type": "markdown",
      "source": [
        "**pickup_datetime** -> good to convert into a datetime object.\n",
        "\n",
        "**dropoff_datetime** -> good to convert into a datetime object.\n",
        "\n",
        "**store_and_fwd_flag** -> good to convert this into 0's and 1's.\n",
        "\n"
      ],
      "metadata": {
        "id": "lW-UYF5jvfPu"
      }
    },
    {
      "cell_type": "code",
      "source": [
        "# Convert pickup_datetime and dropoff_datetime into a Datetime object\n",
        "data['pickup_datetime'] = pd.to_datetime(data['pickup_datetime'])\n",
        "data['dropoff_datetime'] = pd.to_datetime(data['dropoff_datetime'])"
      ],
      "metadata": {
        "id": "eUiJRyNx-JZv"
      },
      "execution_count": 17,
      "outputs": []
    },
    {
      "cell_type": "code",
      "source": [
        "# Checking if the datatype was converted properly\n",
        "data.info()\n",
        "# converted from Object to float64. Need to convert this into int64."
      ],
      "metadata": {
        "colab": {
          "base_uri": "https://localhost:8080/"
        },
        "id": "HRVCNVA2-qR9",
        "outputId": "8f9b1ebe-06c8-451a-df21-6a4c0f89293f"
      },
      "execution_count": 18,
      "outputs": [
        {
          "output_type": "stream",
          "name": "stdout",
          "text": [
            "<class 'pandas.core.frame.DataFrame'>\n",
            "RangeIndex: 729322 entries, 0 to 729321\n",
            "Data columns (total 11 columns):\n",
            " #   Column              Non-Null Count   Dtype          \n",
            "---  ------              --------------   -----          \n",
            " 0   id                  729322 non-null  object         \n",
            " 1   vendor_id           729322 non-null  int64          \n",
            " 2   pickup_datetime     729322 non-null  datetime64[ns] \n",
            " 3   dropoff_datetime    729322 non-null  datetime64[ns] \n",
            " 4   passenger_count     729322 non-null  int64          \n",
            " 5   pickup_longitude    729322 non-null  float64        \n",
            " 6   pickup_latitude     729322 non-null  float64        \n",
            " 7   dropoff_longitude   729322 non-null  float64        \n",
            " 8   dropoff_latitude    729322 non-null  float64        \n",
            " 9   store_and_fwd_flag  729322 non-null  object         \n",
            " 10  trip_duration       729322 non-null  timedelta64[ns]\n",
            "dtypes: datetime64[ns](2), float64(4), int64(2), object(2), timedelta64[ns](1)\n",
            "memory usage: 61.2+ MB\n"
          ]
        }
      ]
    },
    {
      "cell_type": "code",
      "source": [
        "# Use pd.get_dummies to convert 'store_and_fwd_flag' into numerical values\n",
        "data = pd.get_dummies(data, columns=['store_and_fwd_flag'])"
      ],
      "metadata": {
        "id": "4ktNTuEaBr3r"
      },
      "execution_count": 19,
      "outputs": []
    },
    {
      "cell_type": "code",
      "source": [
        "# Checking if the datatype was converted properly\n",
        "data.info()\n",
        "# converted from Object to float64. Need to convert this into int64."
      ],
      "metadata": {
        "colab": {
          "base_uri": "https://localhost:8080/"
        },
        "id": "7Z5sySbQCGLn",
        "outputId": "b80e8b61-4573-478d-fedc-b2b422293757"
      },
      "execution_count": 20,
      "outputs": [
        {
          "output_type": "stream",
          "name": "stdout",
          "text": [
            "<class 'pandas.core.frame.DataFrame'>\n",
            "RangeIndex: 729322 entries, 0 to 729321\n",
            "Data columns (total 12 columns):\n",
            " #   Column                Non-Null Count   Dtype          \n",
            "---  ------                --------------   -----          \n",
            " 0   id                    729322 non-null  object         \n",
            " 1   vendor_id             729322 non-null  int64          \n",
            " 2   pickup_datetime       729322 non-null  datetime64[ns] \n",
            " 3   dropoff_datetime      729322 non-null  datetime64[ns] \n",
            " 4   passenger_count       729322 non-null  int64          \n",
            " 5   pickup_longitude      729322 non-null  float64        \n",
            " 6   pickup_latitude       729322 non-null  float64        \n",
            " 7   dropoff_longitude     729322 non-null  float64        \n",
            " 8   dropoff_latitude      729322 non-null  float64        \n",
            " 9   trip_duration         729322 non-null  timedelta64[ns]\n",
            " 10  store_and_fwd_flag_N  729322 non-null  bool           \n",
            " 11  store_and_fwd_flag_Y  729322 non-null  bool           \n",
            "dtypes: bool(2), datetime64[ns](2), float64(4), int64(2), object(1), timedelta64[ns](1)\n",
            "memory usage: 57.0+ MB\n"
          ]
        }
      ]
    },
    {
      "cell_type": "code",
      "source": [
        "# Convert the 'store_and_fwd_flag' column to int64\n",
        "data['store_and_fwd_flag_N'] = data['store_and_fwd_flag_N'].astype('int64')"
      ],
      "metadata": {
        "id": "pAPKU9Y-Cu9n"
      },
      "execution_count": 21,
      "outputs": []
    },
    {
      "cell_type": "code",
      "source": [
        "# Checking the unique values of store_and_fwd_flag_N\n",
        "print(data['store_and_fwd_flag_N'].unique())"
      ],
      "metadata": {
        "colab": {
          "base_uri": "https://localhost:8080/"
        },
        "id": "66tOcHvlyQSl",
        "outputId": "59e6d07c-0ddf-4ade-a8e3-f42018bd340c"
      },
      "execution_count": 22,
      "outputs": [
        {
          "output_type": "stream",
          "name": "stdout",
          "text": [
            "[1 0]\n"
          ]
        }
      ]
    },
    {
      "cell_type": "code",
      "source": [
        "# Convert the 'store_and_fwd_flag' column to int64\n",
        "data['store_and_fwd_flag_Y'] = data['store_and_fwd_flag_Y'].astype('int64')"
      ],
      "metadata": {
        "id": "hY4lIC1hC1w0"
      },
      "execution_count": 23,
      "outputs": []
    },
    {
      "cell_type": "code",
      "source": [
        "# Checking if the datatype was converted properly\n",
        "data.info()\n",
        "# Successfully converted to int64."
      ],
      "metadata": {
        "colab": {
          "base_uri": "https://localhost:8080/"
        },
        "id": "Op855-PN7mht",
        "outputId": "ddba14f4-4207-4129-e140-67302daeed18"
      },
      "execution_count": 24,
      "outputs": [
        {
          "output_type": "stream",
          "name": "stdout",
          "text": [
            "<class 'pandas.core.frame.DataFrame'>\n",
            "RangeIndex: 729322 entries, 0 to 729321\n",
            "Data columns (total 12 columns):\n",
            " #   Column                Non-Null Count   Dtype          \n",
            "---  ------                --------------   -----          \n",
            " 0   id                    729322 non-null  object         \n",
            " 1   vendor_id             729322 non-null  int64          \n",
            " 2   pickup_datetime       729322 non-null  datetime64[ns] \n",
            " 3   dropoff_datetime      729322 non-null  datetime64[ns] \n",
            " 4   passenger_count       729322 non-null  int64          \n",
            " 5   pickup_longitude      729322 non-null  float64        \n",
            " 6   pickup_latitude       729322 non-null  float64        \n",
            " 7   dropoff_longitude     729322 non-null  float64        \n",
            " 8   dropoff_latitude      729322 non-null  float64        \n",
            " 9   trip_duration         729322 non-null  timedelta64[ns]\n",
            " 10  store_and_fwd_flag_N  729322 non-null  int64          \n",
            " 11  store_and_fwd_flag_Y  729322 non-null  int64          \n",
            "dtypes: datetime64[ns](2), float64(4), int64(4), object(1), timedelta64[ns](1)\n",
            "memory usage: 66.8+ MB\n"
          ]
        }
      ]
    },
    {
      "cell_type": "code",
      "source": [
        "# Checking the unique values of store_and_fwd_flag_Y\n",
        "print(data['store_and_fwd_flag_Y'].unique())"
      ],
      "metadata": {
        "colab": {
          "base_uri": "https://localhost:8080/"
        },
        "id": "rbrbScP9yQPn",
        "outputId": "559d3f2a-b139-444a-c721-676718c37790"
      },
      "execution_count": 25,
      "outputs": [
        {
          "output_type": "stream",
          "name": "stdout",
          "text": [
            "[0 1]\n"
          ]
        }
      ]
    },
    {
      "cell_type": "markdown",
      "source": [
        "### Datetimeobject\n",
        "\n",
        "We can craate new Datetime objects by some simple calculations on Datetime objects\n"
      ],
      "metadata": {
        "id": "Dp5GIoOKub7e"
      }
    },
    {
      "cell_type": "code",
      "source": [
        "# Create a new variable real_trip_duration by taking the difference between pickup_datetime and dropoff_datetime\n",
        "data['real_trip_duration'] = data['dropoff_datetime'] - data['pickup_datetime']"
      ],
      "metadata": {
        "id": "FSVPXwY3umh8"
      },
      "execution_count": 26,
      "outputs": []
    },
    {
      "cell_type": "code",
      "source": [
        "# Get the head function for dataframe data\n",
        "data.head()"
      ],
      "metadata": {
        "colab": {
          "base_uri": "https://localhost:8080/",
          "height": 307
        },
        "id": "mIhZYzAi--IX",
        "outputId": "d4e01233-f9ee-4413-953a-9e0ae579e5ca"
      },
      "execution_count": 27,
      "outputs": [
        {
          "output_type": "execute_result",
          "data": {
            "text/plain": [
              "          id  vendor_id     pickup_datetime    dropoff_datetime  \\\n",
              "0  id1080784          2 2016-02-29 16:40:21 2016-02-29 16:47:01   \n",
              "1  id0889885          1 2016-03-11 23:35:37 2016-03-11 23:53:57   \n",
              "2  id0857912          2 2016-02-21 17:59:33 2016-02-21 18:26:48   \n",
              "3  id3744273          2 2016-01-05 09:44:31 2016-01-05 10:03:32   \n",
              "4  id0232939          1 2016-02-17 06:42:23 2016-02-17 06:56:31   \n",
              "\n",
              "   passenger_count  pickup_longitude  pickup_latitude  dropoff_longitude  \\\n",
              "0                1        -73.953918        40.778873         -73.963875   \n",
              "1                2        -73.988312        40.731743         -73.994751   \n",
              "2                2        -73.997314        40.721458         -73.948029   \n",
              "3                6        -73.961670        40.759720         -73.956779   \n",
              "4                1        -74.017120        40.708469         -73.988182   \n",
              "\n",
              "   dropoff_latitude   trip_duration  store_and_fwd_flag_N  \\\n",
              "0         40.771164 0 days 00:06:40                     1   \n",
              "1         40.694931 0 days 00:18:20                     1   \n",
              "2         40.774918 0 days 00:27:15                     1   \n",
              "3         40.780628 0 days 00:19:01                     1   \n",
              "4         40.740631 0 days 00:14:08                     1   \n",
              "\n",
              "   store_and_fwd_flag_Y real_trip_duration  \n",
              "0                     0    0 days 00:06:40  \n",
              "1                     0    0 days 00:18:20  \n",
              "2                     0    0 days 00:27:15  \n",
              "3                     0    0 days 00:19:01  \n",
              "4                     0    0 days 00:14:08  "
            ],
            "text/html": [
              "\n",
              "  <div id=\"df-3bf567d6-520f-4779-a432-032528d0287e\" class=\"colab-df-container\">\n",
              "    <div>\n",
              "<style scoped>\n",
              "    .dataframe tbody tr th:only-of-type {\n",
              "        vertical-align: middle;\n",
              "    }\n",
              "\n",
              "    .dataframe tbody tr th {\n",
              "        vertical-align: top;\n",
              "    }\n",
              "\n",
              "    .dataframe thead th {\n",
              "        text-align: right;\n",
              "    }\n",
              "</style>\n",
              "<table border=\"1\" class=\"dataframe\">\n",
              "  <thead>\n",
              "    <tr style=\"text-align: right;\">\n",
              "      <th></th>\n",
              "      <th>id</th>\n",
              "      <th>vendor_id</th>\n",
              "      <th>pickup_datetime</th>\n",
              "      <th>dropoff_datetime</th>\n",
              "      <th>passenger_count</th>\n",
              "      <th>pickup_longitude</th>\n",
              "      <th>pickup_latitude</th>\n",
              "      <th>dropoff_longitude</th>\n",
              "      <th>dropoff_latitude</th>\n",
              "      <th>trip_duration</th>\n",
              "      <th>store_and_fwd_flag_N</th>\n",
              "      <th>store_and_fwd_flag_Y</th>\n",
              "      <th>real_trip_duration</th>\n",
              "    </tr>\n",
              "  </thead>\n",
              "  <tbody>\n",
              "    <tr>\n",
              "      <th>0</th>\n",
              "      <td>id1080784</td>\n",
              "      <td>2</td>\n",
              "      <td>2016-02-29 16:40:21</td>\n",
              "      <td>2016-02-29 16:47:01</td>\n",
              "      <td>1</td>\n",
              "      <td>-73.953918</td>\n",
              "      <td>40.778873</td>\n",
              "      <td>-73.963875</td>\n",
              "      <td>40.771164</td>\n",
              "      <td>0 days 00:06:40</td>\n",
              "      <td>1</td>\n",
              "      <td>0</td>\n",
              "      <td>0 days 00:06:40</td>\n",
              "    </tr>\n",
              "    <tr>\n",
              "      <th>1</th>\n",
              "      <td>id0889885</td>\n",
              "      <td>1</td>\n",
              "      <td>2016-03-11 23:35:37</td>\n",
              "      <td>2016-03-11 23:53:57</td>\n",
              "      <td>2</td>\n",
              "      <td>-73.988312</td>\n",
              "      <td>40.731743</td>\n",
              "      <td>-73.994751</td>\n",
              "      <td>40.694931</td>\n",
              "      <td>0 days 00:18:20</td>\n",
              "      <td>1</td>\n",
              "      <td>0</td>\n",
              "      <td>0 days 00:18:20</td>\n",
              "    </tr>\n",
              "    <tr>\n",
              "      <th>2</th>\n",
              "      <td>id0857912</td>\n",
              "      <td>2</td>\n",
              "      <td>2016-02-21 17:59:33</td>\n",
              "      <td>2016-02-21 18:26:48</td>\n",
              "      <td>2</td>\n",
              "      <td>-73.997314</td>\n",
              "      <td>40.721458</td>\n",
              "      <td>-73.948029</td>\n",
              "      <td>40.774918</td>\n",
              "      <td>0 days 00:27:15</td>\n",
              "      <td>1</td>\n",
              "      <td>0</td>\n",
              "      <td>0 days 00:27:15</td>\n",
              "    </tr>\n",
              "    <tr>\n",
              "      <th>3</th>\n",
              "      <td>id3744273</td>\n",
              "      <td>2</td>\n",
              "      <td>2016-01-05 09:44:31</td>\n",
              "      <td>2016-01-05 10:03:32</td>\n",
              "      <td>6</td>\n",
              "      <td>-73.961670</td>\n",
              "      <td>40.759720</td>\n",
              "      <td>-73.956779</td>\n",
              "      <td>40.780628</td>\n",
              "      <td>0 days 00:19:01</td>\n",
              "      <td>1</td>\n",
              "      <td>0</td>\n",
              "      <td>0 days 00:19:01</td>\n",
              "    </tr>\n",
              "    <tr>\n",
              "      <th>4</th>\n",
              "      <td>id0232939</td>\n",
              "      <td>1</td>\n",
              "      <td>2016-02-17 06:42:23</td>\n",
              "      <td>2016-02-17 06:56:31</td>\n",
              "      <td>1</td>\n",
              "      <td>-74.017120</td>\n",
              "      <td>40.708469</td>\n",
              "      <td>-73.988182</td>\n",
              "      <td>40.740631</td>\n",
              "      <td>0 days 00:14:08</td>\n",
              "      <td>1</td>\n",
              "      <td>0</td>\n",
              "      <td>0 days 00:14:08</td>\n",
              "    </tr>\n",
              "  </tbody>\n",
              "</table>\n",
              "</div>\n",
              "    <div class=\"colab-df-buttons\">\n",
              "\n",
              "  <div class=\"colab-df-container\">\n",
              "    <button class=\"colab-df-convert\" onclick=\"convertToInteractive('df-3bf567d6-520f-4779-a432-032528d0287e')\"\n",
              "            title=\"Convert this dataframe to an interactive table.\"\n",
              "            style=\"display:none;\">\n",
              "\n",
              "  <svg xmlns=\"http://www.w3.org/2000/svg\" height=\"24px\" viewBox=\"0 -960 960 960\">\n",
              "    <path d=\"M120-120v-720h720v720H120Zm60-500h600v-160H180v160Zm220 220h160v-160H400v160Zm0 220h160v-160H400v160ZM180-400h160v-160H180v160Zm440 0h160v-160H620v160ZM180-180h160v-160H180v160Zm440 0h160v-160H620v160Z\"/>\n",
              "  </svg>\n",
              "    </button>\n",
              "\n",
              "  <style>\n",
              "    .colab-df-container {\n",
              "      display:flex;\n",
              "      gap: 12px;\n",
              "    }\n",
              "\n",
              "    .colab-df-convert {\n",
              "      background-color: #E8F0FE;\n",
              "      border: none;\n",
              "      border-radius: 50%;\n",
              "      cursor: pointer;\n",
              "      display: none;\n",
              "      fill: #1967D2;\n",
              "      height: 32px;\n",
              "      padding: 0 0 0 0;\n",
              "      width: 32px;\n",
              "    }\n",
              "\n",
              "    .colab-df-convert:hover {\n",
              "      background-color: #E2EBFA;\n",
              "      box-shadow: 0px 1px 2px rgba(60, 64, 67, 0.3), 0px 1px 3px 1px rgba(60, 64, 67, 0.15);\n",
              "      fill: #174EA6;\n",
              "    }\n",
              "\n",
              "    .colab-df-buttons div {\n",
              "      margin-bottom: 4px;\n",
              "    }\n",
              "\n",
              "    [theme=dark] .colab-df-convert {\n",
              "      background-color: #3B4455;\n",
              "      fill: #D2E3FC;\n",
              "    }\n",
              "\n",
              "    [theme=dark] .colab-df-convert:hover {\n",
              "      background-color: #434B5C;\n",
              "      box-shadow: 0px 1px 3px 1px rgba(0, 0, 0, 0.15);\n",
              "      filter: drop-shadow(0px 1px 2px rgba(0, 0, 0, 0.3));\n",
              "      fill: #FFFFFF;\n",
              "    }\n",
              "  </style>\n",
              "\n",
              "    <script>\n",
              "      const buttonEl =\n",
              "        document.querySelector('#df-3bf567d6-520f-4779-a432-032528d0287e button.colab-df-convert');\n",
              "      buttonEl.style.display =\n",
              "        google.colab.kernel.accessAllowed ? 'block' : 'none';\n",
              "\n",
              "      async function convertToInteractive(key) {\n",
              "        const element = document.querySelector('#df-3bf567d6-520f-4779-a432-032528d0287e');\n",
              "        const dataTable =\n",
              "          await google.colab.kernel.invokeFunction('convertToInteractive',\n",
              "                                                    [key], {});\n",
              "        if (!dataTable) return;\n",
              "\n",
              "        const docLinkHtml = 'Like what you see? Visit the ' +\n",
              "          '<a target=\"_blank\" href=https://colab.research.google.com/notebooks/data_table.ipynb>data table notebook</a>'\n",
              "          + ' to learn more about interactive tables.';\n",
              "        element.innerHTML = '';\n",
              "        dataTable['output_type'] = 'display_data';\n",
              "        await google.colab.output.renderOutput(dataTable, element);\n",
              "        const docLink = document.createElement('div');\n",
              "        docLink.innerHTML = docLinkHtml;\n",
              "        element.appendChild(docLink);\n",
              "      }\n",
              "    </script>\n",
              "  </div>\n",
              "\n",
              "\n",
              "<div id=\"df-de631ab7-2e8c-40af-9831-9d3aef851b9b\">\n",
              "  <button class=\"colab-df-quickchart\" onclick=\"quickchart('df-de631ab7-2e8c-40af-9831-9d3aef851b9b')\"\n",
              "            title=\"Suggest charts\"\n",
              "            style=\"display:none;\">\n",
              "\n",
              "<svg xmlns=\"http://www.w3.org/2000/svg\" height=\"24px\"viewBox=\"0 0 24 24\"\n",
              "     width=\"24px\">\n",
              "    <g>\n",
              "        <path d=\"M19 3H5c-1.1 0-2 .9-2 2v14c0 1.1.9 2 2 2h14c1.1 0 2-.9 2-2V5c0-1.1-.9-2-2-2zM9 17H7v-7h2v7zm4 0h-2V7h2v10zm4 0h-2v-4h2v4z\"/>\n",
              "    </g>\n",
              "</svg>\n",
              "  </button>\n",
              "\n",
              "<style>\n",
              "  .colab-df-quickchart {\n",
              "      --bg-color: #E8F0FE;\n",
              "      --fill-color: #1967D2;\n",
              "      --hover-bg-color: #E2EBFA;\n",
              "      --hover-fill-color: #174EA6;\n",
              "      --disabled-fill-color: #AAA;\n",
              "      --disabled-bg-color: #DDD;\n",
              "  }\n",
              "\n",
              "  [theme=dark] .colab-df-quickchart {\n",
              "      --bg-color: #3B4455;\n",
              "      --fill-color: #D2E3FC;\n",
              "      --hover-bg-color: #434B5C;\n",
              "      --hover-fill-color: #FFFFFF;\n",
              "      --disabled-bg-color: #3B4455;\n",
              "      --disabled-fill-color: #666;\n",
              "  }\n",
              "\n",
              "  .colab-df-quickchart {\n",
              "    background-color: var(--bg-color);\n",
              "    border: none;\n",
              "    border-radius: 50%;\n",
              "    cursor: pointer;\n",
              "    display: none;\n",
              "    fill: var(--fill-color);\n",
              "    height: 32px;\n",
              "    padding: 0;\n",
              "    width: 32px;\n",
              "  }\n",
              "\n",
              "  .colab-df-quickchart:hover {\n",
              "    background-color: var(--hover-bg-color);\n",
              "    box-shadow: 0 1px 2px rgba(60, 64, 67, 0.3), 0 1px 3px 1px rgba(60, 64, 67, 0.15);\n",
              "    fill: var(--button-hover-fill-color);\n",
              "  }\n",
              "\n",
              "  .colab-df-quickchart-complete:disabled,\n",
              "  .colab-df-quickchart-complete:disabled:hover {\n",
              "    background-color: var(--disabled-bg-color);\n",
              "    fill: var(--disabled-fill-color);\n",
              "    box-shadow: none;\n",
              "  }\n",
              "\n",
              "  .colab-df-spinner {\n",
              "    border: 2px solid var(--fill-color);\n",
              "    border-color: transparent;\n",
              "    border-bottom-color: var(--fill-color);\n",
              "    animation:\n",
              "      spin 1s steps(1) infinite;\n",
              "  }\n",
              "\n",
              "  @keyframes spin {\n",
              "    0% {\n",
              "      border-color: transparent;\n",
              "      border-bottom-color: var(--fill-color);\n",
              "      border-left-color: var(--fill-color);\n",
              "    }\n",
              "    20% {\n",
              "      border-color: transparent;\n",
              "      border-left-color: var(--fill-color);\n",
              "      border-top-color: var(--fill-color);\n",
              "    }\n",
              "    30% {\n",
              "      border-color: transparent;\n",
              "      border-left-color: var(--fill-color);\n",
              "      border-top-color: var(--fill-color);\n",
              "      border-right-color: var(--fill-color);\n",
              "    }\n",
              "    40% {\n",
              "      border-color: transparent;\n",
              "      border-right-color: var(--fill-color);\n",
              "      border-top-color: var(--fill-color);\n",
              "    }\n",
              "    60% {\n",
              "      border-color: transparent;\n",
              "      border-right-color: var(--fill-color);\n",
              "    }\n",
              "    80% {\n",
              "      border-color: transparent;\n",
              "      border-right-color: var(--fill-color);\n",
              "      border-bottom-color: var(--fill-color);\n",
              "    }\n",
              "    90% {\n",
              "      border-color: transparent;\n",
              "      border-bottom-color: var(--fill-color);\n",
              "    }\n",
              "  }\n",
              "</style>\n",
              "\n",
              "  <script>\n",
              "    async function quickchart(key) {\n",
              "      const quickchartButtonEl =\n",
              "        document.querySelector('#' + key + ' button');\n",
              "      quickchartButtonEl.disabled = true;  // To prevent multiple clicks.\n",
              "      quickchartButtonEl.classList.add('colab-df-spinner');\n",
              "      try {\n",
              "        const charts = await google.colab.kernel.invokeFunction(\n",
              "            'suggestCharts', [key], {});\n",
              "      } catch (error) {\n",
              "        console.error('Error during call to suggestCharts:', error);\n",
              "      }\n",
              "      quickchartButtonEl.classList.remove('colab-df-spinner');\n",
              "      quickchartButtonEl.classList.add('colab-df-quickchart-complete');\n",
              "    }\n",
              "    (() => {\n",
              "      let quickchartButtonEl =\n",
              "        document.querySelector('#df-de631ab7-2e8c-40af-9831-9d3aef851b9b button');\n",
              "      quickchartButtonEl.style.display =\n",
              "        google.colab.kernel.accessAllowed ? 'block' : 'none';\n",
              "    })();\n",
              "  </script>\n",
              "</div>\n",
              "\n",
              "    </div>\n",
              "  </div>\n"
            ],
            "application/vnd.google.colaboratory.intrinsic+json": {
              "type": "dataframe",
              "variable_name": "data"
            }
          },
          "metadata": {},
          "execution_count": 27
        }
      ]
    },
    {
      "cell_type": "code",
      "source": [
        "# Comparing (target) trip_duration with real_trip_duration\n",
        "data[['trip_duration', 'real_trip_duration']].sum()\n",
        "# The (target) trip_duration with real_trip_duration are excately the same"
      ],
      "metadata": {
        "colab": {
          "base_uri": "https://localhost:8080/",
          "height": 164
        },
        "id": "F473MRcyAeRq",
        "outputId": "68f00509-bb50-432f-f8ab-21d39797ab72"
      },
      "execution_count": 28,
      "outputs": [
        {
          "output_type": "execute_result",
          "data": {
            "text/plain": [
              "trip_duration        8037 days 23:34:16\n",
              "real_trip_duration   8037 days 23:34:16\n",
              "dtype: timedelta64[ns]"
            ],
            "text/html": [
              "<div>\n",
              "<style scoped>\n",
              "    .dataframe tbody tr th:only-of-type {\n",
              "        vertical-align: middle;\n",
              "    }\n",
              "\n",
              "    .dataframe tbody tr th {\n",
              "        vertical-align: top;\n",
              "    }\n",
              "\n",
              "    .dataframe thead th {\n",
              "        text-align: right;\n",
              "    }\n",
              "</style>\n",
              "<table border=\"1\" class=\"dataframe\">\n",
              "  <thead>\n",
              "    <tr style=\"text-align: right;\">\n",
              "      <th></th>\n",
              "      <th>0</th>\n",
              "    </tr>\n",
              "  </thead>\n",
              "  <tbody>\n",
              "    <tr>\n",
              "      <th>trip_duration</th>\n",
              "      <td>8037 days 23:34:16</td>\n",
              "    </tr>\n",
              "    <tr>\n",
              "      <th>real_trip_duration</th>\n",
              "      <td>8037 days 23:34:16</td>\n",
              "    </tr>\n",
              "  </tbody>\n",
              "</table>\n",
              "</div><br><label><b>dtype:</b> timedelta64[ns]</label>"
            ]
          },
          "metadata": {},
          "execution_count": 28
        }
      ]
    },
    {
      "cell_type": "code",
      "source": [
        "# Check if the columns are exactly the same\n",
        "are_equal = data['trip_duration'].equals(data['real_trip_duration'])\n",
        "print(f\"The columns are exactly the same: {are_equal}\")\n",
        "# The (target) trip_duration with real_trip_duration are excately the same"
      ],
      "metadata": {
        "colab": {
          "base_uri": "https://localhost:8080/"
        },
        "id": "BAEaKPDykWRA",
        "outputId": "f46e7735-064b-4b34-9e29-1f600afc3194"
      },
      "execution_count": 29,
      "outputs": [
        {
          "output_type": "stream",
          "name": "stdout",
          "text": [
            "The columns are exactly the same: True\n"
          ]
        }
      ]
    },
    {
      "cell_type": "code",
      "source": [
        "# As real_trip_duration is excately the sale as trip_duration\n",
        "# remove the column real_trip_duration from the dataset as it does not contain any new information.\n",
        "data.drop('real_trip_duration', axis=1, inplace=True)"
      ],
      "metadata": {
        "id": "0N3a_O82hSjd"
      },
      "execution_count": 30,
      "outputs": []
    },
    {
      "cell_type": "code",
      "source": [
        "# Change trip_duration from a Datatime datatype to int64 in order to make the processing faster and consume less memory\n",
        "data['trip_duration'] = data['trip_duration'].astype('int64')"
      ],
      "metadata": {
        "id": "uWFsWA0PiM3i"
      },
      "execution_count": 31,
      "outputs": []
    },
    {
      "cell_type": "code",
      "source": [
        "# Check if both changes have been implemented properly\n",
        "data.info()\n",
        "# Conclusion: Yes!"
      ],
      "metadata": {
        "colab": {
          "base_uri": "https://localhost:8080/"
        },
        "id": "bxrT8UtpkfiI",
        "outputId": "64013d12-1eaf-423f-9a9d-d07f3fa20b3d"
      },
      "execution_count": 32,
      "outputs": [
        {
          "output_type": "stream",
          "name": "stdout",
          "text": [
            "<class 'pandas.core.frame.DataFrame'>\n",
            "RangeIndex: 729322 entries, 0 to 729321\n",
            "Data columns (total 12 columns):\n",
            " #   Column                Non-Null Count   Dtype         \n",
            "---  ------                --------------   -----         \n",
            " 0   id                    729322 non-null  object        \n",
            " 1   vendor_id             729322 non-null  int64         \n",
            " 2   pickup_datetime       729322 non-null  datetime64[ns]\n",
            " 3   dropoff_datetime      729322 non-null  datetime64[ns]\n",
            " 4   passenger_count       729322 non-null  int64         \n",
            " 5   pickup_longitude      729322 non-null  float64       \n",
            " 6   pickup_latitude       729322 non-null  float64       \n",
            " 7   dropoff_longitude     729322 non-null  float64       \n",
            " 8   dropoff_latitude      729322 non-null  float64       \n",
            " 9   trip_duration         729322 non-null  int64         \n",
            " 10  store_and_fwd_flag_N  729322 non-null  int64         \n",
            " 11  store_and_fwd_flag_Y  729322 non-null  int64         \n",
            "dtypes: datetime64[ns](2), float64(4), int64(5), object(1)\n",
            "memory usage: 66.8+ MB\n"
          ]
        }
      ]
    },
    {
      "cell_type": "markdown",
      "source": [
        "#### Create new features with the Datetime features\n"
      ],
      "metadata": {
        "id": "lLYmSpdlpNuf"
      }
    },
    {
      "cell_type": "code",
      "source": [
        "# Calculate and assign new columns to the dataframe such as weekday,\n",
        "# Month and pickup_hour which will help us to gain more insights from the data.\n",
        "data['weekday'] = data.pickup_datetime.dt.day_name() # Changed weekday_name to day_name()\n",
        "data['month'] = data.pickup_datetime.dt.month\n",
        "data['weekday_num'] = data.pickup_datetime.dt.weekday\n",
        "data['pickup_hour'] = data.pickup_datetime.dt.hour"
      ],
      "metadata": {
        "id": "hl9SsztLpWne"
      },
      "execution_count": 33,
      "outputs": []
    },
    {
      "cell_type": "markdown",
      "source": [
        "## Calculate distance between pickup and dropoff coordinates using geodesic."
      ],
      "metadata": {
        "id": "WxSfoEbqqJSk"
      }
    },
    {
      "cell_type": "code",
      "source": [
        "# Import necessary libraries\n",
        "from geopy.distance import geodesic\n",
        "from IPython.display import clear_output\n",
        "import pandas as pd\n",
        "from tqdm import tqdm\n",
        "\n",
        "# Initialize an empty list to store distances\n",
        "distance = []\n",
        "\n",
        "# Iterate over each index in the 'pickup_latitude' column of the DataFrame\n",
        "for index in tqdm(data['pickup_latitude'].index):\n",
        "    # Clear the output in the console\n",
        "    clear_output(wait=True)\n",
        "\n",
        "    # Calculate the geodesic distance between pickup and dropoff coordinates\n",
        "    # and append the distance in miles to the 'distance' list\n",
        "    distance.append(geodesic(\n",
        "        (data['pickup_latitude'].iloc[index], data['pickup_longitude'].iloc[index]),\n",
        "        (data['dropoff_latitude'].iloc[index], data['dropoff_longitude'].iloc[index])\n",
        "    ).miles)\n",
        "\n",
        "# Add the calculated distances as a new column 'distance' in the DataFrame\n",
        "data['distance'] = distance"
      ],
      "metadata": {
        "colab": {
          "base_uri": "https://localhost:8080/"
        },
        "id": "_kVhHHAyqV48",
        "outputId": "4f936cfe-8bf4-4180-d31b-8b366e9716ca"
      },
      "execution_count": null,
      "outputs": [
        {
          "output_type": "stream",
          "name": "stderr",
          "text": [
            "\r 14%|█▍        | 103637/729322 [07:02<33:30, 311.24it/s]"
          ]
        }
      ]
    },
    {
      "cell_type": "code",
      "source": [
        "# Checking dataframe data if the distance feature has been created properly\n",
        "data.head()\n",
        "# Conclusion: Yes, the distance feature looks good to go"
      ],
      "metadata": {
        "id": "oidjchoQ4hu-"
      },
      "execution_count": null,
      "outputs": []
    },
    {
      "cell_type": "code",
      "source": [
        "# Checking dataframe data if the distance feature has been created properly\n",
        "data.info()\n",
        "# Conclusion: Yes, the distance feature looks good to go"
      ],
      "metadata": {
        "id": "VfxJ_8rj4yXH"
      },
      "execution_count": null,
      "outputs": []
    },
    {
      "cell_type": "markdown",
      "source": [
        "### Creating new Feature: Calculate Speed in miles/hr for further insights"
      ],
      "metadata": {
        "id": "PQRbBeZ2rPYk"
      }
    },
    {
      "cell_type": "code",
      "source": [
        "data['speed'] = (data.distance/(data.trip_duration/3600))"
      ],
      "metadata": {
        "id": "D6NIm1tLrTGb"
      },
      "execution_count": null,
      "outputs": []
    },
    {
      "cell_type": "code",
      "source": [
        "# Checking dataframe data if the speed feature has been created properly\n",
        "data.head()\n",
        "# Conclusion: Yes, the speed feature looks good to go"
      ],
      "metadata": {
        "id": "P8wEQnxU48RT"
      },
      "execution_count": null,
      "outputs": []
    },
    {
      "cell_type": "code",
      "source": [
        "# Checking dataframe data if the speed feature has been created properly\n",
        "data.info()\n",
        "# Conclusion: Yes, the speed feature looks good to go"
      ],
      "metadata": {
        "id": "i4mbZIL85BtF"
      },
      "execution_count": null,
      "outputs": []
    },
    {
      "cell_type": "markdown",
      "source": [
        "## Updated list of features\n",
        "\n",
        "let's analyze each column in the provided data and suggest appropriate encoding techniques based on the nature of the data:\n",
        "\n",
        "1. **id**: a unique identifier for each trip.\n",
        "\n",
        "2. **Vendor_id**: a code indicating the provider associated with the trip record.\n",
        "\n",
        "3. **Pickup_datetime**: date and time when the meter was engaged.\n",
        "\n",
        "4. **Dropoff_datetime**: date and time when the meter was disengaged.\n",
        "\n",
        "5. **Passenger_count**: the number of passengers in the vehicle (driver entered value).\n",
        "\n",
        "6. **Pickup_longitude**: the longitude where the meter was engaged.\n",
        "\n",
        "7. **pickup_latitude**: the latitude where the meter was engaged.\n",
        "\n",
        "8. **Dropoff_longitude**: the longitude where the meter was disengaged.\n",
        "\n",
        "9. **Dropoff_latitude**: the latitude where the meter was disengaged.\n",
        "\n",
        "10. **trip_duration**: (target) duration of the trip in seconds.\n",
        "\n",
        "11. **store_and_fwd_flag_N**: This flag indicates whether the trip record was held in vehicle memory before sending to the vendor because the vehicle did not have a connection to the server (Y=store and forward; N=not a store and forward trip).\n",
        "\n",
        "12. **store_and_fwd_flag_Y**: This flag indicates whether the trip record was held in vehicle memory before sending to the vendor because the vehicle did not have a connection to the server (Y=store and forward; N=not a store and forward trip).\n",
        "\n",
        "13. **weekday**: We used the datetime object to get the day of the week of the trip.\n",
        "\n",
        "14. **month**: We used the datetime object to get the month of the trip.\n",
        "\n",
        "15. **weekday_num**: We used the datetime object to get the weekday number of the trip.\n",
        "\n",
        "16. **pickup_hour**: We used the datetime object to get the hour of the pickup of the trip.\n",
        "\n",
        "17. **distance**: We have used the geospecial data (longitude and lattitude) to calculate the distance between PickUp Location and the DropOff Location..\n",
        "\n",
        "18. **speed**: We have calculated the average speed as the distance dvided by the trip duration.\n"
      ],
      "metadata": {
        "id": "PuX2_dx11Q3o"
      }
    },
    {
      "cell_type": "markdown",
      "source": [
        "# Univariate analysis\n",
        "\n",
        "\n",
        "Univariate analysis is the analysis of one variable. It's major purpose is to describe patterns in the data consisting of single variable."
      ],
      "metadata": {
        "id": "PDyB8-F3pAi4"
      }
    },
    {
      "cell_type": "markdown",
      "source": [
        "## 1. Id"
      ],
      "metadata": {
        "id": "8wlAN57E1pZF"
      }
    },
    {
      "cell_type": "code",
      "source": [
        "# There are 729322 Unique id's which represent each row in the data\n",
        "data.id.nunique()"
      ],
      "metadata": {
        "id": "-yvQhOug1ot1"
      },
      "execution_count": null,
      "outputs": []
    },
    {
      "cell_type": "markdown",
      "source": [
        "## 2. vendor_id"
      ],
      "metadata": {
        "id": "srslwZU9-YsD"
      }
    },
    {
      "cell_type": "code",
      "source": [
        "# There are 2 Unique id's which represent each row in the data\n",
        "data.vendor_id.nunique()"
      ],
      "metadata": {
        "id": "36NrgULx_NJX"
      },
      "execution_count": null,
      "outputs": []
    },
    {
      "cell_type": "code",
      "source": [
        "# These are 1 and 2\n",
        "data.vendor_id.unique()"
      ],
      "metadata": {
        "id": "cBtO3cqv_SJ4"
      },
      "execution_count": null,
      "outputs": []
    },
    {
      "cell_type": "code",
      "source": [
        "# Visualising vendor_id\n",
        "fig, axes = plt.subplots(nrows=1, ncols=2,figsize=(12,5))\n",
        "ax = data['vendor_id'].value_counts().plot(kind='bar',title=\"Vendors\",ax=axes[0],color = ('blue',(1, 0.5, 0.13)))\n",
        "data['vendor_id'].value_counts().plot(kind='pie',title=\"Vendors\",ax=axes[1])\n",
        "ax.set_ylabel(\"Count\")\n",
        "ax.set_xlabel(\"Vendor Id\")\n",
        "fig.tight_layout()\n"
      ],
      "metadata": {
        "id": "_joOQpUN-fnX"
      },
      "execution_count": null,
      "outputs": []
    },
    {
      "cell_type": "markdown",
      "source": [
        "## 3. pickup_datetime"
      ],
      "metadata": {
        "id": "F54M_F2z_YJP"
      }
    },
    {
      "cell_type": "code",
      "source": [
        "# There are 709359 Unique id's which represent each row in the data\n",
        "data.pickup_datetime.nunique()"
      ],
      "metadata": {
        "id": "6-Yx57Oq_hC2"
      },
      "execution_count": null,
      "outputs": []
    },
    {
      "cell_type": "code",
      "source": [
        "# There are so many unique timestamps\n",
        "data.pickup_datetime.unique()"
      ],
      "metadata": {
        "id": "xvhd4Cil_wgl"
      },
      "execution_count": null,
      "outputs": []
    },
    {
      "cell_type": "code",
      "source": [
        "# There are so many unique timestamps, but all of them between Januari 2016 to June 2016\n",
        "data.pickup_datetime.describe()"
      ],
      "metadata": {
        "id": "aUG63Gq7__el"
      },
      "execution_count": null,
      "outputs": []
    },
    {
      "cell_type": "markdown",
      "source": [
        "## 4. dropoff_datetime"
      ],
      "metadata": {
        "id": "mpnBbFEoAlig"
      }
    },
    {
      "cell_type": "code",
      "source": [
        "# There are 709308 Unique id's which represent each row in the data\n",
        "# Please note that this is a lower number than the number of unique values of pickup_datetime which can of course happen\n",
        "data.dropoff_datetime.nunique()"
      ],
      "metadata": {
        "id": "xNVPGhtLArjR"
      },
      "execution_count": null,
      "outputs": []
    },
    {
      "cell_type": "code",
      "source": [
        "# There are so many unique timestamps\n",
        "data.dropoff_datetime.unique()"
      ],
      "metadata": {
        "id": "6PbCifUyArrR"
      },
      "execution_count": null,
      "outputs": []
    },
    {
      "cell_type": "code",
      "source": [
        "# There are so many unique timestamps, but all of them between Januari 2016 to July 1st 2016\n",
        "data.dropoff_datetime.describe()"
      ],
      "metadata": {
        "id": "izw2UvD5AruB"
      },
      "execution_count": null,
      "outputs": []
    },
    {
      "cell_type": "markdown",
      "source": [
        "## 4. passenger_count"
      ],
      "metadata": {
        "id": "f8Iq0vT-BXLh"
      }
    },
    {
      "cell_type": "code",
      "source": [
        "# Get the value_counts of passenger_count\n",
        "pd.options.display.float_format = '{:.2f}'.format #To suppress scientific notation.\n",
        "data.passenger_count.value_counts()"
      ],
      "metadata": {
        "id": "Gwrwxnv5Bghw"
      },
      "execution_count": null,
      "outputs": []
    },
    {
      "cell_type": "code",
      "source": [
        "from tqdm import tqdm\n",
        "\n",
        "# Initialize the progress bar\n",
        "steps = 2\n",
        "pbar = tqdm(total=steps, desc=\"Plotting Progress\")\n",
        "\n",
        "# First plot\n",
        "fig, axes = plt.subplots(nrows=1, ncols=1, figsize=(16, 5))\n",
        "line = data['passenger_count'].value_counts().plot(kind='bar', fontsize=15)\n",
        "line = sns.countplot(data.passenger_count)\n",
        "line.set_ylabel(\"Count\", fontsize=15)\n",
        "line.set_xlabel(\"No. of Passenger\", fontsize=15)\n",
        "line.set_title('Passenger Count', fontsize=20)\n",
        "fig.tight_layout()\n",
        "pbar.update(1)  # Update progress bar\n",
        "\n",
        "# Second plot\n",
        "fig, axes = plt.subplots(nrows=1, ncols=1, figsize=(16, 5))\n",
        "box = data['passenger_count'].plot(kind='box', vert=False, fontsize=15)\n",
        "box.set_title('Passenger Count', fontsize=20)\n",
        "fig.tight_layout()\n",
        "pbar.update(1)  # Update progress bar\n",
        "\n",
        "# Close the progress bar\n",
        "pbar.close()"
      ],
      "metadata": {
        "id": "zzdRNZjlEowQ"
      },
      "execution_count": null,
      "outputs": []
    },
    {
      "cell_type": "markdown",
      "source": [
        "## Observation:\n",
        "Most of the trips took 0 - 30 mins to complete (= approx 1800 secs)\n"
      ],
      "metadata": {
        "id": "8Ueo8pWkFY6U"
      }
    },
    {
      "cell_type": "markdown",
      "source": [
        "## Observations\n",
        "\n",
        "1. There are some trips with 0 passenger count.\n",
        "\n",
        "2. Few trips consisted of even 6, 7, 8 or 9 passengers. Clear outliers and pointers to data inconsistency\n",
        "\n",
        "3. Most of trip consist of passenger either 1 or 2.\n"
      ],
      "metadata": {
        "id": "x4ZuDsRlCDWr"
      }
    },
    {
      "cell_type": "markdown",
      "source": [
        "# 5. Distance"
      ],
      "metadata": {
        "id": "x5udJj88Fkps"
      }
    },
    {
      "cell_type": "code",
      "source": [
        "# Visulise distance\n",
        "plt.figure(figsize = (20,5))\n",
        "sns.boxplot(data.distance)\n",
        "plt.show()"
      ],
      "metadata": {
        "id": "DF8e7YpeFooO"
      },
      "execution_count": null,
      "outputs": []
    },
    {
      "cell_type": "code",
      "source": [
        "print(f\"There are {df.distance[df.distance == 0 ].count()} trip records with 0 miles distance\")"
      ],
      "metadata": {
        "id": "qbvBChN-Fwbv"
      },
      "execution_count": null,
      "outputs": []
    },
    {
      "cell_type": "markdown",
      "source": [
        "### Observations:\n",
        "\n",
        "- mean distance travelled is approx 2.1 miles.\n",
        "\n",
        "- There some trips with over 60 miles distance.\n",
        "\n",
        "- Some of the trips distance value is 0 miles.\n",
        "\n",
        "There are approximately 6,000 trip records with a distance of 0 kilometers.\n",
        "Below are some possible explanations for these records:\n",
        "- The customer may have changed their mind and canceled the journey immediately after accepting it.\n",
        "\n",
        "- The software might not have recorded the drop-off location correctly, resulting in the drop-off location being the same as the pickup location.\n",
        "\n",
        "- There could have been an issue with the GPS tracker while the journey was concluding.\n",
        "The driver may have canceled the trip shortly after accepting it, preventing the journey from starting.\n",
        "\n",
        "- Alternatively, there could be a technical issue with the software that requires further investigation by a technical expert.\n",
        "\n",
        "- Additionally, there are significant inconsistencies in the data where the drop-off location matches the pickup location. We cannot impute distance values based on a correlation with trip duration because the coordinates for the drop-off location would not align with the expected distance. We will further explore this issue in our bivariate analysis of trip duration."
      ],
      "metadata": {
        "id": "wGmXd3FhF1yv"
      }
    },
    {
      "cell_type": "code",
      "source": [
        "df.distance.groupby(pd.cut(df.distance, np.arange(0,80,10))).count().plot(kind='barh',figsize = (19,4))\n",
        "plt.show()"
      ],
      "metadata": {
        "id": "b8U3-UTAGZXP"
      },
      "execution_count": null,
      "outputs": []
    },
    {
      "cell_type": "markdown",
      "source": [
        "From the above observation it is evident that most of the rides are completed between 1-10 miles with some of the rides with distances between 10-30 miles. Other slabs bar are not visible because the number of trips are very less as compared to these slabs"
      ],
      "metadata": {
        "id": "fyvneg5lGhM6"
      }
    },
    {
      "cell_type": "markdown",
      "source": [
        "# 5. Trip duration"
      ],
      "metadata": {
        "id": "k5QrH6e6CNSr"
      }
    },
    {
      "cell_type": "code",
      "source": [
        "# Visualisation of trip_duration\n",
        "plt.figure(figsize = (20,5))\n",
        "sns.boxplot(data.trip_duration)\n",
        "plt.show()"
      ],
      "metadata": {
        "id": "RmCUy-5wCQtD"
      },
      "execution_count": null,
      "outputs": []
    },
    {
      "cell_type": "code",
      "source": [
        "data.trip_duration.groupby(pd.cut(data.trip_duration, np.arange(1,max(data.trip_duration),3600))).count()"
      ],
      "metadata": {
        "id": "_nEei2odCwcE"
      },
      "execution_count": null,
      "outputs": []
    },
    {
      "cell_type": "markdown",
      "source": [
        "1. Some trip durations exceed 100,000 seconds, which are clear outliers and should be excluded from the analysis.\n",
        "\n",
        "2. There are instances of trip durations as short as 1 second, indicating trips with a distance of 0 kilometers.\n",
        "\n",
        "3. The majority of trip durations fall within the range of 10 to 20 minutes.\n",
        "\n",
        "4. The mean and mode of the trip durations differ, suggesting that the distribution is skewed to the right."
      ],
      "metadata": {
        "id": "MK-J0HDhCj_E"
      }
    },
    {
      "cell_type": "markdown",
      "source": [
        "- Some trips lasted for over 20 days, which seems implausible given the distances traveled.\n",
        "\n",
        "- All these trips were conducted by Vendor 1, suggesting that this vendor may permit significantly longer trips for outstation services.\n",
        "\n",
        "- Notably, these trips occurred exclusively on Tuesdays in the first month or Saturdays in the second month. This pattern may indicate a relationship between the day of the week, pickup location, month, and passenger behavior.\n",
        "\n",
        "- However, these anomalies hinder our ability to make accurate predictions and introduce inconsistencies in the algorithm's calculations."
      ],
      "metadata": {
        "id": "9CoXVQHJC8HN"
      }
    },
    {
      "cell_type": "code",
      "source": [
        "# visualize the number of trips taken in bins of 0-10, 20-30 minutes\n",
        "data.trip_duration.groupby(pd.cut(data.trip_duration, np.arange(1,7200,600))).count().plot(kind='barh',figsize = (18,5))\n",
        "plt.title('Trip Duration')\n",
        "plt.xlabel('Trip Counts')\n",
        "plt.ylabel('Trip Duration (seconds)')\n",
        "plt.show()\n"
      ],
      "metadata": {
        "id": "LlmMTFRYD4Dl"
      },
      "execution_count": null,
      "outputs": []
    },
    {
      "cell_type": "markdown",
      "source": [
        "## Distribution"
      ],
      "metadata": {
        "id": "j5U_cJ-DnJ0r"
      }
    },
    {
      "cell_type": "code",
      "source": [
        "import pandas as pd\n",
        "import matplotlib.pyplot as plt\n",
        "import seaborn as sns\n",
        "\n",
        "# Taking a subset to minimize impact on memory\n",
        "# Taking a subset of 10,000 rows will app generate the same distribution as the full dataset\n",
        "\n",
        "data_subset = data.iloc[:10000]  # Take the first 10,000 rows\n",
        "\n",
        "# Assuming 'data' is your DataFrame\n",
        "plt.figure(figsize=(15, 30))\n",
        "\n",
        "# Iterate through each column and plot on a separate subplot\n",
        "for i, column in enumerate(data_subset.columns):\n",
        "    plt.subplot(7, 3, i + 1)\n",
        "    # Limit the number of bins to avoid excessive memory usage\n",
        "    try:\n",
        "        plt.title(f'Distribution of {column}')\n",
        "        sns.histplot(data_subset[column], kde=True, bins=30)\n",
        "        plt.xticks(rotation=45)\n",
        "    except MemoryError:\n",
        "        print(f\"MemoryError: Skipping column {column} due to memory constraints\")\n",
        "\n",
        "# Adjust layout and show the plot\n",
        "plt.tight_layout()\n",
        "plt.show()"
      ],
      "metadata": {
        "id": "JJK-j07MFnfy"
      },
      "execution_count": null,
      "outputs": []
    },
    {
      "cell_type": "markdown",
      "source": [
        "## Normalized Distribution (Gaussian)"
      ],
      "metadata": {
        "id": "jxBuoWdLnF05"
      }
    },
    {
      "cell_type": "code",
      "source": [
        "# Select only the numercial data\n",
        "numerical_data = data.select_dtypes(include=['int64', 'float64'])\n",
        "# Remove id , vendor_id, store_and_fwd_flag_N, store_and_fwd_flag_Y, pickup_longitude, pickup_latitude, dropoff_longitude, dropoff_latitude\n",
        "numerical_data = numerical_data.drop(['vendor_id', 'store_and_fwd_flag_N', 'store_and_fwd_flag_Y', 'pickup_longitude', 'pickup_latitude', 'dropoff_longitude', 'dropoff_latitude'], axis=1)"
      ],
      "metadata": {
        "id": "AAUIX22-lfmL"
      },
      "execution_count": null,
      "outputs": []
    },
    {
      "cell_type": "code",
      "source": [
        "# Taking a subset to minimize impact on memory\n",
        "# Taking a subset of 10,000 rows will app generate the same distribution as the full dataset\n",
        "data_subset = numerical_data.iloc[:10000]  # Take the first 10,000 rows\n",
        "\n",
        "from scipy import stats\n",
        "\n",
        "plt.figure(figsize=(15, 30))\n",
        "\n",
        "# Iterate through each column and plot on a separate subplot\n",
        "for i, column in enumerate(data_subset.columns):\n",
        "    plt.subplot(7, 3, i+1)\n",
        "    sns.histplot(data_subset[column], kde=True)\n",
        "    plt.title(f'Distribution of {column}')\n",
        "    plt.xticks(rotation=45)\n",
        "\n",
        "    # Add additional analysis to detect distribution type\n",
        "    # Check for normal distribution\n",
        "    k2, p = stats.normaltest(data_subset[column])\n",
        "    if p < 0.05:\n",
        "        plt.text(0.5, 0.5, \"Not Normal\", horizontalalignment='center', verticalalignment='center', transform=plt.gca().transAxes)\n",
        "    else:\n",
        "        plt.text(0.5, 0.5, \"Normal\", horizontalalignment='center', verticalalignment='center', transform=plt.gca().transAxes)\n",
        "\n",
        "# Adjust layout and show the plot\n",
        "plt.tight_layout()\n",
        "plt.show()"
      ],
      "metadata": {
        "id": "HbW3CG3wmZv-"
      },
      "execution_count": null,
      "outputs": []
    },
    {
      "cell_type": "markdown",
      "source": [
        "## Skewed Distribution (negative and positive)\n"
      ],
      "metadata": {
        "id": "p0W8oaGMnQ65"
      }
    },
    {
      "cell_type": "code",
      "source": [
        "# Taking a subset to minimize impact on memory\n",
        "# Taking a subset of 10,000 rows will app generate the same distribution as the full dataset\n",
        "data_subset = numerical_data.iloc[:10000]  # Take the first 10,000 rows\n",
        "\n",
        "# Taking a subset to minimize impact on memory\n",
        "plt.figure(figsize=(15, 10))\n",
        "\n",
        "# Iterate through each column and plot on a separate subplot\n",
        "for i, column in enumerate(data_subset.columns):\n",
        "    plt.subplot(7, 3, i+1)\n",
        "    sns.histplot(data_subset[column], kde=True)\n",
        "    plt.title(f'Distribution of {column}')\n",
        "    plt.xticks(rotation=45)\n",
        "\n",
        "    # Check for skewness\n",
        "    skewness = stats.skew(data[column])\n",
        "    if skewness < -1 or skewness > 1:\n",
        "        plt.text(0.5, 0.3, f\"Skewed ({skewness:.2f})\", horizontalalignment='center', verticalalignment='center', transform=plt.gca().transAxes)\n",
        "    else:\n",
        "        plt.text(0.5, 0.3, f\"Not Skewed\", horizontalalignment='center', verticalalignment='center', transform=plt.gca().transAxes)\n",
        "\n",
        "# Adjust layout and show the plot\n",
        "plt.tight_layout()\n",
        "plt.show()"
      ],
      "metadata": {
        "id": "JsG4YbrDmZy7"
      },
      "execution_count": null,
      "outputs": []
    },
    {
      "cell_type": "markdown",
      "source": [
        "## Outliers\n"
      ],
      "metadata": {
        "id": "vu7mVVtJnaKG"
      }
    },
    {
      "cell_type": "code",
      "source": [
        "# For the outlier analysis we cannot take a subset.\n",
        "\n",
        "plt.figure(figsize=(15, 30))\n",
        "\n",
        "# Iterate through each column and plot on a separate subplot\n",
        "for i, column in enumerate(numerical_data.columns):\n",
        "    plt.subplot(7, 3, i+1)\n",
        "    sns.boxplot(numerical_data[column])\n",
        "    plt.title(f'Box plot of {column}')\n",
        "\n",
        "# Adjust layout and show the plot\n",
        "plt.tight_layout()\n",
        "plt.show()"
      ],
      "metadata": {
        "id": "dcDPkiMAnU8u"
      },
      "execution_count": null,
      "outputs": []
    },
    {
      "cell_type": "markdown",
      "source": [
        "# Bivariate analysis"
      ],
      "metadata": {
        "id": "k7pLj64GpC7v"
      }
    },
    {
      "cell_type": "code",
      "source": [
        "# Calculate the correlation matrix\n",
        "correlation_matrix = numerical_data.corr()\n",
        "\n",
        "# Print the correlation matrix\n",
        "print(\"Correlation Matrix:\")\n",
        "print(correlation_matrix)"
      ],
      "metadata": {
        "id": "UNnevekGnVGB"
      },
      "execution_count": null,
      "outputs": []
    },
    {
      "cell_type": "code",
      "source": [
        "# Create a heatmap\n",
        "plt.figure(figsize=(10, 8))\n",
        "sns.heatmap(correlation_matrix, annot=True, cmap='coolwarm', fmt=\".2f\", linewidths=0.5)\n",
        "plt.title('Correlation Heatmap')\n",
        "plt.show()"
      ],
      "metadata": {
        "id": "0Ltu1Re1pGp-"
      },
      "execution_count": null,
      "outputs": []
    },
    {
      "cell_type": "markdown",
      "source": [
        "#Data Preprocessing\n",
        "\n",
        "### PLanning:\n",
        "1) Remove redudant columns\n",
        "\n",
        "2) Creating new derrived features\n",
        "\n",
        "3) Removing outliers\n",
        "\n",
        "4) Scaling the data\n",
        "\n",
        "\n"
      ],
      "metadata": {
        "id": "FItfW9Tkncu3"
      }
    },
    {
      "cell_type": "markdown",
      "source": [
        "# 1) Removing redundant features"
      ],
      "metadata": {
        "id": "FidWzSbxoQzE"
      }
    },
    {
      "cell_type": "code",
      "source": [
        "data = data.drop(['id','vendor_id', ],axis = 1)"
      ],
      "metadata": {
        "id": "U6dqEZw2I00w"
      },
      "execution_count": null,
      "outputs": []
    },
    {
      "cell_type": "markdown",
      "source": [
        "#2) Creating new derrived features\n",
        "\n",
        "### 1) Creating a new distance feature by comparing the longitude and latitude features.\n",
        "### 2) Creating new features of the datetime to capture the moment of thye week and to moment in the day\n"
      ],
      "metadata": {
        "id": "zhhoQTEEJH94"
      }
    },
    {
      "cell_type": "markdown",
      "source": [
        "## 1) Creating a new distance feature"
      ],
      "metadata": {
        "id": "BMcXA7S4NTGd"
      }
    },
    {
      "cell_type": "code",
      "source": [
        "data.head()"
      ],
      "metadata": {
        "id": "v8GvNsxvJZdJ"
      },
      "execution_count": null,
      "outputs": []
    },
    {
      "cell_type": "code",
      "source": [
        "# Use the formula of pytharas to calculate the distance travelled via SquareRooth((dropoff_longitude-pickup_longitude)^2 + (dropoff_latitude-pickup_latitude)^2)\n",
        "data['distance'] = np.sqrt((data['dropoff_longitude'] - data['pickup_longitude'])**2 + (data['dropoff_latitude'] - data['pickup_latitude'])**2)"
      ],
      "metadata": {
        "id": "6AHT_7HTJjb-"
      },
      "execution_count": null,
      "outputs": []
    },
    {
      "cell_type": "code",
      "source": [
        "data.head()"
      ],
      "metadata": {
        "id": "gL_bnlSDKI1Y"
      },
      "execution_count": null,
      "outputs": []
    },
    {
      "cell_type": "code",
      "source": [
        "data.info()"
      ],
      "metadata": {
        "id": "KDyYrU5SKNUm"
      },
      "execution_count": null,
      "outputs": []
    },
    {
      "cell_type": "markdown",
      "source": [
        "## 2) Creating new features of the datetime to capture the moment of thye week and to moment in the day\n"
      ],
      "metadata": {
        "id": "FrCN3O81NYtr"
      }
    },
    {
      "cell_type": "markdown",
      "source": [
        "'pickup_datetime','dropoff_datetime'"
      ],
      "metadata": {
        "id": "LVPK2slyL-_6"
      }
    },
    {
      "cell_type": "code",
      "source": [
        "data.head()"
      ],
      "metadata": {
        "id": "RHG2Uo1HNfwR"
      },
      "execution_count": null,
      "outputs": []
    },
    {
      "cell_type": "code",
      "source": [
        "# Creating new features out of the pickup_datetime, like day of the week, day in the month, time at the day\n",
        "data['pickup_day_of_week'] = data['pickup_datetime'].dt.day_name()\n",
        "data['pickup_day_of_month'] = data['pickup_datetime'].dt.day\n",
        "data['pickup_time'] = data['pickup_datetime'].dt.time"
      ],
      "metadata": {
        "id": "AP_j1K4pNllW"
      },
      "execution_count": null,
      "outputs": []
    },
    {
      "cell_type": "code",
      "source": [
        "data.head()"
      ],
      "metadata": {
        "id": "fqAQZdlENyWT"
      },
      "execution_count": null,
      "outputs": []
    },
    {
      "cell_type": "code",
      "source": [
        "data.info()"
      ],
      "metadata": {
        "id": "mhoAtu2MN1R0"
      },
      "execution_count": null,
      "outputs": []
    },
    {
      "cell_type": "markdown",
      "source": [
        "#Removing Outliers"
      ],
      "metadata": {
        "id": "NQLqYInbLiT0"
      }
    },
    {
      "cell_type": "code",
      "source": [
        "data.describe()"
      ],
      "metadata": {
        "id": "go-6qNnwnfeB"
      },
      "execution_count": null,
      "outputs": []
    },
    {
      "cell_type": "markdown",
      "source": [
        "# Conclusions w.r.t. Outliers\n",
        "\n",
        "We see potential outliers at the following features...\n",
        "\n",
        "1) trip_duration -> 1.939736e+15 seconds is a lot\n",
        "\n",
        "2) distance -> there are some very high numbers\n"
      ],
      "metadata": {
        "id": "ALn_duxUPNox"
      }
    },
    {
      "cell_type": "markdown",
      "source": [
        "#### Handling outliers @ trip_duration"
      ],
      "metadata": {
        "id": "27HBHOowP3iZ"
      }
    },
    {
      "cell_type": "code",
      "source": [
        "data.trip_duration.describe()"
      ],
      "metadata": {
        "id": "CGruKpi5Q4es"
      },
      "execution_count": null,
      "outputs": []
    },
    {
      "cell_type": "code",
      "source": [
        "data['trip_duration'].quantile(0.25), data['distance'].quantile(0.75)"
      ],
      "metadata": {
        "id": "xIMF_gBtPrpK"
      },
      "execution_count": null,
      "outputs": []
    },
    {
      "cell_type": "code",
      "source": [
        "IQR = data['trip_duration'].quantile(0.75) - data['trip_duration'].quantile(0.25)\n",
        "IQR"
      ],
      "metadata": {
        "id": "F_KH8huPPzy2"
      },
      "execution_count": null,
      "outputs": []
    },
    {
      "cell_type": "code",
      "source": [
        "Q1 = data['trip_duration'].quantile(0.25)\n",
        "Q3 = data['trip_duration'].quantile(0.75)\n",
        "\n",
        "whisker_1 = Q1 - (1.5*IQR)\n",
        "whisker_2 = Q3 + (1.5*IQR)\n",
        "\n",
        "whisker_1, whisker_2"
      ],
      "metadata": {
        "id": "jAeT3EecPz43"
      },
      "execution_count": null,
      "outputs": []
    },
    {
      "cell_type": "markdown",
      "source": [
        "#### Handling outliers @ distance"
      ],
      "metadata": {
        "id": "cBGwko5iQD37"
      }
    },
    {
      "cell_type": "code",
      "source": [
        "data.distance.describe()"
      ],
      "metadata": {
        "id": "dndoB8uYQl_A"
      },
      "execution_count": null,
      "outputs": []
    },
    {
      "cell_type": "code",
      "source": [
        "data['distance'].quantile(0.25), data['distance'].quantile(0.75)"
      ],
      "metadata": {
        "id": "M_tGTo0jPFPm"
      },
      "execution_count": null,
      "outputs": []
    },
    {
      "cell_type": "code",
      "source": [
        "IQR = data['distance'].quantile(0.75) - data['distance'].quantile(0.25)\n",
        "IQR"
      ],
      "metadata": {
        "id": "Tao4fcANQFq7"
      },
      "execution_count": null,
      "outputs": []
    },
    {
      "cell_type": "code",
      "source": [
        "Q1 = data['distance'].quantile(0.25)\n",
        "Q3 = data['distance'].quantile(0.75)\n",
        "\n",
        "whisker_1 = Q1 - (1.5*IQR)\n",
        "whisker_2 = Q3 + (1.5*IQR)\n",
        "\n",
        "whisker_1, whisker_2"
      ],
      "metadata": {
        "id": "41FDDErHQFuc"
      },
      "execution_count": null,
      "outputs": []
    },
    {
      "cell_type": "code",
      "source": [
        "df_df_og = df.copy()\n",
        "# Drop the columns specified in the num_cols list from the DataFrame df.\n",
        "# The axis=1 parameter indicates that columns are being dropped (as opposed to rows).\n",
        "df = df.drop(columns = num_cols,axis = 1)\n",
        "# Merging the Standardized Columns Back into the DataFrame\n",
        "# The how=\"left\" parameter specifies a left join,\n",
        "# meaning all rows from the original DataFrame df will be retained,\n",
        "# and the corresponding rows from the scaled DataFrame will be added.\n",
        "df = df.merge(scaled,left_index=True,right_index=True,how = \"left\")"
      ],
      "metadata": {
        "id": "1FYZuQXJomks"
      },
      "execution_count": null,
      "outputs": []
    },
    {
      "cell_type": "markdown",
      "source": [
        "# Isolating the dependent (output/target) variable"
      ],
      "metadata": {
        "id": "SttFIXQmO-bd"
      }
    },
    {
      "cell_type": "code",
      "source": [
        "y_all = df.churn\n",
        "df = df.drop(['churn','customer_id','occupation'],axis = 1)"
      ],
      "metadata": {
        "id": "oCCMtdZPopv_"
      },
      "execution_count": null,
      "outputs": []
    },
    {
      "cell_type": "markdown",
      "source": [
        "## Model Building and Evaluation Metrics\n",
        "Since this is a binary classification problem, we could use the following 2 popular metrics:\n",
        "\n",
        "1. Recall\n",
        "2. Area under the Receiver operating characteristic curve\n",
        "\n",
        "Now, we are looking at the recall value here because a customer falsely marked as churn would not be as bad as a customer who was not detected as a churning customer and appropriate measures were not taken by the bank to stop him/her from churning\n",
        "\n",
        "The ROC AUC is the area under the curve when plotting the (normalized) true positive rate (x-axis) and the false positive rate (y-axis).\n",
        "\n",
        "Our main metric here would be Recall values, while AUC ROC Score would take care of how well predicted probabilites are able to differentiate between the 2 classes."
      ],
      "metadata": {
        "id": "PSs5QJxUosgl"
      }
    },
    {
      "cell_type": "markdown",
      "source": [
        "### Baseline Columns"
      ],
      "metadata": {
        "id": "4_LbaD7oo1Co"
      }
    },
    {
      "cell_type": "code",
      "source": [
        "df.head()"
      ],
      "metadata": {
        "id": "Nk6KOWS0owFR"
      },
      "execution_count": null,
      "outputs": []
    },
    {
      "cell_type": "code",
      "source": [
        "y_all.head()"
      ],
      "metadata": {
        "id": "KKbSPnJXo4qT"
      },
      "execution_count": null,
      "outputs": []
    },
    {
      "cell_type": "code",
      "source": [
        "baseline_cols = ['current_month_debit', 'previous_month_debit','current_balance','previous_month_end_balance','vintage'\n",
        "                 ,'occupation_retired', 'occupation_salaried','occupation_self_employed', 'occupation_student']"
      ],
      "metadata": {
        "id": "jeaJDhhUo6y1"
      },
      "execution_count": null,
      "outputs": []
    },
    {
      "cell_type": "code",
      "source": [
        "df_baseline = df[baseline_cols]"
      ],
      "metadata": {
        "id": "hDScO99Wo97E"
      },
      "execution_count": null,
      "outputs": []
    },
    {
      "cell_type": "markdown",
      "source": [
        "### Train Test Split to create a validation set"
      ],
      "metadata": {
        "id": "uU-md56mpD9B"
      }
    },
    {
      "cell_type": "code",
      "source": [
        "# Splitting the data into Train and Validation set\n",
        "xtrain, xtest, ytrain, ytest = train_test_split(df_baseline,y_all,test_size=1/3, random_state=11, stratify = y_all)"
      ],
      "metadata": {
        "id": "1I_HiqdcpBAK"
      },
      "execution_count": null,
      "outputs": []
    },
    {
      "cell_type": "code",
      "source": [
        "model = LogisticRegression()\n",
        "model.fit(xtrain,ytrain)\n",
        "pred = model.predict_proba(xtest)[:,1]"
      ],
      "metadata": {
        "id": "WeW2JFSbpG-C"
      },
      "execution_count": null,
      "outputs": []
    },
    {
      "cell_type": "markdown",
      "source": [
        "### AUC ROC Curve & Confusion Matrix\n",
        "\n",
        "Now, let us quickly look at the AUC-ROC curve for our logistic regression model and also the confusion matrix to see where the logistic regression model is failing here."
      ],
      "metadata": {
        "id": "gnOLaGCkpL4S"
      }
    },
    {
      "cell_type": "code",
      "source": [
        "from sklearn.metrics import roc_curve\n",
        "fpr, tpr, _ = roc_curve(ytest,pred)\n",
        "auc = roc_auc_score(ytest, pred)\n",
        "plt.figure(figsize=(12,8))\n",
        "plt.plot(fpr,tpr,label=\"Validation AUC-ROC=\"+str(auc))\n",
        "x = np.linspace(0, 1, 1000)\n",
        "plt.plot(x, x, linestyle='-')\n",
        "plt.xlabel('False Positive Rate')\n",
        "plt.ylabel('True Positive Rate')\n",
        "plt.legend(loc=4)\n",
        "plt.show()"
      ],
      "metadata": {
        "id": "BHTWvp25pJde"
      },
      "execution_count": null,
      "outputs": []
    },
    {
      "cell_type": "code",
      "source": [
        "# Confusion Matrix\n",
        "pred_val = model.predict(xtest)"
      ],
      "metadata": {
        "id": "34Yg4FOrpPM6"
      },
      "execution_count": null,
      "outputs": []
    },
    {
      "cell_type": "code",
      "source": [
        "label_preds = pred_val\n",
        "\n",
        "cm = confusion_matrix(ytest,label_preds)\n",
        "\n",
        "\n",
        "def plot_confusion_matrix(cm, normalized=True, cmap='bone'):\n",
        "    plt.figure(figsize=[7, 6])\n",
        "    norm_cm = cm\n",
        "    if normalized:\n",
        "        norm_cm = cm.astype('float') / cm.sum(axis=1)[:, np.newaxis]\n",
        "        sns.heatmap(norm_cm, annot=cm, fmt='g', xticklabels=['Predicted: No','Predicted: Yes'], yticklabels=['Actual: No','Actual: Yes'], cmap=cmap)\n",
        "\n",
        "plot_confusion_matrix(cm, ['No', 'Yes'])"
      ],
      "metadata": {
        "id": "qWKHQDETpS0B"
      },
      "execution_count": null,
      "outputs": []
    },
    {
      "cell_type": "code",
      "source": [
        "# Recall Score\n",
        "recall_score(ytest,pred_val)"
      ],
      "metadata": {
        "id": "bKJyPfJcpVjH"
      },
      "execution_count": null,
      "outputs": []
    }
  ]
}