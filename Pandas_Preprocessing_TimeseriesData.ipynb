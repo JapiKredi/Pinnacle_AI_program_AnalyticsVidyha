{
  "cells": [
    {
      "cell_type": "markdown",
      "metadata": {
        "id": "view-in-github",
        "colab_type": "text"
      },
      "source": [
        "<a href=\"https://colab.research.google.com/github/JapiKredi/Pinnacle_AI_program_AnalyticsVidyha/blob/main/Pandas_Preprocessing_TimeseriesData.ipynb\" target=\"_parent\"><img src=\"https://colab.research.google.com/assets/colab-badge.svg\" alt=\"Open In Colab\"/></a>"
      ]
    },
    {
      "cell_type": "markdown",
      "metadata": {
        "id": "HTA6Y1Fn0gt7"
      },
      "source": [
        "---\n",
        "\n",
        "<center><h1>📍 📍 Preprocessing Timeseries Data 📍 📍</h1></center>\n",
        "\n",
        "---\n",
        "\n",
        "\n",
        "**`Pandas`** contains extensive capabilities and features for working with time series data for all domains. Using the NumPy datetime64 and timedelta64 dtypes, pandas has consolidated a large number of features from other Python libraries like scikits.timeseries as well as created a tremendous amount of new functionality for manipulating time series data.\n",
        "\n",
        "---"
      ]
    },
    {
      "cell_type": "code",
      "execution_count": 1,
      "metadata": {
        "scrolled": false,
        "id": "3-QMBGsv0gt-"
      },
      "outputs": [],
      "source": [
        "# importing the pandas library and datetime module of Python Standard Library\n",
        "import pandas as pd\n",
        "import datetime"
      ]
    },
    {
      "cell_type": "code",
      "source": [
        "from google.colab import drive\n",
        "drive.mount('/content/drive')"
      ],
      "metadata": {
        "colab": {
          "base_uri": "https://localhost:8080/"
        },
        "id": "WMbijsZb0mXR",
        "outputId": "61c63909-a62a-4a18-ad0e-0285554bdc2a"
      },
      "execution_count": 2,
      "outputs": [
        {
          "output_type": "stream",
          "name": "stdout",
          "text": [
            "Mounted at /content/drive\n"
          ]
        }
      ]
    },
    {
      "cell_type": "code",
      "execution_count": 3,
      "metadata": {
        "scrolled": false,
        "id": "dKiV_jyj0gt_"
      },
      "outputs": [],
      "source": [
        "# read the data set\n",
        "data = pd.read_csv('/content/drive/My Drive/PreprocessingTimeseriesData/Time series Data/time_series.csv')"
      ]
    },
    {
      "cell_type": "code",
      "execution_count": 4,
      "metadata": {
        "scrolled": false,
        "colab": {
          "base_uri": "https://localhost:8080/",
          "height": 223
        },
        "id": "7efzbEt20guA",
        "outputId": "e24bdfde-b594-4368-cccd-afb930e8011a"
      },
      "outputs": [
        {
          "output_type": "execute_result",
          "data": {
            "text/plain": [
              "   ID          Datetime  Count\n",
              "0   0  25-08-2012 00:00      8\n",
              "1   1  25-08-2012 01:00      2\n",
              "2   2  25-08-2012 02:00      6\n",
              "3   3  25-08-2012 03:00      2\n",
              "4   4  25-08-2012 04:00      2"
            ],
            "text/html": [
              "\n",
              "  <div id=\"df-ae83834b-46e3-4d2f-b9b4-e30a37b32e8f\" class=\"colab-df-container\">\n",
              "    <div>\n",
              "<style scoped>\n",
              "    .dataframe tbody tr th:only-of-type {\n",
              "        vertical-align: middle;\n",
              "    }\n",
              "\n",
              "    .dataframe tbody tr th {\n",
              "        vertical-align: top;\n",
              "    }\n",
              "\n",
              "    .dataframe thead th {\n",
              "        text-align: right;\n",
              "    }\n",
              "</style>\n",
              "<table border=\"1\" class=\"dataframe\">\n",
              "  <thead>\n",
              "    <tr style=\"text-align: right;\">\n",
              "      <th></th>\n",
              "      <th>ID</th>\n",
              "      <th>Datetime</th>\n",
              "      <th>Count</th>\n",
              "    </tr>\n",
              "  </thead>\n",
              "  <tbody>\n",
              "    <tr>\n",
              "      <th>0</th>\n",
              "      <td>0</td>\n",
              "      <td>25-08-2012 00:00</td>\n",
              "      <td>8</td>\n",
              "    </tr>\n",
              "    <tr>\n",
              "      <th>1</th>\n",
              "      <td>1</td>\n",
              "      <td>25-08-2012 01:00</td>\n",
              "      <td>2</td>\n",
              "    </tr>\n",
              "    <tr>\n",
              "      <th>2</th>\n",
              "      <td>2</td>\n",
              "      <td>25-08-2012 02:00</td>\n",
              "      <td>6</td>\n",
              "    </tr>\n",
              "    <tr>\n",
              "      <th>3</th>\n",
              "      <td>3</td>\n",
              "      <td>25-08-2012 03:00</td>\n",
              "      <td>2</td>\n",
              "    </tr>\n",
              "    <tr>\n",
              "      <th>4</th>\n",
              "      <td>4</td>\n",
              "      <td>25-08-2012 04:00</td>\n",
              "      <td>2</td>\n",
              "    </tr>\n",
              "  </tbody>\n",
              "</table>\n",
              "</div>\n",
              "    <div class=\"colab-df-buttons\">\n",
              "\n",
              "  <div class=\"colab-df-container\">\n",
              "    <button class=\"colab-df-convert\" onclick=\"convertToInteractive('df-ae83834b-46e3-4d2f-b9b4-e30a37b32e8f')\"\n",
              "            title=\"Convert this dataframe to an interactive table.\"\n",
              "            style=\"display:none;\">\n",
              "\n",
              "  <svg xmlns=\"http://www.w3.org/2000/svg\" height=\"24px\" viewBox=\"0 -960 960 960\">\n",
              "    <path d=\"M120-120v-720h720v720H120Zm60-500h600v-160H180v160Zm220 220h160v-160H400v160Zm0 220h160v-160H400v160ZM180-400h160v-160H180v160Zm440 0h160v-160H620v160ZM180-180h160v-160H180v160Zm440 0h160v-160H620v160Z\"/>\n",
              "  </svg>\n",
              "    </button>\n",
              "\n",
              "  <style>\n",
              "    .colab-df-container {\n",
              "      display:flex;\n",
              "      gap: 12px;\n",
              "    }\n",
              "\n",
              "    .colab-df-convert {\n",
              "      background-color: #E8F0FE;\n",
              "      border: none;\n",
              "      border-radius: 50%;\n",
              "      cursor: pointer;\n",
              "      display: none;\n",
              "      fill: #1967D2;\n",
              "      height: 32px;\n",
              "      padding: 0 0 0 0;\n",
              "      width: 32px;\n",
              "    }\n",
              "\n",
              "    .colab-df-convert:hover {\n",
              "      background-color: #E2EBFA;\n",
              "      box-shadow: 0px 1px 2px rgba(60, 64, 67, 0.3), 0px 1px 3px 1px rgba(60, 64, 67, 0.15);\n",
              "      fill: #174EA6;\n",
              "    }\n",
              "\n",
              "    .colab-df-buttons div {\n",
              "      margin-bottom: 4px;\n",
              "    }\n",
              "\n",
              "    [theme=dark] .colab-df-convert {\n",
              "      background-color: #3B4455;\n",
              "      fill: #D2E3FC;\n",
              "    }\n",
              "\n",
              "    [theme=dark] .colab-df-convert:hover {\n",
              "      background-color: #434B5C;\n",
              "      box-shadow: 0px 1px 3px 1px rgba(0, 0, 0, 0.15);\n",
              "      filter: drop-shadow(0px 1px 2px rgba(0, 0, 0, 0.3));\n",
              "      fill: #FFFFFF;\n",
              "    }\n",
              "  </style>\n",
              "\n",
              "    <script>\n",
              "      const buttonEl =\n",
              "        document.querySelector('#df-ae83834b-46e3-4d2f-b9b4-e30a37b32e8f button.colab-df-convert');\n",
              "      buttonEl.style.display =\n",
              "        google.colab.kernel.accessAllowed ? 'block' : 'none';\n",
              "\n",
              "      async function convertToInteractive(key) {\n",
              "        const element = document.querySelector('#df-ae83834b-46e3-4d2f-b9b4-e30a37b32e8f');\n",
              "        const dataTable =\n",
              "          await google.colab.kernel.invokeFunction('convertToInteractive',\n",
              "                                                    [key], {});\n",
              "        if (!dataTable) return;\n",
              "\n",
              "        const docLinkHtml = 'Like what you see? Visit the ' +\n",
              "          '<a target=\"_blank\" href=https://colab.research.google.com/notebooks/data_table.ipynb>data table notebook</a>'\n",
              "          + ' to learn more about interactive tables.';\n",
              "        element.innerHTML = '';\n",
              "        dataTable['output_type'] = 'display_data';\n",
              "        await google.colab.output.renderOutput(dataTable, element);\n",
              "        const docLink = document.createElement('div');\n",
              "        docLink.innerHTML = docLinkHtml;\n",
              "        element.appendChild(docLink);\n",
              "      }\n",
              "    </script>\n",
              "  </div>\n",
              "\n",
              "\n",
              "<div id=\"df-d7f27067-b5d8-4f90-a34f-334c565a9e5d\">\n",
              "  <button class=\"colab-df-quickchart\" onclick=\"quickchart('df-d7f27067-b5d8-4f90-a34f-334c565a9e5d')\"\n",
              "            title=\"Suggest charts\"\n",
              "            style=\"display:none;\">\n",
              "\n",
              "<svg xmlns=\"http://www.w3.org/2000/svg\" height=\"24px\"viewBox=\"0 0 24 24\"\n",
              "     width=\"24px\">\n",
              "    <g>\n",
              "        <path d=\"M19 3H5c-1.1 0-2 .9-2 2v14c0 1.1.9 2 2 2h14c1.1 0 2-.9 2-2V5c0-1.1-.9-2-2-2zM9 17H7v-7h2v7zm4 0h-2V7h2v10zm4 0h-2v-4h2v4z\"/>\n",
              "    </g>\n",
              "</svg>\n",
              "  </button>\n",
              "\n",
              "<style>\n",
              "  .colab-df-quickchart {\n",
              "      --bg-color: #E8F0FE;\n",
              "      --fill-color: #1967D2;\n",
              "      --hover-bg-color: #E2EBFA;\n",
              "      --hover-fill-color: #174EA6;\n",
              "      --disabled-fill-color: #AAA;\n",
              "      --disabled-bg-color: #DDD;\n",
              "  }\n",
              "\n",
              "  [theme=dark] .colab-df-quickchart {\n",
              "      --bg-color: #3B4455;\n",
              "      --fill-color: #D2E3FC;\n",
              "      --hover-bg-color: #434B5C;\n",
              "      --hover-fill-color: #FFFFFF;\n",
              "      --disabled-bg-color: #3B4455;\n",
              "      --disabled-fill-color: #666;\n",
              "  }\n",
              "\n",
              "  .colab-df-quickchart {\n",
              "    background-color: var(--bg-color);\n",
              "    border: none;\n",
              "    border-radius: 50%;\n",
              "    cursor: pointer;\n",
              "    display: none;\n",
              "    fill: var(--fill-color);\n",
              "    height: 32px;\n",
              "    padding: 0;\n",
              "    width: 32px;\n",
              "  }\n",
              "\n",
              "  .colab-df-quickchart:hover {\n",
              "    background-color: var(--hover-bg-color);\n",
              "    box-shadow: 0 1px 2px rgba(60, 64, 67, 0.3), 0 1px 3px 1px rgba(60, 64, 67, 0.15);\n",
              "    fill: var(--button-hover-fill-color);\n",
              "  }\n",
              "\n",
              "  .colab-df-quickchart-complete:disabled,\n",
              "  .colab-df-quickchart-complete:disabled:hover {\n",
              "    background-color: var(--disabled-bg-color);\n",
              "    fill: var(--disabled-fill-color);\n",
              "    box-shadow: none;\n",
              "  }\n",
              "\n",
              "  .colab-df-spinner {\n",
              "    border: 2px solid var(--fill-color);\n",
              "    border-color: transparent;\n",
              "    border-bottom-color: var(--fill-color);\n",
              "    animation:\n",
              "      spin 1s steps(1) infinite;\n",
              "  }\n",
              "\n",
              "  @keyframes spin {\n",
              "    0% {\n",
              "      border-color: transparent;\n",
              "      border-bottom-color: var(--fill-color);\n",
              "      border-left-color: var(--fill-color);\n",
              "    }\n",
              "    20% {\n",
              "      border-color: transparent;\n",
              "      border-left-color: var(--fill-color);\n",
              "      border-top-color: var(--fill-color);\n",
              "    }\n",
              "    30% {\n",
              "      border-color: transparent;\n",
              "      border-left-color: var(--fill-color);\n",
              "      border-top-color: var(--fill-color);\n",
              "      border-right-color: var(--fill-color);\n",
              "    }\n",
              "    40% {\n",
              "      border-color: transparent;\n",
              "      border-right-color: var(--fill-color);\n",
              "      border-top-color: var(--fill-color);\n",
              "    }\n",
              "    60% {\n",
              "      border-color: transparent;\n",
              "      border-right-color: var(--fill-color);\n",
              "    }\n",
              "    80% {\n",
              "      border-color: transparent;\n",
              "      border-right-color: var(--fill-color);\n",
              "      border-bottom-color: var(--fill-color);\n",
              "    }\n",
              "    90% {\n",
              "      border-color: transparent;\n",
              "      border-bottom-color: var(--fill-color);\n",
              "    }\n",
              "  }\n",
              "</style>\n",
              "\n",
              "  <script>\n",
              "    async function quickchart(key) {\n",
              "      const quickchartButtonEl =\n",
              "        document.querySelector('#' + key + ' button');\n",
              "      quickchartButtonEl.disabled = true;  // To prevent multiple clicks.\n",
              "      quickchartButtonEl.classList.add('colab-df-spinner');\n",
              "      try {\n",
              "        const charts = await google.colab.kernel.invokeFunction(\n",
              "            'suggestCharts', [key], {});\n",
              "      } catch (error) {\n",
              "        console.error('Error during call to suggestCharts:', error);\n",
              "      }\n",
              "      quickchartButtonEl.classList.remove('colab-df-spinner');\n",
              "      quickchartButtonEl.classList.add('colab-df-quickchart-complete');\n",
              "    }\n",
              "    (() => {\n",
              "      let quickchartButtonEl =\n",
              "        document.querySelector('#df-d7f27067-b5d8-4f90-a34f-334c565a9e5d button');\n",
              "      quickchartButtonEl.style.display =\n",
              "        google.colab.kernel.accessAllowed ? 'block' : 'none';\n",
              "    })();\n",
              "  </script>\n",
              "</div>\n",
              "\n",
              "    </div>\n",
              "  </div>\n"
            ],
            "application/vnd.google.colaboratory.intrinsic+json": {
              "type": "dataframe",
              "variable_name": "data",
              "summary": "{\n  \"name\": \"data\",\n  \"rows\": 18288,\n  \"fields\": [\n    {\n      \"column\": \"ID\",\n      \"properties\": {\n        \"dtype\": \"number\",\n        \"std\": 5279,\n        \"min\": 0,\n        \"max\": 18287,\n        \"num_unique_values\": 18288,\n        \"samples\": [\n          10424,\n          14016,\n          13692\n        ],\n        \"semantic_type\": \"\",\n        \"description\": \"\"\n      }\n    },\n    {\n      \"column\": \"Datetime\",\n      \"properties\": {\n        \"dtype\": \"object\",\n        \"num_unique_values\": 18288,\n        \"samples\": [\n          \"02-11-2013 08:00\",\n          \"01-04-2014 00:00\",\n          \"18-03-2014 12:00\"\n        ],\n        \"semantic_type\": \"\",\n        \"description\": \"\"\n      }\n    },\n    {\n      \"column\": \"Count\",\n      \"properties\": {\n        \"dtype\": \"number\",\n        \"std\": 153,\n        \"min\": 2,\n        \"max\": 1244,\n        \"num_unique_values\": 437,\n        \"samples\": [\n          852,\n          152,\n          548\n        ],\n        \"semantic_type\": \"\",\n        \"description\": \"\"\n      }\n    }\n  ]\n}"
            }
          },
          "metadata": {},
          "execution_count": 4
        }
      ],
      "source": [
        "# view the top rows\n",
        "data.head(5)"
      ]
    },
    {
      "cell_type": "markdown",
      "metadata": {
        "id": "AhCd3DmO0guA"
      },
      "source": [
        "---\n",
        "\n",
        "***Data Types of columns***\n",
        "\n",
        "---"
      ]
    },
    {
      "cell_type": "code",
      "execution_count": 5,
      "metadata": {
        "scrolled": false,
        "colab": {
          "base_uri": "https://localhost:8080/",
          "height": 195
        },
        "id": "CqHuhSn50guA",
        "outputId": "ada81809-d7db-4066-f46b-25710a4bd761"
      },
      "outputs": [
        {
          "output_type": "execute_result",
          "data": {
            "text/plain": [
              "ID           int64\n",
              "Datetime    object\n",
              "Count        int64\n",
              "dtype: object"
            ],
            "text/html": [
              "<div>\n",
              "<style scoped>\n",
              "    .dataframe tbody tr th:only-of-type {\n",
              "        vertical-align: middle;\n",
              "    }\n",
              "\n",
              "    .dataframe tbody tr th {\n",
              "        vertical-align: top;\n",
              "    }\n",
              "\n",
              "    .dataframe thead th {\n",
              "        text-align: right;\n",
              "    }\n",
              "</style>\n",
              "<table border=\"1\" class=\"dataframe\">\n",
              "  <thead>\n",
              "    <tr style=\"text-align: right;\">\n",
              "      <th></th>\n",
              "      <th>0</th>\n",
              "    </tr>\n",
              "  </thead>\n",
              "  <tbody>\n",
              "    <tr>\n",
              "      <th>ID</th>\n",
              "      <td>int64</td>\n",
              "    </tr>\n",
              "    <tr>\n",
              "      <th>Datetime</th>\n",
              "      <td>object</td>\n",
              "    </tr>\n",
              "    <tr>\n",
              "      <th>Count</th>\n",
              "      <td>int64</td>\n",
              "    </tr>\n",
              "  </tbody>\n",
              "</table>\n",
              "</div><br><label><b>dtype:</b> object</label>"
            ]
          },
          "metadata": {},
          "execution_count": 5
        }
      ],
      "source": [
        "data.dtypes"
      ]
    },
    {
      "cell_type": "markdown",
      "metadata": {
        "id": "iss2mDCH0guB"
      },
      "source": [
        "***By Default: All datetime based columns are considered as strings.***\n",
        "\n",
        "---\n",
        "\n",
        "#### `CHANGE THE DATA TYPE TO DATETIME`\n",
        "\n",
        "---"
      ]
    },
    {
      "cell_type": "code",
      "execution_count": null,
      "metadata": {
        "scrolled": false,
        "id": "KajJ3qZS0guB"
      },
      "outputs": [],
      "source": [
        "# change type to datetime\n",
        "data.Datetime = pd.to_datetime(data.Datetime)"
      ]
    },
    {
      "cell_type": "code",
      "execution_count": null,
      "metadata": {
        "scrolled": false,
        "id": "-o7xucXj0guB",
        "outputId": "4124b808-712e-4a00-df3f-f08b970ff63e"
      },
      "outputs": [
        {
          "data": {
            "text/plain": [
              "ID                   int64\n",
              "Datetime    datetime64[ns]\n",
              "Count                int64\n",
              "dtype: object"
            ]
          },
          "execution_count": 106,
          "metadata": {},
          "output_type": "execute_result"
        }
      ],
      "source": [
        "# check the data types again\n",
        "data.dtypes"
      ]
    },
    {
      "cell_type": "code",
      "execution_count": null,
      "metadata": {
        "scrolled": false,
        "id": "kR-gZVDl0guB",
        "outputId": "06c95059-78cb-4853-b08d-7c9b05e16804"
      },
      "outputs": [
        {
          "data": {
            "text/html": [
              "<div>\n",
              "<style scoped>\n",
              "    .dataframe tbody tr th:only-of-type {\n",
              "        vertical-align: middle;\n",
              "    }\n",
              "\n",
              "    .dataframe tbody tr th {\n",
              "        vertical-align: top;\n",
              "    }\n",
              "\n",
              "    .dataframe thead th {\n",
              "        text-align: right;\n",
              "    }\n",
              "</style>\n",
              "<table border=\"1\" class=\"dataframe\">\n",
              "  <thead>\n",
              "    <tr style=\"text-align: right;\">\n",
              "      <th></th>\n",
              "      <th>ID</th>\n",
              "      <th>Datetime</th>\n",
              "      <th>Count</th>\n",
              "    </tr>\n",
              "  </thead>\n",
              "  <tbody>\n",
              "    <tr>\n",
              "      <td>0</td>\n",
              "      <td>0</td>\n",
              "      <td>2012-08-25 00:00:00</td>\n",
              "      <td>8</td>\n",
              "    </tr>\n",
              "    <tr>\n",
              "      <td>1</td>\n",
              "      <td>1</td>\n",
              "      <td>2012-08-25 01:00:00</td>\n",
              "      <td>2</td>\n",
              "    </tr>\n",
              "    <tr>\n",
              "      <td>2</td>\n",
              "      <td>2</td>\n",
              "      <td>2012-08-25 02:00:00</td>\n",
              "      <td>6</td>\n",
              "    </tr>\n",
              "    <tr>\n",
              "      <td>3</td>\n",
              "      <td>3</td>\n",
              "      <td>2012-08-25 03:00:00</td>\n",
              "      <td>2</td>\n",
              "    </tr>\n",
              "    <tr>\n",
              "      <td>4</td>\n",
              "      <td>4</td>\n",
              "      <td>2012-08-25 04:00:00</td>\n",
              "      <td>2</td>\n",
              "    </tr>\n",
              "    <tr>\n",
              "      <td>...</td>\n",
              "      <td>...</td>\n",
              "      <td>...</td>\n",
              "      <td>...</td>\n",
              "    </tr>\n",
              "    <tr>\n",
              "      <td>18283</td>\n",
              "      <td>18283</td>\n",
              "      <td>2014-09-25 19:00:00</td>\n",
              "      <td>868</td>\n",
              "    </tr>\n",
              "    <tr>\n",
              "      <td>18284</td>\n",
              "      <td>18284</td>\n",
              "      <td>2014-09-25 20:00:00</td>\n",
              "      <td>732</td>\n",
              "    </tr>\n",
              "    <tr>\n",
              "      <td>18285</td>\n",
              "      <td>18285</td>\n",
              "      <td>2014-09-25 21:00:00</td>\n",
              "      <td>702</td>\n",
              "    </tr>\n",
              "    <tr>\n",
              "      <td>18286</td>\n",
              "      <td>18286</td>\n",
              "      <td>2014-09-25 22:00:00</td>\n",
              "      <td>580</td>\n",
              "    </tr>\n",
              "    <tr>\n",
              "      <td>18287</td>\n",
              "      <td>18287</td>\n",
              "      <td>2014-09-25 23:00:00</td>\n",
              "      <td>534</td>\n",
              "    </tr>\n",
              "  </tbody>\n",
              "</table>\n",
              "<p>18288 rows × 3 columns</p>\n",
              "</div>"
            ],
            "text/plain": [
              "          ID            Datetime  Count\n",
              "0          0 2012-08-25 00:00:00      8\n",
              "1          1 2012-08-25 01:00:00      2\n",
              "2          2 2012-08-25 02:00:00      6\n",
              "3          3 2012-08-25 03:00:00      2\n",
              "4          4 2012-08-25 04:00:00      2\n",
              "...      ...                 ...    ...\n",
              "18283  18283 2014-09-25 19:00:00    868\n",
              "18284  18284 2014-09-25 20:00:00    732\n",
              "18285  18285 2014-09-25 21:00:00    702\n",
              "18286  18286 2014-09-25 22:00:00    580\n",
              "18287  18287 2014-09-25 23:00:00    534\n",
              "\n",
              "[18288 rows x 3 columns]"
            ]
          },
          "execution_count": 107,
          "metadata": {},
          "output_type": "execute_result"
        }
      ],
      "source": [
        "data"
      ]
    },
    {
      "cell_type": "code",
      "execution_count": null,
      "metadata": {
        "scrolled": false,
        "id": "e1VHuQ4c0guC",
        "outputId": "9527b73e-dd39-4261-de61-a002a35d86e7"
      },
      "outputs": [
        {
          "data": {
            "text/plain": [
              "0        Saturday\n",
              "1        Saturday\n",
              "2        Saturday\n",
              "3        Saturday\n",
              "4        Saturday\n",
              "           ...   \n",
              "18283    Thursday\n",
              "18284    Thursday\n",
              "18285    Thursday\n",
              "18286    Thursday\n",
              "18287    Thursday\n",
              "Name: Datetime, Length: 18288, dtype: object"
            ]
          },
          "execution_count": 108,
          "metadata": {},
          "output_type": "execute_result"
        }
      ],
      "source": [
        "data.Datetime.apply(lambda x: x.day_name())"
      ]
    },
    {
      "cell_type": "code",
      "execution_count": null,
      "metadata": {
        "scrolled": false,
        "id": "cBgUdATA0guC",
        "outputId": "ce1293bc-dac0-4370-f344-4fb37ddf31b3"
      },
      "outputs": [
        {
          "data": {
            "text/plain": [
              "0           August\n",
              "1           August\n",
              "2           August\n",
              "3           August\n",
              "4           August\n",
              "           ...    \n",
              "18283    September\n",
              "18284    September\n",
              "18285    September\n",
              "18286    September\n",
              "18287    September\n",
              "Name: Datetime, Length: 18288, dtype: object"
            ]
          },
          "execution_count": 109,
          "metadata": {},
          "output_type": "execute_result"
        }
      ],
      "source": [
        "data.Datetime.apply(lambda x: x.month_name())"
      ]
    },
    {
      "cell_type": "markdown",
      "metadata": {
        "id": "PNAnDtfN0guC"
      },
      "source": [
        "---\n",
        "\n",
        "***Let's see another data file with the time series data.***\n",
        "\n",
        "---"
      ]
    },
    {
      "cell_type": "code",
      "execution_count": null,
      "metadata": {
        "scrolled": false,
        "id": "CcnzGN700guC"
      },
      "outputs": [],
      "source": [
        "data_2 = pd.read_csv('datasets/time_series_2.csv')"
      ]
    },
    {
      "cell_type": "code",
      "execution_count": null,
      "metadata": {
        "scrolled": false,
        "id": "2NptTvHP0guC",
        "outputId": "91432a73-00c2-4db9-8c1e-b2bf548e5a11"
      },
      "outputs": [
        {
          "data": {
            "text/html": [
              "<div>\n",
              "<style scoped>\n",
              "    .dataframe tbody tr th:only-of-type {\n",
              "        vertical-align: middle;\n",
              "    }\n",
              "\n",
              "    .dataframe tbody tr th {\n",
              "        vertical-align: top;\n",
              "    }\n",
              "\n",
              "    .dataframe thead th {\n",
              "        text-align: right;\n",
              "    }\n",
              "</style>\n",
              "<table border=\"1\" class=\"dataframe\">\n",
              "  <thead>\n",
              "    <tr style=\"text-align: right;\">\n",
              "      <th></th>\n",
              "      <th>ID</th>\n",
              "      <th>Datetime</th>\n",
              "      <th>Count</th>\n",
              "    </tr>\n",
              "  </thead>\n",
              "  <tbody>\n",
              "    <tr>\n",
              "      <td>0</td>\n",
              "      <td>0</td>\n",
              "      <td>25 Aug 2012</td>\n",
              "      <td>8</td>\n",
              "    </tr>\n",
              "    <tr>\n",
              "      <td>1</td>\n",
              "      <td>1</td>\n",
              "      <td>25 Aug 2012</td>\n",
              "      <td>2</td>\n",
              "    </tr>\n",
              "    <tr>\n",
              "      <td>2</td>\n",
              "      <td>2</td>\n",
              "      <td>25 Aug 2012</td>\n",
              "      <td>6</td>\n",
              "    </tr>\n",
              "    <tr>\n",
              "      <td>3</td>\n",
              "      <td>3</td>\n",
              "      <td>25 Aug 2012</td>\n",
              "      <td>2</td>\n",
              "    </tr>\n",
              "    <tr>\n",
              "      <td>4</td>\n",
              "      <td>4</td>\n",
              "      <td>25 Aug 2012</td>\n",
              "      <td>2</td>\n",
              "    </tr>\n",
              "    <tr>\n",
              "      <td>...</td>\n",
              "      <td>...</td>\n",
              "      <td>...</td>\n",
              "      <td>...</td>\n",
              "    </tr>\n",
              "    <tr>\n",
              "      <td>18283</td>\n",
              "      <td>18283</td>\n",
              "      <td>25 Sep 2014</td>\n",
              "      <td>868</td>\n",
              "    </tr>\n",
              "    <tr>\n",
              "      <td>18284</td>\n",
              "      <td>18284</td>\n",
              "      <td>25 Sep 2014</td>\n",
              "      <td>732</td>\n",
              "    </tr>\n",
              "    <tr>\n",
              "      <td>18285</td>\n",
              "      <td>18285</td>\n",
              "      <td>25 Sep 2014</td>\n",
              "      <td>702</td>\n",
              "    </tr>\n",
              "    <tr>\n",
              "      <td>18286</td>\n",
              "      <td>18286</td>\n",
              "      <td>25 Sep 2014</td>\n",
              "      <td>580</td>\n",
              "    </tr>\n",
              "    <tr>\n",
              "      <td>18287</td>\n",
              "      <td>18287</td>\n",
              "      <td>25 Sep 2014</td>\n",
              "      <td>534</td>\n",
              "    </tr>\n",
              "  </tbody>\n",
              "</table>\n",
              "<p>18288 rows × 3 columns</p>\n",
              "</div>"
            ],
            "text/plain": [
              "          ID      Datetime  Count\n",
              "0          0  25 Aug 2012       8\n",
              "1          1  25 Aug 2012       2\n",
              "2          2  25 Aug 2012       6\n",
              "3          3  25 Aug 2012       2\n",
              "4          4  25 Aug 2012       2\n",
              "...      ...           ...    ...\n",
              "18283  18283  25 Sep 2014     868\n",
              "18284  18284  25 Sep 2014     732\n",
              "18285  18285  25 Sep 2014     702\n",
              "18286  18286  25 Sep 2014     580\n",
              "18287  18287  25 Sep 2014     534\n",
              "\n",
              "[18288 rows x 3 columns]"
            ]
          },
          "execution_count": 112,
          "metadata": {},
          "output_type": "execute_result"
        }
      ],
      "source": [
        "# view the top rows of the data\n",
        "data_2"
      ]
    },
    {
      "cell_type": "markdown",
      "metadata": {
        "id": "5v5DZPlm0guD"
      },
      "source": [
        "---\n",
        "\n",
        "***We can read the date time by specifying the format.***\n",
        "\n",
        "***Here are some of the common used directives.***\n",
        "\n",
        "----"
      ]
    },
    {
      "cell_type": "markdown",
      "metadata": {
        "id": "87tmQY6S0guD"
      },
      "source": [
        "| **Directive** | **Meaning**                                            |\n",
        "| ---           | ---                                                    |\n",
        "|  **%a**       | Weekday as locale’s abbreviated name.                  |\n",
        "|  **%A**       | Weekday as locale’s full name.                         |  \n",
        "|  **%d**       | Day of the month as a zero-padded decimal number.      |\n",
        "|  **%b**       | Month as locale’s abbreviated name.\t                 |\n",
        "|  **%B**       | Month as locale’s full name.\t                         |\n",
        "|  **%m**       | Month as a zero-padded decimal number.                 |\n",
        "|  **%y**       | Year without century as a zero-padded decimal number.  |\n",
        "|  **%Y**       | Year with century as a decimal number.                 |\n",
        "|  **%H**       | Hour (24-hour clock) as a zero-padded decimal number.  |\n",
        "\n",
        "---\n",
        "\n",
        "***You can read more about the other directives and datetime library here: https://docs.python.org/3/library/datetime.html***\n",
        "\n",
        "---"
      ]
    },
    {
      "cell_type": "code",
      "execution_count": null,
      "metadata": {
        "scrolled": false,
        "id": "08SkaDoX0guD"
      },
      "outputs": [],
      "source": [
        "# convert to datetime by specifying the data time format\n",
        "data_2.Datetime = pd.to_datetime(data_2.Datetime, format=\"%d %b %Y \")"
      ]
    },
    {
      "cell_type": "code",
      "execution_count": null,
      "metadata": {
        "scrolled": false,
        "id": "dbLWPasO0guD",
        "outputId": "af2a96ed-33f5-4b0c-c6be-dd65eeb83a2a"
      },
      "outputs": [
        {
          "data": {
            "text/html": [
              "<div>\n",
              "<style scoped>\n",
              "    .dataframe tbody tr th:only-of-type {\n",
              "        vertical-align: middle;\n",
              "    }\n",
              "\n",
              "    .dataframe tbody tr th {\n",
              "        vertical-align: top;\n",
              "    }\n",
              "\n",
              "    .dataframe thead th {\n",
              "        text-align: right;\n",
              "    }\n",
              "</style>\n",
              "<table border=\"1\" class=\"dataframe\">\n",
              "  <thead>\n",
              "    <tr style=\"text-align: right;\">\n",
              "      <th></th>\n",
              "      <th>ID</th>\n",
              "      <th>Datetime</th>\n",
              "      <th>Count</th>\n",
              "    </tr>\n",
              "  </thead>\n",
              "  <tbody>\n",
              "    <tr>\n",
              "      <td>0</td>\n",
              "      <td>0</td>\n",
              "      <td>2012-08-25</td>\n",
              "      <td>8</td>\n",
              "    </tr>\n",
              "    <tr>\n",
              "      <td>1</td>\n",
              "      <td>1</td>\n",
              "      <td>2012-08-25</td>\n",
              "      <td>2</td>\n",
              "    </tr>\n",
              "    <tr>\n",
              "      <td>2</td>\n",
              "      <td>2</td>\n",
              "      <td>2012-08-25</td>\n",
              "      <td>6</td>\n",
              "    </tr>\n",
              "    <tr>\n",
              "      <td>3</td>\n",
              "      <td>3</td>\n",
              "      <td>2012-08-25</td>\n",
              "      <td>2</td>\n",
              "    </tr>\n",
              "    <tr>\n",
              "      <td>4</td>\n",
              "      <td>4</td>\n",
              "      <td>2012-08-25</td>\n",
              "      <td>2</td>\n",
              "    </tr>\n",
              "  </tbody>\n",
              "</table>\n",
              "</div>"
            ],
            "text/plain": [
              "   ID   Datetime  Count\n",
              "0   0 2012-08-25      8\n",
              "1   1 2012-08-25      2\n",
              "2   2 2012-08-25      6\n",
              "3   3 2012-08-25      2\n",
              "4   4 2012-08-25      2"
            ]
          },
          "execution_count": 114,
          "metadata": {},
          "output_type": "execute_result"
        }
      ],
      "source": [
        "data_2.head()"
      ]
    },
    {
      "cell_type": "markdown",
      "metadata": {
        "id": "qoDJr9Yu0guD"
      },
      "source": [
        "---\n",
        "\n",
        "#### `TIME BASED FEATURES`\n",
        "\n",
        "---\n",
        "\n",
        "\n",
        "---\n",
        "\n",
        "***Create features like `month` and `month_name` from the data.***\n",
        "\n",
        "---"
      ]
    },
    {
      "cell_type": "code",
      "execution_count": null,
      "metadata": {
        "scrolled": false,
        "id": "u45OjnB30guD",
        "outputId": "72f069e4-69df-4251-c0bc-dc1352be4799"
      },
      "outputs": [
        {
          "data": {
            "text/html": [
              "<div>\n",
              "<style scoped>\n",
              "    .dataframe tbody tr th:only-of-type {\n",
              "        vertical-align: middle;\n",
              "    }\n",
              "\n",
              "    .dataframe tbody tr th {\n",
              "        vertical-align: top;\n",
              "    }\n",
              "\n",
              "    .dataframe thead th {\n",
              "        text-align: right;\n",
              "    }\n",
              "</style>\n",
              "<table border=\"1\" class=\"dataframe\">\n",
              "  <thead>\n",
              "    <tr style=\"text-align: right;\">\n",
              "      <th></th>\n",
              "      <th>ID</th>\n",
              "      <th>Datetime</th>\n",
              "      <th>Count</th>\n",
              "    </tr>\n",
              "  </thead>\n",
              "  <tbody>\n",
              "    <tr>\n",
              "      <td>0</td>\n",
              "      <td>0</td>\n",
              "      <td>2012-08-25 00:00:00</td>\n",
              "      <td>8</td>\n",
              "    </tr>\n",
              "    <tr>\n",
              "      <td>1</td>\n",
              "      <td>1</td>\n",
              "      <td>2012-08-25 01:00:00</td>\n",
              "      <td>2</td>\n",
              "    </tr>\n",
              "    <tr>\n",
              "      <td>2</td>\n",
              "      <td>2</td>\n",
              "      <td>2012-08-25 02:00:00</td>\n",
              "      <td>6</td>\n",
              "    </tr>\n",
              "    <tr>\n",
              "      <td>3</td>\n",
              "      <td>3</td>\n",
              "      <td>2012-08-25 03:00:00</td>\n",
              "      <td>2</td>\n",
              "    </tr>\n",
              "    <tr>\n",
              "      <td>4</td>\n",
              "      <td>4</td>\n",
              "      <td>2012-08-25 04:00:00</td>\n",
              "      <td>2</td>\n",
              "    </tr>\n",
              "    <tr>\n",
              "      <td>...</td>\n",
              "      <td>...</td>\n",
              "      <td>...</td>\n",
              "      <td>...</td>\n",
              "    </tr>\n",
              "    <tr>\n",
              "      <td>18283</td>\n",
              "      <td>18283</td>\n",
              "      <td>2014-09-25 19:00:00</td>\n",
              "      <td>868</td>\n",
              "    </tr>\n",
              "    <tr>\n",
              "      <td>18284</td>\n",
              "      <td>18284</td>\n",
              "      <td>2014-09-25 20:00:00</td>\n",
              "      <td>732</td>\n",
              "    </tr>\n",
              "    <tr>\n",
              "      <td>18285</td>\n",
              "      <td>18285</td>\n",
              "      <td>2014-09-25 21:00:00</td>\n",
              "      <td>702</td>\n",
              "    </tr>\n",
              "    <tr>\n",
              "      <td>18286</td>\n",
              "      <td>18286</td>\n",
              "      <td>2014-09-25 22:00:00</td>\n",
              "      <td>580</td>\n",
              "    </tr>\n",
              "    <tr>\n",
              "      <td>18287</td>\n",
              "      <td>18287</td>\n",
              "      <td>2014-09-25 23:00:00</td>\n",
              "      <td>534</td>\n",
              "    </tr>\n",
              "  </tbody>\n",
              "</table>\n",
              "<p>18288 rows × 3 columns</p>\n",
              "</div>"
            ],
            "text/plain": [
              "          ID            Datetime  Count\n",
              "0          0 2012-08-25 00:00:00      8\n",
              "1          1 2012-08-25 01:00:00      2\n",
              "2          2 2012-08-25 02:00:00      6\n",
              "3          3 2012-08-25 03:00:00      2\n",
              "4          4 2012-08-25 04:00:00      2\n",
              "...      ...                 ...    ...\n",
              "18283  18283 2014-09-25 19:00:00    868\n",
              "18284  18284 2014-09-25 20:00:00    732\n",
              "18285  18285 2014-09-25 21:00:00    702\n",
              "18286  18286 2014-09-25 22:00:00    580\n",
              "18287  18287 2014-09-25 23:00:00    534\n",
              "\n",
              "[18288 rows x 3 columns]"
            ]
          },
          "execution_count": 115,
          "metadata": {},
          "output_type": "execute_result"
        }
      ],
      "source": [
        "data"
      ]
    },
    {
      "cell_type": "code",
      "execution_count": null,
      "metadata": {
        "scrolled": false,
        "id": "KBvGkJIa0guE"
      },
      "outputs": [],
      "source": [
        "# create month and month_name\n",
        "data['month'] = data.Datetime.dt.month\n",
        "data['month_name'] = data.Datetime.dt.month_name()"
      ]
    },
    {
      "cell_type": "code",
      "execution_count": null,
      "metadata": {
        "scrolled": false,
        "id": "HFMHsbGy0guE",
        "outputId": "f6d525d4-2d3c-4e63-d2ae-9a6ba40e535e"
      },
      "outputs": [
        {
          "data": {
            "text/html": [
              "<div>\n",
              "<style scoped>\n",
              "    .dataframe tbody tr th:only-of-type {\n",
              "        vertical-align: middle;\n",
              "    }\n",
              "\n",
              "    .dataframe tbody tr th {\n",
              "        vertical-align: top;\n",
              "    }\n",
              "\n",
              "    .dataframe thead th {\n",
              "        text-align: right;\n",
              "    }\n",
              "</style>\n",
              "<table border=\"1\" class=\"dataframe\">\n",
              "  <thead>\n",
              "    <tr style=\"text-align: right;\">\n",
              "      <th></th>\n",
              "      <th>ID</th>\n",
              "      <th>Datetime</th>\n",
              "      <th>Count</th>\n",
              "      <th>month</th>\n",
              "      <th>month_name</th>\n",
              "    </tr>\n",
              "  </thead>\n",
              "  <tbody>\n",
              "    <tr>\n",
              "      <td>0</td>\n",
              "      <td>0</td>\n",
              "      <td>2012-08-25 00:00:00</td>\n",
              "      <td>8</td>\n",
              "      <td>8</td>\n",
              "      <td>August</td>\n",
              "    </tr>\n",
              "    <tr>\n",
              "      <td>1</td>\n",
              "      <td>1</td>\n",
              "      <td>2012-08-25 01:00:00</td>\n",
              "      <td>2</td>\n",
              "      <td>8</td>\n",
              "      <td>August</td>\n",
              "    </tr>\n",
              "    <tr>\n",
              "      <td>2</td>\n",
              "      <td>2</td>\n",
              "      <td>2012-08-25 02:00:00</td>\n",
              "      <td>6</td>\n",
              "      <td>8</td>\n",
              "      <td>August</td>\n",
              "    </tr>\n",
              "    <tr>\n",
              "      <td>3</td>\n",
              "      <td>3</td>\n",
              "      <td>2012-08-25 03:00:00</td>\n",
              "      <td>2</td>\n",
              "      <td>8</td>\n",
              "      <td>August</td>\n",
              "    </tr>\n",
              "    <tr>\n",
              "      <td>4</td>\n",
              "      <td>4</td>\n",
              "      <td>2012-08-25 04:00:00</td>\n",
              "      <td>2</td>\n",
              "      <td>8</td>\n",
              "      <td>August</td>\n",
              "    </tr>\n",
              "    <tr>\n",
              "      <td>...</td>\n",
              "      <td>...</td>\n",
              "      <td>...</td>\n",
              "      <td>...</td>\n",
              "      <td>...</td>\n",
              "      <td>...</td>\n",
              "    </tr>\n",
              "    <tr>\n",
              "      <td>18283</td>\n",
              "      <td>18283</td>\n",
              "      <td>2014-09-25 19:00:00</td>\n",
              "      <td>868</td>\n",
              "      <td>9</td>\n",
              "      <td>September</td>\n",
              "    </tr>\n",
              "    <tr>\n",
              "      <td>18284</td>\n",
              "      <td>18284</td>\n",
              "      <td>2014-09-25 20:00:00</td>\n",
              "      <td>732</td>\n",
              "      <td>9</td>\n",
              "      <td>September</td>\n",
              "    </tr>\n",
              "    <tr>\n",
              "      <td>18285</td>\n",
              "      <td>18285</td>\n",
              "      <td>2014-09-25 21:00:00</td>\n",
              "      <td>702</td>\n",
              "      <td>9</td>\n",
              "      <td>September</td>\n",
              "    </tr>\n",
              "    <tr>\n",
              "      <td>18286</td>\n",
              "      <td>18286</td>\n",
              "      <td>2014-09-25 22:00:00</td>\n",
              "      <td>580</td>\n",
              "      <td>9</td>\n",
              "      <td>September</td>\n",
              "    </tr>\n",
              "    <tr>\n",
              "      <td>18287</td>\n",
              "      <td>18287</td>\n",
              "      <td>2014-09-25 23:00:00</td>\n",
              "      <td>534</td>\n",
              "      <td>9</td>\n",
              "      <td>September</td>\n",
              "    </tr>\n",
              "  </tbody>\n",
              "</table>\n",
              "<p>18288 rows × 5 columns</p>\n",
              "</div>"
            ],
            "text/plain": [
              "          ID            Datetime  Count  month month_name\n",
              "0          0 2012-08-25 00:00:00      8      8     August\n",
              "1          1 2012-08-25 01:00:00      2      8     August\n",
              "2          2 2012-08-25 02:00:00      6      8     August\n",
              "3          3 2012-08-25 03:00:00      2      8     August\n",
              "4          4 2012-08-25 04:00:00      2      8     August\n",
              "...      ...                 ...    ...    ...        ...\n",
              "18283  18283 2014-09-25 19:00:00    868      9  September\n",
              "18284  18284 2014-09-25 20:00:00    732      9  September\n",
              "18285  18285 2014-09-25 21:00:00    702      9  September\n",
              "18286  18286 2014-09-25 22:00:00    580      9  September\n",
              "18287  18287 2014-09-25 23:00:00    534      9  September\n",
              "\n",
              "[18288 rows x 5 columns]"
            ]
          },
          "execution_count": 118,
          "metadata": {},
          "output_type": "execute_result"
        }
      ],
      "source": [
        "# view the data\n",
        "data"
      ]
    },
    {
      "cell_type": "markdown",
      "metadata": {
        "id": "fr5oxfql0guE"
      },
      "source": [
        "---\n",
        "\n",
        "***Create `day_name`, `day_of_week`, & `day_of_year`***\n",
        "\n",
        "---"
      ]
    },
    {
      "cell_type": "code",
      "execution_count": null,
      "metadata": {
        "scrolled": false,
        "id": "uso1FJdd0guE"
      },
      "outputs": [],
      "source": [
        "# create features\n",
        "data['day_name'] = data.Datetime.dt.day_name()\n",
        "data['day_of_week'] = data.Datetime.dt.dayofweek\n",
        "data['day_of_year'] = data.Datetime.dt.dayofyear"
      ]
    },
    {
      "cell_type": "code",
      "execution_count": null,
      "metadata": {
        "scrolled": false,
        "id": "tEFThxVf0guE",
        "outputId": "483882eb-a949-484f-938f-5975638cc64e"
      },
      "outputs": [
        {
          "data": {
            "text/html": [
              "<div>\n",
              "<style scoped>\n",
              "    .dataframe tbody tr th:only-of-type {\n",
              "        vertical-align: middle;\n",
              "    }\n",
              "\n",
              "    .dataframe tbody tr th {\n",
              "        vertical-align: top;\n",
              "    }\n",
              "\n",
              "    .dataframe thead th {\n",
              "        text-align: right;\n",
              "    }\n",
              "</style>\n",
              "<table border=\"1\" class=\"dataframe\">\n",
              "  <thead>\n",
              "    <tr style=\"text-align: right;\">\n",
              "      <th></th>\n",
              "      <th>ID</th>\n",
              "      <th>Datetime</th>\n",
              "      <th>Count</th>\n",
              "      <th>month</th>\n",
              "      <th>month_name</th>\n",
              "      <th>day_name</th>\n",
              "      <th>day_of_week</th>\n",
              "      <th>day_of_year</th>\n",
              "    </tr>\n",
              "  </thead>\n",
              "  <tbody>\n",
              "    <tr>\n",
              "      <td>0</td>\n",
              "      <td>0</td>\n",
              "      <td>2012-08-25 00:00:00</td>\n",
              "      <td>8</td>\n",
              "      <td>8</td>\n",
              "      <td>August</td>\n",
              "      <td>Saturday</td>\n",
              "      <td>5</td>\n",
              "      <td>238</td>\n",
              "    </tr>\n",
              "    <tr>\n",
              "      <td>1</td>\n",
              "      <td>1</td>\n",
              "      <td>2012-08-25 01:00:00</td>\n",
              "      <td>2</td>\n",
              "      <td>8</td>\n",
              "      <td>August</td>\n",
              "      <td>Saturday</td>\n",
              "      <td>5</td>\n",
              "      <td>238</td>\n",
              "    </tr>\n",
              "    <tr>\n",
              "      <td>2</td>\n",
              "      <td>2</td>\n",
              "      <td>2012-08-25 02:00:00</td>\n",
              "      <td>6</td>\n",
              "      <td>8</td>\n",
              "      <td>August</td>\n",
              "      <td>Saturday</td>\n",
              "      <td>5</td>\n",
              "      <td>238</td>\n",
              "    </tr>\n",
              "    <tr>\n",
              "      <td>3</td>\n",
              "      <td>3</td>\n",
              "      <td>2012-08-25 03:00:00</td>\n",
              "      <td>2</td>\n",
              "      <td>8</td>\n",
              "      <td>August</td>\n",
              "      <td>Saturday</td>\n",
              "      <td>5</td>\n",
              "      <td>238</td>\n",
              "    </tr>\n",
              "    <tr>\n",
              "      <td>4</td>\n",
              "      <td>4</td>\n",
              "      <td>2012-08-25 04:00:00</td>\n",
              "      <td>2</td>\n",
              "      <td>8</td>\n",
              "      <td>August</td>\n",
              "      <td>Saturday</td>\n",
              "      <td>5</td>\n",
              "      <td>238</td>\n",
              "    </tr>\n",
              "  </tbody>\n",
              "</table>\n",
              "</div>"
            ],
            "text/plain": [
              "   ID            Datetime  Count  month month_name  day_name  day_of_week  \\\n",
              "0   0 2012-08-25 00:00:00      8      8     August  Saturday            5   \n",
              "1   1 2012-08-25 01:00:00      2      8     August  Saturday            5   \n",
              "2   2 2012-08-25 02:00:00      6      8     August  Saturday            5   \n",
              "3   3 2012-08-25 03:00:00      2      8     August  Saturday            5   \n",
              "4   4 2012-08-25 04:00:00      2      8     August  Saturday            5   \n",
              "\n",
              "   day_of_year  \n",
              "0          238  \n",
              "1          238  \n",
              "2          238  \n",
              "3          238  \n",
              "4          238  "
            ]
          },
          "execution_count": 120,
          "metadata": {},
          "output_type": "execute_result"
        }
      ],
      "source": [
        "# view the data\n",
        "data.head()"
      ]
    },
    {
      "cell_type": "markdown",
      "metadata": {
        "id": "uJDpLOpR0guE"
      },
      "source": [
        "\n",
        "\n",
        "---\n",
        "\n",
        "#### `DIFFERENCE BETWEEN 2 DATES`\n",
        "\n",
        "---\n",
        "\n",
        "\n",
        "***Add the current date in the new column***\n",
        "\n",
        "---"
      ]
    },
    {
      "cell_type": "code",
      "execution_count": null,
      "metadata": {
        "id": "Aq2Kjoj90guF",
        "outputId": "d04a7f5a-42ed-432f-f271-8bfaa777440d"
      },
      "outputs": [
        {
          "data": {
            "text/html": [
              "<div>\n",
              "<style scoped>\n",
              "    .dataframe tbody tr th:only-of-type {\n",
              "        vertical-align: middle;\n",
              "    }\n",
              "\n",
              "    .dataframe tbody tr th {\n",
              "        vertical-align: top;\n",
              "    }\n",
              "\n",
              "    .dataframe thead th {\n",
              "        text-align: right;\n",
              "    }\n",
              "</style>\n",
              "<table border=\"1\" class=\"dataframe\">\n",
              "  <thead>\n",
              "    <tr style=\"text-align: right;\">\n",
              "      <th></th>\n",
              "      <th>ID</th>\n",
              "      <th>Datetime</th>\n",
              "      <th>Count</th>\n",
              "      <th>month</th>\n",
              "      <th>month_name</th>\n",
              "      <th>day_name</th>\n",
              "      <th>day_of_week</th>\n",
              "      <th>day_of_year</th>\n",
              "    </tr>\n",
              "  </thead>\n",
              "  <tbody>\n",
              "    <tr>\n",
              "      <td>0</td>\n",
              "      <td>0</td>\n",
              "      <td>2012-08-25 00:00:00</td>\n",
              "      <td>8</td>\n",
              "      <td>8</td>\n",
              "      <td>August</td>\n",
              "      <td>Saturday</td>\n",
              "      <td>5</td>\n",
              "      <td>238</td>\n",
              "    </tr>\n",
              "    <tr>\n",
              "      <td>1</td>\n",
              "      <td>1</td>\n",
              "      <td>2012-08-25 01:00:00</td>\n",
              "      <td>2</td>\n",
              "      <td>8</td>\n",
              "      <td>August</td>\n",
              "      <td>Saturday</td>\n",
              "      <td>5</td>\n",
              "      <td>238</td>\n",
              "    </tr>\n",
              "    <tr>\n",
              "      <td>2</td>\n",
              "      <td>2</td>\n",
              "      <td>2012-08-25 02:00:00</td>\n",
              "      <td>6</td>\n",
              "      <td>8</td>\n",
              "      <td>August</td>\n",
              "      <td>Saturday</td>\n",
              "      <td>5</td>\n",
              "      <td>238</td>\n",
              "    </tr>\n",
              "    <tr>\n",
              "      <td>3</td>\n",
              "      <td>3</td>\n",
              "      <td>2012-08-25 03:00:00</td>\n",
              "      <td>2</td>\n",
              "      <td>8</td>\n",
              "      <td>August</td>\n",
              "      <td>Saturday</td>\n",
              "      <td>5</td>\n",
              "      <td>238</td>\n",
              "    </tr>\n",
              "    <tr>\n",
              "      <td>4</td>\n",
              "      <td>4</td>\n",
              "      <td>2012-08-25 04:00:00</td>\n",
              "      <td>2</td>\n",
              "      <td>8</td>\n",
              "      <td>August</td>\n",
              "      <td>Saturday</td>\n",
              "      <td>5</td>\n",
              "      <td>238</td>\n",
              "    </tr>\n",
              "  </tbody>\n",
              "</table>\n",
              "</div>"
            ],
            "text/plain": [
              "   ID            Datetime  Count  month month_name  day_name  day_of_week  \\\n",
              "0   0 2012-08-25 00:00:00      8      8     August  Saturday            5   \n",
              "1   1 2012-08-25 01:00:00      2      8     August  Saturday            5   \n",
              "2   2 2012-08-25 02:00:00      6      8     August  Saturday            5   \n",
              "3   3 2012-08-25 03:00:00      2      8     August  Saturday            5   \n",
              "4   4 2012-08-25 04:00:00      2      8     August  Saturday            5   \n",
              "\n",
              "   day_of_year  \n",
              "0          238  \n",
              "1          238  \n",
              "2          238  \n",
              "3          238  \n",
              "4          238  "
            ]
          },
          "execution_count": 121,
          "metadata": {},
          "output_type": "execute_result"
        }
      ],
      "source": [
        "data.head()"
      ]
    },
    {
      "cell_type": "code",
      "execution_count": null,
      "metadata": {
        "scrolled": false,
        "id": "iLjCf-Aa0guF"
      },
      "outputs": [],
      "source": [
        "data['today'] = pd.to_datetime(datetime.date.today())"
      ]
    },
    {
      "cell_type": "code",
      "execution_count": null,
      "metadata": {
        "scrolled": false,
        "id": "eUd7x2Xr0guF",
        "outputId": "78e76c81-016b-4a50-cc61-17a9aeb2026a"
      },
      "outputs": [
        {
          "data": {
            "text/html": [
              "<div>\n",
              "<style scoped>\n",
              "    .dataframe tbody tr th:only-of-type {\n",
              "        vertical-align: middle;\n",
              "    }\n",
              "\n",
              "    .dataframe tbody tr th {\n",
              "        vertical-align: top;\n",
              "    }\n",
              "\n",
              "    .dataframe thead th {\n",
              "        text-align: right;\n",
              "    }\n",
              "</style>\n",
              "<table border=\"1\" class=\"dataframe\">\n",
              "  <thead>\n",
              "    <tr style=\"text-align: right;\">\n",
              "      <th></th>\n",
              "      <th>ID</th>\n",
              "      <th>Datetime</th>\n",
              "      <th>Count</th>\n",
              "      <th>month</th>\n",
              "      <th>month_name</th>\n",
              "      <th>day_name</th>\n",
              "      <th>day_of_week</th>\n",
              "      <th>day_of_year</th>\n",
              "      <th>today</th>\n",
              "    </tr>\n",
              "  </thead>\n",
              "  <tbody>\n",
              "    <tr>\n",
              "      <td>0</td>\n",
              "      <td>0</td>\n",
              "      <td>2012-08-25 00:00:00</td>\n",
              "      <td>8</td>\n",
              "      <td>8</td>\n",
              "      <td>August</td>\n",
              "      <td>Saturday</td>\n",
              "      <td>5</td>\n",
              "      <td>238</td>\n",
              "      <td>2020-03-18</td>\n",
              "    </tr>\n",
              "    <tr>\n",
              "      <td>1</td>\n",
              "      <td>1</td>\n",
              "      <td>2012-08-25 01:00:00</td>\n",
              "      <td>2</td>\n",
              "      <td>8</td>\n",
              "      <td>August</td>\n",
              "      <td>Saturday</td>\n",
              "      <td>5</td>\n",
              "      <td>238</td>\n",
              "      <td>2020-03-18</td>\n",
              "    </tr>\n",
              "    <tr>\n",
              "      <td>2</td>\n",
              "      <td>2</td>\n",
              "      <td>2012-08-25 02:00:00</td>\n",
              "      <td>6</td>\n",
              "      <td>8</td>\n",
              "      <td>August</td>\n",
              "      <td>Saturday</td>\n",
              "      <td>5</td>\n",
              "      <td>238</td>\n",
              "      <td>2020-03-18</td>\n",
              "    </tr>\n",
              "    <tr>\n",
              "      <td>3</td>\n",
              "      <td>3</td>\n",
              "      <td>2012-08-25 03:00:00</td>\n",
              "      <td>2</td>\n",
              "      <td>8</td>\n",
              "      <td>August</td>\n",
              "      <td>Saturday</td>\n",
              "      <td>5</td>\n",
              "      <td>238</td>\n",
              "      <td>2020-03-18</td>\n",
              "    </tr>\n",
              "    <tr>\n",
              "      <td>4</td>\n",
              "      <td>4</td>\n",
              "      <td>2012-08-25 04:00:00</td>\n",
              "      <td>2</td>\n",
              "      <td>8</td>\n",
              "      <td>August</td>\n",
              "      <td>Saturday</td>\n",
              "      <td>5</td>\n",
              "      <td>238</td>\n",
              "      <td>2020-03-18</td>\n",
              "    </tr>\n",
              "  </tbody>\n",
              "</table>\n",
              "</div>"
            ],
            "text/plain": [
              "   ID            Datetime  Count  month month_name  day_name  day_of_week  \\\n",
              "0   0 2012-08-25 00:00:00      8      8     August  Saturday            5   \n",
              "1   1 2012-08-25 01:00:00      2      8     August  Saturday            5   \n",
              "2   2 2012-08-25 02:00:00      6      8     August  Saturday            5   \n",
              "3   3 2012-08-25 03:00:00      2      8     August  Saturday            5   \n",
              "4   4 2012-08-25 04:00:00      2      8     August  Saturday            5   \n",
              "\n",
              "   day_of_year      today  \n",
              "0          238 2020-03-18  \n",
              "1          238 2020-03-18  \n",
              "2          238 2020-03-18  \n",
              "3          238 2020-03-18  \n",
              "4          238 2020-03-18  "
            ]
          },
          "execution_count": 123,
          "metadata": {},
          "output_type": "execute_result"
        }
      ],
      "source": [
        "data.head()"
      ]
    },
    {
      "cell_type": "code",
      "execution_count": null,
      "metadata": {
        "scrolled": false,
        "id": "YoHSNGIe0guF"
      },
      "outputs": [],
      "source": [
        "difference_of_dates = data['today'] - data['Datetime']"
      ]
    },
    {
      "cell_type": "code",
      "execution_count": null,
      "metadata": {
        "scrolled": false,
        "id": "UmNabCgx0guF",
        "outputId": "db392154-a826-48ad-b535-530b23b8b538"
      },
      "outputs": [
        {
          "data": {
            "text/plain": [
              "0       2762 days 00:00:00\n",
              "1       2761 days 23:00:00\n",
              "2       2761 days 22:00:00\n",
              "3       2761 days 21:00:00\n",
              "4       2761 days 20:00:00\n",
              "               ...        \n",
              "18283   2000 days 05:00:00\n",
              "18284   2000 days 04:00:00\n",
              "18285   2000 days 03:00:00\n",
              "18286   2000 days 02:00:00\n",
              "18287   2000 days 01:00:00\n",
              "Length: 18288, dtype: timedelta64[ns]"
            ]
          },
          "execution_count": 125,
          "metadata": {},
          "output_type": "execute_result"
        }
      ],
      "source": [
        "difference_of_dates"
      ]
    },
    {
      "cell_type": "code",
      "execution_count": null,
      "metadata": {
        "scrolled": true,
        "id": "3TayK6XC0guF",
        "outputId": "4163c62e-e8d0-4e8c-958d-23d52d051db2"
      },
      "outputs": [
        {
          "data": {
            "text/plain": [
              "0        2762\n",
              "1        2761\n",
              "2        2761\n",
              "3        2761\n",
              "4        2761\n",
              "         ... \n",
              "18283    2000\n",
              "18284    2000\n",
              "18285    2000\n",
              "18286    2000\n",
              "18287    2000\n",
              "Length: 18288, dtype: int64"
            ]
          },
          "execution_count": 126,
          "metadata": {},
          "output_type": "execute_result"
        }
      ],
      "source": [
        "difference_of_dates.apply(lambda x: x.days)"
      ]
    },
    {
      "cell_type": "code",
      "execution_count": null,
      "metadata": {
        "scrolled": false,
        "id": "nTe73hAB0guF"
      },
      "outputs": [],
      "source": [
        "data['day_difference'] = difference_of_dates.apply(lambda x: x.days)"
      ]
    },
    {
      "cell_type": "code",
      "execution_count": null,
      "metadata": {
        "scrolled": false,
        "id": "_Dyo4kM_0guG",
        "outputId": "d1221c2f-3577-49e0-aefc-7de726be9a79"
      },
      "outputs": [
        {
          "data": {
            "text/html": [
              "<div>\n",
              "<style scoped>\n",
              "    .dataframe tbody tr th:only-of-type {\n",
              "        vertical-align: middle;\n",
              "    }\n",
              "\n",
              "    .dataframe tbody tr th {\n",
              "        vertical-align: top;\n",
              "    }\n",
              "\n",
              "    .dataframe thead th {\n",
              "        text-align: right;\n",
              "    }\n",
              "</style>\n",
              "<table border=\"1\" class=\"dataframe\">\n",
              "  <thead>\n",
              "    <tr style=\"text-align: right;\">\n",
              "      <th></th>\n",
              "      <th>ID</th>\n",
              "      <th>Datetime</th>\n",
              "      <th>Count</th>\n",
              "      <th>month</th>\n",
              "      <th>month_name</th>\n",
              "      <th>day_name</th>\n",
              "      <th>day_of_week</th>\n",
              "      <th>day_of_year</th>\n",
              "      <th>today</th>\n",
              "      <th>day_difference</th>\n",
              "    </tr>\n",
              "  </thead>\n",
              "  <tbody>\n",
              "    <tr>\n",
              "      <td>0</td>\n",
              "      <td>0</td>\n",
              "      <td>2012-08-25 00:00:00</td>\n",
              "      <td>8</td>\n",
              "      <td>8</td>\n",
              "      <td>August</td>\n",
              "      <td>Saturday</td>\n",
              "      <td>5</td>\n",
              "      <td>238</td>\n",
              "      <td>2020-03-18</td>\n",
              "      <td>2762</td>\n",
              "    </tr>\n",
              "    <tr>\n",
              "      <td>1</td>\n",
              "      <td>1</td>\n",
              "      <td>2012-08-25 01:00:00</td>\n",
              "      <td>2</td>\n",
              "      <td>8</td>\n",
              "      <td>August</td>\n",
              "      <td>Saturday</td>\n",
              "      <td>5</td>\n",
              "      <td>238</td>\n",
              "      <td>2020-03-18</td>\n",
              "      <td>2761</td>\n",
              "    </tr>\n",
              "    <tr>\n",
              "      <td>2</td>\n",
              "      <td>2</td>\n",
              "      <td>2012-08-25 02:00:00</td>\n",
              "      <td>6</td>\n",
              "      <td>8</td>\n",
              "      <td>August</td>\n",
              "      <td>Saturday</td>\n",
              "      <td>5</td>\n",
              "      <td>238</td>\n",
              "      <td>2020-03-18</td>\n",
              "      <td>2761</td>\n",
              "    </tr>\n",
              "    <tr>\n",
              "      <td>3</td>\n",
              "      <td>3</td>\n",
              "      <td>2012-08-25 03:00:00</td>\n",
              "      <td>2</td>\n",
              "      <td>8</td>\n",
              "      <td>August</td>\n",
              "      <td>Saturday</td>\n",
              "      <td>5</td>\n",
              "      <td>238</td>\n",
              "      <td>2020-03-18</td>\n",
              "      <td>2761</td>\n",
              "    </tr>\n",
              "    <tr>\n",
              "      <td>4</td>\n",
              "      <td>4</td>\n",
              "      <td>2012-08-25 04:00:00</td>\n",
              "      <td>2</td>\n",
              "      <td>8</td>\n",
              "      <td>August</td>\n",
              "      <td>Saturday</td>\n",
              "      <td>5</td>\n",
              "      <td>238</td>\n",
              "      <td>2020-03-18</td>\n",
              "      <td>2761</td>\n",
              "    </tr>\n",
              "  </tbody>\n",
              "</table>\n",
              "</div>"
            ],
            "text/plain": [
              "   ID            Datetime  Count  month month_name  day_name  day_of_week  \\\n",
              "0   0 2012-08-25 00:00:00      8      8     August  Saturday            5   \n",
              "1   1 2012-08-25 01:00:00      2      8     August  Saturday            5   \n",
              "2   2 2012-08-25 02:00:00      6      8     August  Saturday            5   \n",
              "3   3 2012-08-25 03:00:00      2      8     August  Saturday            5   \n",
              "4   4 2012-08-25 04:00:00      2      8     August  Saturday            5   \n",
              "\n",
              "   day_of_year      today  day_difference  \n",
              "0          238 2020-03-18            2762  \n",
              "1          238 2020-03-18            2761  \n",
              "2          238 2020-03-18            2761  \n",
              "3          238 2020-03-18            2761  \n",
              "4          238 2020-03-18            2761  "
            ]
          },
          "execution_count": 128,
          "metadata": {},
          "output_type": "execute_result"
        }
      ],
      "source": [
        "data.head()"
      ]
    },
    {
      "cell_type": "markdown",
      "metadata": {
        "id": "DQSEK-F50guG"
      },
      "source": [
        "---\n",
        "\n",
        "### `CHALLENGES WITH TIME DATA`\n",
        "\n",
        "---\n",
        "\n",
        "#### DEALING WITH TIME ZONES\n",
        "\n",
        "- If you have the dataset of a specific time zone. You can tell pandas about the local time zone and later you can convert it into different time zones.\n",
        "- Use function `dt.tz_localize` to set the local time zone.\n",
        "\n",
        "\n",
        "---"
      ]
    },
    {
      "cell_type": "code",
      "execution_count": null,
      "metadata": {
        "scrolled": false,
        "id": "h72tVlaD0guG"
      },
      "outputs": [],
      "source": [
        "# set the current time as of Asia\n",
        "data['asia_timezone'] = data.Datetime.dt.tz_localize('Asia/Calcutta')"
      ]
    },
    {
      "cell_type": "code",
      "execution_count": null,
      "metadata": {
        "scrolled": false,
        "id": "uMW-GYuK0guG",
        "outputId": "6af829a3-cb8f-4349-a4a3-8c25a8adf375"
      },
      "outputs": [
        {
          "data": {
            "text/html": [
              "<div>\n",
              "<style scoped>\n",
              "    .dataframe tbody tr th:only-of-type {\n",
              "        vertical-align: middle;\n",
              "    }\n",
              "\n",
              "    .dataframe tbody tr th {\n",
              "        vertical-align: top;\n",
              "    }\n",
              "\n",
              "    .dataframe thead th {\n",
              "        text-align: right;\n",
              "    }\n",
              "</style>\n",
              "<table border=\"1\" class=\"dataframe\">\n",
              "  <thead>\n",
              "    <tr style=\"text-align: right;\">\n",
              "      <th></th>\n",
              "      <th>ID</th>\n",
              "      <th>Datetime</th>\n",
              "      <th>Count</th>\n",
              "      <th>month</th>\n",
              "      <th>month_name</th>\n",
              "      <th>day_name</th>\n",
              "      <th>day_of_week</th>\n",
              "      <th>day_of_year</th>\n",
              "      <th>today</th>\n",
              "      <th>day_difference</th>\n",
              "      <th>asia_timezone</th>\n",
              "    </tr>\n",
              "  </thead>\n",
              "  <tbody>\n",
              "    <tr>\n",
              "      <td>0</td>\n",
              "      <td>0</td>\n",
              "      <td>2012-08-25 00:00:00</td>\n",
              "      <td>8</td>\n",
              "      <td>8</td>\n",
              "      <td>August</td>\n",
              "      <td>Saturday</td>\n",
              "      <td>5</td>\n",
              "      <td>238</td>\n",
              "      <td>2020-03-18</td>\n",
              "      <td>2762</td>\n",
              "      <td>2012-08-25 00:00:00+05:30</td>\n",
              "    </tr>\n",
              "    <tr>\n",
              "      <td>1</td>\n",
              "      <td>1</td>\n",
              "      <td>2012-08-25 01:00:00</td>\n",
              "      <td>2</td>\n",
              "      <td>8</td>\n",
              "      <td>August</td>\n",
              "      <td>Saturday</td>\n",
              "      <td>5</td>\n",
              "      <td>238</td>\n",
              "      <td>2020-03-18</td>\n",
              "      <td>2761</td>\n",
              "      <td>2012-08-25 01:00:00+05:30</td>\n",
              "    </tr>\n",
              "    <tr>\n",
              "      <td>2</td>\n",
              "      <td>2</td>\n",
              "      <td>2012-08-25 02:00:00</td>\n",
              "      <td>6</td>\n",
              "      <td>8</td>\n",
              "      <td>August</td>\n",
              "      <td>Saturday</td>\n",
              "      <td>5</td>\n",
              "      <td>238</td>\n",
              "      <td>2020-03-18</td>\n",
              "      <td>2761</td>\n",
              "      <td>2012-08-25 02:00:00+05:30</td>\n",
              "    </tr>\n",
              "    <tr>\n",
              "      <td>3</td>\n",
              "      <td>3</td>\n",
              "      <td>2012-08-25 03:00:00</td>\n",
              "      <td>2</td>\n",
              "      <td>8</td>\n",
              "      <td>August</td>\n",
              "      <td>Saturday</td>\n",
              "      <td>5</td>\n",
              "      <td>238</td>\n",
              "      <td>2020-03-18</td>\n",
              "      <td>2761</td>\n",
              "      <td>2012-08-25 03:00:00+05:30</td>\n",
              "    </tr>\n",
              "    <tr>\n",
              "      <td>4</td>\n",
              "      <td>4</td>\n",
              "      <td>2012-08-25 04:00:00</td>\n",
              "      <td>2</td>\n",
              "      <td>8</td>\n",
              "      <td>August</td>\n",
              "      <td>Saturday</td>\n",
              "      <td>5</td>\n",
              "      <td>238</td>\n",
              "      <td>2020-03-18</td>\n",
              "      <td>2761</td>\n",
              "      <td>2012-08-25 04:00:00+05:30</td>\n",
              "    </tr>\n",
              "  </tbody>\n",
              "</table>\n",
              "</div>"
            ],
            "text/plain": [
              "   ID            Datetime  Count  month month_name  day_name  day_of_week  \\\n",
              "0   0 2012-08-25 00:00:00      8      8     August  Saturday            5   \n",
              "1   1 2012-08-25 01:00:00      2      8     August  Saturday            5   \n",
              "2   2 2012-08-25 02:00:00      6      8     August  Saturday            5   \n",
              "3   3 2012-08-25 03:00:00      2      8     August  Saturday            5   \n",
              "4   4 2012-08-25 04:00:00      2      8     August  Saturday            5   \n",
              "\n",
              "   day_of_year      today  day_difference             asia_timezone  \n",
              "0          238 2020-03-18            2762 2012-08-25 00:00:00+05:30  \n",
              "1          238 2020-03-18            2761 2012-08-25 01:00:00+05:30  \n",
              "2          238 2020-03-18            2761 2012-08-25 02:00:00+05:30  \n",
              "3          238 2020-03-18            2761 2012-08-25 03:00:00+05:30  \n",
              "4          238 2020-03-18            2761 2012-08-25 04:00:00+05:30  "
            ]
          },
          "execution_count": 130,
          "metadata": {},
          "output_type": "execute_result"
        }
      ],
      "source": [
        "# view the data\n",
        "data.head()"
      ]
    },
    {
      "cell_type": "markdown",
      "metadata": {
        "id": "WqzLaJKe0guH"
      },
      "source": [
        "---\n",
        "\n",
        "- Use the column asia_timezone and convert it into the UTC timezone.\n",
        "- Use the function `tz_convert` to convert the timezone.\n",
        "\n",
        "---"
      ]
    },
    {
      "cell_type": "code",
      "execution_count": null,
      "metadata": {
        "scrolled": false,
        "id": "9bsm9ocB0guH"
      },
      "outputs": [],
      "source": [
        "# change the asia time zone to UTC\n",
        "data['utc_timezone'] = data.asia_timezone.dt.tz_convert('UTC')"
      ]
    },
    {
      "cell_type": "code",
      "execution_count": null,
      "metadata": {
        "id": "MJ19sRQZ0guH",
        "outputId": "53dcd309-4089-4f6d-a0df-f44560c64b9e"
      },
      "outputs": [
        {
          "data": {
            "text/html": [
              "<div>\n",
              "<style scoped>\n",
              "    .dataframe tbody tr th:only-of-type {\n",
              "        vertical-align: middle;\n",
              "    }\n",
              "\n",
              "    .dataframe tbody tr th {\n",
              "        vertical-align: top;\n",
              "    }\n",
              "\n",
              "    .dataframe thead th {\n",
              "        text-align: right;\n",
              "    }\n",
              "</style>\n",
              "<table border=\"1\" class=\"dataframe\">\n",
              "  <thead>\n",
              "    <tr style=\"text-align: right;\">\n",
              "      <th></th>\n",
              "      <th>ID</th>\n",
              "      <th>Datetime</th>\n",
              "      <th>Count</th>\n",
              "      <th>month</th>\n",
              "      <th>month_name</th>\n",
              "      <th>day_name</th>\n",
              "      <th>day_of_week</th>\n",
              "      <th>day_of_year</th>\n",
              "      <th>today</th>\n",
              "      <th>day_difference</th>\n",
              "      <th>asia_timezone</th>\n",
              "      <th>utc_timezone</th>\n",
              "    </tr>\n",
              "  </thead>\n",
              "  <tbody>\n",
              "    <tr>\n",
              "      <td>0</td>\n",
              "      <td>0</td>\n",
              "      <td>2012-08-25 00:00:00</td>\n",
              "      <td>8</td>\n",
              "      <td>8</td>\n",
              "      <td>August</td>\n",
              "      <td>Saturday</td>\n",
              "      <td>5</td>\n",
              "      <td>238</td>\n",
              "      <td>2020-03-18</td>\n",
              "      <td>2762</td>\n",
              "      <td>2012-08-25 00:00:00+05:30</td>\n",
              "      <td>2012-08-24 18:30:00+00:00</td>\n",
              "    </tr>\n",
              "    <tr>\n",
              "      <td>1</td>\n",
              "      <td>1</td>\n",
              "      <td>2012-08-25 01:00:00</td>\n",
              "      <td>2</td>\n",
              "      <td>8</td>\n",
              "      <td>August</td>\n",
              "      <td>Saturday</td>\n",
              "      <td>5</td>\n",
              "      <td>238</td>\n",
              "      <td>2020-03-18</td>\n",
              "      <td>2761</td>\n",
              "      <td>2012-08-25 01:00:00+05:30</td>\n",
              "      <td>2012-08-24 19:30:00+00:00</td>\n",
              "    </tr>\n",
              "    <tr>\n",
              "      <td>2</td>\n",
              "      <td>2</td>\n",
              "      <td>2012-08-25 02:00:00</td>\n",
              "      <td>6</td>\n",
              "      <td>8</td>\n",
              "      <td>August</td>\n",
              "      <td>Saturday</td>\n",
              "      <td>5</td>\n",
              "      <td>238</td>\n",
              "      <td>2020-03-18</td>\n",
              "      <td>2761</td>\n",
              "      <td>2012-08-25 02:00:00+05:30</td>\n",
              "      <td>2012-08-24 20:30:00+00:00</td>\n",
              "    </tr>\n",
              "    <tr>\n",
              "      <td>3</td>\n",
              "      <td>3</td>\n",
              "      <td>2012-08-25 03:00:00</td>\n",
              "      <td>2</td>\n",
              "      <td>8</td>\n",
              "      <td>August</td>\n",
              "      <td>Saturday</td>\n",
              "      <td>5</td>\n",
              "      <td>238</td>\n",
              "      <td>2020-03-18</td>\n",
              "      <td>2761</td>\n",
              "      <td>2012-08-25 03:00:00+05:30</td>\n",
              "      <td>2012-08-24 21:30:00+00:00</td>\n",
              "    </tr>\n",
              "    <tr>\n",
              "      <td>4</td>\n",
              "      <td>4</td>\n",
              "      <td>2012-08-25 04:00:00</td>\n",
              "      <td>2</td>\n",
              "      <td>8</td>\n",
              "      <td>August</td>\n",
              "      <td>Saturday</td>\n",
              "      <td>5</td>\n",
              "      <td>238</td>\n",
              "      <td>2020-03-18</td>\n",
              "      <td>2761</td>\n",
              "      <td>2012-08-25 04:00:00+05:30</td>\n",
              "      <td>2012-08-24 22:30:00+00:00</td>\n",
              "    </tr>\n",
              "  </tbody>\n",
              "</table>\n",
              "</div>"
            ],
            "text/plain": [
              "   ID            Datetime  Count  month month_name  day_name  day_of_week  \\\n",
              "0   0 2012-08-25 00:00:00      8      8     August  Saturday            5   \n",
              "1   1 2012-08-25 01:00:00      2      8     August  Saturday            5   \n",
              "2   2 2012-08-25 02:00:00      6      8     August  Saturday            5   \n",
              "3   3 2012-08-25 03:00:00      2      8     August  Saturday            5   \n",
              "4   4 2012-08-25 04:00:00      2      8     August  Saturday            5   \n",
              "\n",
              "   day_of_year      today  day_difference             asia_timezone  \\\n",
              "0          238 2020-03-18            2762 2012-08-25 00:00:00+05:30   \n",
              "1          238 2020-03-18            2761 2012-08-25 01:00:00+05:30   \n",
              "2          238 2020-03-18            2761 2012-08-25 02:00:00+05:30   \n",
              "3          238 2020-03-18            2761 2012-08-25 03:00:00+05:30   \n",
              "4          238 2020-03-18            2761 2012-08-25 04:00:00+05:30   \n",
              "\n",
              "               utc_timezone  \n",
              "0 2012-08-24 18:30:00+00:00  \n",
              "1 2012-08-24 19:30:00+00:00  \n",
              "2 2012-08-24 20:30:00+00:00  \n",
              "3 2012-08-24 21:30:00+00:00  \n",
              "4 2012-08-24 22:30:00+00:00  "
            ]
          },
          "execution_count": 132,
          "metadata": {},
          "output_type": "execute_result"
        }
      ],
      "source": [
        "data.head()"
      ]
    },
    {
      "cell_type": "code",
      "execution_count": null,
      "metadata": {
        "scrolled": false,
        "id": "hy2Ihfgr0guH",
        "outputId": "445d6104-2b97-4a68-e7bd-4ec78b9408b8"
      },
      "outputs": [
        {
          "data": {
            "text/html": [
              "<div>\n",
              "<style scoped>\n",
              "    .dataframe tbody tr th:only-of-type {\n",
              "        vertical-align: middle;\n",
              "    }\n",
              "\n",
              "    .dataframe tbody tr th {\n",
              "        vertical-align: top;\n",
              "    }\n",
              "\n",
              "    .dataframe thead th {\n",
              "        text-align: right;\n",
              "    }\n",
              "</style>\n",
              "<table border=\"1\" class=\"dataframe\">\n",
              "  <thead>\n",
              "    <tr style=\"text-align: right;\">\n",
              "      <th></th>\n",
              "      <th>asia_timezone</th>\n",
              "      <th>utc_timezone</th>\n",
              "    </tr>\n",
              "  </thead>\n",
              "  <tbody>\n",
              "    <tr>\n",
              "      <td>0</td>\n",
              "      <td>2012-08-25 00:00:00+05:30</td>\n",
              "      <td>2012-08-24 18:30:00+00:00</td>\n",
              "    </tr>\n",
              "    <tr>\n",
              "      <td>1</td>\n",
              "      <td>2012-08-25 01:00:00+05:30</td>\n",
              "      <td>2012-08-24 19:30:00+00:00</td>\n",
              "    </tr>\n",
              "    <tr>\n",
              "      <td>2</td>\n",
              "      <td>2012-08-25 02:00:00+05:30</td>\n",
              "      <td>2012-08-24 20:30:00+00:00</td>\n",
              "    </tr>\n",
              "    <tr>\n",
              "      <td>3</td>\n",
              "      <td>2012-08-25 03:00:00+05:30</td>\n",
              "      <td>2012-08-24 21:30:00+00:00</td>\n",
              "    </tr>\n",
              "    <tr>\n",
              "      <td>4</td>\n",
              "      <td>2012-08-25 04:00:00+05:30</td>\n",
              "      <td>2012-08-24 22:30:00+00:00</td>\n",
              "    </tr>\n",
              "    <tr>\n",
              "      <td>...</td>\n",
              "      <td>...</td>\n",
              "      <td>...</td>\n",
              "    </tr>\n",
              "    <tr>\n",
              "      <td>18283</td>\n",
              "      <td>2014-09-25 19:00:00+05:30</td>\n",
              "      <td>2014-09-25 13:30:00+00:00</td>\n",
              "    </tr>\n",
              "    <tr>\n",
              "      <td>18284</td>\n",
              "      <td>2014-09-25 20:00:00+05:30</td>\n",
              "      <td>2014-09-25 14:30:00+00:00</td>\n",
              "    </tr>\n",
              "    <tr>\n",
              "      <td>18285</td>\n",
              "      <td>2014-09-25 21:00:00+05:30</td>\n",
              "      <td>2014-09-25 15:30:00+00:00</td>\n",
              "    </tr>\n",
              "    <tr>\n",
              "      <td>18286</td>\n",
              "      <td>2014-09-25 22:00:00+05:30</td>\n",
              "      <td>2014-09-25 16:30:00+00:00</td>\n",
              "    </tr>\n",
              "    <tr>\n",
              "      <td>18287</td>\n",
              "      <td>2014-09-25 23:00:00+05:30</td>\n",
              "      <td>2014-09-25 17:30:00+00:00</td>\n",
              "    </tr>\n",
              "  </tbody>\n",
              "</table>\n",
              "<p>18288 rows × 2 columns</p>\n",
              "</div>"
            ],
            "text/plain": [
              "                  asia_timezone              utc_timezone\n",
              "0     2012-08-25 00:00:00+05:30 2012-08-24 18:30:00+00:00\n",
              "1     2012-08-25 01:00:00+05:30 2012-08-24 19:30:00+00:00\n",
              "2     2012-08-25 02:00:00+05:30 2012-08-24 20:30:00+00:00\n",
              "3     2012-08-25 03:00:00+05:30 2012-08-24 21:30:00+00:00\n",
              "4     2012-08-25 04:00:00+05:30 2012-08-24 22:30:00+00:00\n",
              "...                         ...                       ...\n",
              "18283 2014-09-25 19:00:00+05:30 2014-09-25 13:30:00+00:00\n",
              "18284 2014-09-25 20:00:00+05:30 2014-09-25 14:30:00+00:00\n",
              "18285 2014-09-25 21:00:00+05:30 2014-09-25 15:30:00+00:00\n",
              "18286 2014-09-25 22:00:00+05:30 2014-09-25 16:30:00+00:00\n",
              "18287 2014-09-25 23:00:00+05:30 2014-09-25 17:30:00+00:00\n",
              "\n",
              "[18288 rows x 2 columns]"
            ]
          },
          "execution_count": 133,
          "metadata": {},
          "output_type": "execute_result"
        }
      ],
      "source": [
        "data[['asia_timezone', 'utc_timezone']]"
      ]
    },
    {
      "cell_type": "markdown",
      "metadata": {
        "id": "cs-nzjyn0guI"
      },
      "source": [
        "---\n",
        "\n",
        "***Select a random date***\n",
        "\n",
        "---"
      ]
    },
    {
      "cell_type": "code",
      "execution_count": null,
      "metadata": {
        "scrolled": false,
        "id": "ITvb8ytc0guI",
        "outputId": "d55b84ed-d7db-4870-eead-a9b038c4364a"
      },
      "outputs": [
        {
          "data": {
            "text/plain": [
              "Timestamp('2014-09-25 23:00:00+0530', tz='Asia/Calcutta')"
            ]
          },
          "execution_count": 134,
          "metadata": {},
          "output_type": "execute_result"
        }
      ],
      "source": [
        "data['asia_timezone'][18287]"
      ]
    },
    {
      "cell_type": "code",
      "execution_count": null,
      "metadata": {
        "scrolled": false,
        "id": "IxMeRYF50guI",
        "outputId": "d5f164ff-94ba-4ab1-a9b0-e4041a0d7cd5"
      },
      "outputs": [
        {
          "data": {
            "text/plain": [
              "Timestamp('2014-09-25 17:30:00+0000', tz='UTC')"
            ]
          },
          "execution_count": 135,
          "metadata": {},
          "output_type": "execute_result"
        }
      ],
      "source": [
        "data['utc_timezone'][18287]"
      ]
    },
    {
      "cell_type": "markdown",
      "metadata": {
        "id": "4ynXkBHa0guI"
      },
      "source": [
        "***You can see that time difference is 5 hours 30 minutes.***\n",
        "\n",
        "---"
      ]
    },
    {
      "cell_type": "markdown",
      "metadata": {
        "id": "87-ZThug0guJ"
      },
      "source": [
        "---\n",
        "\n",
        "#### `READING DATA WITH UNIX TIMESTAMP.`\n",
        "\n",
        "- A UNIX timestamp is a way of storing a specific date and time. The timestamp is a ten digit number which represents the number of seconds that have passed since midnight on the 1st January 1970, UTC time.\n",
        "\n",
        "---"
      ]
    },
    {
      "cell_type": "code",
      "execution_count": null,
      "metadata": {
        "scrolled": false,
        "id": "UkkiBaep0guJ"
      },
      "outputs": [],
      "source": [
        "# read data\n",
        "data_with_unix_ts = pd.read_csv('datasets/data_with_timestamp.csv')"
      ]
    },
    {
      "cell_type": "code",
      "execution_count": null,
      "metadata": {
        "scrolled": false,
        "id": "QpUEjYQM0guJ",
        "outputId": "7611f90c-c82e-488f-c3bd-c9f0ebc9a744"
      },
      "outputs": [
        {
          "data": {
            "text/html": [
              "<div>\n",
              "<style scoped>\n",
              "    .dataframe tbody tr th:only-of-type {\n",
              "        vertical-align: middle;\n",
              "    }\n",
              "\n",
              "    .dataframe tbody tr th {\n",
              "        vertical-align: top;\n",
              "    }\n",
              "\n",
              "    .dataframe thead th {\n",
              "        text-align: right;\n",
              "    }\n",
              "</style>\n",
              "<table border=\"1\" class=\"dataframe\">\n",
              "  <thead>\n",
              "    <tr style=\"text-align: right;\">\n",
              "      <th></th>\n",
              "      <th>ID</th>\n",
              "      <th>timestamp</th>\n",
              "      <th>Count</th>\n",
              "    </tr>\n",
              "  </thead>\n",
              "  <tbody>\n",
              "    <tr>\n",
              "      <td>0</td>\n",
              "      <td>0</td>\n",
              "      <td>1345852800</td>\n",
              "      <td>8</td>\n",
              "    </tr>\n",
              "    <tr>\n",
              "      <td>1</td>\n",
              "      <td>1</td>\n",
              "      <td>1345856400</td>\n",
              "      <td>2</td>\n",
              "    </tr>\n",
              "    <tr>\n",
              "      <td>2</td>\n",
              "      <td>2</td>\n",
              "      <td>1345860000</td>\n",
              "      <td>6</td>\n",
              "    </tr>\n",
              "    <tr>\n",
              "      <td>3</td>\n",
              "      <td>3</td>\n",
              "      <td>1345863600</td>\n",
              "      <td>2</td>\n",
              "    </tr>\n",
              "    <tr>\n",
              "      <td>4</td>\n",
              "      <td>4</td>\n",
              "      <td>1345867200</td>\n",
              "      <td>2</td>\n",
              "    </tr>\n",
              "  </tbody>\n",
              "</table>\n",
              "</div>"
            ],
            "text/plain": [
              "   ID   timestamp  Count\n",
              "0   0  1345852800      8\n",
              "1   1  1345856400      2\n",
              "2   2  1345860000      6\n",
              "3   3  1345863600      2\n",
              "4   4  1345867200      2"
            ]
          },
          "execution_count": 137,
          "metadata": {},
          "output_type": "execute_result"
        }
      ],
      "source": [
        "# view the data\n",
        "data_with_unix_ts.head()"
      ]
    },
    {
      "cell_type": "code",
      "execution_count": null,
      "metadata": {
        "scrolled": false,
        "id": "vu4Eh3As0guJ"
      },
      "outputs": [],
      "source": [
        "# convert the unix timestamp to datetime.\n",
        "data_with_unix_ts.timestamp = pd.to_datetime(data_with_unix_ts.timestamp, unit='s')"
      ]
    },
    {
      "cell_type": "code",
      "execution_count": null,
      "metadata": {
        "scrolled": false,
        "id": "exqiApFs0guJ",
        "outputId": "e5a29bd4-8cbd-41ee-99ef-476589004013"
      },
      "outputs": [
        {
          "data": {
            "text/html": [
              "<div>\n",
              "<style scoped>\n",
              "    .dataframe tbody tr th:only-of-type {\n",
              "        vertical-align: middle;\n",
              "    }\n",
              "\n",
              "    .dataframe tbody tr th {\n",
              "        vertical-align: top;\n",
              "    }\n",
              "\n",
              "    .dataframe thead th {\n",
              "        text-align: right;\n",
              "    }\n",
              "</style>\n",
              "<table border=\"1\" class=\"dataframe\">\n",
              "  <thead>\n",
              "    <tr style=\"text-align: right;\">\n",
              "      <th></th>\n",
              "      <th>ID</th>\n",
              "      <th>timestamp</th>\n",
              "      <th>Count</th>\n",
              "    </tr>\n",
              "  </thead>\n",
              "  <tbody>\n",
              "    <tr>\n",
              "      <td>0</td>\n",
              "      <td>0</td>\n",
              "      <td>2012-08-25 00:00:00</td>\n",
              "      <td>8</td>\n",
              "    </tr>\n",
              "    <tr>\n",
              "      <td>1</td>\n",
              "      <td>1</td>\n",
              "      <td>2012-08-25 01:00:00</td>\n",
              "      <td>2</td>\n",
              "    </tr>\n",
              "    <tr>\n",
              "      <td>2</td>\n",
              "      <td>2</td>\n",
              "      <td>2012-08-25 02:00:00</td>\n",
              "      <td>6</td>\n",
              "    </tr>\n",
              "    <tr>\n",
              "      <td>3</td>\n",
              "      <td>3</td>\n",
              "      <td>2012-08-25 03:00:00</td>\n",
              "      <td>2</td>\n",
              "    </tr>\n",
              "    <tr>\n",
              "      <td>4</td>\n",
              "      <td>4</td>\n",
              "      <td>2012-08-25 04:00:00</td>\n",
              "      <td>2</td>\n",
              "    </tr>\n",
              "  </tbody>\n",
              "</table>\n",
              "</div>"
            ],
            "text/plain": [
              "   ID           timestamp  Count\n",
              "0   0 2012-08-25 00:00:00      8\n",
              "1   1 2012-08-25 01:00:00      2\n",
              "2   2 2012-08-25 02:00:00      6\n",
              "3   3 2012-08-25 03:00:00      2\n",
              "4   4 2012-08-25 04:00:00      2"
            ]
          },
          "execution_count": 139,
          "metadata": {},
          "output_type": "execute_result"
        }
      ],
      "source": [
        "# view the top rows\n",
        "data_with_unix_ts.head()"
      ]
    },
    {
      "cell_type": "code",
      "execution_count": null,
      "metadata": {
        "scrolled": false,
        "id": "UCOShoQ10guJ"
      },
      "outputs": [],
      "source": []
    }
  ],
  "metadata": {
    "kernelspec": {
      "display_name": "Python 3",
      "language": "python",
      "name": "python3"
    },
    "language_info": {
      "codemirror_mode": {
        "name": "ipython",
        "version": 3
      },
      "file_extension": ".py",
      "mimetype": "text/x-python",
      "name": "python",
      "nbconvert_exporter": "python",
      "pygments_lexer": "ipython3",
      "version": "3.7.4"
    },
    "colab": {
      "provenance": [],
      "include_colab_link": true
    }
  },
  "nbformat": 4,
  "nbformat_minor": 0
}