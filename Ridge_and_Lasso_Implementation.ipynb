{
  "nbformat": 4,
  "nbformat_minor": 0,
  "metadata": {
    "colab": {
      "provenance": [],
      "include_colab_link": true
    },
    "language_info": {
      "codemirror_mode": {
        "name": "ipython",
        "version": 3
      },
      "file_extension": ".py",
      "mimetype": "text/x-python",
      "name": "python",
      "nbconvert_exporter": "python",
      "pygments_lexer": "ipython3",
      "version": "3.6.4"
    },
    "kernelspec": {
      "display_name": "Python 3",
      "language": "python",
      "name": "python3"
    }
  },
  "cells": [
    {
      "cell_type": "markdown",
      "metadata": {
        "id": "view-in-github",
        "colab_type": "text"
      },
      "source": [
        "<a href=\"https://colab.research.google.com/github/JapiKredi/Pinnacle_AI_program_AnalyticsVidyha/blob/main/Ridge_and_Lasso_Implementation.ipynb\" target=\"_parent\"><img src=\"https://colab.research.google.com/assets/colab-badge.svg\" alt=\"Open In Colab\"/></a>"
      ]
    },
    {
      "cell_type": "code",
      "metadata": {
        "id": "XiprJxiXIfN9"
      },
      "source": [
        "#Importing libraries\n",
        "import numpy as np\n",
        "import pandas as pd\n",
        "import random\n",
        "import matplotlib.pyplot as plt\n",
        "from sklearn.model_selection import train_test_split\n",
        "%matplotlib inline"
      ],
      "execution_count": 1,
      "outputs": []
    },
    {
      "cell_type": "code",
      "metadata": {
        "id": "QQWy8t4SIfOA"
      },
      "source": [
        "#Defining independent variable as angles from 60deg to 300deg converted to radians\n",
        "x = np.array([i*np.pi/180 for i in range(10,360,3)])"
      ],
      "execution_count": 2,
      "outputs": []
    },
    {
      "cell_type": "code",
      "source": [
        "x"
      ],
      "metadata": {
        "colab": {
          "base_uri": "https://localhost:8080/"
        },
        "id": "hXvQFqlmio5n",
        "outputId": "3543a239-e322-4669-d6fd-29e5cbf7ed37"
      },
      "execution_count": 3,
      "outputs": [
        {
          "output_type": "execute_result",
          "data": {
            "text/plain": [
              "array([0.17453293, 0.2268928 , 0.27925268, 0.33161256, 0.38397244,\n",
              "       0.43633231, 0.48869219, 0.54105207, 0.59341195, 0.64577182,\n",
              "       0.6981317 , 0.75049158, 0.80285146, 0.85521133, 0.90757121,\n",
              "       0.95993109, 1.01229097, 1.06465084, 1.11701072, 1.1693706 ,\n",
              "       1.22173048, 1.27409035, 1.32645023, 1.37881011, 1.43116999,\n",
              "       1.48352986, 1.53588974, 1.58824962, 1.6406095 , 1.69296937,\n",
              "       1.74532925, 1.79768913, 1.85004901, 1.90240888, 1.95476876,\n",
              "       2.00712864, 2.05948852, 2.11184839, 2.16420827, 2.21656815,\n",
              "       2.26892803, 2.32128791, 2.37364778, 2.42600766, 2.47836754,\n",
              "       2.53072742, 2.58308729, 2.63544717, 2.68780705, 2.74016693,\n",
              "       2.7925268 , 2.84488668, 2.89724656, 2.94960644, 3.00196631,\n",
              "       3.05432619, 3.10668607, 3.15904595, 3.21140582, 3.2637657 ,\n",
              "       3.31612558, 3.36848546, 3.42084533, 3.47320521, 3.52556509,\n",
              "       3.57792497, 3.63028484, 3.68264472, 3.7350046 , 3.78736448,\n",
              "       3.83972435, 3.89208423, 3.94444411, 3.99680399, 4.04916386,\n",
              "       4.10152374, 4.15388362, 4.2062435 , 4.25860337, 4.31096325,\n",
              "       4.36332313, 4.41568301, 4.46804289, 4.52040276, 4.57276264,\n",
              "       4.62512252, 4.6774824 , 4.72984227, 4.78220215, 4.83456203,\n",
              "       4.88692191, 4.93928178, 4.99164166, 5.04400154, 5.09636142,\n",
              "       5.14872129, 5.20108117, 5.25344105, 5.30580093, 5.3581608 ,\n",
              "       5.41052068, 5.46288056, 5.51524044, 5.56760031, 5.61996019,\n",
              "       5.67232007, 5.72467995, 5.77703982, 5.8293997 , 5.88175958,\n",
              "       5.93411946, 5.98647933, 6.03883921, 6.09119909, 6.14355897,\n",
              "       6.19591884, 6.24827872])"
            ]
          },
          "metadata": {},
          "execution_count": 3
        }
      ]
    },
    {
      "cell_type": "code",
      "metadata": {
        "id": "CGRXp2TZIfOC"
      },
      "source": [
        "#Setting seed for reproducability\n",
        "# The np.random.seed(10) function initializes the random number generator with a specific seed value (in this case, 10).\n",
        "# This means that any random numbers generated after setting the seed will be the same each time you run the code.\n",
        "np.random.seed(10)"
      ],
      "execution_count": 5,
      "outputs": []
    },
    {
      "cell_type": "code",
      "metadata": {
        "id": "NLYdFsSaIfOE"
      },
      "source": [
        "#Defining the target/dependent variable as sine of the independent variable\n",
        "y = np.sin(x) + np.random.normal(0,0.15,len(x))"
      ],
      "execution_count": 6,
      "outputs": []
    },
    {
      "cell_type": "code",
      "source": [
        "y"
      ],
      "metadata": {
        "colab": {
          "base_uri": "https://localhost:8080/"
        },
        "id": "Dn0ccD34jrTt",
        "outputId": "2c3b7845-9851-4d10-ad90-656eef08ee06"
      },
      "execution_count": 7,
      "outputs": [
        {
          "output_type": "execute_result",
          "data": {
            "text/plain": [
              "array([ 0.37338615,  0.3322429 ,  0.04382731,  0.32431058,  0.46780699,\n",
              "        0.31460543,  0.5092983 ,  0.53132035,  0.55983662,  0.57562499,\n",
              "        0.70774154,  0.86245397,  0.57457995,  0.90895069,  0.82230527,\n",
              "        0.88592269,  0.67755776,  0.89489024,  1.1214746 ,  0.75853412,\n",
              "        0.64303338,  0.69479891,  1.01020625,  1.33937228,  1.15882176,\n",
              "        1.24708803,  1.01426321,  1.20954715,  0.95687685,  1.08452678,\n",
              "        0.94471017,  0.89197371,  0.98116794,  0.87409727,  1.12345482,\n",
              "        0.93555978,  0.94297909,  0.80652245,  1.01750841,  0.68884008,\n",
              "        0.86507918,  0.67872292,  0.55374337,  0.58265845,  0.4949728 ,\n",
              "        0.54167179,  0.47904823,  0.53163511,  0.52314405,  0.36861809,\n",
              "        0.33813434,  0.33573584,  0.16094003,  0.297033  ,  0.26550681,\n",
              "        0.11769286,  0.39410505,  0.12016643, -0.08659734, -0.17619641,\n",
              "       -0.20847552, -0.30021039, -0.10631958, -0.43023966, -0.38677492,\n",
              "       -0.50201267, -0.31254413, -0.72782148, -0.61356778, -0.62010088,\n",
              "       -0.59488415, -0.61286292, -0.75170828, -0.60634871, -0.74079769,\n",
              "       -0.44900439, -1.07429632, -0.78152961, -1.05556393, -1.04020618,\n",
              "       -0.64192993, -0.69458263, -1.24872355, -1.01504324, -1.00014525,\n",
              "       -1.31595151, -1.0067154 , -0.94084651, -0.96497428, -1.29170522,\n",
              "       -0.81865152, -0.93768847, -0.9705485 , -1.05860252, -0.82039   ,\n",
              "       -0.76856741, -0.95526156, -0.84372916, -0.70498778, -1.09181233,\n",
              "       -0.74842309, -1.01747223, -0.83309476, -0.58559631, -0.63731649,\n",
              "       -0.63359719, -0.57431684, -0.35757833, -0.33234658, -0.50882147,\n",
              "       -0.29807903, -0.36299279,  0.11872695, -0.30171251, -0.18609741,\n",
              "       -0.13948803, -0.10075343])"
            ]
          },
          "metadata": {},
          "execution_count": 7
        }
      ]
    },
    {
      "cell_type": "code",
      "metadata": {
        "id": "A9hruXjrIfOG"
      },
      "source": [
        "#Creating the dataframe using independent and dependent variable\n",
        "data = pd.DataFrame(np.column_stack([x,y]),columns=['x','y'])"
      ],
      "execution_count": 8,
      "outputs": []
    },
    {
      "cell_type": "code",
      "metadata": {
        "id": "0j1ucc3fIfOI",
        "outputId": "1623acfd-875b-43a6-a51e-e5bd991143f5",
        "colab": {
          "base_uri": "https://localhost:8080/",
          "height": 203
        }
      },
      "source": [
        "#Printing first 5 rows of the data\n",
        "data.head()"
      ],
      "execution_count": 9,
      "outputs": [
        {
          "output_type": "execute_result",
          "data": {
            "text/plain": [
              "          x         y\n",
              "0  0.174533  0.373386\n",
              "1  0.226893  0.332243\n",
              "2  0.279253  0.043827\n",
              "3  0.331613  0.324311\n",
              "4  0.383972  0.467807"
            ],
            "text/html": [
              "\n",
              "  <div id=\"df-bba1ac68-e581-4161-a20f-9b9a5f5db237\" class=\"colab-df-container\">\n",
              "    <div>\n",
              "<style scoped>\n",
              "    .dataframe tbody tr th:only-of-type {\n",
              "        vertical-align: middle;\n",
              "    }\n",
              "\n",
              "    .dataframe tbody tr th {\n",
              "        vertical-align: top;\n",
              "    }\n",
              "\n",
              "    .dataframe thead th {\n",
              "        text-align: right;\n",
              "    }\n",
              "</style>\n",
              "<table border=\"1\" class=\"dataframe\">\n",
              "  <thead>\n",
              "    <tr style=\"text-align: right;\">\n",
              "      <th></th>\n",
              "      <th>x</th>\n",
              "      <th>y</th>\n",
              "    </tr>\n",
              "  </thead>\n",
              "  <tbody>\n",
              "    <tr>\n",
              "      <th>0</th>\n",
              "      <td>0.174533</td>\n",
              "      <td>0.373386</td>\n",
              "    </tr>\n",
              "    <tr>\n",
              "      <th>1</th>\n",
              "      <td>0.226893</td>\n",
              "      <td>0.332243</td>\n",
              "    </tr>\n",
              "    <tr>\n",
              "      <th>2</th>\n",
              "      <td>0.279253</td>\n",
              "      <td>0.043827</td>\n",
              "    </tr>\n",
              "    <tr>\n",
              "      <th>3</th>\n",
              "      <td>0.331613</td>\n",
              "      <td>0.324311</td>\n",
              "    </tr>\n",
              "    <tr>\n",
              "      <th>4</th>\n",
              "      <td>0.383972</td>\n",
              "      <td>0.467807</td>\n",
              "    </tr>\n",
              "  </tbody>\n",
              "</table>\n",
              "</div>\n",
              "    <div class=\"colab-df-buttons\">\n",
              "\n",
              "  <div class=\"colab-df-container\">\n",
              "    <button class=\"colab-df-convert\" onclick=\"convertToInteractive('df-bba1ac68-e581-4161-a20f-9b9a5f5db237')\"\n",
              "            title=\"Convert this dataframe to an interactive table.\"\n",
              "            style=\"display:none;\">\n",
              "\n",
              "  <svg xmlns=\"http://www.w3.org/2000/svg\" height=\"24px\" viewBox=\"0 -960 960 960\">\n",
              "    <path d=\"M120-120v-720h720v720H120Zm60-500h600v-160H180v160Zm220 220h160v-160H400v160Zm0 220h160v-160H400v160ZM180-400h160v-160H180v160Zm440 0h160v-160H620v160ZM180-180h160v-160H180v160Zm440 0h160v-160H620v160Z\"/>\n",
              "  </svg>\n",
              "    </button>\n",
              "\n",
              "  <style>\n",
              "    .colab-df-container {\n",
              "      display:flex;\n",
              "      gap: 12px;\n",
              "    }\n",
              "\n",
              "    .colab-df-convert {\n",
              "      background-color: #E8F0FE;\n",
              "      border: none;\n",
              "      border-radius: 50%;\n",
              "      cursor: pointer;\n",
              "      display: none;\n",
              "      fill: #1967D2;\n",
              "      height: 32px;\n",
              "      padding: 0 0 0 0;\n",
              "      width: 32px;\n",
              "    }\n",
              "\n",
              "    .colab-df-convert:hover {\n",
              "      background-color: #E2EBFA;\n",
              "      box-shadow: 0px 1px 2px rgba(60, 64, 67, 0.3), 0px 1px 3px 1px rgba(60, 64, 67, 0.15);\n",
              "      fill: #174EA6;\n",
              "    }\n",
              "\n",
              "    .colab-df-buttons div {\n",
              "      margin-bottom: 4px;\n",
              "    }\n",
              "\n",
              "    [theme=dark] .colab-df-convert {\n",
              "      background-color: #3B4455;\n",
              "      fill: #D2E3FC;\n",
              "    }\n",
              "\n",
              "    [theme=dark] .colab-df-convert:hover {\n",
              "      background-color: #434B5C;\n",
              "      box-shadow: 0px 1px 3px 1px rgba(0, 0, 0, 0.15);\n",
              "      filter: drop-shadow(0px 1px 2px rgba(0, 0, 0, 0.3));\n",
              "      fill: #FFFFFF;\n",
              "    }\n",
              "  </style>\n",
              "\n",
              "    <script>\n",
              "      const buttonEl =\n",
              "        document.querySelector('#df-bba1ac68-e581-4161-a20f-9b9a5f5db237 button.colab-df-convert');\n",
              "      buttonEl.style.display =\n",
              "        google.colab.kernel.accessAllowed ? 'block' : 'none';\n",
              "\n",
              "      async function convertToInteractive(key) {\n",
              "        const element = document.querySelector('#df-bba1ac68-e581-4161-a20f-9b9a5f5db237');\n",
              "        const dataTable =\n",
              "          await google.colab.kernel.invokeFunction('convertToInteractive',\n",
              "                                                    [key], {});\n",
              "        if (!dataTable) return;\n",
              "\n",
              "        const docLinkHtml = 'Like what you see? Visit the ' +\n",
              "          '<a target=\"_blank\" href=https://colab.research.google.com/notebooks/data_table.ipynb>data table notebook</a>'\n",
              "          + ' to learn more about interactive tables.';\n",
              "        element.innerHTML = '';\n",
              "        dataTable['output_type'] = 'display_data';\n",
              "        await google.colab.output.renderOutput(dataTable, element);\n",
              "        const docLink = document.createElement('div');\n",
              "        docLink.innerHTML = docLinkHtml;\n",
              "        element.appendChild(docLink);\n",
              "      }\n",
              "    </script>\n",
              "  </div>\n",
              "\n",
              "\n",
              "<div id=\"df-babd5090-df62-455c-b1d6-c0732ebaacd4\">\n",
              "  <button class=\"colab-df-quickchart\" onclick=\"quickchart('df-babd5090-df62-455c-b1d6-c0732ebaacd4')\"\n",
              "            title=\"Suggest charts\"\n",
              "            style=\"display:none;\">\n",
              "\n",
              "<svg xmlns=\"http://www.w3.org/2000/svg\" height=\"24px\"viewBox=\"0 0 24 24\"\n",
              "     width=\"24px\">\n",
              "    <g>\n",
              "        <path d=\"M19 3H5c-1.1 0-2 .9-2 2v14c0 1.1.9 2 2 2h14c1.1 0 2-.9 2-2V5c0-1.1-.9-2-2-2zM9 17H7v-7h2v7zm4 0h-2V7h2v10zm4 0h-2v-4h2v4z\"/>\n",
              "    </g>\n",
              "</svg>\n",
              "  </button>\n",
              "\n",
              "<style>\n",
              "  .colab-df-quickchart {\n",
              "      --bg-color: #E8F0FE;\n",
              "      --fill-color: #1967D2;\n",
              "      --hover-bg-color: #E2EBFA;\n",
              "      --hover-fill-color: #174EA6;\n",
              "      --disabled-fill-color: #AAA;\n",
              "      --disabled-bg-color: #DDD;\n",
              "  }\n",
              "\n",
              "  [theme=dark] .colab-df-quickchart {\n",
              "      --bg-color: #3B4455;\n",
              "      --fill-color: #D2E3FC;\n",
              "      --hover-bg-color: #434B5C;\n",
              "      --hover-fill-color: #FFFFFF;\n",
              "      --disabled-bg-color: #3B4455;\n",
              "      --disabled-fill-color: #666;\n",
              "  }\n",
              "\n",
              "  .colab-df-quickchart {\n",
              "    background-color: var(--bg-color);\n",
              "    border: none;\n",
              "    border-radius: 50%;\n",
              "    cursor: pointer;\n",
              "    display: none;\n",
              "    fill: var(--fill-color);\n",
              "    height: 32px;\n",
              "    padding: 0;\n",
              "    width: 32px;\n",
              "  }\n",
              "\n",
              "  .colab-df-quickchart:hover {\n",
              "    background-color: var(--hover-bg-color);\n",
              "    box-shadow: 0 1px 2px rgba(60, 64, 67, 0.3), 0 1px 3px 1px rgba(60, 64, 67, 0.15);\n",
              "    fill: var(--button-hover-fill-color);\n",
              "  }\n",
              "\n",
              "  .colab-df-quickchart-complete:disabled,\n",
              "  .colab-df-quickchart-complete:disabled:hover {\n",
              "    background-color: var(--disabled-bg-color);\n",
              "    fill: var(--disabled-fill-color);\n",
              "    box-shadow: none;\n",
              "  }\n",
              "\n",
              "  .colab-df-spinner {\n",
              "    border: 2px solid var(--fill-color);\n",
              "    border-color: transparent;\n",
              "    border-bottom-color: var(--fill-color);\n",
              "    animation:\n",
              "      spin 1s steps(1) infinite;\n",
              "  }\n",
              "\n",
              "  @keyframes spin {\n",
              "    0% {\n",
              "      border-color: transparent;\n",
              "      border-bottom-color: var(--fill-color);\n",
              "      border-left-color: var(--fill-color);\n",
              "    }\n",
              "    20% {\n",
              "      border-color: transparent;\n",
              "      border-left-color: var(--fill-color);\n",
              "      border-top-color: var(--fill-color);\n",
              "    }\n",
              "    30% {\n",
              "      border-color: transparent;\n",
              "      border-left-color: var(--fill-color);\n",
              "      border-top-color: var(--fill-color);\n",
              "      border-right-color: var(--fill-color);\n",
              "    }\n",
              "    40% {\n",
              "      border-color: transparent;\n",
              "      border-right-color: var(--fill-color);\n",
              "      border-top-color: var(--fill-color);\n",
              "    }\n",
              "    60% {\n",
              "      border-color: transparent;\n",
              "      border-right-color: var(--fill-color);\n",
              "    }\n",
              "    80% {\n",
              "      border-color: transparent;\n",
              "      border-right-color: var(--fill-color);\n",
              "      border-bottom-color: var(--fill-color);\n",
              "    }\n",
              "    90% {\n",
              "      border-color: transparent;\n",
              "      border-bottom-color: var(--fill-color);\n",
              "    }\n",
              "  }\n",
              "</style>\n",
              "\n",
              "  <script>\n",
              "    async function quickchart(key) {\n",
              "      const quickchartButtonEl =\n",
              "        document.querySelector('#' + key + ' button');\n",
              "      quickchartButtonEl.disabled = true;  // To prevent multiple clicks.\n",
              "      quickchartButtonEl.classList.add('colab-df-spinner');\n",
              "      try {\n",
              "        const charts = await google.colab.kernel.invokeFunction(\n",
              "            'suggestCharts', [key], {});\n",
              "      } catch (error) {\n",
              "        console.error('Error during call to suggestCharts:', error);\n",
              "      }\n",
              "      quickchartButtonEl.classList.remove('colab-df-spinner');\n",
              "      quickchartButtonEl.classList.add('colab-df-quickchart-complete');\n",
              "    }\n",
              "    (() => {\n",
              "      let quickchartButtonEl =\n",
              "        document.querySelector('#df-babd5090-df62-455c-b1d6-c0732ebaacd4 button');\n",
              "      quickchartButtonEl.style.display =\n",
              "        google.colab.kernel.accessAllowed ? 'block' : 'none';\n",
              "    })();\n",
              "  </script>\n",
              "</div>\n",
              "\n",
              "    </div>\n",
              "  </div>\n"
            ],
            "application/vnd.google.colaboratory.intrinsic+json": {
              "type": "dataframe",
              "variable_name": "data",
              "summary": "{\n  \"name\": \"data\",\n  \"rows\": 117,\n  \"fields\": [\n    {\n      \"column\": \"x\",\n      \"properties\": {\n        \"dtype\": \"number\",\n        \"std\": 1.7759957976249476,\n        \"min\": 0.17453292519943295,\n        \"max\": 6.2482787221397,\n        \"num_unique_values\": 117,\n        \"samples\": [\n          2.478367537831948,\n          0.3839724354387525,\n          2.949606435870417\n        ],\n        \"semantic_type\": \"\",\n        \"description\": \"\"\n      }\n    },\n    {\n      \"column\": \"y\",\n      \"properties\": {\n        \"dtype\": \"number\",\n        \"std\": 0.7463118399049911,\n        \"min\": -1.3159515143639862,\n        \"max\": 1.3393722830543284,\n        \"num_unique_values\": 117,\n        \"samples\": [\n          0.49497280398516524,\n          0.46780698949948407,\n          0.2970329983655355\n        ],\n        \"semantic_type\": \"\",\n        \"description\": \"\"\n      }\n    }\n  ]\n}"
            }
          },
          "metadata": {},
          "execution_count": 9
        }
      ]
    },
    {
      "cell_type": "code",
      "metadata": {
        "id": "iXKirMENIfOO",
        "outputId": "6e833ef9-b476-4ae5-8c9a-fc704e296eba",
        "colab": {
          "base_uri": "https://localhost:8080/",
          "height": 693
        }
      },
      "source": [
        "#Plotting the dependent and independent variables\n",
        "plt.figure(figsize=(12,8))\n",
        "plt.plot(data['x'],data['y'],'.')"
      ],
      "execution_count": 13,
      "outputs": [
        {
          "output_type": "execute_result",
          "data": {
            "text/plain": [
              "[<matplotlib.lines.Line2D at 0x7f0302691690>]"
            ]
          },
          "metadata": {},
          "execution_count": 13
        },
        {
          "output_type": "display_data",
          "data": {
            "text/plain": [
              "<Figure size 1200x800 with 1 Axes>"
            ],
            "image/png": "[encoded data removed]"
          },
          "metadata": {}
        }
      ]
    },
    {
      "cell_type": "code",
      "metadata": {
        "id": "c0KKNiYHIfOR",
        "outputId": "77397a05-f698-45f3-9969-73319abe35be",
        "colab": {
          "base_uri": "https://localhost:8080/",
          "height": 204
        }
      },
      "source": [
        "# polynomial regression with powers of x from 1 to 15\n",
        "for i in range(2,16):  #power of 1 is already there, hence starting with 2\n",
        "    colname = 'x_%d'%i      #new var will be x_power\n",
        "    data[colname] = data['x']**i\n",
        "data.head()"
      ],
      "execution_count": null,
      "outputs": [
        {
          "output_type": "execute_result",
          "data": {
            "text/html": [
              "<div>\n",
              "<style scoped>\n",
              "    .dataframe tbody tr th:only-of-type {\n",
              "        vertical-align: middle;\n",
              "    }\n",
              "\n",
              "    .dataframe tbody tr th {\n",
              "        vertical-align: top;\n",
              "    }\n",
              "\n",
              "    .dataframe thead th {\n",
              "        text-align: right;\n",
              "    }\n",
              "</style>\n",
              "<table border=\"1\" class=\"dataframe\">\n",
              "  <thead>\n",
              "    <tr style=\"text-align: right;\">\n",
              "      <th></th>\n",
              "      <th>x</th>\n",
              "      <th>y</th>\n",
              "      <th>x_2</th>\n",
              "      <th>x_3</th>\n",
              "      <th>x_4</th>\n",
              "      <th>x_5</th>\n",
              "      <th>x_6</th>\n",
              "      <th>x_7</th>\n",
              "      <th>x_8</th>\n",
              "      <th>x_9</th>\n",
              "      <th>x_10</th>\n",
              "      <th>x_11</th>\n",
              "      <th>x_12</th>\n",
              "      <th>x_13</th>\n",
              "      <th>x_14</th>\n",
              "      <th>x_15</th>\n",
              "    </tr>\n",
              "  </thead>\n",
              "  <tbody>\n",
              "    <tr>\n",
              "      <th>0</th>\n",
              "      <td>0.174533</td>\n",
              "      <td>0.373386</td>\n",
              "      <td>0.030462</td>\n",
              "      <td>0.005317</td>\n",
              "      <td>0.000928</td>\n",
              "      <td>0.000162</td>\n",
              "      <td>0.000028</td>\n",
              "      <td>0.000005</td>\n",
              "      <td>8.610313e-07</td>\n",
              "      <td>1.502783e-07</td>\n",
              "      <td>2.622851e-08</td>\n",
              "      <td>4.577739e-09</td>\n",
              "      <td>7.989662e-10</td>\n",
              "      <td>1.394459e-10</td>\n",
              "      <td>2.433790e-11</td>\n",
              "      <td>4.247765e-12</td>\n",
              "    </tr>\n",
              "    <tr>\n",
              "      <th>1</th>\n",
              "      <td>0.226893</td>\n",
              "      <td>0.332243</td>\n",
              "      <td>0.051480</td>\n",
              "      <td>0.011681</td>\n",
              "      <td>0.002650</td>\n",
              "      <td>0.000601</td>\n",
              "      <td>0.000136</td>\n",
              "      <td>0.000031</td>\n",
              "      <td>7.023697e-06</td>\n",
              "      <td>1.593626e-06</td>\n",
              "      <td>3.615823e-07</td>\n",
              "      <td>8.204043e-08</td>\n",
              "      <td>1.861438e-08</td>\n",
              "      <td>4.223469e-09</td>\n",
              "      <td>9.582748e-10</td>\n",
              "      <td>2.174257e-10</td>\n",
              "    </tr>\n",
              "    <tr>\n",
              "      <th>2</th>\n",
              "      <td>0.279253</td>\n",
              "      <td>0.043827</td>\n",
              "      <td>0.077982</td>\n",
              "      <td>0.021777</td>\n",
              "      <td>0.006081</td>\n",
              "      <td>0.001698</td>\n",
              "      <td>0.000474</td>\n",
              "      <td>0.000132</td>\n",
              "      <td>3.698101e-05</td>\n",
              "      <td>1.032705e-05</td>\n",
              "      <td>2.883856e-06</td>\n",
              "      <td>8.053244e-07</td>\n",
              "      <td>2.248890e-07</td>\n",
              "      <td>6.280085e-08</td>\n",
              "      <td>1.753731e-08</td>\n",
              "      <td>4.897340e-09</td>\n",
              "    </tr>\n",
              "    <tr>\n",
              "      <th>3</th>\n",
              "      <td>0.331613</td>\n",
              "      <td>0.324311</td>\n",
              "      <td>0.109967</td>\n",
              "      <td>0.036466</td>\n",
              "      <td>0.012093</td>\n",
              "      <td>0.004010</td>\n",
              "      <td>0.001330</td>\n",
              "      <td>0.000441</td>\n",
              "      <td>1.462338e-04</td>\n",
              "      <td>4.849296e-05</td>\n",
              "      <td>1.608088e-05</td>\n",
              "      <td>5.332620e-06</td>\n",
              "      <td>1.768364e-06</td>\n",
              "      <td>5.864117e-07</td>\n",
              "      <td>1.944615e-07</td>\n",
              "      <td>6.448586e-08</td>\n",
              "    </tr>\n",
              "    <tr>\n",
              "      <th>4</th>\n",
              "      <td>0.383972</td>\n",
              "      <td>0.467807</td>\n",
              "      <td>0.147435</td>\n",
              "      <td>0.056611</td>\n",
              "      <td>0.021737</td>\n",
              "      <td>0.008346</td>\n",
              "      <td>0.003205</td>\n",
              "      <td>0.001231</td>\n",
              "      <td>4.724984e-04</td>\n",
              "      <td>1.814264e-04</td>\n",
              "      <td>6.966273e-05</td>\n",
              "      <td>2.674857e-05</td>\n",
              "      <td>1.027071e-05</td>\n",
              "      <td>3.943671e-06</td>\n",
              "      <td>1.514261e-06</td>\n",
              "      <td>5.814344e-07</td>\n",
              "    </tr>\n",
              "  </tbody>\n",
              "</table>\n",
              "</div>"
            ],
            "text/plain": [
              "          x         y       x_2  ...          x_13          x_14          x_15\n",
              "0  0.174533  0.373386  0.030462  ...  1.394459e-10  2.433790e-11  4.247765e-12\n",
              "1  0.226893  0.332243  0.051480  ...  4.223469e-09  9.582748e-10  2.174257e-10\n",
              "2  0.279253  0.043827  0.077982  ...  6.280085e-08  1.753731e-08  4.897340e-09\n",
              "3  0.331613  0.324311  0.109967  ...  5.864117e-07  1.944615e-07  6.448586e-08\n",
              "4  0.383972  0.467807  0.147435  ...  3.943671e-06  1.514261e-06  5.814344e-07\n",
              "\n",
              "[5 rows x 16 columns]"
            ]
          },
          "metadata": {
            "tags": []
          },
          "execution_count": 8
        }
      ]
    },
    {
      "cell_type": "markdown",
      "metadata": {
        "id": "n1nldRkUIsoU"
      },
      "source": [
        "### Creating test and train Set Randomly"
      ]
    },
    {
      "cell_type": "code",
      "metadata": {
        "id": "AUQZSAHhIfOT"
      },
      "source": [
        "data['randNumCol'] = np.random.randint(1, 6, data.shape[0])\n",
        "train=data[data['randNumCol']<=3]\n",
        "test=data[data['randNumCol']>3]\n",
        "train = train.drop('randNumCol', axis=1)\n",
        "test = test.drop('randNumCol', axis=1)"
      ],
      "execution_count": 14,
      "outputs": []
    },
    {
      "cell_type": "markdown",
      "metadata": {
        "id": "1Z29VxBTIfOV"
      },
      "source": [
        "## Linear Regression"
      ]
    },
    {
      "cell_type": "code",
      "metadata": {
        "id": "AlurQC8dIfOW"
      },
      "source": [
        "#Import Linear Regression model from scikit-learn.\n",
        "from sklearn.linear_model import LinearRegression"
      ],
      "execution_count": 15,
      "outputs": []
    },
    {
      "cell_type": "code",
      "metadata": {
        "id": "VUf2CVczIfOY"
      },
      "source": [
        "#Separating the independent and dependent variables\n",
        "X_train = train.drop('y', axis=1).values\n",
        "y_train = train['y'].values\n",
        "X_test = test.drop('y', axis=1).values\n",
        "y_test = test['y'].values"
      ],
      "execution_count": 16,
      "outputs": []
    },
    {
      "cell_type": "code",
      "source": [
        "X_train"
      ],
      "metadata": {
        "colab": {
          "base_uri": "https://localhost:8080/"
        },
        "id": "byYpGNpulyD5",
        "outputId": "bbc2663a-d485-49af-dd59-361c82237f86"
      },
      "execution_count": 17,
      "outputs": [
        {
          "output_type": "execute_result",
          "data": {
            "text/plain": [
              "array([[0.27925268],\n",
              "       [0.33161256],\n",
              "       [0.38397244],\n",
              "       [0.43633231],\n",
              "       [0.48869219],\n",
              "       [0.54105207],\n",
              "       [0.59341195],\n",
              "       [0.64577182],\n",
              "       [0.6981317 ],\n",
              "       [0.75049158],\n",
              "       [0.85521133],\n",
              "       [0.95993109],\n",
              "       [1.11701072],\n",
              "       [1.22173048],\n",
              "       [1.27409035],\n",
              "       [1.32645023],\n",
              "       [1.53588974],\n",
              "       [1.58824962],\n",
              "       [1.69296937],\n",
              "       [1.85004901],\n",
              "       [1.95476876],\n",
              "       [2.00712864],\n",
              "       [2.05948852],\n",
              "       [2.16420827],\n",
              "       [2.21656815],\n",
              "       [2.26892803],\n",
              "       [2.32128791],\n",
              "       [2.42600766],\n",
              "       [2.47836754],\n",
              "       [2.58308729],\n",
              "       [2.63544717],\n",
              "       [2.7925268 ],\n",
              "       [2.84488668],\n",
              "       [3.05432619],\n",
              "       [3.10668607],\n",
              "       [3.15904595],\n",
              "       [3.31612558],\n",
              "       [3.42084533],\n",
              "       [3.52556509],\n",
              "       [3.63028484],\n",
              "       [3.68264472],\n",
              "       [3.78736448],\n",
              "       [3.83972435],\n",
              "       [3.89208423],\n",
              "       [3.99680399],\n",
              "       [4.10152374],\n",
              "       [4.15388362],\n",
              "       [4.2062435 ],\n",
              "       [4.25860337],\n",
              "       [4.46804289],\n",
              "       [4.52040276],\n",
              "       [4.6774824 ],\n",
              "       [4.78220215],\n",
              "       [4.83456203],\n",
              "       [4.88692191],\n",
              "       [4.93928178],\n",
              "       [5.04400154],\n",
              "       [5.09636142],\n",
              "       [5.20108117],\n",
              "       [5.3581608 ],\n",
              "       [5.41052068],\n",
              "       [5.51524044],\n",
              "       [5.56760031],\n",
              "       [5.61996019],\n",
              "       [5.67232007],\n",
              "       [5.72467995],\n",
              "       [5.77703982],\n",
              "       [5.8293997 ],\n",
              "       [5.93411946],\n",
              "       [5.98647933],\n",
              "       [6.03883921],\n",
              "       [6.14355897],\n",
              "       [6.19591884]])"
            ]
          },
          "metadata": {},
          "execution_count": 17
        }
      ]
    },
    {
      "cell_type": "code",
      "metadata": {
        "id": "e87fTLw7IfOc",
        "outputId": "a2b6a754-927f-4a17-fc19-a9bda04f029c",
        "colab": {
          "base_uri": "https://localhost:8080/",
          "height": 205
        }
      },
      "source": [
        "#Linear regression with one features\n",
        "independent_variable_train = X_train[:,0:1]\n",
        "\n",
        "linreg = LinearRegression(normalize=True)\n",
        "linreg.fit(independent_variable_train,y_train)\n",
        "y_train_pred = linreg.predict(independent_variable_train)\n",
        "\n",
        "rss_train = sum((y_train_pred-y_train)**2) / X_train.shape[0]\n",
        "\n",
        "independent_variable_test = X_test[:,0:1]\n",
        "y_test_pred = linreg.predict(independent_variable_test)\n",
        "rss_test = sum((y_test_pred-y_test)**2)/ X_test.shape[0]\n",
        "\n",
        "print(\"Training Error\", rss_train)\n",
        "print(\"Testing Error\",rss_test)\n",
        "\n",
        "plt.plot(X_train[:,0:1],y_train_pred)\n",
        "plt.plot(X_train[:,0:1],y_train,'.')"
      ],
      "execution_count": 18,
      "outputs": [
        {
          "output_type": "error",
          "ename": "TypeError",
          "evalue": "LinearRegression.__init__() got an unexpected keyword argument 'normalize'",
          "traceback": [
            "\u001b[0;31m---------------------------------------------------------------------------\u001b[0m",
            "\u001b[0;31mTypeError\u001b[0m                                 Traceback (most recent call last)",
            "\u001b[0;32m<ipython-input-18-2280e49f3a11>\u001b[0m in \u001b[0;36m<cell line: 4>\u001b[0;34m()\u001b[0m\n\u001b[1;32m      2\u001b[0m \u001b[0mindependent_variable_train\u001b[0m \u001b[0;34m=\u001b[0m \u001b[0mX_train\u001b[0m\u001b[0;34m[\u001b[0m\u001b[0;34m:\u001b[0m\u001b[0;34m,\u001b[0m\u001b[0;36m0\u001b[0m\u001b[0;34m:\u001b[0m\u001b[0;36m1\u001b[0m\u001b[0;34m]\u001b[0m\u001b[0;34m\u001b[0m\u001b[0;34m\u001b[0m\u001b[0m\n\u001b[1;32m      3\u001b[0m \u001b[0;34m\u001b[0m\u001b[0m\n\u001b[0;32m----> 4\u001b[0;31m \u001b[0mlinreg\u001b[0m \u001b[0;34m=\u001b[0m \u001b[0mLinearRegression\u001b[0m\u001b[0;34m(\u001b[0m\u001b[0mnormalize\u001b[0m\u001b[0;34m=\u001b[0m\u001b[0;32mTrue\u001b[0m\u001b[0;34m)\u001b[0m\u001b[0;34m\u001b[0m\u001b[0;34m\u001b[0m\u001b[0m\n\u001b[0m\u001b[1;32m      5\u001b[0m \u001b[0mlinreg\u001b[0m\u001b[0;34m.\u001b[0m\u001b[0mfit\u001b[0m\u001b[0;34m(\u001b[0m\u001b[0mindependent_variable_train\u001b[0m\u001b[0;34m,\u001b[0m\u001b[0my_train\u001b[0m\u001b[0;34m)\u001b[0m\u001b[0;34m\u001b[0m\u001b[0;34m\u001b[0m\u001b[0m\n\u001b[1;32m      6\u001b[0m \u001b[0my_train_pred\u001b[0m \u001b[0;34m=\u001b[0m \u001b[0mlinreg\u001b[0m\u001b[0;34m.\u001b[0m\u001b[0mpredict\u001b[0m\u001b[0;34m(\u001b[0m\u001b[0mindependent_variable_train\u001b[0m\u001b[0;34m)\u001b[0m\u001b[0;34m\u001b[0m\u001b[0;34m\u001b[0m\u001b[0m\n",
            "\u001b[0;31mTypeError\u001b[0m: LinearRegression.__init__() got an unexpected keyword argument 'normalize'"
          ]
        }
      ]
    },
    {
      "cell_type": "code",
      "metadata": {
        "id": "ktx_Ep4LIfOf",
        "outputId": "8422f232-8f22-4890-892c-f1aeb269f5be",
        "colab": {
          "base_uri": "https://localhost:8080/",
          "height": 320
        }
      },
      "source": [
        "#Linear regression with three features\n",
        "independent_variable_train = X_train[:,0:3]\n",
        "\n",
        "linreg = LinearRegression(normalize=True)\n",
        "linreg.fit(independent_variable_train,y_train)\n",
        "y_train_pred = linreg.predict(independent_variable_train)\n",
        "\n",
        "rss_train = sum((y_train_pred-y_train)**2) / X_train.shape[0]\n",
        "\n",
        "independent_variable_test = X_test[:,0:3]\n",
        "y_test_pred = linreg.predict(independent_variable_test)\n",
        "rss_test = sum((y_test_pred-y_test)**2)/ X_test.shape[0]\n",
        "\n",
        "print(\"Training Error\", rss_train)\n",
        "print(\"Testing Error\",rss_test)\n",
        "\n",
        "plt.plot(X_train[:,0:1],y_train_pred)\n",
        "plt.plot(X_train[:,0:1],y_train,'.')"
      ],
      "execution_count": null,
      "outputs": [
        {
          "output_type": "stream",
          "text": [
            "Training Error 0.0214724817709658\n",
            "Testing Error 0.03045187888196876\n"
          ],
          "name": "stdout"
        },
        {
          "output_type": "execute_result",
          "data": {
            "text/plain": [
              "[<matplotlib.lines.Line2D at 0x7fed049e3c18>]"
            ]
          },
          "metadata": {
            "tags": []
          },
          "execution_count": 13
        },
        {
          "output_type": "display_data",
          "data": {
            "image/png": "[encoded data removed]",
            "text/plain": [
              "<Figure size 432x288 with 1 Axes>"
            ]
          },
          "metadata": {
            "tags": []
          }
        }
      ]
    },
    {
      "cell_type": "code",
      "metadata": {
        "id": "blee6wddIfOi",
        "outputId": "363df04b-46bd-4a2e-d27c-a9c3f84848ef",
        "colab": {
          "base_uri": "https://localhost:8080/",
          "height": 320
        }
      },
      "source": [
        "#Linear regression with Seven features\n",
        "independent_variable_train = X_train[:,0:9]\n",
        "\n",
        "linreg = LinearRegression(normalize=True)\n",
        "linreg.fit(independent_variable_train,y_train)\n",
        "y_train_pred = linreg.predict(independent_variable_train)\n",
        "\n",
        "rss_train = sum((y_train_pred-y_train)**2) / X_train.shape[0]\n",
        "\n",
        "independent_variable_test = X_test[:,0:9]\n",
        "y_test_pred = linreg.predict(independent_variable_test)\n",
        "rss_test = sum((y_test_pred-y_test)**2)/ X_test.shape[0]\n",
        "\n",
        "print(\"Training Error\", rss_train)\n",
        "print(\"Testing Error\",rss_test)\n",
        "\n",
        "plt.plot(X_train[:,0:1],y_train_pred)\n",
        "plt.plot(X_train[:,0:1],y_train,'.')"
      ],
      "execution_count": null,
      "outputs": [
        {
          "output_type": "stream",
          "text": [
            "Training Error 0.018764347745722183\n",
            "Testing Error 0.03217644572352373\n"
          ],
          "name": "stdout"
        },
        {
          "output_type": "execute_result",
          "data": {
            "text/plain": [
              "[<matplotlib.lines.Line2D at 0x7fed0490c080>]"
            ]
          },
          "metadata": {
            "tags": []
          },
          "execution_count": 14
        },
        {
          "output_type": "display_data",
          "data": {
            "image/png": "[encoded data removed]",
            "text/plain": [
              "<Figure size 432x288 with 1 Axes>"
            ]
          },
          "metadata": {
            "tags": []
          }
        }
      ]
    },
    {
      "cell_type": "code",
      "metadata": {
        "id": "s3Cd83HrIfOk"
      },
      "source": [
        "# defining a function which will fit linear regression model, plot the results, and return the coefficients\n",
        "def linear_regression(train_x, train_y, test_x, test_y, features, models_to_plot):\n",
        "\n",
        "    #Fit the model\n",
        "    linreg = LinearRegression(normalize=True)\n",
        "    linreg.fit(train_x,train_y)\n",
        "    train_y_pred = linreg.predict(train_x)\n",
        "    test_y_pred = linreg.predict(test_x)\n",
        "\n",
        "    #Check if a plot is to be made for the entered features\n",
        "    if features in models_to_plot:\n",
        "        plt.subplot(models_to_plot[features])\n",
        "        plt.tight_layout()\n",
        "        plt.plot(train_x[:,0:1],train_y_pred)\n",
        "\n",
        "        plt.plot(train_x[:,0:1],train_y,'.')\n",
        "\n",
        "        plt.title('Number of Predictors: %d'%features)\n",
        "\n",
        "    #Return the result in pre-defined format\n",
        "    rss_train = sum((train_y_pred-train_y)**2)/train_x.shape[0]\n",
        "    ret = [rss_train]\n",
        "\n",
        "    rss_test = sum((test_y_pred-test_y)**2)/test_x.shape[0]\n",
        "    ret.extend([rss_test])\n",
        "\n",
        "    ret.extend([linreg.intercept_])\n",
        "    ret.extend(linreg.coef_)\n",
        "\n",
        "    return ret"
      ],
      "execution_count": null,
      "outputs": []
    },
    {
      "cell_type": "code",
      "metadata": {
        "id": "dTH2mkB3IfOm"
      },
      "source": [
        "#Initialize a dataframe to store the results:\n",
        "col = ['mrss_train','mrss_test','intercept'] + ['coef_Var_%d'%i for i in range(1,16)]\n",
        "ind = ['Number_of_variable_%d'%i for i in range(1,16)]\n",
        "coef_matrix_simple = pd.DataFrame(index=ind, columns=col)"
      ],
      "execution_count": null,
      "outputs": []
    },
    {
      "cell_type": "code",
      "metadata": {
        "id": "wkc3Cg_sIfOr"
      },
      "source": [
        "#Define the number of features for which a plot is required:\n",
        "models_to_plot = {1:231,3:232,6:233,9:234,12:235,15:236}"
      ],
      "execution_count": null,
      "outputs": []
    },
    {
      "cell_type": "code",
      "metadata": {
        "id": "latyKt6WIfOu",
        "outputId": "0e1394cc-d2de-40d5-b88b-332cd58b7e6d",
        "colab": {
          "base_uri": "https://localhost:8080/",
          "height": 585
        }
      },
      "source": [
        "#Iterate through all powers and store the results in a matrix form\n",
        "plt.figure(figsize=(12,8))\n",
        "for i in range(1,16):\n",
        "    train_x = X_train[:,0:i]\n",
        "    train_y = y_train\n",
        "    test_x = X_test[:,0:i]\n",
        "    test_y = y_test\n",
        "\n",
        "    coef_matrix_simple.iloc[i-1,0:i+3] = linear_regression(train_x,train_y, test_x, test_y, features=i, models_to_plot=models_to_plot)"
      ],
      "execution_count": null,
      "outputs": [
        {
          "output_type": "display_data",
          "data": {
            "image/png": "[encoded data removed]",
            "text/plain": [
              "<Figure size 864x576 with 6 Axes>"
            ]
          },
          "metadata": {
            "tags": []
          }
        }
      ]
    },
    {
      "cell_type": "code",
      "metadata": {
        "id": "4fQrthy0IfOy",
        "outputId": "f31c7e6c-92d0-458d-9cc5-931d066393f8",
        "colab": {
          "base_uri": "https://localhost:8080/",
          "height": 534
        }
      },
      "source": [
        "#Set the display format to be scientific for ease of analysis\n",
        "pd.options.display.float_format = '{:,.2g}'.format\n",
        "coef_matrix_simple"
      ],
      "execution_count": null,
      "outputs": [
        {
          "output_type": "execute_result",
          "data": {
            "text/html": [
              "<div>\n",
              "<style scoped>\n",
              "    .dataframe tbody tr th:only-of-type {\n",
              "        vertical-align: middle;\n",
              "    }\n",
              "\n",
              "    .dataframe tbody tr th {\n",
              "        vertical-align: top;\n",
              "    }\n",
              "\n",
              "    .dataframe thead th {\n",
              "        text-align: right;\n",
              "    }\n",
              "</style>\n",
              "<table border=\"1\" class=\"dataframe\">\n",
              "  <thead>\n",
              "    <tr style=\"text-align: right;\">\n",
              "      <th></th>\n",
              "      <th>mrss_train</th>\n",
              "      <th>mrss_test</th>\n",
              "      <th>intercept</th>\n",
              "      <th>coef_Var_1</th>\n",
              "      <th>coef_Var_2</th>\n",
              "      <th>coef_Var_3</th>\n",
              "      <th>coef_Var_4</th>\n",
              "      <th>coef_Var_5</th>\n",
              "      <th>coef_Var_6</th>\n",
              "      <th>coef_Var_7</th>\n",
              "      <th>coef_Var_8</th>\n",
              "      <th>coef_Var_9</th>\n",
              "      <th>coef_Var_10</th>\n",
              "      <th>coef_Var_11</th>\n",
              "      <th>coef_Var_12</th>\n",
              "      <th>coef_Var_13</th>\n",
              "      <th>coef_Var_14</th>\n",
              "      <th>coef_Var_15</th>\n",
              "    </tr>\n",
              "  </thead>\n",
              "  <tbody>\n",
              "    <tr>\n",
              "      <th>Number_of_variable_1</th>\n",
              "      <td>0.21</td>\n",
              "      <td>0.19</td>\n",
              "      <td>1</td>\n",
              "      <td>-0.31</td>\n",
              "      <td>NaN</td>\n",
              "      <td>NaN</td>\n",
              "      <td>NaN</td>\n",
              "      <td>NaN</td>\n",
              "      <td>NaN</td>\n",
              "      <td>NaN</td>\n",
              "      <td>NaN</td>\n",
              "      <td>NaN</td>\n",
              "      <td>NaN</td>\n",
              "      <td>NaN</td>\n",
              "      <td>NaN</td>\n",
              "      <td>NaN</td>\n",
              "      <td>NaN</td>\n",
              "      <td>NaN</td>\n",
              "    </tr>\n",
              "    <tr>\n",
              "      <th>Number_of_variable_2</th>\n",
              "      <td>0.21</td>\n",
              "      <td>0.19</td>\n",
              "      <td>1.1</td>\n",
              "      <td>-0.39</td>\n",
              "      <td>0.012</td>\n",
              "      <td>NaN</td>\n",
              "      <td>NaN</td>\n",
              "      <td>NaN</td>\n",
              "      <td>NaN</td>\n",
              "      <td>NaN</td>\n",
              "      <td>NaN</td>\n",
              "      <td>NaN</td>\n",
              "      <td>NaN</td>\n",
              "      <td>NaN</td>\n",
              "      <td>NaN</td>\n",
              "      <td>NaN</td>\n",
              "      <td>NaN</td>\n",
              "      <td>NaN</td>\n",
              "    </tr>\n",
              "    <tr>\n",
              "      <th>Number_of_variable_3</th>\n",
              "      <td>0.021</td>\n",
              "      <td>0.03</td>\n",
              "      <td>-0.4</td>\n",
              "      <td>2.2</td>\n",
              "      <td>-0.99</td>\n",
              "      <td>0.1</td>\n",
              "      <td>NaN</td>\n",
              "      <td>NaN</td>\n",
              "      <td>NaN</td>\n",
              "      <td>NaN</td>\n",
              "      <td>NaN</td>\n",
              "      <td>NaN</td>\n",
              "      <td>NaN</td>\n",
              "      <td>NaN</td>\n",
              "      <td>NaN</td>\n",
              "      <td>NaN</td>\n",
              "      <td>NaN</td>\n",
              "      <td>NaN</td>\n",
              "    </tr>\n",
              "    <tr>\n",
              "      <th>Number_of_variable_4</th>\n",
              "      <td>0.021</td>\n",
              "      <td>0.03</td>\n",
              "      <td>-0.43</td>\n",
              "      <td>2.3</td>\n",
              "      <td>-1</td>\n",
              "      <td>0.12</td>\n",
              "      <td>-0.001</td>\n",
              "      <td>NaN</td>\n",
              "      <td>NaN</td>\n",
              "      <td>NaN</td>\n",
              "      <td>NaN</td>\n",
              "      <td>NaN</td>\n",
              "      <td>NaN</td>\n",
              "      <td>NaN</td>\n",
              "      <td>NaN</td>\n",
              "      <td>NaN</td>\n",
              "      <td>NaN</td>\n",
              "      <td>NaN</td>\n",
              "    </tr>\n",
              "    <tr>\n",
              "      <th>Number_of_variable_5</th>\n",
              "      <td>0.02</td>\n",
              "      <td>0.023</td>\n",
              "      <td>-0.096</td>\n",
              "      <td>1.2</td>\n",
              "      <td>0.0084</td>\n",
              "      <td>-0.29</td>\n",
              "      <td>0.069</td>\n",
              "      <td>-0.0043</td>\n",
              "      <td>NaN</td>\n",
              "      <td>NaN</td>\n",
              "      <td>NaN</td>\n",
              "      <td>NaN</td>\n",
              "      <td>NaN</td>\n",
              "      <td>NaN</td>\n",
              "      <td>NaN</td>\n",
              "      <td>NaN</td>\n",
              "      <td>NaN</td>\n",
              "      <td>NaN</td>\n",
              "    </tr>\n",
              "    <tr>\n",
              "      <th>Number_of_variable_6</th>\n",
              "      <td>0.019</td>\n",
              "      <td>0.028</td>\n",
              "      <td>-0.4</td>\n",
              "      <td>2.5</td>\n",
              "      <td>-1.6</td>\n",
              "      <td>0.66</td>\n",
              "      <td>-0.2</td>\n",
              "      <td>0.031</td>\n",
              "      <td>-0.0018</td>\n",
              "      <td>NaN</td>\n",
              "      <td>NaN</td>\n",
              "      <td>NaN</td>\n",
              "      <td>NaN</td>\n",
              "      <td>NaN</td>\n",
              "      <td>NaN</td>\n",
              "      <td>NaN</td>\n",
              "      <td>NaN</td>\n",
              "      <td>NaN</td>\n",
              "    </tr>\n",
              "    <tr>\n",
              "      <th>Number_of_variable_7</th>\n",
              "      <td>0.019</td>\n",
              "      <td>0.028</td>\n",
              "      <td>-0.38</td>\n",
              "      <td>2.4</td>\n",
              "      <td>-1.5</td>\n",
              "      <td>0.53</td>\n",
              "      <td>-0.15</td>\n",
              "      <td>0.021</td>\n",
              "      <td>-0.00067</td>\n",
              "      <td>-5.1e-05</td>\n",
              "      <td>NaN</td>\n",
              "      <td>NaN</td>\n",
              "      <td>NaN</td>\n",
              "      <td>NaN</td>\n",
              "      <td>NaN</td>\n",
              "      <td>NaN</td>\n",
              "      <td>NaN</td>\n",
              "      <td>NaN</td>\n",
              "    </tr>\n",
              "    <tr>\n",
              "      <th>Number_of_variable_8</th>\n",
              "      <td>0.019</td>\n",
              "      <td>0.032</td>\n",
              "      <td>-0.85</td>\n",
              "      <td>5.1</td>\n",
              "      <td>-7</td>\n",
              "      <td>6</td>\n",
              "      <td>-3.1</td>\n",
              "      <td>0.92</td>\n",
              "      <td>-0.16</td>\n",
              "      <td>0.015</td>\n",
              "      <td>-0.00058</td>\n",
              "      <td>NaN</td>\n",
              "      <td>NaN</td>\n",
              "      <td>NaN</td>\n",
              "      <td>NaN</td>\n",
              "      <td>NaN</td>\n",
              "      <td>NaN</td>\n",
              "      <td>NaN</td>\n",
              "    </tr>\n",
              "    <tr>\n",
              "      <th>Number_of_variable_9</th>\n",
              "      <td>0.019</td>\n",
              "      <td>0.032</td>\n",
              "      <td>-0.94</td>\n",
              "      <td>5.7</td>\n",
              "      <td>-8.5</td>\n",
              "      <td>7.7</td>\n",
              "      <td>-4.3</td>\n",
              "      <td>1.4</td>\n",
              "      <td>-0.28</td>\n",
              "      <td>0.033</td>\n",
              "      <td>-0.002</td>\n",
              "      <td>5e-05</td>\n",
              "      <td>NaN</td>\n",
              "      <td>NaN</td>\n",
              "      <td>NaN</td>\n",
              "      <td>NaN</td>\n",
              "      <td>NaN</td>\n",
              "      <td>NaN</td>\n",
              "    </tr>\n",
              "    <tr>\n",
              "      <th>Number_of_variable_10</th>\n",
              "      <td>0.018</td>\n",
              "      <td>0.044</td>\n",
              "      <td>-2.4</td>\n",
              "      <td>16</td>\n",
              "      <td>-38</td>\n",
              "      <td>50</td>\n",
              "      <td>-39</td>\n",
              "      <td>19</td>\n",
              "      <td>-6</td>\n",
              "      <td>1.2</td>\n",
              "      <td>-0.15</td>\n",
              "      <td>0.011</td>\n",
              "      <td>-0.00033</td>\n",
              "      <td>NaN</td>\n",
              "      <td>NaN</td>\n",
              "      <td>NaN</td>\n",
              "      <td>NaN</td>\n",
              "      <td>NaN</td>\n",
              "    </tr>\n",
              "    <tr>\n",
              "      <th>Number_of_variable_11</th>\n",
              "      <td>0.018</td>\n",
              "      <td>0.034</td>\n",
              "      <td>-0.34</td>\n",
              "      <td>-0.37</td>\n",
              "      <td>15</td>\n",
              "      <td>-38</td>\n",
              "      <td>47</td>\n",
              "      <td>-34</td>\n",
              "      <td>16</td>\n",
              "      <td>-4.7</td>\n",
              "      <td>0.9</td>\n",
              "      <td>-0.11</td>\n",
              "      <td>0.0073</td>\n",
              "      <td>-0.00021</td>\n",
              "      <td>NaN</td>\n",
              "      <td>NaN</td>\n",
              "      <td>NaN</td>\n",
              "      <td>NaN</td>\n",
              "    </tr>\n",
              "    <tr>\n",
              "      <th>Number_of_variable_12</th>\n",
              "      <td>0.018</td>\n",
              "      <td>0.028</td>\n",
              "      <td>1.6</td>\n",
              "      <td>-18</td>\n",
              "      <td>78</td>\n",
              "      <td>-1.6e+02</td>\n",
              "      <td>1.8e+02</td>\n",
              "      <td>-1.4e+02</td>\n",
              "      <td>67</td>\n",
              "      <td>-22</td>\n",
              "      <td>4.9</td>\n",
              "      <td>-0.74</td>\n",
              "      <td>0.071</td>\n",
              "      <td>-0.0039</td>\n",
              "      <td>9.5e-05</td>\n",
              "      <td>NaN</td>\n",
              "      <td>NaN</td>\n",
              "      <td>NaN</td>\n",
              "    </tr>\n",
              "    <tr>\n",
              "      <th>Number_of_variable_13</th>\n",
              "      <td>0.018</td>\n",
              "      <td>0.029</td>\n",
              "      <td>0.84</td>\n",
              "      <td>-10</td>\n",
              "      <td>47</td>\n",
              "      <td>-92</td>\n",
              "      <td>98</td>\n",
              "      <td>-62</td>\n",
              "      <td>23</td>\n",
              "      <td>-3.9</td>\n",
              "      <td>-0.31</td>\n",
              "      <td>0.32</td>\n",
              "      <td>-0.077</td>\n",
              "      <td>0.0095</td>\n",
              "      <td>-0.00062</td>\n",
              "      <td>1.7e-05</td>\n",
              "      <td>NaN</td>\n",
              "      <td>NaN</td>\n",
              "    </tr>\n",
              "    <tr>\n",
              "      <th>Number_of_variable_14</th>\n",
              "      <td>0.017</td>\n",
              "      <td>0.056</td>\n",
              "      <td>-5.5</td>\n",
              "      <td>57</td>\n",
              "      <td>-2.4e+02</td>\n",
              "      <td>6e+02</td>\n",
              "      <td>-9.3e+02</td>\n",
              "      <td>9.5e+02</td>\n",
              "      <td>-6.7e+02</td>\n",
              "      <td>3.3e+02</td>\n",
              "      <td>-1.2e+02</td>\n",
              "      <td>30</td>\n",
              "      <td>-5.3</td>\n",
              "      <td>0.67</td>\n",
              "      <td>-0.055</td>\n",
              "      <td>0.0027</td>\n",
              "      <td>-5.9e-05</td>\n",
              "      <td>NaN</td>\n",
              "    </tr>\n",
              "    <tr>\n",
              "      <th>Number_of_variable_15</th>\n",
              "      <td>0.016</td>\n",
              "      <td>0.2</td>\n",
              "      <td>-25</td>\n",
              "      <td>2.7e+02</td>\n",
              "      <td>-1.3e+03</td>\n",
              "      <td>3.3e+03</td>\n",
              "      <td>-5.4e+03</td>\n",
              "      <td>5.9e+03</td>\n",
              "      <td>-4.5e+03</td>\n",
              "      <td>2.5e+03</td>\n",
              "      <td>-1e+03</td>\n",
              "      <td>3e+02</td>\n",
              "      <td>-65</td>\n",
              "      <td>10</td>\n",
              "      <td>-1.2</td>\n",
              "      <td>0.086</td>\n",
              "      <td>-0.0039</td>\n",
              "      <td>7.9e-05</td>\n",
              "    </tr>\n",
              "  </tbody>\n",
              "</table>\n",
              "</div>"
            ],
            "text/plain": [
              "                      mrss_train mrss_test  ... coef_Var_14 coef_Var_15\n",
              "Number_of_variable_1        0.21      0.19  ...         NaN         NaN\n",
              "Number_of_variable_2        0.21      0.19  ...         NaN         NaN\n",
              "Number_of_variable_3       0.021      0.03  ...         NaN         NaN\n",
              "Number_of_variable_4       0.021      0.03  ...         NaN         NaN\n",
              "Number_of_variable_5        0.02     0.023  ...         NaN         NaN\n",
              "Number_of_variable_6       0.019     0.028  ...         NaN         NaN\n",
              "Number_of_variable_7       0.019     0.028  ...         NaN         NaN\n",
              "Number_of_variable_8       0.019     0.032  ...         NaN         NaN\n",
              "Number_of_variable_9       0.019     0.032  ...         NaN         NaN\n",
              "Number_of_variable_10      0.018     0.044  ...         NaN         NaN\n",
              "Number_of_variable_11      0.018     0.034  ...         NaN         NaN\n",
              "Number_of_variable_12      0.018     0.028  ...         NaN         NaN\n",
              "Number_of_variable_13      0.018     0.029  ...         NaN         NaN\n",
              "Number_of_variable_14      0.017     0.056  ...    -5.9e-05         NaN\n",
              "Number_of_variable_15      0.016       0.2  ...     -0.0039     7.9e-05\n",
              "\n",
              "[15 rows x 18 columns]"
            ]
          },
          "metadata": {
            "tags": []
          },
          "execution_count": 19
        }
      ]
    },
    {
      "cell_type": "code",
      "metadata": {
        "id": "WLcisBSWIfO3",
        "outputId": "26c4150f-659c-4533-9f4c-8cdd853ddeb9",
        "colab": {
          "base_uri": "https://localhost:8080/",
          "height": 301
        }
      },
      "source": [
        "coef_matrix_simple[['mrss_train','mrss_test']].plot()\n",
        "plt.xlabel('Features')\n",
        "plt.ylabel('MRSS')\n",
        "plt.legend(['train', 'test'])"
      ],
      "execution_count": null,
      "outputs": [
        {
          "output_type": "execute_result",
          "data": {
            "text/plain": [
              "<matplotlib.legend.Legend at 0x7fed04731b00>"
            ]
          },
          "metadata": {
            "tags": []
          },
          "execution_count": 20
        },
        {
          "output_type": "display_data",
          "data": {
            "image/png": "[encoded data removed]",
            "text/plain": [
              "<Figure size 432x288 with 1 Axes>"
            ]
          },
          "metadata": {
            "tags": []
          }
        }
      ]
    }
  ]
}