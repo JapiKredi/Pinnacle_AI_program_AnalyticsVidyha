{
  "cells": [
    {
      "cell_type": "markdown",
      "metadata": {
        "id": "view-in-github",
        "colab_type": "text"
      },
      "source": [
        "<a href=\"https://colab.research.google.com/github/JapiKredi/Pinnacle_AI_program_AnalyticsVidyha/blob/main/DeepLearning_building_a_neuron_with_pytorch.ipynb\" target=\"_parent\"><img src=\"https://colab.research.google.com/assets/colab-badge.svg\" alt=\"Open In Colab\"/></a>"
      ]
    },
    {
      "cell_type": "markdown",
      "id": "72142689-59ac-4297-873e-f574f10a624b",
      "metadata": {
        "id": "72142689-59ac-4297-873e-f574f10a624b"
      },
      "source": [
        "# Import the libraries"
      ]
    },
    {
      "cell_type": "code",
      "execution_count": null,
      "id": "fad005c4-1ff4-48ad-9282-5ab460379bac",
      "metadata": {
        "id": "fad005c4-1ff4-48ad-9282-5ab460379bac"
      },
      "outputs": [],
      "source": [
        "#Import the torch library followed by torch.nn library as nn\n",
        "import torch\n",
        "import torch.nn as nn"
      ]
    },
    {
      "cell_type": "markdown",
      "id": "f067e759-2997-427f-a6a0-c348312a9068",
      "metadata": {
        "id": "f067e759-2997-427f-a6a0-c348312a9068"
      },
      "source": [
        "# Assign inputs to the neuron"
      ]
    },
    {
      "cell_type": "code",
      "execution_count": null,
      "id": "13e0a111-bd1c-45f9-8e91-b800d22305f2",
      "metadata": {
        "id": "13e0a111-bd1c-45f9-8e91-b800d22305f2"
      },
      "outputs": [],
      "source": [
        "#Inputs to the neuron (Note: We have used random values here)\n",
        "inputs = torch.tensor ([3.0,2.0,-1.0])"
      ]
    },
    {
      "cell_type": "code",
      "execution_count": null,
      "id": "1ed16c77",
      "metadata": {
        "id": "1ed16c77"
      },
      "outputs": [],
      "source": [
        "#Create a neuron with 3 features and 1 output\n",
        "neuron = nn.Linear(in_features=3,out_features=1)\n",
        "output = neuron(inputs)"
      ]
    },
    {
      "cell_type": "markdown",
      "id": "f4a8b559-2a75-4a2e-9178-070320dd1873",
      "metadata": {
        "id": "f4a8b559-2a75-4a2e-9178-070320dd1873"
      },
      "source": [
        "# Print the output"
      ]
    },
    {
      "cell_type": "code",
      "execution_count": null,
      "id": "fc881dc0-bef4-4d86-bad2-21210acddb13",
      "metadata": {
        "id": "fc881dc0-bef4-4d86-bad2-21210acddb13",
        "outputId": "bcc1d86b-4584-4945-8e2c-caa142e7a97f"
      },
      "outputs": [
        {
          "name": "stdout",
          "output_type": "stream",
          "text": [
            "tensor([-1.6716], grad_fn=<ViewBackward0>)\n"
          ]
        }
      ],
      "source": [
        "#Print the final output of the neuron\n",
        "print (output)"
      ]
    },
    {
      "cell_type": "markdown",
      "id": "e8d82858-7938-47d5-9dc5-5c1fe180fb3e",
      "metadata": {
        "id": "e8d82858-7938-47d5-9dc5-5c1fe180fb3e"
      },
      "source": [
        "# Weight of the neuron"
      ]
    },
    {
      "cell_type": "code",
      "execution_count": null,
      "id": "761dd9cb-c6c7-4c28-857d-3c7a82f18755",
      "metadata": {
        "id": "761dd9cb-c6c7-4c28-857d-3c7a82f18755",
        "outputId": "87726bef-fe3c-4667-b5f0-57b178d3f860"
      },
      "outputs": [
        {
          "data": {
            "text/plain": [
              "Parameter containing:\n",
              "tensor([[-0.4211, -0.3630,  0.1369]], requires_grad=True)"
            ]
          },
          "execution_count": 5,
          "metadata": {},
          "output_type": "execute_result"
        }
      ],
      "source": [
        "#To view the weight of the neuron\n",
        "neuron.weight"
      ]
    },
    {
      "cell_type": "markdown",
      "id": "56a0a57c-a944-4183-bbd0-b73a23cf1ae2",
      "metadata": {
        "id": "56a0a57c-a944-4183-bbd0-b73a23cf1ae2"
      },
      "source": [
        "# Bias of the neuron"
      ]
    },
    {
      "cell_type": "code",
      "execution_count": null,
      "id": "c00a37b5-38e0-4f7e-b531-a77fc38579d4",
      "metadata": {
        "id": "c00a37b5-38e0-4f7e-b531-a77fc38579d4",
        "outputId": "4fb9314f-9d1e-4b06-9caa-352c36808065"
      },
      "outputs": [
        {
          "data": {
            "text/plain": [
              "Parameter containing:\n",
              "tensor([0.4546], requires_grad=True)"
            ]
          },
          "execution_count": 6,
          "metadata": {},
          "output_type": "execute_result"
        }
      ],
      "source": [
        "#To view the bias of the neuron\n",
        "neuron.bias"
      ]
    },
    {
      "cell_type": "markdown",
      "id": "72e4b3cf-3a29-4329-a9cc-460efd899124",
      "metadata": {
        "id": "72e4b3cf-3a29-4329-a9cc-460efd899124"
      },
      "source": [
        "# Mathematical Formula:"
      ]
    },
    {
      "cell_type": "code",
      "execution_count": null,
      "id": "f0864435-61ff-45be-939a-2e0a038567a5",
      "metadata": {
        "id": "f0864435-61ff-45be-939a-2e0a038567a5",
        "outputId": "15dda30e-e33d-4f32-84f9-8987d7b1a112"
      },
      "outputs": [
        {
          "name": "stderr",
          "output_type": "stream",
          "text": [
            "/tmp/ipykernel_100307/2906436700.py:2: UserWarning: The use of `x.T` on tensors of dimension other than 2 to reverse their shape is deprecated and it will throw an error in a future release. Consider `x.mT` to transpose batches of matrices or `x.permute(*torch.arange(x.ndim - 1, -1, -1))` to reverse the dimensions of a tensor. (Triggered internally at ../aten/src/ATen/native/TensorShape.cpp:3641.)\n",
            "  neuron.weight@inputs.T + neuron.bias\n"
          ]
        },
        {
          "data": {
            "text/plain": [
              "tensor([-1.6716], grad_fn=<AddBackward0>)"
            ]
          },
          "execution_count": 7,
          "metadata": {},
          "output_type": "execute_result"
        }
      ],
      "source": [
        "#Formula for the final output of the neuron\n",
        "neuron.weight@inputs.T + neuron.bias"
      ]
    },
    {
      "cell_type": "code",
      "execution_count": null,
      "id": "cbd2a58b-9ada-4604-bdfe-91abb0e08c8b",
      "metadata": {
        "id": "cbd2a58b-9ada-4604-bdfe-91abb0e08c8b"
      },
      "outputs": [],
      "source": []
    }
  ],
  "metadata": {
    "kernelspec": {
      "display_name": "Python 3 (ipykernel)",
      "language": "python",
      "name": "python3"
    },
    "language_info": {
      "codemirror_mode": {
        "name": "ipython",
        "version": 3
      },
      "file_extension": ".py",
      "mimetype": "text/x-python",
      "name": "python",
      "nbconvert_exporter": "python",
      "pygments_lexer": "ipython3",
      "version": "3.11.7"
    },
    "colab": {
      "provenance": [],
      "include_colab_link": true
    }
  },
  "nbformat": 4,
  "nbformat_minor": 5
}