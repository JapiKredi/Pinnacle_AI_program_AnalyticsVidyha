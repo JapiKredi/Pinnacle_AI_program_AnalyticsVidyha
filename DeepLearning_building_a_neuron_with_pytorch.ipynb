{
  "cells": [
    {
      "cell_type": "markdown",
      "metadata": {
        "id": "view-in-github",
        "colab_type": "text"
      },
      "source": [
        "<a href=\"https://colab.research.google.com/github/JapiKredi/Pinnacle_AI_program_AnalyticsVidyha/blob/main/DeepLearning_building_a_neuron_with_pytorch.ipynb\" target=\"_parent\"><img src=\"https://colab.research.google.com/assets/colab-badge.svg\" alt=\"Open In Colab\"/></a>"
      ]
    },
    {
      "cell_type": "markdown",
      "id": "72142689-59ac-4297-873e-f574f10a624b",
      "metadata": {
        "id": "72142689-59ac-4297-873e-f574f10a624b"
      },
      "source": [
        "# Import the libraries"
      ]
    },
    {
      "cell_type": "code",
      "execution_count": 1,
      "id": "fad005c4-1ff4-48ad-9282-5ab460379bac",
      "metadata": {
        "id": "fad005c4-1ff4-48ad-9282-5ab460379bac"
      },
      "outputs": [],
      "source": [
        "#Import the torch library followed by torch.nn library as nn\n",
        "import torch\n",
        "import torch.nn as nn"
      ]
    },
    {
      "cell_type": "markdown",
      "id": "f067e759-2997-427f-a6a0-c348312a9068",
      "metadata": {
        "id": "f067e759-2997-427f-a6a0-c348312a9068"
      },
      "source": [
        "# Assign inputs to the neuron"
      ]
    },
    {
      "cell_type": "code",
      "execution_count": 2,
      "id": "13e0a111-bd1c-45f9-8e91-b800d22305f2",
      "metadata": {
        "id": "13e0a111-bd1c-45f9-8e91-b800d22305f2"
      },
      "outputs": [],
      "source": [
        "#Inputs to the neuron (Note: We have used random values here)\n",
        "inputs = torch.tensor ([3.0,2.0,-1.0])"
      ]
    },
    {
      "cell_type": "code",
      "execution_count": 3,
      "id": "1ed16c77",
      "metadata": {
        "id": "1ed16c77"
      },
      "outputs": [],
      "source": [
        "#Create a neuron with 3 features and 1 output\n",
        "neuron = nn.Linear(in_features=3,out_features=1)\n",
        "output = neuron(inputs)"
      ]
    },
    {
      "cell_type": "markdown",
      "id": "f4a8b559-2a75-4a2e-9178-070320dd1873",
      "metadata": {
        "id": "f4a8b559-2a75-4a2e-9178-070320dd1873"
      },
      "source": [
        "# Print the output"
      ]
    },
    {
      "cell_type": "code",
      "execution_count": 4,
      "id": "fc881dc0-bef4-4d86-bad2-21210acddb13",
      "metadata": {
        "colab": {
          "base_uri": "https://localhost:8080/"
        },
        "id": "fc881dc0-bef4-4d86-bad2-21210acddb13",
        "outputId": "202f135c-daad-4671-fa67-866774739fcb"
      },
      "outputs": [
        {
          "output_type": "stream",
          "name": "stdout",
          "text": [
            "tensor([2.3179], grad_fn=<ViewBackward0>)\n"
          ]
        }
      ],
      "source": [
        "#Print the final output of the neuron\n",
        "print (output)"
      ]
    },
    {
      "cell_type": "markdown",
      "id": "e8d82858-7938-47d5-9dc5-5c1fe180fb3e",
      "metadata": {
        "id": "e8d82858-7938-47d5-9dc5-5c1fe180fb3e"
      },
      "source": [
        "# Weight of the neuron"
      ]
    },
    {
      "cell_type": "code",
      "execution_count": 5,
      "id": "761dd9cb-c6c7-4c28-857d-3c7a82f18755",
      "metadata": {
        "colab": {
          "base_uri": "https://localhost:8080/"
        },
        "id": "761dd9cb-c6c7-4c28-857d-3c7a82f18755",
        "outputId": "b8781cc5-ba15-4f48-bb35-e4b9cb62a26a"
      },
      "outputs": [
        {
          "output_type": "execute_result",
          "data": {
            "text/plain": [
              "Parameter containing:\n",
              "tensor([[0.5229, 0.4409, 0.2027]], requires_grad=True)"
            ]
          },
          "metadata": {},
          "execution_count": 5
        }
      ],
      "source": [
        "#To view the weight of the neuron\n",
        "neuron.weight"
      ]
    },
    {
      "cell_type": "markdown",
      "id": "56a0a57c-a944-4183-bbd0-b73a23cf1ae2",
      "metadata": {
        "id": "56a0a57c-a944-4183-bbd0-b73a23cf1ae2"
      },
      "source": [
        "# Bias of the neuron"
      ]
    },
    {
      "cell_type": "code",
      "execution_count": 6,
      "id": "c00a37b5-38e0-4f7e-b531-a77fc38579d4",
      "metadata": {
        "colab": {
          "base_uri": "https://localhost:8080/"
        },
        "id": "c00a37b5-38e0-4f7e-b531-a77fc38579d4",
        "outputId": "90902e99-82b7-41b1-af41-46531b92de4f"
      },
      "outputs": [
        {
          "output_type": "execute_result",
          "data": {
            "text/plain": [
              "Parameter containing:\n",
              "tensor([0.0701], requires_grad=True)"
            ]
          },
          "metadata": {},
          "execution_count": 6
        }
      ],
      "source": [
        "#To view the bias of the neuron\n",
        "neuron.bias"
      ]
    },
    {
      "cell_type": "markdown",
      "id": "72e4b3cf-3a29-4329-a9cc-460efd899124",
      "metadata": {
        "id": "72e4b3cf-3a29-4329-a9cc-460efd899124"
      },
      "source": [
        "# Mathematical Formula:"
      ]
    },
    {
      "cell_type": "code",
      "execution_count": 7,
      "id": "f0864435-61ff-45be-939a-2e0a038567a5",
      "metadata": {
        "colab": {
          "base_uri": "https://localhost:8080/"
        },
        "id": "f0864435-61ff-45be-939a-2e0a038567a5",
        "outputId": "e045e487-3132-4bc0-f121-6c16992c0d4d"
      },
      "outputs": [
        {
          "output_type": "stream",
          "name": "stderr",
          "text": [
            "<ipython-input-7-9b166af3fd29>:2: UserWarning: The use of `x.T` on tensors of dimension other than 2 to reverse their shape is deprecated and it will throw an error in a future release. Consider `x.mT` to transpose batches of matrices or `x.permute(*torch.arange(x.ndim - 1, -1, -1))` to reverse the dimensions of a tensor. (Triggered internally at ../aten/src/ATen/native/TensorShape.cpp:3683.)\n",
            "  neuron.weight@inputs.T + neuron.bias\n"
          ]
        },
        {
          "output_type": "execute_result",
          "data": {
            "text/plain": [
              "tensor([2.3179], grad_fn=<AddBackward0>)"
            ]
          },
          "metadata": {},
          "execution_count": 7
        }
      ],
      "source": [
        "#Formula for the final output of the neuron\n",
        "neuron.weight@inputs.T + neuron.bias"
      ]
    },
    {
      "cell_type": "code",
      "execution_count": null,
      "id": "cbd2a58b-9ada-4604-bdfe-91abb0e08c8b",
      "metadata": {
        "id": "cbd2a58b-9ada-4604-bdfe-91abb0e08c8b"
      },
      "outputs": [],
      "source": []
    }
  ],
  "metadata": {
    "kernelspec": {
      "display_name": "Python 3 (ipykernel)",
      "language": "python",
      "name": "python3"
    },
    "language_info": {
      "codemirror_mode": {
        "name": "ipython",
        "version": 3
      },
      "file_extension": ".py",
      "mimetype": "text/x-python",
      "name": "python",
      "nbconvert_exporter": "python",
      "pygments_lexer": "ipython3",
      "version": "3.11.7"
    },
    "colab": {
      "provenance": [],
      "include_colab_link": true
    }
  },
  "nbformat": 4,
  "nbformat_minor": 5
}